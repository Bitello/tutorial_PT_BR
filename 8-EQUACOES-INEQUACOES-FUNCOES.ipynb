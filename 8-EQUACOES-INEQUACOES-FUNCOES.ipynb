{
 "cells": [
  {
   "cell_type": "markdown",
   "metadata": {
    "collapsed": true
   },
   "source": [
    "# EQUAÇÕES, INEQUAÇÕES E FUNÇÕES#"
   ]
  },
  {
   "cell_type": "markdown",
   "metadata": {},
   "source": [
    "De acordo com o dicionario matemático disponível em \"http://www.somatematica.com.br/dicionarioMatematico\" temos que:\n",
    "\n",
    "**Equação:** Expressão algébrica indicada por uma igualdade, onde há valores desconhecidos expressos por letras (incógnitas). Logo, todo conjunto de expressões no qual há uma igualdade cuja(s) incógita(s) satisfaçam a um conjunto limitado de soluções, então temos uma equação. \n",
    "\n",
    "Ex: $x + 2 =0$, $xy - 2x = 2$, $x^2 + y^2 =2^2$.\n",
    "\n",
    "**Inequação:** Desigualdade verificada a determinado(s) valor(es) atribuídos à variável. Uma inequação é uma equação no qual há uma desigualdade do tipo <, >, >=, =< ou #. \n",
    "\n",
    "Ex: $x + 2 > 0,xy - 2x < 2, x^2 + y^2 + 2^2 $.\n",
    "\n",
    "**Função:** É uma correspondência unívoca entre dois conjuntos em que a cada elemento do primeiro conjunto corresponde a um e somente um elemento do segundo. Dessa forma, temos que uma função é uma relação entre das variáveis, sendo uma dependente e outra independente. \n",
    "\n",
    "Ex: $y(x) = x + 2, z = xy - 2x, f(x) = x^2 + y^2$\n"
   ]
  },
  {
   "cell_type": "markdown",
   "metadata": {},
   "source": [
    "###EQUAÇÕES###"
   ]
  },
  {
   "cell_type": "code",
   "execution_count": null,
   "metadata": {
    "collapsed": false
   },
   "outputs": [],
   "source": []
  },
  {
   "cell_type": "markdown",
   "metadata": {},
   "source": [
    "###INEQUAÇÕES###"
   ]
  },
  {
   "cell_type": "code",
   "execution_count": 157,
   "metadata": {
    "collapsed": false
   },
   "outputs": [
    {
     "data": {
      "text/plain": [
       "(x,y)"
      ]
     },
     "execution_count": 157,
     "metadata": {},
     "output_type": "execute_result"
    }
   ],
   "source": [
    "x,y = Sym(\"x,y\")"
   ]
  },
  {
   "cell_type": "code",
   "execution_count": 158,
   "metadata": {
    "collapsed": false
   },
   "outputs": [],
   "source": [
    "ineq1 = x - 5 >= 5\n",
    "\n",
    "ineq2 = x + y <= 0;"
   ]
  },
  {
   "cell_type": "code",
   "execution_count": 164,
   "metadata": {
    "collapsed": false
   },
   "outputs": [
    {
     "ename": "LoadError",
     "evalue": "LoadError: PyError (:PyObject_Call) <type 'exceptions.NotImplementedError'>\nNotImplementedError('only univariate inequalities are supported',)\n  File \"/usr/local/lib/python2.7/dist-packages/sympy/solvers/solvers.py\", line 691, in solve\n    return reduce_inequalities(f, symbols=symbols)\n  File \"/usr/local/lib/python2.7/dist-packages/sympy/solvers/inequalities.py\", line 491, in reduce_inequalities\n    \"only univariate inequalities are supported\")\n\nwhile loading In[164], in expression starting on line 1",
     "output_type": "error",
     "traceback": [
      "LoadError: PyError (:PyObject_Call) <type 'exceptions.NotImplementedError'>\nNotImplementedError('only univariate inequalities are supported',)\n  File \"/usr/local/lib/python2.7/dist-packages/sympy/solvers/solvers.py\", line 691, in solve\n    return reduce_inequalities(f, symbols=symbols)\n  File \"/usr/local/lib/python2.7/dist-packages/sympy/solvers/inequalities.py\", line 491, in reduce_inequalities\n    \"only univariate inequalities are supported\")\n\nwhile loading In[164], in expression starting on line 1",
      "",
      " [inlined code] from /home/juser/.julia/v0.4/PyCall/src/exception.jl:81",
      " in pycall at /home/juser/.julia/v0.4/PyCall/src/PyCall.jl:463",
      " in fn at /home/juser/.julia/v0.4/PyCall/src/conversions.jl:157",
      " in call_sympy_fun at /home/juser/.julia/v0.4/SymPy/src/SymPy.jl:268",
      " in sympy_meth at /home/juser/.julia/v0.4/SymPy/src/SymPy.jl:274",
      " in solve at /home/juser/.julia/v0.4/SymPy/src/solve.jl:102",
      " in solve at /home/juser/.julia/v0.4/SymPy/src/solve.jl:61"
     ]
    }
   ],
   "source": [
    "solve([ineq1,ineq2])"
   ]
  },
  {
   "cell_type": "markdown",
   "metadata": {},
   "source": [
    "###FUNÇÕES###\n",
    "**Simbólicas, Genéricas e Anônimas**"
   ]
  },
  {
   "cell_type": "markdown",
   "metadata": {},
   "source": [
    "**FUNÇÕES MATEMÁTICAS SIMBÓLICAS** \n",
    "\n",
    "Funções Simbólicas são.."
   ]
  },
  {
   "cell_type": "markdown",
   "metadata": {},
   "source": [
    "** Função de uma variável**"
   ]
  },
  {
   "cell_type": "code",
   "execution_count": null,
   "metadata": {
    "collapsed": true
   },
   "outputs": [],
   "source": [
    "using SymPy\n",
    "\n",
    "x = Sym(\"x\")"
   ]
  },
  {
   "cell_type": "code",
   "execution_count": 65,
   "metadata": {
    "collapsed": false
   },
   "outputs": [
    {
     "data": {
      "text/latex": [
       "$$x^{2} + 1$$"
      ],
      "text/plain": [
       " 2    \n",
       "x  + 1"
      ]
     },
     "execution_count": 65,
     "metadata": {},
     "output_type": "execute_result"
    }
   ],
   "source": [
    "f = x^2 + 1"
   ]
  },
  {
   "cell_type": "code",
   "execution_count": 67,
   "metadata": {
    "collapsed": false
   },
   "outputs": [
    {
     "data": {
      "text/plain": [
       "SymPy.Sym"
      ]
     },
     "execution_count": 67,
     "metadata": {},
     "output_type": "execute_result"
    }
   ],
   "source": [
    "typeof(f)"
   ]
  },
  {
   "cell_type": "code",
   "execution_count": 68,
   "metadata": {
    "collapsed": false
   },
   "outputs": [
    {
     "name": "stdout",
     "output_type": "stream",
     "text": [
      "                          Base  27310 KB     Module\n",
      "                       BinDeps    206 KB     Module\n",
      "                    ColorTypes    223 KB     Module\n",
      "                        Colors    554 KB     Module\n",
      "                        Compat    190 KB     Module\n",
      "                         Conda     64 KB     Module\n",
      "                          Core   3290 KB     Module\n",
      "             FixedPointNumbers     33 KB     Module\n",
      "               FixedSizeArrays    130 KB     Module\n",
      "                        IJulia    554 KB     Module\n",
      "                IPythonDisplay     48 KB     Module\n",
      "                          JSON    201 KB     Module\n",
      "                 JuliaBoxUtils   8972 bytes  Module\n",
      "                    MacroTools    162 KB     Module\n",
      "                          Main  36784 KB     Module\n",
      "                        Nettle     42 KB     Module\n",
      "                         Plots   1536 KB     Module\n",
      "                        PyCall    425 KB     Module\n",
      "                      Reexport   3628 bytes  Module\n",
      "                      Requires     32 KB     Module\n",
      "                           SHA     49 KB     Module\n",
      "                         SymPy   2694 KB     Module\n",
      "                     URIParser     93 KB     Module\n",
      "                           ZMQ     82 KB     Module\n",
      "                             f     16 bytes  SymPy.Sym\n",
      "                         fanon    272 bytes  Function\n",
      "                          fanx    294 bytes  Function\n",
      "                          fgen   1437 bytes  Function\n",
      "                         fsimb     78 KB     10001-element Array{Float64,1}\n",
      "                         funan    255 bytes  Function\n",
      "                             t     32 bytes  10001-element FloatRange{Float64}\n",
      "                             w     32 bytes  10001-element FloatRange{Float64}\n",
      "                             x     16 bytes  SymPy.Sym\n"
     ]
    }
   ],
   "source": [
    "# observe a criação das funções f\n",
    "\n",
    "whos()"
   ]
  },
  {
   "cell_type": "markdown",
   "metadata": {},
   "source": [
    "Observe que o comando Whos() informa que \"F\" e \"f\" são diferentes. \"F\" é uma função e \"f\" é uma expressão simbólica"
   ]
  },
  {
   "cell_type": "code",
   "execution_count": 69,
   "metadata": {
    "collapsed": false
   },
   "outputs": [
    {
     "data": {
      "text/latex": [
       "$$5$$"
      ],
      "text/plain": [
       "5"
      ]
     },
     "metadata": {},
     "output_type": "display_data"
    },
    {
     "data": {
      "text/latex": [
       "$$1 + \\pi^{2}$$"
      ],
      "text/plain": [
       "      2\n",
       "1 + pi "
      ]
     },
     "metadata": {},
     "output_type": "display_data"
    },
    {
     "data": {
      "text/plain": [
       "10.869604401089358"
      ]
     },
     "metadata": {},
     "output_type": "display_data"
    },
    {
     "data": {
      "text/plain": [
       "10.869604401089358"
      ]
     },
     "metadata": {},
     "output_type": "display_data"
    }
   ],
   "source": [
    "display(f(2))\n",
    "\n",
    "display(f(pi))\n",
    "\n",
    "display(float(f(pi)))\n",
    "\n",
    "display(N(f(pi)))"
   ]
  },
  {
   "cell_type": "code",
   "execution_count": null,
   "metadata": {
    "collapsed": false
   },
   "outputs": [],
   "source": [
    "g = x^3 + 1"
   ]
  },
  {
   "cell_type": "code",
   "execution_count": null,
   "metadata": {
    "collapsed": false
   },
   "outputs": [],
   "source": [
    "g + f"
   ]
  },
  {
   "cell_type": "markdown",
   "metadata": {},
   "source": [
    "** Função de duas variáveis f(x,y)**"
   ]
  },
  {
   "cell_type": "code",
   "execution_count": 2,
   "metadata": {
    "collapsed": false
   },
   "outputs": [
    {
     "ename": "LoadError",
     "evalue": "LoadError: UndefVarError: Sym not defined\nwhile loading In[2], in expression starting on line 1",
     "output_type": "error",
     "traceback": [
      "LoadError: UndefVarError: Sym not defined\nwhile loading In[2], in expression starting on line 1",
      ""
     ]
    }
   ],
   "source": [
    "y = Sym(\"y\")"
   ]
  },
  {
   "cell_type": "code",
   "execution_count": 3,
   "metadata": {
    "collapsed": false,
    "scrolled": true
   },
   "outputs": [
    {
     "ename": "LoadError",
     "evalue": "LoadError: UndefVarError: x not defined\nwhile loading In[3], in expression starting on line 1",
     "output_type": "error",
     "traceback": [
      "LoadError: UndefVarError: x not defined\nwhile loading In[3], in expression starting on line 1",
      ""
     ]
    }
   ],
   "source": [
    "fxy = x*y - x + y"
   ]
  },
  {
   "cell_type": "code",
   "execution_count": 4,
   "metadata": {
    "collapsed": false
   },
   "outputs": [
    {
     "ename": "LoadError",
     "evalue": "LoadError: UndefVarError: fxy not defined\nwhile loading In[4], in expression starting on line 1",
     "output_type": "error",
     "traceback": [
      "LoadError: UndefVarError: fxy not defined\nwhile loading In[4], in expression starting on line 1",
      ""
     ]
    }
   ],
   "source": [
    "fxy(0,1)"
   ]
  },
  {
   "cell_type": "code",
   "execution_count": null,
   "metadata": {
    "collapsed": false
   },
   "outputs": [],
   "source": [
    "gxy = x^3 + y^3 + x*y"
   ]
  },
  {
   "cell_type": "markdown",
   "metadata": {
    "collapsed": true
   },
   "source": [
    "** As varias formas de Calcular a função a partir de um vetor ou matriz **"
   ]
  },
  {
   "cell_type": "markdown",
   "metadata": {},
   "source": [
    "* Usando o comando map"
   ]
  },
  {
   "cell_type": "code",
   "execution_count": 80,
   "metadata": {
    "collapsed": false
   },
   "outputs": [
    {
     "data": {
      "text/latex": [
       "$$\\frac{\\sqrt{2 x + \\cos^{3}{\\left (x \\right )}}}{\\sin{\\left (x^{2} + 1 \\right )}}$$"
      ],
      "text/plain": [
       "   _______________\n",
       "  /          3    \n",
       "\\/  2*x + cos (x) \n",
       "------------------\n",
       "      / 2    \\    \n",
       "   sin\\x  + 1/    "
      ]
     },
     "execution_count": 80,
     "metadata": {},
     "output_type": "execute_result"
    }
   ],
   "source": [
    "using SymPy\n",
    "\n",
    "x = Sym(\"x\")\n",
    "\n",
    "fsimv = sqrt(2*x + cos(x)^3)/sin(x^2+1)"
   ]
  },
  {
   "cell_type": "code",
   "execution_count": 83,
   "metadata": {
    "collapsed": false,
    "scrolled": true
   },
   "outputs": [
    {
     "name": "stdout",
     "output_type": "stream",
     "text": [
      "  2.846281 seconds (134.62 k allocations: 5.447 MB)\n"
     ]
    }
   ],
   "source": [
    "x = 0:0.01:2*pi\n",
    "\n",
    "@time map(fsimv,x);"
   ]
  },
  {
   "cell_type": "code",
   "execution_count": 84,
   "metadata": {
    "collapsed": false
   },
   "outputs": [
    {
     "data": {
      "text/latex": [
       "$$\\frac{1}{\\sin{\\left (1 \\right )}} + 686.710479177063$$"
      ],
      "text/plain": [
       "  1                      \n",
       "------ + 686.710479177063\n",
       "sin(1)                   "
      ]
     },
     "execution_count": 84,
     "metadata": {},
     "output_type": "execute_result"
    }
   ],
   "source": [
    "# utilizando uma função anonima para calcular os valores de 0 a 2*pi somar os resultados\n",
    "\n",
    "mapreduce(fsimv, +, 0:0.01:2*pi)"
   ]
  },
  {
   "cell_type": "markdown",
   "metadata": {},
   "source": [
    "* Usando o comando Eval"
   ]
  },
  {
   "cell_type": "code",
   "execution_count": 201,
   "metadata": {
    "collapsed": false,
    "scrolled": true
   },
   "outputs": [
    {
     "name": "stdout",
     "output_type": "stream",
     "text": [
      "  0.000208 seconds (24 allocations: 40.516 KB)\n"
     ]
    }
   ],
   "source": [
    "x = 0:0.01:2*pi\n",
    "\n",
    "@time SymPy.eval(sqrt(2.*x + cos(x).^3)./sin(x.^2+1));"
   ]
  },
  {
   "cell_type": "markdown",
   "metadata": {},
   "source": [
    "* Função direta"
   ]
  },
  {
   "cell_type": "code",
   "execution_count": 202,
   "metadata": {
    "collapsed": false,
    "scrolled": true
   },
   "outputs": [
    {
     "name": "stdout",
     "output_type": "stream",
     "text": [
      "  0.000200 seconds (24 allocations: 40.516 KB)\n"
     ]
    }
   ],
   "source": [
    "x = 0:0.01:2*pi\n",
    "\n",
    "@time sqrt(2.*x + cos(x).^3)./sin(x.^2+1);"
   ]
  },
  {
   "cell_type": "markdown",
   "metadata": {},
   "source": []
  },
  {
   "cell_type": "markdown",
   "metadata": {},
   "source": [
    "**FUNÇÕES GENÉRICAS**\n",
    "\n",
    "As funções genéricas não apresentam variáveis simbolicas definidas pelo SymPy. Usam a seguinte sintaxe:\n",
    "**nome_funcao**(variável ou variáveis) = **expressão_da_função**\n",
    "\n",
    "Sendo a \"expressão_da_função\" uma expressão em função de uma ou mais variáveis."
   ]
  },
  {
   "cell_type": "code",
   "execution_count": 54,
   "metadata": {
    "collapsed": false,
    "scrolled": true
   },
   "outputs": [
    {
     "data": {
      "text/plain": [
       "f (generic function with 1 method)"
      ]
     },
     "execution_count": 54,
     "metadata": {},
     "output_type": "execute_result"
    }
   ],
   "source": [
    "# criando a função genérica f(x)\n",
    "\n",
    "f(x) = x^2 + 2*x + 1"
   ]
  },
  {
   "cell_type": "code",
   "execution_count": 55,
   "metadata": {
    "collapsed": false
   },
   "outputs": [
    {
     "data": {
      "text/plain": [
       "g (generic function with 1 method)"
      ]
     },
     "execution_count": 55,
     "metadata": {},
     "output_type": "execute_result"
    }
   ],
   "source": [
    "# criando a função genérica g(x)\n",
    "\n",
    "g(x) = x^3 + 2*x^2 + x + 1"
   ]
  },
  {
   "cell_type": "code",
   "execution_count": 56,
   "metadata": {
    "collapsed": false
   },
   "outputs": [
    {
     "data": {
      "text/plain": [
       "h (generic function with 1 method)"
      ]
     },
     "execution_count": 56,
     "metadata": {},
     "output_type": "execute_result"
    }
   ],
   "source": [
    "# criando a função genérica h(r,s)\n",
    "\n",
    "h(r,s) = r*s + r + s"
   ]
  },
  {
   "cell_type": "code",
   "execution_count": 58,
   "metadata": {
    "collapsed": false,
    "scrolled": true
   },
   "outputs": [
    {
     "data": {
      "text/plain": [
       "(Function,Function,Function)"
      ]
     },
     "execution_count": 58,
     "metadata": {},
     "output_type": "execute_result"
    }
   ],
   "source": [
    "# verificando o tipo de dado da funções criadas: tipo função\n",
    "\n",
    "typeof(f), typeof(g), typeof(h)"
   ]
  },
  {
   "cell_type": "code",
   "execution_count": 61,
   "metadata": {
    "collapsed": false
   },
   "outputs": [
    {
     "name": "stdout",
     "output_type": "stream",
     "text": [
      "                          Base  29013 KB     Module\n",
      "                          Core   5041 KB     Module\n",
      "                      LastMain  35549 KB     Module\n",
      "                          Main   5043 KB     Module\n",
      "                             f    595 bytes  Function\n",
      "                             g    607 bytes  Function\n",
      "                             h    614 bytes  Function\n"
     ]
    }
   ],
   "source": [
    "# verificando o tipo de dado das variáveis criadas\n",
    "# observe que f,g e h são do tipo function\n",
    "\n",
    "whos()"
   ]
  },
  {
   "cell_type": "code",
   "execution_count": 62,
   "metadata": {
    "collapsed": false
   },
   "outputs": [
    {
     "data": {
      "text/plain": [
       "9"
      ]
     },
     "metadata": {},
     "output_type": "display_data"
    },
    {
     "data": {
      "text/plain": [
       "17.152789708268944"
      ]
     },
     "metadata": {},
     "output_type": "display_data"
    },
    {
     "data": {
      "text/plain": [
       "19"
      ]
     },
     "metadata": {},
     "output_type": "display_data"
    },
    {
     "data": {
      "text/plain": [
       "1"
      ]
     },
     "metadata": {},
     "output_type": "display_data"
    },
    {
     "data": {
      "text/plain": [
       "7.283185307179586"
      ]
     },
     "metadata": {},
     "output_type": "display_data"
    }
   ],
   "source": [
    "# testando as funções genéricas criadas passando um valor\n",
    "\n",
    "display(f(2))\n",
    "\n",
    "display(f(pi))\n",
    "\n",
    "display(g(2))\n",
    "\n",
    "display(h(0,1))\n",
    "\n",
    "display(h(1,pi));"
   ]
  },
  {
   "cell_type": "markdown",
   "metadata": {},
   "source": [
    "Obs: Não é possível operar funções genéricas indefinidas, ou seja, sem um valor especificado. Só é possível se x for simbólico definido pelo SymPy. O calculo abaixo ocorrerá erro"
   ]
  },
  {
   "cell_type": "code",
   "execution_count": 63,
   "metadata": {
    "collapsed": false
   },
   "outputs": [
    {
     "ename": "LoadError",
     "evalue": "LoadError: UndefVarError: x not defined\nwhile loading In[63], in expression starting on line 1",
     "output_type": "error",
     "traceback": [
      "LoadError: UndefVarError: x not defined\nwhile loading In[63], in expression starting on line 1",
      ""
     ]
    }
   ],
   "source": [
    "f(x) + g(x), f + g"
   ]
  },
  {
   "cell_type": "code",
   "execution_count": 65,
   "metadata": {
    "collapsed": false
   },
   "outputs": [
    {
     "data": {
      "text/plain": [
       "58"
      ]
     },
     "execution_count": 65,
     "metadata": {},
     "output_type": "execute_result"
    }
   ],
   "source": [
    "# agora um valor foi repassado, então será possível realizar o calculo\n",
    "\n",
    "f(2) + g(3)"
   ]
  },
  {
   "cell_type": "markdown",
   "metadata": {},
   "source": [
    "Exemplo de Função de duas variáveis definida"
   ]
  },
  {
   "cell_type": "code",
   "execution_count": null,
   "metadata": {
    "collapsed": false
   },
   "outputs": [],
   "source": [
    "f(x,y) = 9*x*y - 2*x + y"
   ]
  },
  {
   "cell_type": "code",
   "execution_count": null,
   "metadata": {
    "collapsed": false,
    "scrolled": false
   },
   "outputs": [],
   "source": [
    "f(2,pi)"
   ]
  },
  {
   "cell_type": "markdown",
   "metadata": {},
   "source": [
    "Forma Equivalente ao for usando a função \"map\". A função \"map\" vai cacular o valor de h(x) de 1 a 5."
   ]
  },
  {
   "cell_type": "code",
   "execution_count": null,
   "metadata": {
    "collapsed": false,
    "scrolled": true
   },
   "outputs": [],
   "source": [
    "h(x) = x^2+1\n",
    "\n",
    "map(h, 1:5)"
   ]
  },
  {
   "cell_type": "markdown",
   "metadata": {},
   "source": [
    "Neste outro exemplo, a função \"map\" vai cacular o valor de h(x) de 1 a 5 e somar os resultados"
   ]
  },
  {
   "cell_type": "code",
   "execution_count": null,
   "metadata": {
    "collapsed": false
   },
   "outputs": [],
   "source": [
    "h(x) = x^2+1\n",
    "\n",
    "mapreduce(h, +, 1:5)"
   ]
  },
  {
   "cell_type": "markdown",
   "metadata": {},
   "source": [
    "** Transformando uma string em uma função genérica**"
   ]
  },
  {
   "cell_type": "code",
   "execution_count": 70,
   "metadata": {
    "collapsed": false,
    "scrolled": true
   },
   "outputs": [
    {
     "data": {
      "text/plain": [
       "fsg (generic function with 1 method)"
      ]
     },
     "execution_count": 70,
     "metadata": {},
     "output_type": "execute_result"
    }
   ],
   "source": [
    "@eval fsg(x) = $(parse(\"x^2-2*x-1\"))"
   ]
  },
  {
   "cell_type": "code",
   "execution_count": 72,
   "metadata": {
    "collapsed": false
   },
   "outputs": [
    {
     "data": {
      "text/plain": [
       "-1"
      ]
     },
     "execution_count": 72,
     "metadata": {},
     "output_type": "execute_result"
    }
   ],
   "source": [
    "fsg(0)"
   ]
  },
  {
   "cell_type": "markdown",
   "metadata": {},
   "source": [
    "** Função Genérica do tipo FUNCTION **"
   ]
  },
  {
   "cell_type": "code",
   "execution_count": null,
   "metadata": {
    "collapsed": false
   },
   "outputs": [],
   "source": [
    "\"\"\"\n",
    "Metodo da Bisseccao\n",
    "\n",
    "Calcula uma aproximação para uma raiz da função de f(x)\n",
    "\n",
    "Entre os intervalo [ao,bo] e a tolerencia de erro daddo por tol.\n",
    "\n",
    "ex bissec(\"x^2 - 2*x - 8\",-5,5,0.000001)\n",
    "\"\"\"\n",
    "\n",
    "function bissec(funcao,a,b,tol)    \n",
    "\n",
    "    x = 1\n",
    "    ao = a\n",
    "    bo = b\n",
    "    toll = tol\n",
    "    interacao = 0\n",
    "    println(\"f(x) = \",funcao)\n",
    "    println()\n",
    "    \n",
    "    @eval g(x) = $(parse(funcao)) # transforma a string em uma formula manipulável\n",
    "    \n",
    "    if (g(ao)*g(bo)<0)\n",
    "        \n",
    "        while (abs(bo-ao) > toll)  &&  (interacao<10000000)\n",
    "            x=(ao+bo)/2\n",
    "            interacao = interacao+1\n",
    "            if g(x)*g(ao) > 0\n",
    "                ao=x\n",
    "            else\n",
    "                bo=x\n",
    "            end\n",
    "        end\n",
    "        println(\"Interações: \",interacao)\n",
    "        println(\"Valor da raiz: \",x)\n",
    "        println(\"Valor de f(x)= \",round(g(x),8),\" com erro menor que \",toll)\n",
    "    else\n",
    "        println(\"Não há raízes no intervalo, defina outro intervalo\")\n",
    "    end    \n",
    "end"
   ]
  },
  {
   "cell_type": "code",
   "execution_count": null,
   "metadata": {
    "collapsed": false,
    "scrolled": false
   },
   "outputs": [],
   "source": [
    "@time bissec(\"sin(x)*x^2+cos(x)*x^2+log(x)*x+cos(sin(x))^2\",1,5,0.000000001)"
   ]
  },
  {
   "cell_type": "markdown",
   "metadata": {},
   "source": [
    "O texto de ajuda entre aspas pode ser acessado pelo comando help (?) "
   ]
  },
  {
   "cell_type": "code",
   "execution_count": null,
   "metadata": {
    "collapsed": false
   },
   "outputs": [],
   "source": [
    "? bissec"
   ]
  },
  {
   "cell_type": "markdown",
   "metadata": {},
   "source": [
    "** Importando uma função no formato de arquivo**"
   ]
  },
  {
   "cell_type": "code",
   "execution_count": null,
   "metadata": {
    "collapsed": false,
    "scrolled": true
   },
   "outputs": [],
   "source": [
    "# É interessante salvar o arquivo da função com o mesmo nome da função\n",
    "\n",
    "include(\"fbissec.jl\")"
   ]
  },
  {
   "cell_type": "code",
   "execution_count": null,
   "metadata": {
    "collapsed": false,
    "scrolled": true
   },
   "outputs": [],
   "source": [
    "? fbissec"
   ]
  },
  {
   "cell_type": "code",
   "execution_count": null,
   "metadata": {
    "collapsed": false
   },
   "outputs": [],
   "source": [
    "@time fbissec(\"sin(x)*x^2+cos(x)*x^2+log(x)*x+cos(sin(x))^2\",1,5,0.000000001)"
   ]
  },
  {
   "cell_type": "markdown",
   "metadata": {},
   "source": [
    "<body><strong>Função Fibonacci</strong><br>\n",
    "    <p>A Sequência de Fibonacci consiste em uma sucessão de números inteiros, de\n",
    "      tal forma que, partindo dos dois primeiros números da sequência 0 e 1, os\n",
    "      números posteriores serão obtidos por meio da soma dos seus dois\n",
    "      antecessores. Dessa forma, teremos a sequencia: <br>\n",
    "      <br>\n",
    "      Termo:0, 1, 2, 3, 4, 5, 6, 7 ,&nbsp; 8 ,&nbsp;&nbsp; 9 ,&nbsp; 10,&nbsp;\n",
    "      11,&nbsp; 12 ,&nbsp; 13 ,...<br>\n",
    "      <br>\n",
    "      Valor_:0, 1, 1, 2, 3, 5, 8, 13, 21, 34, 55, 89, 144, 233,...<br>\n",
    "      <br>\n",
    "      A função abaixo utiliza a forma recursiva de Fibonacci para encontrar os\n",
    "      termos da sequencia. A forma recursiva é utilizada em testes de Benchmark\n",
    "      para testar a velocidade de processamento de uma linguagem de programação,\n",
    "      de tal forma que quanto menor o tempo para calcular um termo, melhor o\n",
    "      desempenho da linguagem neste procedimento. <br>\n",
    "      <br>\n",
    "      Comparação com outras linguagens utilizando mesmo algoritmo para encontrar\n",
    "      o 35 termo:</p>\n",
    "    <table style=\"width: 674px; height: 54px;\" border=\"1\">\n",
    "      <tbody>\n",
    "        <tr>\n",
    "          <td style=\"width: 81.697px;\">Julia:</td>\n",
    "          <td style=\"width: 98.067px;\">Octave</td>\n",
    "          <td style=\"width: 125.067px;\">SageMath</td>\n",
    "          <td style=\"width: 99.5px;\">Scilab</td>\n",
    "          <td style=\"width: 175.6px;\">Maxima</td>\n",
    "          <td style=\"width: 170.7px;\">MatLab</td>\n",
    "        </tr>\n",
    "        <tr>\n",
    "          <td><br>\n",
    "          </td>\n",
    "          <td><br>\n",
    "          </td>\n",
    "          <td><br>\n",
    "          </td>\n",
    "          <td><br>\n",
    "          </td>\n",
    "          <td><br>\n",
    "          </td>\n",
    "          <td><br>\n",
    "          </td>\n",
    "        </tr>\n",
    "      </tbody>\n",
    "    </table>\n",
    "  </body>"
   ]
  },
  {
   "cell_type": "code",
   "execution_count": 73,
   "metadata": {
    "collapsed": false
   },
   "outputs": [
    {
     "data": {
      "text/plain": [
       "fiboR (generic function with 1 method)"
      ]
     },
     "execution_count": 73,
     "metadata": {},
     "output_type": "execute_result"
    }
   ],
   "source": [
    "function fiboR(n) \n",
    "    if n < 2 \n",
    "        return n\n",
    "    else\n",
    "        fiboR(n-1) + fiboR(n-2)\n",
    "    end\n",
    "end"
   ]
  },
  {
   "cell_type": "code",
   "execution_count": 74,
   "metadata": {
    "collapsed": false
   },
   "outputs": [
    {
     "name": "stdout",
     "output_type": "stream",
     "text": [
      "  "
     ]
    },
    {
     "data": {
      "text/plain": [
       "9227465"
      ]
     },
     "execution_count": 74,
     "metadata": {},
     "output_type": "execute_result"
    },
    {
     "name": "stdout",
     "output_type": "stream",
     "text": [
      "0.116549 seconds (843 allocations: 47.604 KB)\n"
     ]
    }
   ],
   "source": [
    "@time fiboR(35)"
   ]
  },
  {
   "cell_type": "code",
   "execution_count": null,
   "metadata": {
    "collapsed": false,
    "scrolled": true
   },
   "outputs": [],
   "source": [
    "include(\"ffiboR_JL.jl\")"
   ]
  },
  {
   "cell_type": "code",
   "execution_count": null,
   "metadata": {
    "collapsed": false
   },
   "outputs": [],
   "source": [
    "? ffiboR_JL"
   ]
  },
  {
   "cell_type": "code",
   "execution_count": null,
   "metadata": {
    "collapsed": false,
    "scrolled": false
   },
   "outputs": [],
   "source": [
    "@time ffiboR_JL(40)"
   ]
  },
  {
   "cell_type": "markdown",
   "metadata": {},
   "source": [
    "** Forma \"Julitronica\" de criar IF...Else...End para a função na forma:**  \n",
    "\n",
    "$~\n",
    "f(x) = \\begin{cases}\n",
    "\\cos(x) & x \\geq 0\\\\\n",
    "1 - e^{-1/x^2} & \\text{x < 0}.\n",
    "\\end{cases}\n",
    "~$"
   ]
  },
  {
   "cell_type": "code",
   "execution_count": 77,
   "metadata": {
    "collapsed": false
   },
   "outputs": [
    {
     "data": {
      "text/plain": [
       "g (generic function with 1 method)"
      ]
     },
     "execution_count": 77,
     "metadata": {},
     "output_type": "execute_result"
    }
   ],
   "source": [
    "# função(variável)  = condiçao1 ? comandoA : senao comandoB \n",
    "# Significa que: se condição \"1\" satisfeita, então comandoA, senão comandoB\n",
    "# no código abaixo, temos que:\n",
    "# se x>=0 então imprima o calculo de g = cos(x) = \",cos(x), senão imprima o cálculo de g = exp(-1/x^2) \n",
    "\n",
    "g(x) = x >= 0  ?  print(\"g = cos(x) = \",cos(x)) : print(\"g = exp(-1/x^2) = \",exp(-1/x^2))"
   ]
  },
  {
   "cell_type": "code",
   "execution_count": 79,
   "metadata": {
    "collapsed": false
   },
   "outputs": [
    {
     "name": "stdout",
     "output_type": "stream",
     "text": [
      "g = cos(x) = -0.4161468365471424"
     ]
    }
   ],
   "source": [
    "# passando um valor de x maior que 0\n",
    "\n",
    "g(2)"
   ]
  },
  {
   "cell_type": "code",
   "execution_count": 81,
   "metadata": {
    "collapsed": false
   },
   "outputs": [
    {
     "name": "stdout",
     "output_type": "stream",
     "text": [
      "g = exp(-1/x^2) = 0.36787944117144233"
     ]
    }
   ],
   "source": [
    "# passando um valor de x menor que 0\n",
    "\n",
    "g(-1)"
   ]
  },
  {
   "cell_type": "markdown",
   "metadata": {},
   "source": [
    "** As varias formas de Calcular a função a partir de um vetor ou matriz **"
   ]
  },
  {
   "cell_type": "code",
   "execution_count": 209,
   "metadata": {
    "collapsed": true
   },
   "outputs": [],
   "source": [
    "workspace()"
   ]
  },
  {
   "cell_type": "code",
   "execution_count": 70,
   "metadata": {
    "collapsed": false
   },
   "outputs": [
    {
     "data": {
      "text/plain": [
       "fgv (generic function with 1 method)"
      ]
     },
     "execution_count": 70,
     "metadata": {},
     "output_type": "execute_result"
    }
   ],
   "source": [
    "x = 0:0.01:2*pi\n",
    "\n",
    "fgv(x) = sqrt(2*x + cos(x)^3)/sin(x^2+1)"
   ]
  },
  {
   "cell_type": "markdown",
   "metadata": {},
   "source": [
    "* Usando o comando map"
   ]
  },
  {
   "cell_type": "code",
   "execution_count": 71,
   "metadata": {
    "collapsed": false
   },
   "outputs": [
    {
     "name": "stdout",
     "output_type": "stream",
     "text": [
      "  0.005193 seconds (2.91 k allocations: 100.006 KB)\n"
     ]
    }
   ],
   "source": [
    "@time map(fgv,x);"
   ]
  },
  {
   "cell_type": "code",
   "execution_count": 78,
   "metadata": {
    "collapsed": false
   },
   "outputs": [
    {
     "data": {
      "text/plain": [
       "687.8988742828413"
      ]
     },
     "execution_count": 78,
     "metadata": {},
     "output_type": "execute_result"
    }
   ],
   "source": [
    "# utilizando uma função anonima para calcular os valores de 0 a 2*pi somar os resultados\n",
    "\n",
    "mapreduce(fgv, +, 0:0.01:2*pi)"
   ]
  },
  {
   "cell_type": "markdown",
   "metadata": {},
   "source": [
    "* Comando eval"
   ]
  },
  {
   "cell_type": "code",
   "execution_count": 76,
   "metadata": {
    "collapsed": false
   },
   "outputs": [
    {
     "name": "stdout",
     "output_type": "stream",
     "text": [
      "  0.004214 seconds (2.96 k allocations: 185.294 KB)\n"
     ]
    }
   ],
   "source": [
    "x = 0:0.01:2*pi\n",
    "fgV(x) = sqrt(2.*x + cos(x).^3)./sin(x.^2+1)\n",
    "\n",
    "@time eval(fgV(x));"
   ]
  },
  {
   "cell_type": "code",
   "execution_count": 73,
   "metadata": {
    "collapsed": false
   },
   "outputs": [
    {
     "name": "stdout",
     "output_type": "stream",
     "text": [
      "  0.006311 seconds (2.96 k allocations: 185.810 KB)\n"
     ]
    }
   ],
   "source": [
    "x = 0:0.01:2*pi\n",
    "fgV(x) = sqrt(2.*x + cos(x).^3)./sin(x.^2+1)\n",
    "\n",
    "@time fgV(x);"
   ]
  },
  {
   "cell_type": "markdown",
   "metadata": {},
   "source": [
    "** FUNÇÕES ANÔNIMAS **\n",
    "\n",
    "São Funções criadas anonimamente, ou seja, sem um nome para a função. Funções anônimas não precisam usar o SymPy ou a forma de função genérica (funcao(variavel) = expressao). São escritas na forma:\n",
    "\n",
    "variavel ->  expressao"
   ]
  },
  {
   "cell_type": "markdown",
   "metadata": {},
   "source": [
    "** Função Anonima sem atribuição de uma variável **"
   ]
  },
  {
   "cell_type": "markdown",
   "metadata": {},
   "source": [
    "* Subistituindo por um valor"
   ]
  },
  {
   "cell_type": "code",
   "execution_count": 56,
   "metadata": {
    "collapsed": false,
    "scrolled": true
   },
   "outputs": [
    {
     "data": {
      "text/plain": [
       "-1"
      ]
     },
     "execution_count": 56,
     "metadata": {},
     "output_type": "execute_result"
    }
   ],
   "source": [
    "(x -> x^3-2*x^2-1)(0)"
   ]
  },
  {
   "cell_type": "markdown",
   "metadata": {},
   "source": [
    "* Subistituindo por um vetor ou matriz\n",
    "\n",
    "É necessário colocar o \".*\" e \"*^\" para efeturar a operação elemento por elemento do vetor"
   ]
  },
  {
   "cell_type": "code",
   "execution_count": 99,
   "metadata": {
    "collapsed": false,
    "scrolled": true
   },
   "outputs": [
    {
     "data": {
      "text/plain": [
       "1x3 Array{Int64,2}:\n",
       " -2  -1  8"
      ]
     },
     "execution_count": 99,
     "metadata": {},
     "output_type": "execute_result"
    }
   ],
   "source": [
    "(x -> x.^3-2.*x.^2-1)([1 2 3])"
   ]
  },
  {
   "cell_type": "code",
   "execution_count": 100,
   "metadata": {
    "collapsed": false,
    "scrolled": true
   },
   "outputs": [
    {
     "data": {
      "text/plain": [
       "2x3 Array{Int64,2}:\n",
       " -2  -1    8\n",
       " 31  74  143"
      ]
     },
     "execution_count": 100,
     "metadata": {},
     "output_type": "execute_result"
    }
   ],
   "source": [
    "(x -> x.^3-2.*x.^2-1)([1 2 3; 4 5 6])"
   ]
  },
  {
   "cell_type": "markdown",
   "metadata": {},
   "source": [
    "**Função Anonima com atribuição de uma variável**"
   ]
  },
  {
   "cell_type": "markdown",
   "metadata": {},
   "source": [
    "* Subistituindo por um valor"
   ]
  },
  {
   "cell_type": "code",
   "execution_count": 69,
   "metadata": {
    "collapsed": false
   },
   "outputs": [
    {
     "data": {
      "text/plain": [
       "(anonymous function)"
      ]
     },
     "execution_count": 69,
     "metadata": {},
     "output_type": "execute_result"
    }
   ],
   "source": [
    "fa1 = (x -> x^3-2*x^2-1)"
   ]
  },
  {
   "cell_type": "code",
   "execution_count": 70,
   "metadata": {
    "collapsed": false,
    "scrolled": true
   },
   "outputs": [
    {
     "data": {
      "text/plain": [
       "-1"
      ]
     },
     "execution_count": 70,
     "metadata": {},
     "output_type": "execute_result"
    }
   ],
   "source": [
    "fa1(0)"
   ]
  },
  {
   "cell_type": "markdown",
   "metadata": {},
   "source": [
    "* Subistituindo por um vetor ou matriz\n",
    "\n",
    "É necessário colocar o \".\" e \"^\" para efeturar a operação elemento por elemento do vetor\n"
   ]
  },
  {
   "cell_type": "code",
   "execution_count": 71,
   "metadata": {
    "collapsed": false,
    "scrolled": true
   },
   "outputs": [
    {
     "data": {
      "text/plain": [
       "(anonymous function)"
      ]
     },
     "execution_count": 71,
     "metadata": {},
     "output_type": "execute_result"
    }
   ],
   "source": [
    "fa2 = (x -> x.^3-2.*x.^2-1)"
   ]
  },
  {
   "cell_type": "code",
   "execution_count": 73,
   "metadata": {
    "collapsed": false
   },
   "outputs": [
    {
     "data": {
      "text/plain": [
       "(\n",
       "1x3 Array{Int64,2}:\n",
       " -2  -1  8,\n",
       "\n",
       "2x3 Array{Int64,2}:\n",
       " -2  -1    8\n",
       " 31  74  143)"
      ]
     },
     "execution_count": 73,
     "metadata": {},
     "output_type": "execute_result"
    }
   ],
   "source": [
    "fa2([1 2 3]) , fa2([1 2 3; 4 5 6])"
   ]
  },
  {
   "cell_type": "markdown",
   "metadata": {},
   "source": [
    "** As varias formas de Calcular a função a partir de um vetor ou matriz**"
   ]
  },
  {
   "cell_type": "markdown",
   "metadata": {},
   "source": [
    "* Usando o comando map"
   ]
  },
  {
   "cell_type": "code",
   "execution_count": 74,
   "metadata": {
    "collapsed": false
   },
   "outputs": [
    {
     "name": "stdout",
     "output_type": "stream",
     "text": [
      "  0.006108 seconds (7.59 k allocations: 167.333 KB)\n"
     ]
    }
   ],
   "source": [
    "x = 0:0.01:2*pi\n",
    "\n",
    "fanx = (x -> sqrt(2*x + cos(x)^3)/sin(x^2+1))\n",
    "\n",
    "@time map(fanx,x);"
   ]
  },
  {
   "cell_type": "code",
   "execution_count": 88,
   "metadata": {
    "collapsed": false
   },
   "outputs": [
    {
     "data": {
      "text/plain": [
       "687.8988742828413"
      ]
     },
     "execution_count": 88,
     "metadata": {},
     "output_type": "execute_result"
    }
   ],
   "source": [
    "# utilizando uma função anonima para calcular os valores de 0 a 2*pi somar os resultados\n",
    "\n",
    "mapreduce(fanx, +, 0:0.01:2*pi)"
   ]
  },
  {
   "cell_type": "markdown",
   "metadata": {},
   "source": [
    "* Utilizando o Eval"
   ]
  },
  {
   "cell_type": "code",
   "execution_count": 16,
   "metadata": {
    "collapsed": false
   },
   "outputs": [
    {
     "name": "stdout",
     "output_type": "stream",
     "text": [
      "  0.003547 seconds (58 allocations: 42.769 KB)\n"
     ]
    }
   ],
   "source": [
    "funan = x -> sqrt(2.*x + cos(x).^3)./sin(x.^2+1)\n",
    "\n",
    "x = 0:0.01:2*pi\n",
    "\n",
    "@time eval(funan(x));"
   ]
  },
  {
   "cell_type": "code",
   "execution_count": 25,
   "metadata": {
    "collapsed": false
   },
   "outputs": [
    {
     "name": "stdout",
     "output_type": "stream",
     "text": [
      "  0.002817 seconds (36 allocations: 2.711 KB)\n"
     ]
    }
   ],
   "source": [
    "funan = x -> x.^3-2.*x.^2-1\n",
    "\n",
    "x = 0:0.1:1\n",
    "\n",
    "@time funan(x);"
   ]
  },
  {
   "cell_type": "markdown",
   "metadata": {},
   "source": [
    "** QUAL É O MELHOR? FUNÇÃO GENÉRICA, ANÔNIMA OU SIMBÓLICA? **\n",
    "\n",
    "Vamos fazer um benchmark das funções utilizando 3 métodos: map, eval e direto"
   ]
  },
  {
   "cell_type": "markdown",
   "metadata": {},
   "source": [
    "**Usando o comando map**"
   ]
  },
  {
   "cell_type": "code",
   "execution_count": 2,
   "metadata": {
    "collapsed": false
   },
   "outputs": [
    {
     "data": {
      "text/latex": [
       "$$- 2 x^{3} - x^{2} + 2 x + 8$$"
      ],
      "text/plain": [
       "     3    2          \n",
       "- 2*x  - x  + 2*x + 8"
      ]
     },
     "execution_count": 2,
     "metadata": {},
     "output_type": "execute_result"
    }
   ],
   "source": [
    "# Simbólica \n",
    "\n",
    "using SymPy\n",
    "x = Sym(\"x\")\n",
    "\n",
    "fsimb = -2*x^3 - x^2 + 2*x + 8"
   ]
  },
  {
   "cell_type": "code",
   "execution_count": 3,
   "metadata": {
    "collapsed": false
   },
   "outputs": [
    {
     "data": {
      "text/plain": [
       "fgen (generic function with 1 method)"
      ]
     },
     "execution_count": 3,
     "metadata": {},
     "output_type": "execute_result"
    }
   ],
   "source": [
    "# Genérica\n",
    "\n",
    "fgen(w) = -2*w^3 - w^2 + 2*w + 8"
   ]
  },
  {
   "cell_type": "code",
   "execution_count": 4,
   "metadata": {
    "collapsed": false
   },
   "outputs": [
    {
     "data": {
      "text/plain": [
       "(anonymous function)"
      ]
     },
     "execution_count": 4,
     "metadata": {},
     "output_type": "execute_result"
    }
   ],
   "source": [
    "# Anonima \n",
    "\n",
    "fanon = (t ->-2*t^3 - t^2 + 2*t + 8)"
   ]
  },
  {
   "cell_type": "code",
   "execution_count": 5,
   "metadata": {
    "collapsed": false,
    "scrolled": true
   },
   "outputs": [
    {
     "data": {
      "text/plain": [
       "(0.0:0.001:10.0,0.0:0.001:10.0,0.0:0.001:10.0)"
      ]
     },
     "execution_count": 5,
     "metadata": {},
     "output_type": "execute_result"
    }
   ],
   "source": [
    "x = w = t = 0:0.001:10\n",
    "\n",
    "x , w , t"
   ]
  },
  {
   "cell_type": "code",
   "execution_count": 6,
   "metadata": {
    "collapsed": false,
    "scrolled": true
   },
   "outputs": [
    {
     "data": {
      "text/plain": [
       "21.049176613"
      ]
     },
     "execution_count": 6,
     "metadata": {},
     "output_type": "execute_result"
    }
   ],
   "source": [
    "# função simbólica. Retire o \";\" para ver os resultados\n",
    "\n",
    "fsmt = @elapsed map(fsimb,x)"
   ]
  },
  {
   "cell_type": "code",
   "execution_count": 22,
   "metadata": {
    "collapsed": false
   },
   "outputs": [
    {
     "data": {
      "text/plain": [
       "0.000346116"
      ]
     },
     "execution_count": 22,
     "metadata": {},
     "output_type": "execute_result"
    }
   ],
   "source": [
    "# função genérica. Retire o \";\" para ver os resultados\n",
    "\n",
    "fgmt = @elapsed map(fgen,w)"
   ]
  },
  {
   "cell_type": "code",
   "execution_count": 23,
   "metadata": {
    "collapsed": false,
    "scrolled": true
   },
   "outputs": [
    {
     "data": {
      "text/plain": [
       "0.003788845"
      ]
     },
     "execution_count": 23,
     "metadata": {},
     "output_type": "execute_result"
    }
   ],
   "source": [
    "# função anonima. Retire o \";\" para ver os resultados\n",
    "\n",
    "famt = @elapsed map(fanon,t)"
   ]
  },
  {
   "cell_type": "markdown",
   "metadata": {},
   "source": [
    "Vantagem para a função genérica usando o comando **map**"
   ]
  },
  {
   "cell_type": "markdown",
   "metadata": {},
   "source": [
    "** Usando o comando eval **"
   ]
  },
  {
   "cell_type": "code",
   "execution_count": 9,
   "metadata": {
    "collapsed": true
   },
   "outputs": [],
   "source": [
    "# workspace()"
   ]
  },
  {
   "cell_type": "code",
   "execution_count": 24,
   "metadata": {
    "collapsed": false
   },
   "outputs": [],
   "source": [
    "using SymPy\n",
    "x = Sym(\"x\");"
   ]
  },
  {
   "cell_type": "code",
   "execution_count": 25,
   "metadata": {
    "collapsed": false,
    "scrolled": true
   },
   "outputs": [
    {
     "data": {
      "text/plain": [
       "3.12e-6"
      ]
     },
     "execution_count": 25,
     "metadata": {},
     "output_type": "execute_result"
    }
   ],
   "source": [
    "# função simbólica. Retire o \";\" para ver os resultados\n",
    "\n",
    "fsimb = -2.*x.^3 - x.^2 + 2.*x + 8\n",
    "\n",
    "x = 0:0.001:10\n",
    "\n",
    "fset = @elapsed SymPy.eval(fsimb)"
   ]
  },
  {
   "cell_type": "code",
   "execution_count": 26,
   "metadata": {
    "collapsed": false,
    "scrolled": true
   },
   "outputs": [
    {
     "data": {
      "text/plain": [
       "0.004408321"
      ]
     },
     "execution_count": 26,
     "metadata": {},
     "output_type": "execute_result"
    }
   ],
   "source": [
    "# função genérica. Retire o \";\" para ver os resultados\n",
    "\n",
    "fgen(w) = -2.*w.^3 - w.^2 + 2.*w + 8\n",
    "\n",
    "w = 0:0.001:10\n",
    "\n",
    "fget = @elapsed eval(fgen(w))"
   ]
  },
  {
   "cell_type": "code",
   "execution_count": 27,
   "metadata": {
    "collapsed": false,
    "scrolled": true
   },
   "outputs": [
    {
     "data": {
      "text/plain": [
       "0.002893192"
      ]
     },
     "execution_count": 27,
     "metadata": {},
     "output_type": "execute_result"
    }
   ],
   "source": [
    "# função anonima. Retire o \";\" para ver os resultados\n",
    "\n",
    "fanon = (t ->-2.*t.^3 - t.^2 + 2.*t + 8)\n",
    "\n",
    "t = 0:0.001:10\n",
    "\n",
    "faet = @elapsed eval(fanon(t))"
   ]
  },
  {
   "cell_type": "markdown",
   "metadata": {},
   "source": [
    "Vantagem para a função simbolica usando o eval"
   ]
  },
  {
   "cell_type": "markdown",
   "metadata": {},
   "source": [
    "** Usando o comando direto **"
   ]
  },
  {
   "cell_type": "code",
   "execution_count": 28,
   "metadata": {
    "collapsed": false
   },
   "outputs": [
    {
     "data": {
      "text/latex": [
       "$$x$$"
      ],
      "text/plain": [
       "x"
      ]
     },
     "execution_count": 28,
     "metadata": {},
     "output_type": "execute_result"
    }
   ],
   "source": [
    "using SymPy\n",
    "x = Sym(\"x\")"
   ]
  },
  {
   "cell_type": "code",
   "execution_count": 33,
   "metadata": {
    "collapsed": false
   },
   "outputs": [
    {
     "data": {
      "text/plain": [
       "0.001242084"
      ]
     },
     "execution_count": 33,
     "metadata": {},
     "output_type": "execute_result"
    }
   ],
   "source": [
    "# função simbólica. Retire o \";\" para ver os resultados\n",
    "\n",
    "x = 0:0.001:10\n",
    "\n",
    "fsdt = @elapsed -2.*x.^3 - x.^2 + 2.*x + 8"
   ]
  },
  {
   "cell_type": "code",
   "execution_count": 34,
   "metadata": {
    "collapsed": false
   },
   "outputs": [
    {
     "data": {
      "text/plain": [
       "0.011001276"
      ]
     },
     "execution_count": 34,
     "metadata": {},
     "output_type": "execute_result"
    }
   ],
   "source": [
    "# função genérica. Retire o \";\" para ver os resultados\n",
    "\n",
    "fgen(w) = -2.*w.^3 - w.^2 + 2.*w + 8\n",
    "\n",
    "w = 0:0.001:10\n",
    "\n",
    "fgdt = @elapsed fgen(w)"
   ]
  },
  {
   "cell_type": "code",
   "execution_count": 35,
   "metadata": {
    "collapsed": false,
    "scrolled": false
   },
   "outputs": [
    {
     "data": {
      "text/plain": [
       "0.00325414"
      ]
     },
     "execution_count": 35,
     "metadata": {},
     "output_type": "execute_result"
    }
   ],
   "source": [
    "# função anonima. Retire o \";\" para ver os resultados\n",
    "\n",
    "t = 0:0.001:10\n",
    "\n",
    "fan = (t -> -2.*t.^3 - t.^2 + 2.*t + 8)\n",
    "\n",
    "fadt = @elapsed fan(t)"
   ]
  },
  {
   "cell_type": "code",
   "execution_count": 32,
   "metadata": {
    "collapsed": false
   },
   "outputs": [
    {
     "data": {
      "text/plain": [
       "\"Resultados\""
      ]
     },
     "metadata": {},
     "output_type": "display_data"
    },
    {
     "data": {
      "text/plain": [
       "4x4 Array{Any,2}:\n",
       " \"---\"     \"map\"        \"eval\"      \"dir\"    \n",
       " \"Sim\"   21.0492       3.12e-6     0.0011152 \n",
       " \"Ggen\"   0.000346116  0.00440832  0.0045743 \n",
       " \"Ano\"    0.00378884   0.00289319  0.00349668"
      ]
     },
     "metadata": {},
     "output_type": "display_data"
    }
   ],
   "source": [
    "resultados = [\"---\" \"map\" \"eval\" \"dir\";\"Sim\" fsmt fset fsdt; \"Ggen\" fgmt fget fgdt; \"Ano\" famt faet fadt]\n",
    "display(\"Resultados\")\n",
    "display(resultados)"
   ]
  },
  {
   "cell_type": "markdown",
   "metadata": {},
   "source": []
  },
  {
   "cell_type": "markdown",
   "metadata": {},
   "source": [
    "## CALCULOS DIVERSOS COM EQUAÇÕES, INEQUAÇÕES E FUNÇÕES##"
   ]
  },
  {
   "cell_type": "code",
   "execution_count": 77,
   "metadata": {
    "collapsed": false
   },
   "outputs": [
    {
     "data": {
      "text/plain": [
       "(x,y)"
      ]
     },
     "execution_count": 77,
     "metadata": {},
     "output_type": "execute_result"
    }
   ],
   "source": [
    "using SymPy\n",
    "\n",
    "x,y = Sym(\"x,y\")"
   ]
  },
  {
   "cell_type": "markdown",
   "metadata": {},
   "source": [
    "** Expansão dos termos de uma expressões **"
   ]
  },
  {
   "cell_type": "code",
   "execution_count": 78,
   "metadata": {
    "collapsed": false
   },
   "outputs": [
    {
     "data": {
      "text/latex": [
       "$$\\left(x - 3\\right)^{3} \\left(x - 2\\right)^{4}$$"
      ],
      "text/plain": [
       "       3        4\n",
       "(x - 3) *(x - 2) "
      ]
     },
     "execution_count": 78,
     "metadata": {},
     "output_type": "execute_result"
    }
   ],
   "source": [
    "y = (x-2)^4 * (x-3)^3"
   ]
  },
  {
   "cell_type": "code",
   "execution_count": 79,
   "metadata": {
    "collapsed": false
   },
   "outputs": [
    {
     "data": {
      "text/latex": [
       "$$x^{7} - 17 x^{6} + 123 x^{5} - 491 x^{4} + 1168 x^{3} - 1656 x^{2} + 1296 x - 432$$"
      ],
      "text/plain": [
       " 7       6        5        4         3         2               \n",
       "x  - 17*x  + 123*x  - 491*x  + 1168*x  - 1656*x  + 1296*x - 432"
      ]
     },
     "execution_count": 79,
     "metadata": {},
     "output_type": "execute_result"
    }
   ],
   "source": [
    "SymPy.expand(y)"
   ]
  },
  {
   "cell_type": "markdown",
   "metadata": {},
   "source": [
    "<strong>Fatorização</strong>"
   ]
  },
  {
   "cell_type": "code",
   "execution_count": 80,
   "metadata": {
    "collapsed": false
   },
   "outputs": [
    {
     "data": {
      "text/latex": [
       "$$x^{7} - 17 x^{6} + 123 x^{5} - 491 x^{4} + 1168 x^{3} - 1656 x^{2} + 1296 x - 432$$"
      ],
      "text/plain": [
       " 7       6        5        4         3         2               \n",
       "x  - 17*x  + 123*x  - 491*x  + 1168*x  - 1656*x  + 1296*x - 432"
      ]
     },
     "execution_count": 80,
     "metadata": {},
     "output_type": "execute_result"
    }
   ],
   "source": [
    "y = x^7 - 17*x^6 + 123*x^5 - 491*x^4 + 1168*x^3 - 1656*x^2 + 1296*x - 432"
   ]
  },
  {
   "cell_type": "code",
   "execution_count": 81,
   "metadata": {
    "collapsed": false
   },
   "outputs": [
    {
     "data": {
      "text/latex": [
       "$$\\left(x - 3\\right)^{3} \\left(x - 2\\right)^{4}$$"
      ],
      "text/plain": [
       "       3        4\n",
       "(x - 3) *(x - 2) "
      ]
     },
     "execution_count": 81,
     "metadata": {},
     "output_type": "execute_result"
    }
   ],
   "source": [
    "SymPy.factor(y)"
   ]
  },
  {
   "cell_type": "markdown",
   "metadata": {},
   "source": [
    "<strong>Frações parciais</strong>"
   ]
  },
  {
   "cell_type": "code",
   "execution_count": 82,
   "metadata": {
    "collapsed": false
   },
   "outputs": [
    {
     "data": {
      "text/latex": [
       "$$\\frac{2 x^{2} + 3 x - 1}{x^{2} - 3 x + 2}$$"
      ],
      "text/plain": [
       "   2          \n",
       "2*x  + 3*x - 1\n",
       "--------------\n",
       "  2           \n",
       " x  - 3*x + 2 "
      ]
     },
     "execution_count": 82,
     "metadata": {},
     "output_type": "execute_result"
    }
   ],
   "source": [
    "fx = (2*x^2 +3*x -1) / (x^2 - 3*x + 2)"
   ]
  },
  {
   "cell_type": "code",
   "execution_count": 83,
   "metadata": {
    "collapsed": false
   },
   "outputs": [
    {
     "data": {
      "text/latex": [
       "$$2 - \\frac{4}{x - 1} + \\frac{13}{x - 2}$$"
      ],
      "text/plain": [
       "      4       13 \n",
       "2 - ----- + -----\n",
       "    x - 1   x - 2"
      ]
     },
     "execution_count": 83,
     "metadata": {},
     "output_type": "execute_result"
    }
   ],
   "source": [
    "# fraçõs parciais\n",
    "\n",
    "SymPy.apart(fx)"
   ]
  },
  {
   "cell_type": "markdown",
   "metadata": {},
   "source": [
    "<strong>Simplificação de expressões</strong>"
   ]
  },
  {
   "cell_type": "code",
   "execution_count": 84,
   "metadata": {
    "collapsed": false,
    "scrolled": false
   },
   "outputs": [
    {
     "data": {
      "text/latex": [
       "$$2 - \\frac{4}{x - 1} + \\frac{13}{x - 2}$$"
      ],
      "text/plain": [
       "      4       13 \n",
       "2 - ----- + -----\n",
       "    x - 1   x - 2"
      ]
     },
     "execution_count": 84,
     "metadata": {},
     "output_type": "execute_result"
    }
   ],
   "source": [
    "frac_fx = 13/(x-2) + -4/(x-1) +2"
   ]
  },
  {
   "cell_type": "code",
   "execution_count": 85,
   "metadata": {
    "collapsed": false
   },
   "outputs": [
    {
     "data": {
      "text/latex": [
       "$$\\frac{2 x^{2} + 3 x - 1}{x^{2} - 3 x + 2}$$"
      ],
      "text/plain": [
       "   2          \n",
       "2*x  + 3*x - 1\n",
       "--------------\n",
       "  2           \n",
       " x  - 3*x + 2 "
      ]
     },
     "execution_count": 85,
     "metadata": {},
     "output_type": "execute_result"
    }
   ],
   "source": [
    "SymPy.simplify(frac_fx)"
   ]
  },
  {
   "cell_type": "markdown",
   "metadata": {},
   "source": []
  },
  {
   "cell_type": "markdown",
   "metadata": {
    "collapsed": true
   },
   "source": [
    "** Substituir variável por um valor ou outra variável**\n",
    "\n",
    "Para substituir o valor de X na equação acima, utilizamos o comando **subs(variável, variável_expressão, variavel/valor)**\n",
    "\n",
    "Observe no exemplo 1, que a expressão de Y continua a mesma, só o valor de X que é alterado para o valor (2) e o cálculo é realizado (Y = 2). No exemplo 2, a variável X é alterada para W. E no exemplo 3, as variáveis X e W são substituídas por valores e outras variáveis"
   ]
  },
  {
   "cell_type": "markdown",
   "metadata": {},
   "source": [
    "* Exemplo 1: substituição por um valor numérico"
   ]
  },
  {
   "cell_type": "code",
   "execution_count": 86,
   "metadata": {
    "collapsed": false,
    "scrolled": true
   },
   "outputs": [
    {
     "data": {
      "text/plain": [
       "(x,y)"
      ]
     },
     "execution_count": 86,
     "metadata": {},
     "output_type": "execute_result"
    }
   ],
   "source": [
    "using SymPy\n",
    "\n",
    "x,y = Sym(\"x,y\")"
   ]
  },
  {
   "cell_type": "code",
   "execution_count": 87,
   "metadata": {
    "collapsed": false,
    "scrolled": false
   },
   "outputs": [
    {
     "data": {
      "text/latex": [
       "$$2$$"
      ],
      "text/plain": [
       "2"
      ]
     },
     "execution_count": 87,
     "metadata": {},
     "output_type": "execute_result"
    }
   ],
   "source": [
    "# x = 0\n",
    "\n",
    "SymPy.subs(x^2-3*x+2,(x,0))"
   ]
  },
  {
   "cell_type": "code",
   "execution_count": 94,
   "metadata": {
    "collapsed": false,
    "scrolled": true
   },
   "outputs": [
    {
     "ename": "LoadError",
     "evalue": "LoadError: MethodError: `convert` has no method matching convert(::Type{SymPy.Sym}, ::Array{Int64,2})\nThis may have arisen from a call to the constructor SymPy.Sym(...),\nsince type constructors fall back to convert methods.\nClosest candidates are:\n  SymPy.Sym(::Any)\n  SymPy.Sym(::Any...)\n  call{T}(::Type{T}, ::Any)\n  ...\nwhile loading In[94], in expression starting on line 3",
     "output_type": "error",
     "traceback": [
      "LoadError: MethodError: `convert` has no method matching convert(::Type{SymPy.Sym}, ::Array{Int64,2})\nThis may have arisen from a call to the constructor SymPy.Sym(...),\nsince type constructors fall back to convert methods.\nClosest candidates are:\n  SymPy.Sym(::Any)\n  SymPy.Sym(::Any...)\n  call{T}(::Type{T}, ::Any)\n  ...\nwhile loading In[94], in expression starting on line 3",
      "",
      " in subs at /home/juser/.julia/v0.4/SymPy/src/subs.jl:46"
     ]
    }
   ],
   "source": [
    "# O comando subs do julia não substitui por um vetor x = [1, -1, 0]. ERRO!\n",
    "\n",
    "SymPy.subs(x^2 - 3*x + 2,(x,[1 -1 0]))"
   ]
  },
  {
   "cell_type": "markdown",
   "metadata": {},
   "source": [
    "* Exemplo 2: substituição por uma variável"
   ]
  },
  {
   "cell_type": "code",
   "execution_count": 96,
   "metadata": {
    "collapsed": false,
    "scrolled": true
   },
   "outputs": [
    {
     "data": {
      "text/latex": [
       "$$w^{2} - 3 w + 2$$"
      ],
      "text/plain": [
       " 2          \n",
       "w  - 3*w + 2"
      ]
     },
     "execution_count": 96,
     "metadata": {},
     "output_type": "execute_result"
    }
   ],
   "source": [
    "# x por w\n",
    "\n",
    "w = Sym(\"w\")\n",
    "\n",
    "y_w = SymPy.subs(x^2-3*x+2,x,w)"
   ]
  },
  {
   "cell_type": "markdown",
   "metadata": {},
   "source": [
    "* Exemplo 3: Para substituir mais de uma variável:"
   ]
  },
  {
   "cell_type": "code",
   "execution_count": 97,
   "metadata": {
    "collapsed": false
   },
   "outputs": [
    {
     "data": {
      "text/plain": [
       "(4,4)"
      ]
     },
     "execution_count": 97,
     "metadata": {},
     "output_type": "execute_result"
    }
   ],
   "source": [
    "# Substitui x e w por 2 e 1 e efetua o cálculo\n",
    "\n",
    "r = x*w+2\n",
    "\n",
    "SymPy.subs(r,(x,2),(w,1)), SymPy.subs(r,x=>2,w=>1)"
   ]
  },
  {
   "cell_type": "code",
   "execution_count": 98,
   "metadata": {
    "collapsed": false
   },
   "outputs": [
    {
     "data": {
      "text/plain": [
       "(p*q + 2,p*q + 2)"
      ]
     },
     "execution_count": 98,
     "metadata": {},
     "output_type": "execute_result"
    }
   ],
   "source": [
    "# Substitui x e w por p e q e efetua o cálculo\n",
    "\n",
    "p, q = Sym(\"p,q\")\n",
    "\n",
    "SymPy.subs(r,(x,p),(w,q)), SymPy.subs(r,x=>p,w=>q)"
   ]
  },
  {
   "cell_type": "markdown",
   "metadata": {},
   "source": [
    "Resetar o valor das variáveis X e Y"
   ]
  },
  {
   "cell_type": "markdown",
   "metadata": {},
   "source": []
  }
 ],
 "metadata": {
  "kernelspec": {
   "display_name": "Julia 0.4.5",
   "language": "julia",
   "name": "julia-0.4"
  },
  "language_info": {
   "file_extension": ".jl",
   "mimetype": "application/julia",
   "name": "julia",
   "version": "0.4.5"
  }
 },
 "nbformat": 4,
 "nbformat_minor": 0
}
