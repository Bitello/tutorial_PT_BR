{
 "cells": [
  {
   "cell_type": "markdown",
   "metadata": {
    "collapsed": true
   },
   "source": [
    "# EQUAÇÕES, INEQUAÇÕES E FUNÇÕES#"
   ]
  },
  {
   "cell_type": "markdown",
   "metadata": {},
   "source": [
    "De acordo com o dicionario matemático disponível em \"http://www.somatematica.com.br/dicionarioMatematico\" temos que:\n",
    "\n",
    "**Equação:** Expressão algébrica indicada por uma igualdade, onde há valores desconhecidos expressos por letras (incógnitas). Logo, todo conjunto de expressões no qual há uma igualdade cuja(s) incógita(s) satisfaçam a um conjunto limitado de soluções, então temos uma equação. \n",
    "\n",
    "Ex: $x + 2 =0$, $xy - 2x = 2$, $x^2 + y^2 =2^2$.\n",
    "\n",
    "**Inequação:** Desigualdade verificada a determinado(s) valor(es) atribuídos à variável. Uma inequação é uma equação no qual há uma desigualdade do tipo <, >, >=, =< ou #. \n",
    "\n",
    "Ex: $x + 2 > 0,xy - 2x < 2, x^2 + y^2 + 2^2 $.\n",
    "\n",
    "**Função:** É uma correspondência unívoca entre dois conjuntos em que a cada elemento do primeiro conjunto corresponde a um e somente um elemento do segundo. Dessa forma, temos que uma função é uma relação entre das variáveis, sendo uma dependente e outra independente. \n",
    "\n",
    "Ex: $y(x) = x + 2, z = xy - 2x, f(x) = x^2 + y^2$\n"
   ]
  },
  {
   "cell_type": "markdown",
   "metadata": {},
   "source": [
    "###EQUAÇÕES###"
   ]
  },
  {
   "cell_type": "code",
   "execution_count": 1,
   "metadata": {
    "collapsed": false
   },
   "outputs": [
    {
     "data": {
      "text/plain": [
       "2"
      ]
     },
     "execution_count": 1,
     "metadata": {},
     "output_type": "execute_result"
    }
   ],
   "source": [
    "x = 0\n",
    "\n",
    "x^2-3*x+2 "
   ]
  },
  {
   "cell_type": "code",
   "execution_count": 2,
   "metadata": {
    "collapsed": false
   },
   "outputs": [
    {
     "data": {
      "text/plain": [
       "2.23606797749979"
      ]
     },
     "execution_count": 2,
     "metadata": {},
     "output_type": "execute_result"
    }
   ],
   "source": [
    "# Teorema de Pitágoras\n",
    "\n",
    "c = 2; \n",
    "b = 1;\n",
    "a = sqrt(b^2 + c^2)"
   ]
  },
  {
   "cell_type": "markdown",
   "metadata": {},
   "source": [
    "<span style=\"font-weight: bold;\">Cálculo de uma expressão simbolica<br></span>"
   ]
  },
  {
   "cell_type": "code",
   "execution_count": 23,
   "metadata": {
    "collapsed": false
   },
   "outputs": [],
   "source": [
    "using SymPy"
   ]
  },
  {
   "cell_type": "code",
   "execution_count": 24,
   "metadata": {
    "collapsed": false
   },
   "outputs": [
    {
     "data": {
      "text/plain": [
       "9"
      ]
     },
     "execution_count": 24,
     "metadata": {},
     "output_type": "execute_result"
    }
   ],
   "source": [
    "x = 4\n",
    "\n",
    "SymPy.eval(x^2-2*x+1)"
   ]
  },
  {
   "cell_type": "code",
   "execution_count": 25,
   "metadata": {
    "collapsed": false
   },
   "outputs": [
    {
     "data": {
      "text/plain": [
       "16"
      ]
     },
     "execution_count": 25,
     "metadata": {},
     "output_type": "execute_result"
    }
   ],
   "source": [
    "x = 5\n",
    "\n",
    "SymPy.eval(x^2-2*x+1)"
   ]
  },
  {
   "cell_type": "markdown",
   "metadata": {},
   "source": [
    "###INEQUAÇÕES###"
   ]
  },
  {
   "cell_type": "code",
   "execution_count": 28,
   "metadata": {
    "collapsed": false
   },
   "outputs": [
    {
     "data": {
      "text/plain": [
       "(x,y)"
      ]
     },
     "execution_count": 28,
     "metadata": {},
     "output_type": "execute_result"
    }
   ],
   "source": [
    "x,y = Sym(\"x,y\")"
   ]
  },
  {
   "cell_type": "code",
   "execution_count": 39,
   "metadata": {
    "collapsed": false
   },
   "outputs": [],
   "source": [
    "ineq1 = x - 5 >= 5\n",
    "\n",
    "ineq2 = x + y <= 0;"
   ]
  },
  {
   "cell_type": "code",
   "execution_count": null,
   "metadata": {
    "collapsed": false
   },
   "outputs": [],
   "source": []
  },
  {
   "cell_type": "markdown",
   "metadata": {},
   "source": [
    "###FUNÇÕES###\n",
    "**Simbólicas, Genéricas e Anônimas**"
   ]
  },
  {
   "cell_type": "markdown",
   "metadata": {},
   "source": [
    "**FUNÇÕES MATEMÁTICAS SIMBÓLICAS** "
   ]
  },
  {
   "cell_type": "markdown",
   "metadata": {},
   "source": [
    "** Função de uma variável**"
   ]
  },
  {
   "cell_type": "code",
   "execution_count": null,
   "metadata": {
    "collapsed": true
   },
   "outputs": [],
   "source": [
    "using SymPy\n",
    "\n",
    "x = Sym(\"x\")"
   ]
  },
  {
   "cell_type": "code",
   "execution_count": 65,
   "metadata": {
    "collapsed": false
   },
   "outputs": [
    {
     "data": {
      "text/latex": [
       "$$x^{2} + 1$$"
      ],
      "text/plain": [
       " 2    \n",
       "x  + 1"
      ]
     },
     "execution_count": 65,
     "metadata": {},
     "output_type": "execute_result"
    }
   ],
   "source": [
    "f = x^2 + 1"
   ]
  },
  {
   "cell_type": "code",
   "execution_count": 66,
   "metadata": {
    "collapsed": false
   },
   "outputs": [
    {
     "data": {
      "text/latex": [
       "$$x^{2} + 1$$"
      ],
      "text/plain": [
       " 2    \n",
       "x  + 1"
      ]
     },
     "metadata": {},
     "output_type": "display_data"
    }
   ],
   "source": [
    "display(f)"
   ]
  },
  {
   "cell_type": "code",
   "execution_count": 67,
   "metadata": {
    "collapsed": false
   },
   "outputs": [
    {
     "data": {
      "text/plain": [
       "SymPy.Sym"
      ]
     },
     "execution_count": 67,
     "metadata": {},
     "output_type": "execute_result"
    }
   ],
   "source": [
    "typeof(f)"
   ]
  },
  {
   "cell_type": "code",
   "execution_count": 68,
   "metadata": {
    "collapsed": false
   },
   "outputs": [
    {
     "name": "stdout",
     "output_type": "stream",
     "text": [
      "                          Base  27310 KB     Module\n",
      "                       BinDeps    206 KB     Module\n",
      "                    ColorTypes    223 KB     Module\n",
      "                        Colors    554 KB     Module\n",
      "                        Compat    190 KB     Module\n",
      "                         Conda     64 KB     Module\n",
      "                          Core   3290 KB     Module\n",
      "             FixedPointNumbers     33 KB     Module\n",
      "               FixedSizeArrays    130 KB     Module\n",
      "                        IJulia    554 KB     Module\n",
      "                IPythonDisplay     48 KB     Module\n",
      "                          JSON    201 KB     Module\n",
      "                 JuliaBoxUtils   8972 bytes  Module\n",
      "                    MacroTools    162 KB     Module\n",
      "                          Main  36784 KB     Module\n",
      "                        Nettle     42 KB     Module\n",
      "                         Plots   1536 KB     Module\n",
      "                        PyCall    425 KB     Module\n",
      "                      Reexport   3628 bytes  Module\n",
      "                      Requires     32 KB     Module\n",
      "                           SHA     49 KB     Module\n",
      "                         SymPy   2694 KB     Module\n",
      "                     URIParser     93 KB     Module\n",
      "                           ZMQ     82 KB     Module\n",
      "                             f     16 bytes  SymPy.Sym\n",
      "                         fanon    272 bytes  Function\n",
      "                          fanx    294 bytes  Function\n",
      "                          fgen   1437 bytes  Function\n",
      "                         fsimb     78 KB     10001-element Array{Float64,1}\n",
      "                         funan    255 bytes  Function\n",
      "                             t     32 bytes  10001-element FloatRange{Float64}\n",
      "                             w     32 bytes  10001-element FloatRange{Float64}\n",
      "                             x     16 bytes  SymPy.Sym\n"
     ]
    }
   ],
   "source": [
    "# observe a criação das funções f e F\n",
    "\n",
    "whos()"
   ]
  },
  {
   "cell_type": "markdown",
   "metadata": {},
   "source": [
    "Observe que o comando Whos() informa que \"F\" e \"f\" são diferentes. \"F\" é uma função e \"f\" é uma expressão simbólica"
   ]
  },
  {
   "cell_type": "code",
   "execution_count": 69,
   "metadata": {
    "collapsed": false
   },
   "outputs": [
    {
     "data": {
      "text/latex": [
       "$$5$$"
      ],
      "text/plain": [
       "5"
      ]
     },
     "metadata": {},
     "output_type": "display_data"
    },
    {
     "data": {
      "text/latex": [
       "$$1 + \\pi^{2}$$"
      ],
      "text/plain": [
       "      2\n",
       "1 + pi "
      ]
     },
     "metadata": {},
     "output_type": "display_data"
    },
    {
     "data": {
      "text/plain": [
       "10.869604401089358"
      ]
     },
     "metadata": {},
     "output_type": "display_data"
    },
    {
     "data": {
      "text/plain": [
       "10.869604401089358"
      ]
     },
     "metadata": {},
     "output_type": "display_data"
    }
   ],
   "source": [
    "display(f(2))\n",
    "\n",
    "display(f(pi))\n",
    "\n",
    "display(float(f(pi)))\n",
    "\n",
    "display(N(f(pi)))"
   ]
  },
  {
   "cell_type": "code",
   "execution_count": null,
   "metadata": {
    "collapsed": false
   },
   "outputs": [],
   "source": [
    "g = x^3 + 1"
   ]
  },
  {
   "cell_type": "code",
   "execution_count": null,
   "metadata": {
    "collapsed": false
   },
   "outputs": [],
   "source": [
    "g + f"
   ]
  },
  {
   "cell_type": "markdown",
   "metadata": {},
   "source": [
    "** Função de duas variáveis f(x,y)**"
   ]
  },
  {
   "cell_type": "code",
   "execution_count": 2,
   "metadata": {
    "collapsed": false
   },
   "outputs": [
    {
     "ename": "LoadError",
     "evalue": "LoadError: UndefVarError: Sym not defined\nwhile loading In[2], in expression starting on line 1",
     "output_type": "error",
     "traceback": [
      "LoadError: UndefVarError: Sym not defined\nwhile loading In[2], in expression starting on line 1",
      ""
     ]
    }
   ],
   "source": [
    "y = Sym(\"y\")"
   ]
  },
  {
   "cell_type": "code",
   "execution_count": 3,
   "metadata": {
    "collapsed": false,
    "scrolled": true
   },
   "outputs": [
    {
     "ename": "LoadError",
     "evalue": "LoadError: UndefVarError: x not defined\nwhile loading In[3], in expression starting on line 1",
     "output_type": "error",
     "traceback": [
      "LoadError: UndefVarError: x not defined\nwhile loading In[3], in expression starting on line 1",
      ""
     ]
    }
   ],
   "source": [
    "fxy = x*y - x + y"
   ]
  },
  {
   "cell_type": "code",
   "execution_count": 4,
   "metadata": {
    "collapsed": false
   },
   "outputs": [
    {
     "ename": "LoadError",
     "evalue": "LoadError: UndefVarError: fxy not defined\nwhile loading In[4], in expression starting on line 1",
     "output_type": "error",
     "traceback": [
      "LoadError: UndefVarError: fxy not defined\nwhile loading In[4], in expression starting on line 1",
      ""
     ]
    }
   ],
   "source": [
    "fxy(0,1)"
   ]
  },
  {
   "cell_type": "code",
   "execution_count": null,
   "metadata": {
    "collapsed": false
   },
   "outputs": [],
   "source": [
    "gxy = x^3 + y^3 + x*y"
   ]
  },
  {
   "cell_type": "markdown",
   "metadata": {
    "collapsed": true
   },
   "source": [
    "<strong>Calculado uma função a partir de vetor</strong>"
   ]
  },
  {
   "cell_type": "markdown",
   "metadata": {},
   "source": [
    "* Usando o comando map"
   ]
  },
  {
   "cell_type": "code",
   "execution_count": 80,
   "metadata": {
    "collapsed": false
   },
   "outputs": [
    {
     "data": {
      "text/latex": [
       "$$\\frac{\\sqrt{2 x + \\cos^{3}{\\left (x \\right )}}}{\\sin{\\left (x^{2} + 1 \\right )}}$$"
      ],
      "text/plain": [
       "   _______________\n",
       "  /          3    \n",
       "\\/  2*x + cos (x) \n",
       "------------------\n",
       "      / 2    \\    \n",
       "   sin\\x  + 1/    "
      ]
     },
     "execution_count": 80,
     "metadata": {},
     "output_type": "execute_result"
    }
   ],
   "source": [
    "using SymPy\n",
    "\n",
    "x = Sym(\"x\")\n",
    "\n",
    "fsimv = sqrt(2*x + cos(x)^3)/sin(x^2+1)"
   ]
  },
  {
   "cell_type": "code",
   "execution_count": 83,
   "metadata": {
    "collapsed": false,
    "scrolled": true
   },
   "outputs": [
    {
     "name": "stdout",
     "output_type": "stream",
     "text": [
      "  2.846281 seconds (134.62 k allocations: 5.447 MB)\n"
     ]
    }
   ],
   "source": [
    "x = 0:0.01:2*pi\n",
    "\n",
    "@time map(fsimv,x);"
   ]
  },
  {
   "cell_type": "code",
   "execution_count": 84,
   "metadata": {
    "collapsed": false
   },
   "outputs": [
    {
     "data": {
      "text/latex": [
       "$$\\frac{1}{\\sin{\\left (1 \\right )}} + 686.710479177063$$"
      ],
      "text/plain": [
       "  1                      \n",
       "------ + 686.710479177063\n",
       "sin(1)                   "
      ]
     },
     "execution_count": 84,
     "metadata": {},
     "output_type": "execute_result"
    }
   ],
   "source": [
    "# utilizando uma função anonima para calcular os valores de 0 a 2*pi somar os resultados\n",
    "\n",
    "mapreduce(fsimv, +, 0:0.01:2*pi)"
   ]
  },
  {
   "cell_type": "markdown",
   "metadata": {},
   "source": [
    "* Usando o comando Eval"
   ]
  },
  {
   "cell_type": "code",
   "execution_count": 201,
   "metadata": {
    "collapsed": false,
    "scrolled": true
   },
   "outputs": [
    {
     "name": "stdout",
     "output_type": "stream",
     "text": [
      "  0.000208 seconds (24 allocations: 40.516 KB)\n"
     ]
    }
   ],
   "source": [
    "x = 0:0.01:2*pi\n",
    "\n",
    "@time SymPy.eval(sqrt(2.*x + cos(x).^3)./sin(x.^2+1));"
   ]
  },
  {
   "cell_type": "markdown",
   "metadata": {},
   "source": [
    "* Função direta"
   ]
  },
  {
   "cell_type": "code",
   "execution_count": 202,
   "metadata": {
    "collapsed": false,
    "scrolled": true
   },
   "outputs": [
    {
     "name": "stdout",
     "output_type": "stream",
     "text": [
      "  0.000200 seconds (24 allocations: 40.516 KB)\n"
     ]
    }
   ],
   "source": [
    "x = 0:0.01:2*pi\n",
    "\n",
    "@time sqrt(2.*x + cos(x).^3)./sin(x.^2+1);"
   ]
  },
  {
   "cell_type": "markdown",
   "metadata": {},
   "source": []
  },
  {
   "cell_type": "markdown",
   "metadata": {},
   "source": [
    "**FUNÇÕES GENÉRICAS**\n",
    "\n",
    "As funções genéricas não apresentam variáveis simbolicas definidas pelo SymPy. Usam a seguinte sintaxe:\n",
    "**nome_funcao**(variável ou variáveis) = **expressão_da_função**\n",
    "\n",
    "Sendo a \"expressão_da_função\" uma expressão em função de uma ou mais variáveis."
   ]
  },
  {
   "cell_type": "code",
   "execution_count": 54,
   "metadata": {
    "collapsed": false,
    "scrolled": true
   },
   "outputs": [
    {
     "data": {
      "text/plain": [
       "f (generic function with 1 method)"
      ]
     },
     "execution_count": 54,
     "metadata": {},
     "output_type": "execute_result"
    }
   ],
   "source": [
    "# criando a função genérica f(x)\n",
    "\n",
    "f(x) = x^2 + 2*x + 1"
   ]
  },
  {
   "cell_type": "code",
   "execution_count": 55,
   "metadata": {
    "collapsed": false
   },
   "outputs": [
    {
     "data": {
      "text/plain": [
       "g (generic function with 1 method)"
      ]
     },
     "execution_count": 55,
     "metadata": {},
     "output_type": "execute_result"
    }
   ],
   "source": [
    "# criando a função genérica g(x)\n",
    "\n",
    "g(x) = x^3 + 2*x^2 + x + 1"
   ]
  },
  {
   "cell_type": "code",
   "execution_count": 56,
   "metadata": {
    "collapsed": false
   },
   "outputs": [
    {
     "data": {
      "text/plain": [
       "h (generic function with 1 method)"
      ]
     },
     "execution_count": 56,
     "metadata": {},
     "output_type": "execute_result"
    }
   ],
   "source": [
    "# criando a função genérica h(r,s)\n",
    "\n",
    "h(r,s) = r*s + r + s"
   ]
  },
  {
   "cell_type": "code",
   "execution_count": 58,
   "metadata": {
    "collapsed": false,
    "scrolled": true
   },
   "outputs": [
    {
     "data": {
      "text/plain": [
       "(Function,Function,Function)"
      ]
     },
     "execution_count": 58,
     "metadata": {},
     "output_type": "execute_result"
    }
   ],
   "source": [
    "# verificando o tipo de dado da funções criadas: tipo função\n",
    "\n",
    "typeof(f), typeof(g), typeof(h)"
   ]
  },
  {
   "cell_type": "code",
   "execution_count": 61,
   "metadata": {
    "collapsed": false
   },
   "outputs": [
    {
     "name": "stdout",
     "output_type": "stream",
     "text": [
      "                          Base  29013 KB     Module\n",
      "                          Core   5041 KB     Module\n",
      "                      LastMain  35549 KB     Module\n",
      "                          Main   5043 KB     Module\n",
      "                             f    595 bytes  Function\n",
      "                             g    607 bytes  Function\n",
      "                             h    614 bytes  Function\n"
     ]
    }
   ],
   "source": [
    "# verificando o tipo de dado das variáveis criadas\n",
    "# observe que f,g e h são do tipo function\n",
    "\n",
    "whos()"
   ]
  },
  {
   "cell_type": "code",
   "execution_count": 62,
   "metadata": {
    "collapsed": false
   },
   "outputs": [
    {
     "data": {
      "text/plain": [
       "9"
      ]
     },
     "metadata": {},
     "output_type": "display_data"
    },
    {
     "data": {
      "text/plain": [
       "17.152789708268944"
      ]
     },
     "metadata": {},
     "output_type": "display_data"
    },
    {
     "data": {
      "text/plain": [
       "19"
      ]
     },
     "metadata": {},
     "output_type": "display_data"
    },
    {
     "data": {
      "text/plain": [
       "1"
      ]
     },
     "metadata": {},
     "output_type": "display_data"
    },
    {
     "data": {
      "text/plain": [
       "7.283185307179586"
      ]
     },
     "metadata": {},
     "output_type": "display_data"
    }
   ],
   "source": [
    "# testando as funções genéricas criadas passando um valor\n",
    "\n",
    "display(f(2))\n",
    "\n",
    "display(f(pi))\n",
    "\n",
    "display(g(2))\n",
    "\n",
    "display(h(0,1))\n",
    "\n",
    "display(h(1,pi));"
   ]
  },
  {
   "cell_type": "markdown",
   "metadata": {},
   "source": [
    "Obs: Não é possível operar funções genéricas indefinidas, ou seja, sem um valor especificado. Só é possível se x for simbólico definido pelo SymPy. O calculo abaixo ocorrerá erro"
   ]
  },
  {
   "cell_type": "code",
   "execution_count": 63,
   "metadata": {
    "collapsed": false
   },
   "outputs": [
    {
     "ename": "LoadError",
     "evalue": "LoadError: UndefVarError: x not defined\nwhile loading In[63], in expression starting on line 1",
     "output_type": "error",
     "traceback": [
      "LoadError: UndefVarError: x not defined\nwhile loading In[63], in expression starting on line 1",
      ""
     ]
    }
   ],
   "source": [
    "f(x) + g(x), f + g"
   ]
  },
  {
   "cell_type": "code",
   "execution_count": 65,
   "metadata": {
    "collapsed": false
   },
   "outputs": [
    {
     "data": {
      "text/plain": [
       "58"
      ]
     },
     "execution_count": 65,
     "metadata": {},
     "output_type": "execute_result"
    }
   ],
   "source": [
    "# agora um valor foi repassado, então será possível realizar o calculo\n",
    "\n",
    "f(2) + g(3)"
   ]
  },
  {
   "cell_type": "markdown",
   "metadata": {},
   "source": [
    "Exemplo de Função de duas variáveis definida"
   ]
  },
  {
   "cell_type": "code",
   "execution_count": null,
   "metadata": {
    "collapsed": false
   },
   "outputs": [],
   "source": [
    "f(x,y) = 9*x*y - 2*x + y"
   ]
  },
  {
   "cell_type": "code",
   "execution_count": null,
   "metadata": {
    "collapsed": false,
    "scrolled": false
   },
   "outputs": [],
   "source": [
    "f(2,pi)"
   ]
  },
  {
   "cell_type": "markdown",
   "metadata": {},
   "source": [
    "Forma Equivalente ao for usando a função \"map\". A função \"map\" vai cacular o valor de h(x) de 1 a 5."
   ]
  },
  {
   "cell_type": "code",
   "execution_count": null,
   "metadata": {
    "collapsed": false,
    "scrolled": true
   },
   "outputs": [],
   "source": [
    "h(x) = x^2+1\n",
    "\n",
    "map(h, 1:5)"
   ]
  },
  {
   "cell_type": "markdown",
   "metadata": {},
   "source": [
    "Neste outro exemplo, a função \"map\" vai cacular o valor de h(x) de 1 a 5 e somar os resultados"
   ]
  },
  {
   "cell_type": "code",
   "execution_count": null,
   "metadata": {
    "collapsed": false
   },
   "outputs": [],
   "source": [
    "h(x) = x^2+1\n",
    "\n",
    "mapreduce(h, +, 1:5)"
   ]
  },
  {
   "cell_type": "markdown",
   "metadata": {},
   "source": [
    "** Transformando uma string em uma função genérica**"
   ]
  },
  {
   "cell_type": "code",
   "execution_count": 70,
   "metadata": {
    "collapsed": false,
    "scrolled": true
   },
   "outputs": [
    {
     "data": {
      "text/plain": [
       "fsg (generic function with 1 method)"
      ]
     },
     "execution_count": 70,
     "metadata": {},
     "output_type": "execute_result"
    }
   ],
   "source": [
    "@eval fsg(x) = $(parse(\"x^2-2*x-1\"))"
   ]
  },
  {
   "cell_type": "code",
   "execution_count": 72,
   "metadata": {
    "collapsed": false
   },
   "outputs": [
    {
     "data": {
      "text/plain": [
       "-1"
      ]
     },
     "execution_count": 72,
     "metadata": {},
     "output_type": "execute_result"
    }
   ],
   "source": [
    "fsg(0)"
   ]
  },
  {
   "cell_type": "markdown",
   "metadata": {},
   "source": [
    "** Função Genérica do tipo FUNCTION **"
   ]
  },
  {
   "cell_type": "code",
   "execution_count": null,
   "metadata": {
    "collapsed": false
   },
   "outputs": [],
   "source": [
    "\"\"\"\n",
    "Metodo da Bisseccao\n",
    "\n",
    "Calcula uma aproximação para uma raiz da função de f(x)\n",
    "\n",
    "Entre os intervalo [ao,bo] e a tolerencia de erro daddo por tol.\n",
    "\n",
    "ex bissec(\"x^2 - 2*x - 8\",-5,5,0.000001)\n",
    "\"\"\"\n",
    "\n",
    "function bissec(funcao,a,b,tol)    \n",
    "\n",
    "    x = 1\n",
    "    ao = a\n",
    "    bo = b\n",
    "    toll = tol\n",
    "    interacao = 0\n",
    "    println(\"f(x) = \",funcao)\n",
    "    println()\n",
    "    \n",
    "    @eval g(x) = $(parse(funcao)) # transforma a string em uma formula manipulável\n",
    "    \n",
    "    if (g(ao)*g(bo)<0)\n",
    "        \n",
    "        while (abs(bo-ao) > toll)  &&  (interacao<10000000)\n",
    "            x=(ao+bo)/2\n",
    "            interacao = interacao+1\n",
    "            if g(x)*g(ao) > 0\n",
    "                ao=x\n",
    "            else\n",
    "                bo=x\n",
    "            end\n",
    "        end\n",
    "        println(\"Interações: \",interacao)\n",
    "        println(\"Valor da raiz: \",x)\n",
    "        println(\"Valor de f(x)= \",round(g(x),8),\" com erro menor que \",toll)\n",
    "    else\n",
    "        println(\"Não há raízes no intervalo, defina outro intervalo\")\n",
    "    end    \n",
    "end"
   ]
  },
  {
   "cell_type": "code",
   "execution_count": null,
   "metadata": {
    "collapsed": false,
    "scrolled": false
   },
   "outputs": [],
   "source": [
    "@time bissec(\"sin(x)*x^2+cos(x)*x^2+log(x)*x+cos(sin(x))^2\",1,5,0.000000001)"
   ]
  },
  {
   "cell_type": "markdown",
   "metadata": {},
   "source": [
    "O texto de ajuda entre aspas pode ser acessado pelo comando help (?) "
   ]
  },
  {
   "cell_type": "code",
   "execution_count": null,
   "metadata": {
    "collapsed": false
   },
   "outputs": [],
   "source": [
    "? bissec"
   ]
  },
  {
   "cell_type": "markdown",
   "metadata": {},
   "source": [
    "** Importando uma função no formato de arquivo**"
   ]
  },
  {
   "cell_type": "code",
   "execution_count": null,
   "metadata": {
    "collapsed": false,
    "scrolled": true
   },
   "outputs": [],
   "source": [
    "# É interessante salvar o arquivo da função com o mesmo nome da função\n",
    "\n",
    "include(\"fbissec.jl\")"
   ]
  },
  {
   "cell_type": "code",
   "execution_count": null,
   "metadata": {
    "collapsed": false,
    "scrolled": true
   },
   "outputs": [],
   "source": [
    "? fbissec"
   ]
  },
  {
   "cell_type": "code",
   "execution_count": null,
   "metadata": {
    "collapsed": false
   },
   "outputs": [],
   "source": [
    "@time fbissec(\"sin(x)*x^2+cos(x)*x^2+log(x)*x+cos(sin(x))^2\",1,5,0.000000001)"
   ]
  },
  {
   "cell_type": "markdown",
   "metadata": {},
   "source": [
    "<body><strong>Função Fibonacci</strong><br>\n",
    "    <p>A Sequência de Fibonacci consiste em uma sucessão de números inteiros, de\n",
    "      tal forma que, partindo dos dois primeiros números da sequência 0 e 1, os\n",
    "      números posteriores serão obtidos por meio da soma dos seus dois\n",
    "      antecessores. Dessa forma, teremos a sequencia: <br>\n",
    "      <br>\n",
    "      Termo:0, 1, 2, 3, 4, 5, 6, 7 ,&nbsp; 8 ,&nbsp;&nbsp; 9 ,&nbsp; 10,&nbsp;\n",
    "      11,&nbsp; 12 ,&nbsp; 13 ,...<br>\n",
    "      <br>\n",
    "      Valor_:0, 1, 1, 2, 3, 5, 8, 13, 21, 34, 55, 89, 144, 233,...<br>\n",
    "      <br>\n",
    "      A função abaixo utiliza a forma recursiva de Fibonacci para encontrar os\n",
    "      termos da sequencia. A forma recursiva é utilizada em testes de Benchmark\n",
    "      para testar a velocidade de processamento de uma linguagem de programação,\n",
    "      de tal forma que quanto menor o tempo para calcular um termo, melhor o\n",
    "      desempenho da linguagem neste procedimento. <br>\n",
    "      <br>\n",
    "      Comparação com outras linguagens utilizando mesmo algoritmo para encontrar\n",
    "      o 35 termo:</p>\n",
    "    <table style=\"width: 674px; height: 54px;\" border=\"1\">\n",
    "      <tbody>\n",
    "        <tr>\n",
    "          <td style=\"width: 81.697px;\">Julia:</td>\n",
    "          <td style=\"width: 98.067px;\">Octave</td>\n",
    "          <td style=\"width: 125.067px;\">SageMath</td>\n",
    "          <td style=\"width: 99.5px;\">Scilab</td>\n",
    "          <td style=\"width: 175.6px;\">Maxima</td>\n",
    "          <td style=\"width: 170.7px;\">MatLab</td>\n",
    "        </tr>\n",
    "        <tr>\n",
    "          <td><br>\n",
    "          </td>\n",
    "          <td><br>\n",
    "          </td>\n",
    "          <td><br>\n",
    "          </td>\n",
    "          <td><br>\n",
    "          </td>\n",
    "          <td><br>\n",
    "          </td>\n",
    "          <td><br>\n",
    "          </td>\n",
    "        </tr>\n",
    "      </tbody>\n",
    "    </table>\n",
    "  </body>"
   ]
  },
  {
   "cell_type": "code",
   "execution_count": 73,
   "metadata": {
    "collapsed": false
   },
   "outputs": [
    {
     "data": {
      "text/plain": [
       "fiboR (generic function with 1 method)"
      ]
     },
     "execution_count": 73,
     "metadata": {},
     "output_type": "execute_result"
    }
   ],
   "source": [
    "function fiboR(n) \n",
    "    if n < 2 \n",
    "        return n\n",
    "    else\n",
    "        fiboR(n-1) + fiboR(n-2)\n",
    "    end\n",
    "end"
   ]
  },
  {
   "cell_type": "code",
   "execution_count": 74,
   "metadata": {
    "collapsed": false
   },
   "outputs": [
    {
     "name": "stdout",
     "output_type": "stream",
     "text": [
      "  "
     ]
    },
    {
     "data": {
      "text/plain": [
       "9227465"
      ]
     },
     "execution_count": 74,
     "metadata": {},
     "output_type": "execute_result"
    },
    {
     "name": "stdout",
     "output_type": "stream",
     "text": [
      "0.116549 seconds (843 allocations: 47.604 KB)\n"
     ]
    }
   ],
   "source": [
    "@time fiboR(35)"
   ]
  },
  {
   "cell_type": "code",
   "execution_count": null,
   "metadata": {
    "collapsed": false,
    "scrolled": true
   },
   "outputs": [],
   "source": [
    "include(\"ffiboR_JL.jl\")"
   ]
  },
  {
   "cell_type": "code",
   "execution_count": null,
   "metadata": {
    "collapsed": false
   },
   "outputs": [],
   "source": [
    "? ffiboR_JL"
   ]
  },
  {
   "cell_type": "code",
   "execution_count": null,
   "metadata": {
    "collapsed": false,
    "scrolled": false
   },
   "outputs": [],
   "source": [
    "@time ffiboR_JL(40)"
   ]
  },
  {
   "cell_type": "markdown",
   "metadata": {},
   "source": [
    "** Forma \"Julitronica\" de criar IF...Else...End para a função na forma:**  \n",
    "\n",
    "$~\n",
    "f(x) = \\begin{cases}\n",
    "\\cos(x) & x \\geq 0\\\\\n",
    "1 - e^{-1/x^2} & \\text{x < 0}.\n",
    "\\end{cases}\n",
    "~$"
   ]
  },
  {
   "cell_type": "code",
   "execution_count": 77,
   "metadata": {
    "collapsed": false
   },
   "outputs": [
    {
     "data": {
      "text/plain": [
       "g (generic function with 1 method)"
      ]
     },
     "execution_count": 77,
     "metadata": {},
     "output_type": "execute_result"
    }
   ],
   "source": [
    "# função(variável)  = condiçao1 ? comandoA : senao comandoB \n",
    "# Significa que: se condição \"1\" satisfeita, então comandoA, senão comandoB\n",
    "# no código abaixo, temos que:\n",
    "# se x>=0 então imprima o calculo de g = cos(x) = \",cos(x), senão imprima o cálculo de g = exp(-1/x^2) \n",
    "\n",
    "g(x) = x >= 0  ?  print(\"g = cos(x) = \",cos(x)) : print(\"g = exp(-1/x^2) = \",exp(-1/x^2))"
   ]
  },
  {
   "cell_type": "code",
   "execution_count": 79,
   "metadata": {
    "collapsed": false
   },
   "outputs": [
    {
     "name": "stdout",
     "output_type": "stream",
     "text": [
      "g = cos(x) = -0.4161468365471424"
     ]
    }
   ],
   "source": [
    "# passando um valor de x maior que 0\n",
    "\n",
    "g(2)"
   ]
  },
  {
   "cell_type": "code",
   "execution_count": 81,
   "metadata": {
    "collapsed": false
   },
   "outputs": [
    {
     "name": "stdout",
     "output_type": "stream",
     "text": [
      "g = exp(-1/x^2) = 0.36787944117144233"
     ]
    }
   ],
   "source": [
    "# passando um valor de x menor que 0\n",
    "\n",
    "g(-1)"
   ]
  },
  {
   "cell_type": "markdown",
   "metadata": {},
   "source": [
    "** Calculando a função a partir de um vetor **"
   ]
  },
  {
   "cell_type": "code",
   "execution_count": 209,
   "metadata": {
    "collapsed": true
   },
   "outputs": [],
   "source": [
    "workspace()"
   ]
  },
  {
   "cell_type": "code",
   "execution_count": 70,
   "metadata": {
    "collapsed": false
   },
   "outputs": [
    {
     "data": {
      "text/plain": [
       "fgv (generic function with 1 method)"
      ]
     },
     "execution_count": 70,
     "metadata": {},
     "output_type": "execute_result"
    }
   ],
   "source": [
    "x = 0:0.01:2*pi\n",
    "\n",
    "fgv(x) = sqrt(2*x + cos(x)^3)/sin(x^2+1)"
   ]
  },
  {
   "cell_type": "markdown",
   "metadata": {},
   "source": [
    "* Usando o comando map"
   ]
  },
  {
   "cell_type": "code",
   "execution_count": 71,
   "metadata": {
    "collapsed": false
   },
   "outputs": [
    {
     "name": "stdout",
     "output_type": "stream",
     "text": [
      "  0.005193 seconds (2.91 k allocations: 100.006 KB)\n"
     ]
    }
   ],
   "source": [
    "@time map(fgv,x);"
   ]
  },
  {
   "cell_type": "code",
   "execution_count": 78,
   "metadata": {
    "collapsed": false
   },
   "outputs": [
    {
     "data": {
      "text/plain": [
       "687.8988742828413"
      ]
     },
     "execution_count": 78,
     "metadata": {},
     "output_type": "execute_result"
    }
   ],
   "source": [
    "# utilizando uma função anonima para calcular os valores de 0 a 2*pi somar os resultados\n",
    "\n",
    "mapreduce(fgv, +, 0:0.01:2*pi)"
   ]
  },
  {
   "cell_type": "markdown",
   "metadata": {},
   "source": [
    "* Comando eval"
   ]
  },
  {
   "cell_type": "code",
   "execution_count": 76,
   "metadata": {
    "collapsed": false
   },
   "outputs": [
    {
     "name": "stdout",
     "output_type": "stream",
     "text": [
      "  0.004214 seconds (2.96 k allocations: 185.294 KB)\n"
     ]
    }
   ],
   "source": [
    "x = 0:0.01:2*pi\n",
    "fgV(x) = sqrt(2.*x + cos(x).^3)./sin(x.^2+1)\n",
    "\n",
    "@time eval(fgV(x));"
   ]
  },
  {
   "cell_type": "code",
   "execution_count": 73,
   "metadata": {
    "collapsed": false
   },
   "outputs": [
    {
     "name": "stdout",
     "output_type": "stream",
     "text": [
      "  0.006311 seconds (2.96 k allocations: 185.810 KB)\n"
     ]
    }
   ],
   "source": [
    "x = 0:0.01:2*pi\n",
    "fgV(x) = sqrt(2.*x + cos(x).^3)./sin(x.^2+1)\n",
    "\n",
    "@time fgV(x);"
   ]
  },
  {
   "cell_type": "markdown",
   "metadata": {},
   "source": [
    "** FUNÇÕES ANÔNIMAS **\n",
    "\n",
    "São Funções criadas anonimamente, ou seja, sem um nome para a função. Funções anônimas não precisam usar o SymPy ou a forma de função genérica (funcao(variavel) = expressao). São escritas na forma:\n",
    "\n",
    "variavel ->  expressao"
   ]
  },
  {
   "cell_type": "code",
   "execution_count": 13,
   "metadata": {
    "collapsed": false
   },
   "outputs": [
    {
     "data": {
      "text/plain": [
       "(anonymous function)"
      ]
     },
     "execution_count": 13,
     "metadata": {},
     "output_type": "execute_result"
    }
   ],
   "source": [
    "fa = (x -> x^3-2*x^2-1)"
   ]
  },
  {
   "cell_type": "code",
   "execution_count": 14,
   "metadata": {
    "collapsed": false,
    "scrolled": false
   },
   "outputs": [
    {
     "data": {
      "text/plain": [
       "-1"
      ]
     },
     "execution_count": 14,
     "metadata": {},
     "output_type": "execute_result"
    }
   ],
   "source": [
    "fa(0)"
   ]
  },
  {
   "cell_type": "markdown",
   "metadata": {},
   "source": [
    "<strong>Calculando a função a partir de um vetor</strong>"
   ]
  },
  {
   "cell_type": "markdown",
   "metadata": {},
   "source": [
    "* Usando o comando map"
   ]
  },
  {
   "cell_type": "code",
   "execution_count": 86,
   "metadata": {
    "collapsed": false
   },
   "outputs": [
    {
     "data": {
      "text/plain": [
       "(anonymous function)"
      ]
     },
     "execution_count": 86,
     "metadata": {},
     "output_type": "execute_result"
    }
   ],
   "source": [
    "x = 0:0.01:2*pi\n",
    "\n",
    "fanx = (x -> sqrt(2*x + cos(x)^3)/sin(x^2+1))"
   ]
  },
  {
   "cell_type": "code",
   "execution_count": 87,
   "metadata": {
    "collapsed": false
   },
   "outputs": [
    {
     "name": "stdout",
     "output_type": "stream",
     "text": [
      "  0.004017 seconds (6.33 k allocations: 105.780 KB)\n"
     ]
    }
   ],
   "source": [
    "@time map(fanx,x);"
   ]
  },
  {
   "cell_type": "code",
   "execution_count": 88,
   "metadata": {
    "collapsed": false
   },
   "outputs": [
    {
     "data": {
      "text/plain": [
       "687.8988742828413"
      ]
     },
     "execution_count": 88,
     "metadata": {},
     "output_type": "execute_result"
    }
   ],
   "source": [
    "# utilizando uma função anonima para calcular os valores de 0 a 2*pi somar os resultados\n",
    "\n",
    "mapreduce(fanx, +, 0:0.01:2*pi)"
   ]
  },
  {
   "cell_type": "markdown",
   "metadata": {},
   "source": [
    "* Utilizando o Eval"
   ]
  },
  {
   "cell_type": "code",
   "execution_count": 16,
   "metadata": {
    "collapsed": false
   },
   "outputs": [
    {
     "name": "stdout",
     "output_type": "stream",
     "text": [
      "  0.003547 seconds (58 allocations: 42.769 KB)\n"
     ]
    }
   ],
   "source": [
    "funan = x -> sqrt(2.*x + cos(x).^3)./sin(x.^2+1)\n",
    "x = 0:0.01:2*pi\n",
    "\n",
    "@time eval(funan(x));"
   ]
  },
  {
   "cell_type": "code",
   "execution_count": 25,
   "metadata": {
    "collapsed": false
   },
   "outputs": [
    {
     "name": "stdout",
     "output_type": "stream",
     "text": [
      "  0.002817 seconds (36 allocations: 2.711 KB)\n"
     ]
    }
   ],
   "source": [
    "funan = x -> x.^3-2.*x.^2-1\n",
    "x = 0:0.1:1\n",
    "\n",
    "@time funan(x);"
   ]
  },
  {
   "cell_type": "markdown",
   "metadata": {},
   "source": [
    "** QUAL É O MELHOR? FUNÇÃO GENÉRICA, ANÔNIMA OU SIMBÓLICA? **\n",
    "\n",
    "Vamos fazer um benchmark das funções utilizando 3 métodos: map, eval e direto"
   ]
  },
  {
   "cell_type": "markdown",
   "metadata": {},
   "source": [
    "**Usando o comando map**"
   ]
  },
  {
   "cell_type": "code",
   "execution_count": 48,
   "metadata": {
    "collapsed": false
   },
   "outputs": [
    {
     "data": {
      "text/latex": [
       "$$- 2 x^{3} - x^{2} + 2 x + 8$$"
      ],
      "text/plain": [
       "     3    2          \n",
       "- 2*x  - x  + 2*x + 8"
      ]
     },
     "execution_count": 48,
     "metadata": {},
     "output_type": "execute_result"
    }
   ],
   "source": [
    "using SymPy\n",
    "x = Sym(\"x\")\n",
    "\n",
    "fsimb = -2*x^3 - x^2 + 2*x + 8"
   ]
  },
  {
   "cell_type": "code",
   "execution_count": 49,
   "metadata": {
    "collapsed": false
   },
   "outputs": [
    {
     "data": {
      "text/plain": [
       "fgen (generic function with 1 method)"
      ]
     },
     "execution_count": 49,
     "metadata": {},
     "output_type": "execute_result"
    }
   ],
   "source": [
    "fgen(w) = -2*w^3 - w^2 + 2*w + 8"
   ]
  },
  {
   "cell_type": "code",
   "execution_count": 50,
   "metadata": {
    "collapsed": false
   },
   "outputs": [
    {
     "data": {
      "text/plain": [
       "(anonymous function)"
      ]
     },
     "execution_count": 50,
     "metadata": {},
     "output_type": "execute_result"
    }
   ],
   "source": [
    "fanon = (t ->-2*t^3 - t^2 + 2*t + 8)"
   ]
  },
  {
   "cell_type": "code",
   "execution_count": 51,
   "metadata": {
    "collapsed": false,
    "scrolled": true
   },
   "outputs": [
    {
     "data": {
      "text/plain": [
       "(0.0:0.001:10.0,0.0:0.001:10.0,0.0:0.001:10.0)"
      ]
     },
     "execution_count": 51,
     "metadata": {},
     "output_type": "execute_result"
    }
   ],
   "source": [
    "x = w = t = 0:0.001:10\n",
    "\n",
    "x , w , t"
   ]
  },
  {
   "cell_type": "code",
   "execution_count": 55,
   "metadata": {
    "collapsed": false,
    "scrolled": true
   },
   "outputs": [
    {
     "name": "stdout",
     "output_type": "stream",
     "text": [
      " 37.995546 seconds (2.14 M allocations: 86.603 MB, 0.17% gc time)\n"
     ]
    }
   ],
   "source": [
    "# função simbólica. Retire o \";\" para ver os resultados\n",
    "\n",
    "@time map(fsimb,x);"
   ]
  },
  {
   "cell_type": "code",
   "execution_count": 57,
   "metadata": {
    "collapsed": false
   },
   "outputs": [
    {
     "name": "stdout",
     "output_type": "stream",
     "text": [
      "  0.000703 seconds (20.01 k allocations: 390.984 KB)\n"
     ]
    }
   ],
   "source": [
    "# função genérica. Retire o \";\" para ver os resultados\n",
    "\n",
    "@time map(fgen,w);"
   ]
  },
  {
   "cell_type": "code",
   "execution_count": 58,
   "metadata": {
    "collapsed": false,
    "scrolled": true
   },
   "outputs": [
    {
     "name": "stdout",
     "output_type": "stream",
     "text": [
      "  0.006040 seconds (70.02 k allocations: 1.145 MB)\n"
     ]
    }
   ],
   "source": [
    "# função anonima. Retire o \";\" para ver os resultados\n",
    "\n",
    "@time map(fanon,t);"
   ]
  },
  {
   "cell_type": "markdown",
   "metadata": {},
   "source": [
    "Vantagem para a função genérica usando o comando **map**"
   ]
  },
  {
   "cell_type": "markdown",
   "metadata": {},
   "source": [
    "** Usando o comando eval **"
   ]
  },
  {
   "cell_type": "code",
   "execution_count": 42,
   "metadata": {
    "collapsed": true
   },
   "outputs": [],
   "source": [
    "workspace()"
   ]
  },
  {
   "cell_type": "code",
   "execution_count": 29,
   "metadata": {
    "collapsed": false
   },
   "outputs": [],
   "source": [
    "using SymPy\n",
    "x = Sym(\"x\");"
   ]
  },
  {
   "cell_type": "code",
   "execution_count": 60,
   "metadata": {
    "collapsed": false,
    "scrolled": true
   },
   "outputs": [
    {
     "name": "stdout",
     "output_type": "stream",
     "text": [
      "  0.000004 seconds (4 allocations: 160 bytes)\n"
     ]
    }
   ],
   "source": [
    "# função simbólica. Retire o \";\" para ver os resultados\n",
    "\n",
    "fsimb = -2.*x.^3 - x.^2 + 2.*x + 8\n",
    "\n",
    "x = 0:0.001:10\n",
    "\n",
    "@time SymPy.eval(fsimb);"
   ]
  },
  {
   "cell_type": "code",
   "execution_count": 62,
   "metadata": {
    "collapsed": false,
    "scrolled": true
   },
   "outputs": [
    {
     "name": "stdout",
     "output_type": "stream",
     "text": [
      "  0.006428 seconds (1.97 k allocations: 564.841 KB)\n"
     ]
    }
   ],
   "source": [
    "# função genérica. Retire o \";\" para ver os resultados\n",
    "\n",
    "fgen(w) = -2.*w.^3 - w.^2 + 2.*w + 8\n",
    "\n",
    "w = 0:0.001:10\n",
    "\n",
    "@time eval(fgen(w));"
   ]
  },
  {
   "cell_type": "code",
   "execution_count": 63,
   "metadata": {
    "collapsed": false,
    "scrolled": true
   },
   "outputs": [
    {
     "name": "stdout",
     "output_type": "stream",
     "text": [
      "  0.004723 seconds (49 allocations: 471.384 KB)\n"
     ]
    }
   ],
   "source": [
    "# função anonima. Retire o \";\" para ver os resultados\n",
    "\n",
    "fanon = (t ->-2.*t.^3 - t.^2 + 2.*t + 8)\n",
    "\n",
    "t = 0:0.001:10\n",
    "\n",
    "@time eval(fanon(t));"
   ]
  },
  {
   "cell_type": "markdown",
   "metadata": {},
   "source": [
    "Vantagem para a função simbolica usando o eval"
   ]
  },
  {
   "cell_type": "markdown",
   "metadata": {},
   "source": [
    "** Usando o comando direto **"
   ]
  },
  {
   "cell_type": "code",
   "execution_count": 1,
   "metadata": {
    "collapsed": true
   },
   "outputs": [],
   "source": [
    "workspace()"
   ]
  },
  {
   "cell_type": "code",
   "execution_count": 3,
   "metadata": {
    "collapsed": false
   },
   "outputs": [],
   "source": [
    "using SymPy\n",
    "x = Sym(\"x\");"
   ]
  },
  {
   "cell_type": "code",
   "execution_count": 36,
   "metadata": {
    "collapsed": false
   },
   "outputs": [
    {
     "name": "stdout",
     "output_type": "stream",
     "text": [
      "  0.001161 seconds (21 allocations: 469.484 KB)\n"
     ]
    }
   ],
   "source": [
    "# função simbólica. Retire o \";\" para ver os resultados\n",
    "\n",
    "x = 0:0.001:10\n",
    "\n",
    "@time -2.*x.^3 - x.^2 + 2.*x + 8;"
   ]
  },
  {
   "cell_type": "code",
   "execution_count": 48,
   "metadata": {
    "collapsed": false
   },
   "outputs": [
    {
     "name": "stdout",
     "output_type": "stream",
     "text": [
      "  0.004027 seconds (1.97 k allocations: 564.653 KB)\n"
     ]
    }
   ],
   "source": [
    "# função genérica. Retire o \";\" para ver os resultados\n",
    "\n",
    "fgen(w) = -2.*w.^3 - w.^2 + 2.*w + 8\n",
    "\n",
    "w = 0:0.001:10\n",
    "\n",
    "@time fgen(w);"
   ]
  },
  {
   "cell_type": "code",
   "execution_count": 46,
   "metadata": {
    "collapsed": false,
    "scrolled": false
   },
   "outputs": [
    {
     "name": "stdout",
     "output_type": "stream",
     "text": [
      "  0.004196 seconds (49 allocations: 471.384 KB)\n"
     ]
    }
   ],
   "source": [
    "# função anonima. Retire o \";\" para ver os resultados\n",
    "\n",
    "t = 0:0.001:10\n",
    "fan = (t -> -2.*t.^3 - t.^2 + 2.*t + 8)\n",
    "\n",
    "@time fan(t);"
   ]
  },
  {
   "cell_type": "markdown",
   "metadata": {},
   "source": [
    "<span style=\"font-weight: bold;\">Resultados</span><br>\n",
    "    <br>\n",
    "<table style=\"width: 521px;\" border=\"1\">\n",
    "      <tbody>\n",
    "        <tr align=\"left\">\n",
    "          <td><br>\n",
    "          </td>\n",
    "          <td style=\"height: 20px; text-align: center;\"><span style=\"font-weight: bold;\">map<br>\n",
    "            </span></td>\n",
    "          <td style=\"text-align: center;\"><span style=\"font-weight: bold;\">eval<br>\n",
    "            </span></td>\n",
    "          <td style=\"text-align: center;\"><span style=\"font-weight: bold;\">direto<br>\n",
    "            </span></td>\n",
    "        </tr>\n",
    "        <tr align=\"left\">\n",
    "          <td><span style=\"font-weight: bold;\">Simbólica<br>\n",
    "            </span></td>\n",
    "          <td style=\"width: 137.05px;\"> 37.995546</td>\n",
    "          <td style=\"width: 137.8px;\">0.000004</td>\n",
    "          <td style=\"width: 139.05px;\"> 0.001267</td>\n",
    "        </tr>\n",
    "        <tr align=\"left\">\n",
    "          <td style=\"width: 100px;\"><span style=\"font-weight: bold;\">Genérica<br>\n",
    "            </span></td>\n",
    "          <td>0.000703</td>\n",
    "          <td>0.006428</td>\n",
    "          <td>0.006702</td>\n",
    "        </tr>\n",
    "        <tr>\n",
    "          <td style=\"text-align: left;\"><span style=\"font-weight: bold;\">Anônima<br>\n",
    "            </span></td>\n",
    "          <td style=\"text-align: left;\">0.006040</td>\n",
    "          <td style=\"text-align: left;\">0.004723</td>\n",
    "          <td style=\"text-align: left;\">0.004196</td>\n",
    "        </tr>\n",
    "      </tbody>\n",
    "</table>"
   ]
  },
  {
   "cell_type": "markdown",
   "metadata": {},
   "source": []
  },
  {
   "cell_type": "markdown",
   "metadata": {},
   "source": [
    "## CALCULOS DIVERSOS COM EQUAÇÕES, INEQUAÇÕES E FUNÇÕES##"
   ]
  },
  {
   "cell_type": "code",
   "execution_count": null,
   "metadata": {
    "collapsed": false
   },
   "outputs": [],
   "source": [
    "using SymPy\n",
    "\n",
    "x,y = Sym(\"x,y\")"
   ]
  },
  {
   "cell_type": "markdown",
   "metadata": {},
   "source": [
    "** Expansão dos termos de uma expressões **"
   ]
  },
  {
   "cell_type": "code",
   "execution_count": null,
   "metadata": {
    "collapsed": false
   },
   "outputs": [],
   "source": [
    "y = (x-2)^4 * (x-3)^3"
   ]
  },
  {
   "cell_type": "code",
   "execution_count": null,
   "metadata": {
    "collapsed": false
   },
   "outputs": [],
   "source": [
    "SymPy.expand(y)"
   ]
  },
  {
   "cell_type": "markdown",
   "metadata": {},
   "source": [
    "<strong>Fatorização</strong>"
   ]
  },
  {
   "cell_type": "code",
   "execution_count": null,
   "metadata": {
    "collapsed": false
   },
   "outputs": [],
   "source": [
    "y = x^7 - 17*x^6 + 123*x^5 - 491*x^4 + 1168*x^3 - 1656*x^2 + 1296*x - 432"
   ]
  },
  {
   "cell_type": "code",
   "execution_count": null,
   "metadata": {
    "collapsed": false
   },
   "outputs": [],
   "source": [
    "SymPy.factor(y)"
   ]
  },
  {
   "cell_type": "markdown",
   "metadata": {},
   "source": [
    "<strong>Frações parciais</strong>"
   ]
  },
  {
   "cell_type": "code",
   "execution_count": null,
   "metadata": {
    "collapsed": false
   },
   "outputs": [],
   "source": [
    "fx = (2*x^2 +3*x -1) / (x^2 - 3*x + 2)"
   ]
  },
  {
   "cell_type": "code",
   "execution_count": null,
   "metadata": {
    "collapsed": false
   },
   "outputs": [],
   "source": [
    "# fraçõs parciais\n",
    "\n",
    "SymPy.apart(fx)"
   ]
  },
  {
   "cell_type": "markdown",
   "metadata": {},
   "source": [
    "<strong>Simplificação de expressões</strong>"
   ]
  },
  {
   "cell_type": "code",
   "execution_count": null,
   "metadata": {
    "collapsed": false,
    "scrolled": false
   },
   "outputs": [],
   "source": [
    "frac_fx = 13/(x-2) + -4/(x-1) +2"
   ]
  },
  {
   "cell_type": "code",
   "execution_count": null,
   "metadata": {
    "collapsed": false
   },
   "outputs": [],
   "source": [
    "SymPy.simplify(frac_fx)"
   ]
  },
  {
   "cell_type": "markdown",
   "metadata": {},
   "source": []
  },
  {
   "cell_type": "markdown",
   "metadata": {
    "collapsed": true
   },
   "source": [
    "** Substituir variável por um valor ou outra variável**\n",
    "\n",
    "Para substituir o valor de X na equação acima, utilizamos o comando **subs(variável, variável_expressão, variavel/valor)**\n",
    "\n",
    "Observe no exemplo 1, que a expressão de Y continua a mesma, só o valor de X que é alterado para o valor (2) e o cálculo é realizado (Y = 2). No exemplo 2, a variável X é alterada para W. E no exemplo 3, as variáveis X e W são substituídas por valores e outras variáveis"
   ]
  },
  {
   "cell_type": "markdown",
   "metadata": {},
   "source": [
    "* Exemplo 1: substituição por um valor numérico"
   ]
  },
  {
   "cell_type": "code",
   "execution_count": null,
   "metadata": {
    "collapsed": false,
    "scrolled": true
   },
   "outputs": [],
   "source": [
    "using SymPy\n",
    "\n",
    "x,y = Sym(\"x,y\")"
   ]
  },
  {
   "cell_type": "code",
   "execution_count": null,
   "metadata": {
    "collapsed": false,
    "scrolled": false
   },
   "outputs": [],
   "source": [
    "# x = 0\n",
    "\n",
    "SymPy.subs(x^2-3*x+2,(x,0))"
   ]
  },
  {
   "cell_type": "code",
   "execution_count": null,
   "metadata": {
    "collapsed": false,
    "scrolled": true
   },
   "outputs": [],
   "source": [
    "# julia não substitui um vetor x = [1, -1, 0]\n",
    "\n",
    "SymPy.subs(x^2-3*x+2,(x,[1, -1, 0]))"
   ]
  },
  {
   "cell_type": "markdown",
   "metadata": {},
   "source": [
    "* Exemplo 2: substituição por uma variável"
   ]
  },
  {
   "cell_type": "code",
   "execution_count": null,
   "metadata": {
    "collapsed": false,
    "scrolled": true
   },
   "outputs": [],
   "source": [
    "# x = w\n",
    "\n",
    "w = Sym(\"w\")\n",
    "\n",
    "y_w = SymPy.subs(x^2-3*x+2,x,w)"
   ]
  },
  {
   "cell_type": "markdown",
   "metadata": {},
   "source": [
    "* Exemplo 3: Para substituir mais de uma variável:"
   ]
  },
  {
   "cell_type": "code",
   "execution_count": null,
   "metadata": {
    "collapsed": false
   },
   "outputs": [],
   "source": [
    "# Substitui x e w por 2 e 1 e efetua o cálculo\n",
    "\n",
    "r = x*w+2\n",
    "\n",
    "SymPy.subs(r,(x,2),(w,1)), SymPy.subs(r,x=>2,w=>1)"
   ]
  },
  {
   "cell_type": "code",
   "execution_count": null,
   "metadata": {
    "collapsed": false
   },
   "outputs": [],
   "source": [
    "# Substitui x e w por p e q e efetua o cálculo\n",
    "\n",
    "p, q = Sym(\"p,q\")\n",
    "\n",
    "SymPy.subs(r,(x,p),(w,q)), SymPy.subs(r,x=>p,w=>q)"
   ]
  },
  {
   "cell_type": "markdown",
   "metadata": {},
   "source": [
    "Resetar o valor das variáveis X e Y"
   ]
  },
  {
   "cell_type": "markdown",
   "metadata": {},
   "source": []
  }
 ],
 "metadata": {
  "kernelspec": {
   "display_name": "Julia 0.4.5",
   "language": "julia",
   "name": "julia-0.4"
  },
  "language_info": {
   "file_extension": ".jl",
   "mimetype": "application/julia",
   "name": "julia",
   "version": "0.4.5"
  }
 },
 "nbformat": 4,
 "nbformat_minor": 0
}
