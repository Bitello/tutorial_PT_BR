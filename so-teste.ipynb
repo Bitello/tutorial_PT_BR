{
 "cells": [
  {
   "cell_type": "code",
   "execution_count": 1,
   "metadata": {
    "collapsed": false
   },
   "outputs": [
    {
     "data": {
      "text/plain": [
       "(x,y)"
      ]
     },
     "execution_count": 1,
     "metadata": {},
     "output_type": "execute_result"
    },
    {
     "data": {
      "text/plain": [
       "(x,y)"
      ]
     },
     "execution_count": 1,
     "metadata": {},
     "output_type": "execute_result"
    }
   ],
   "source": [
    "using SymPy\n",
    "\n",
    "x,y = Sym(\"x,y\")"
   ]
  },
  {
   "cell_type": "code",
   "execution_count": 6,
   "metadata": {
    "collapsed": false
   },
   "outputs": [
    {
     "data": {
      "text/latex": [
       "$$\\frac{\\left(x - 1\\right)^{30} \\left(\\left(x - 1\\right)^{30} \\left(y + 1\\right)^{30} + 1\\right)^{30}}{\\left(x + \\left(x - 1\\right)^{30} \\left(y + 1\\right)^{30}\\right)^{30}}$$"
      ],
      "text/plain": [
       "                                   30\n",
       "       30 /       30        30    \\  \n",
       "(x - 1)  *\\(x - 1)  *(y + 1)   + 1/  \n",
       "-------------------------------------\n",
       "                              30     \n",
       "     /           30        30\\       \n",
       "     \\x + (x - 1)  *(y + 1)  /       "
      ]
     },
     "execution_count": 6,
     "metadata": {},
     "output_type": "execute_result"
    }
   ],
   "source": [
    "y = ((x -1)*(y +1)/(x+y))^30"
   ]
  },
  {
   "cell_type": "code",
   "execution_count": null,
   "metadata": {
    "collapsed": false
   },
   "outputs": [],
   "source": [
    "s = SymPy.expand(y);"
   ]
  },
  {
   "cell_type": "code",
   "execution_count": 5,
   "metadata": {
    "collapsed": false
   },
   "outputs": [
    {
     "data": {
      "text/latex": [
       "$$\\left(x - 1\\right)^{30} \\left(y + 1\\right)^{30}$$"
      ],
      "text/plain": [
       "       30        30\n",
       "(x - 1)  *(y + 1)  "
      ]
     },
     "execution_count": 5,
     "metadata": {},
     "output_type": "execute_result"
    }
   ],
   "source": [
    "w = SymPy.factor(s)"
   ]
  },
  {
   "cell_type": "code",
   "execution_count": null,
   "metadata": {
    "collapsed": false
   },
   "outputs": [],
   "source": [
    "SymPy.simplify(w)"
   ]
  },
  {
   "cell_type": "code",
   "execution_count": 2,
   "metadata": {
    "collapsed": false
   },
   "outputs": [
    {
     "name": "stdout",
     "output_type": "stream",
     "text": [
      "search: search: fourier_transform inverse_fourier_transform\n",
      "\n",
      "Couldn't find fourier\n",
      "Perhaps you meant horner or fourier_transform inverse_fourier_transform\n",
      "\n",
      "Couldn't find fourier\n",
      "Perhaps you meant horner or "
     ]
    },
    {
     "ename": "LoadError",
     "evalue": "LoadError: \"fourier\" is not defined in module Main\nwhile loading In[2], in expression starting on line 119",
     "output_type": "error",
     "traceback": [
      "LoadError: \"fourier\" is not defined in module Main\nwhile loading In[2], in expression starting on line 119",
      "",
      " in error at ./error.jl:21",
      " in which_module at ./reflection.jl:315",
      " in call at ./docs/bindings.jl:8"
     ]
    },
    {
     "name": "stdout",
     "output_type": "stream",
     "text": [
      "foldr\n"
     ]
    },
    {
     "ename": "LoadError",
     "evalue": "LoadError: \"fourier\" is not defined in module Main\nwhile loading In[2], in expression starting on line 119",
     "output_type": "error",
     "traceback": [
      "LoadError: \"fourier\" is not defined in module Main\nwhile loading In[2], in expression starting on line 119",
      "",
      " in error at ./error.jl:21",
      " in which_module at ./reflection.jl:315",
      " in call at ./docs/bindings.jl:8"
     ]
    },
    {
     "name": "stdout",
     "output_type": "stream",
     "text": [
      "foldr\n"
     ]
    }
   ],
   "source": [
    "?fourier"
   ]
  },
  {
   "cell_type": "code",
   "execution_count": 3,
   "metadata": {
    "collapsed": false
   },
   "outputs": [
    {
     "data": {
      "text/plain": [
       "2x3 Array{Int64,2}:\n",
       " 1  2  3\n",
       " 4  5  6"
      ]
     },
     "execution_count": 3,
     "metadata": {},
     "output_type": "execute_result"
    }
   ],
   "source": [
    "a = [1 2 3; 4 5 6 ]"
   ]
  },
  {
   "cell_type": "code",
   "execution_count": 5,
   "metadata": {
    "collapsed": false
   },
   "outputs": [
    {
     "data": {
      "text/plain": [
       "3-element Array{Int64,1}:\n",
       " 1\n",
       " 2\n",
       " 3"
      ]
     },
     "execution_count": 5,
     "metadata": {},
     "output_type": "execute_result"
    }
   ],
   "source": [
    "b = [1;2;3]"
   ]
  },
  {
   "cell_type": "code",
   "execution_count": 4,
   "metadata": {
    "collapsed": false
   },
   "outputs": [
    {
     "name": "stderr",
     "output_type": "stream",
     "text": [
      "INFO: Cloning cache of Debug from git://github.com/toivoh/Debug.jl.git\n",
      "INFO: Cloning cache of FastAnonymous from git://github.com/timholy/FastAnonymous.jl.git\n",
      "INFO: Installing Debug v0.1.6\n",
      "INFO: Installing FastAnonymous v0.3.2\n",
      "INFO: Package database updated\n"
     ]
    }
   ],
   "source": [
    "Pkg.add(\"FastAnonymous\")"
   ]
  },
  {
   "cell_type": "code",
   "execution_count": null,
   "metadata": {
    "collapsed": true
   },
   "outputs": [],
   "source": []
  },
  {
   "cell_type": "code",
   "execution_count": 18,
   "metadata": {
    "collapsed": false,
    "scrolled": true
   },
   "outputs": [],
   "source": [
    "using FastAnonymous"
   ]
  },
  {
   "cell_type": "code",
   "execution_count": 9,
   "metadata": {
    "collapsed": false
   },
   "outputs": [
    {
     "data": {
      "text/plain": [
       "0.003326478"
      ]
     },
     "execution_count": 9,
     "metadata": {},
     "output_type": "execute_result"
    }
   ],
   "source": [
    "# função anonima. Retire o \";\" para ver os resultados\n",
    "\n",
    "fanon = (t ->-2.*t.^3 - t.^2 + 2.*t + 8)\n",
    "\n",
    "t = 0:0.001:10\n",
    "\n",
    "faet = @elapsed eval(fanon(t))"
   ]
  },
  {
   "cell_type": "code",
   "execution_count": 10,
   "metadata": {
    "collapsed": false
   },
   "outputs": [
    {
     "data": {
      "text/plain": [
       "0.003519994"
      ]
     },
     "execution_count": 10,
     "metadata": {},
     "output_type": "execute_result"
    }
   ],
   "source": [
    "@elapsed map(fanon,t)"
   ]
  },
  {
   "cell_type": "code",
   "execution_count": 11,
   "metadata": {
    "collapsed": false
   },
   "outputs": [
    {
     "data": {
      "text/plain": [
       "sqr (generic function with 1 method)"
      ]
     },
     "execution_count": 11,
     "metadata": {},
     "output_type": "execute_result"
    }
   ],
   "source": [
    "sqr(x) = x^2"
   ]
  },
  {
   "cell_type": "code",
   "execution_count": 15,
   "metadata": {
    "collapsed": false
   },
   "outputs": [
    {
     "name": "stdout",
     "output_type": "stream",
     "text": [
      "  3.404027 seconds (200.00 M allocations: 4.470 GB, 11.56% gc time)\n"
     ]
    }
   ],
   "source": [
    "@time map(sqr,rand(10000,10000));"
   ]
  },
  {
   "cell_type": "code",
   "execution_count": 26,
   "metadata": {
    "collapsed": false
   },
   "outputs": [
    {
     "name": "stdout",
     "output_type": "stream",
     "text": [
      "  0.667699 seconds (15.67 k allocations: 1.491 GB, 6.09% gc time)\n"
     ]
    }
   ],
   "source": [
    "@time map(@anon(w -> w^2),rand(10000,10000));"
   ]
  },
  {
   "cell_type": "code",
   "execution_count": 52,
   "metadata": {
    "collapsed": false
   },
   "outputs": [
    {
     "name": "stdout",
     "output_type": "stream",
     "text": [
      "elapsed time: 0."
     ]
    },
    {
     "data": {
      "text/plain": [
       "0.001095642"
      ]
     },
     "execution_count": 52,
     "metadata": {},
     "output_type": "execute_result"
    },
    {
     "name": "stdout",
     "output_type": "stream",
     "text": [
      "001095642 seconds\n"
     ]
    }
   ],
   "source": [
    "tic()\n",
    "x = 1:0.001:10       \n",
    "y = x.*sin(x);\n",
    "toc()"
   ]
  },
  {
   "cell_type": "code",
   "execution_count": 57,
   "metadata": {
    "collapsed": false
   },
   "outputs": [
    {
     "name": "stdout",
     "output_type": "stream",
     "text": [
      "elapsed time: 0."
     ]
    },
    {
     "data": {
      "text/plain": [
       "0.000819412"
      ]
     },
     "execution_count": 57,
     "metadata": {},
     "output_type": "execute_result"
    },
    {
     "name": "stdout",
     "output_type": "stream",
     "text": [
      "000819412 seconds\n"
     ]
    }
   ],
   "source": [
    "tic()\n",
    "x = 1:0.001:10       \n",
    "z(x) = x.*sin(x)\n",
    "toc()"
   ]
  },
  {
   "cell_type": "code",
   "execution_count": 9,
   "metadata": {
    "collapsed": false
   },
   "outputs": [
    {
     "name": "stdout",
     "output_type": "stream",
     "text": [
      "-4.794621373315692"
     ]
    }
   ],
   "source": [
    "print(z(5))"
   ]
  },
  {
   "cell_type": "code",
   "execution_count": 65,
   "metadata": {
    "collapsed": false
   },
   "outputs": [
    {
     "name": "stdout",
     "output_type": "stream",
     "text": [
      "elapsed time: 0."
     ]
    },
    {
     "data": {
      "text/plain": [
       "0.000830922"
      ]
     },
     "execution_count": 65,
     "metadata": {},
     "output_type": "execute_result"
    },
    {
     "name": "stdout",
     "output_type": "stream",
     "text": [
      "000830922 seconds\n"
     ]
    }
   ],
   "source": [
    "tic()\n",
    "x = linspace(1,10,1000)\n",
    "w(x) = x.*sin(x)\n",
    "\n",
    "\n",
    "toc()"
   ]
  },
  {
   "cell_type": "code",
   "execution_count": 14,
   "metadata": {
    "collapsed": false
   },
   "outputs": [
    {
     "data": {
      "text/plain": [
       "10-element Array{Float64,1}:\n",
       "  0.841471\n",
       "  1.81859 \n",
       "  0.42336 \n",
       " -3.02721 \n",
       " -4.79462 \n",
       " -1.67649 \n",
       "  4.59891 \n",
       "  7.91487 \n",
       "  3.70907 \n",
       " -5.44021 "
      ]
     },
     "execution_count": 14,
     "metadata": {},
     "output_type": "execute_result"
    }
   ],
   "source": [
    "map(w,x)"
   ]
  },
  {
   "cell_type": "code",
   "execution_count": 66,
   "metadata": {
    "collapsed": false
   },
   "outputs": [
    {
     "data": {
      "text/latex": [
       "$$t$$"
      ],
      "text/plain": [
       "t"
      ]
     },
     "execution_count": 66,
     "metadata": {},
     "output_type": "execute_result"
    }
   ],
   "source": [
    "using SymPy\n",
    "t = Sym(\"t\")\n"
   ]
  },
  {
   "cell_type": "code",
   "execution_count": 81,
   "metadata": {
    "collapsed": false
   },
   "outputs": [
    {
     "name": "stdout",
     "output_type": "stream",
     "text": [
      "elapsed time: 0."
     ]
    },
    {
     "data": {
      "text/plain": [
       "0.000828473"
      ]
     },
     "execution_count": 81,
     "metadata": {},
     "output_type": "execute_result"
    },
    {
     "name": "stdout",
     "output_type": "stream",
     "text": [
      "000828473 seconds\n"
     ]
    }
   ],
   "source": [
    "tic()\n",
    "t = 1:0.001:10 \n",
    "r(t) = t.*sin(t)\n",
    "toc()"
   ]
  },
  {
   "cell_type": "code",
   "execution_count": 71,
   "metadata": {
    "collapsed": false
   },
   "outputs": [
    {
     "data": {
      "text/plain": [
       "9001-element Array{Float64,1}:\n",
       "  0.841471\n",
       "  0.842853\n",
       "  0.844235\n",
       "  0.845617\n",
       "  0.847   \n",
       "  0.848383\n",
       "  0.849766\n",
       "  0.851149\n",
       "  0.852533\n",
       "  0.853916\n",
       "  0.8553  \n",
       "  0.856684\n",
       "  0.858069\n",
       "  ⋮       \n",
       " -5.3417  \n",
       " -5.35068 \n",
       " -5.35965 \n",
       " -5.36861 \n",
       " -5.37758 \n",
       " -5.38654 \n",
       " -5.39549 \n",
       " -5.40444 \n",
       " -5.41339 \n",
       " -5.42233 \n",
       " -5.43127 \n",
       " -5.44021 "
      ]
     },
     "execution_count": 71,
     "metadata": {},
     "output_type": "execute_result"
    }
   ],
   "source": [
    "r(t)"
   ]
  },
  {
   "cell_type": "code",
   "execution_count": 79,
   "metadata": {
    "collapsed": false
   },
   "outputs": [
    {
     "name": "stdout",
     "output_type": "stream",
     "text": [
      "elapsed time: 0."
     ]
    },
    {
     "data": {
      "text/plain": [
       "0.000830789"
      ]
     },
     "execution_count": 79,
     "metadata": {},
     "output_type": "execute_result"
    },
    {
     "name": "stdout",
     "output_type": "stream",
     "text": [
      "000830789 seconds\n"
     ]
    }
   ],
   "source": [
    "\n",
    "tic()\n",
    "t = linspace(1,10,1000)\n",
    "r(t) = t.*sin(t)\n",
    "toc()"
   ]
  },
  {
   "cell_type": "code",
   "execution_count": 82,
   "metadata": {
    "collapsed": false
   },
   "outputs": [
    {
     "data": {
      "text/plain": [
       "q (generic function with 1 method)"
      ]
     },
     "execution_count": 82,
     "metadata": {},
     "output_type": "execute_result"
    }
   ],
   "source": [
    "q(t) = sin(t)"
   ]
  },
  {
   "cell_type": "code",
   "execution_count": 95,
   "metadata": {
    "collapsed": false
   },
   "outputs": [
    {
     "data": {
      "text/plain": [
       "(anonymous function)"
      ]
     },
     "execution_count": 95,
     "metadata": {},
     "output_type": "execute_result"
    }
   ],
   "source": [
    "function (e)\n",
    "    e^2 + 2e - 1\n",
    "    return 22\n",
    "end"
   ]
  },
  {
   "cell_type": "code",
   "execution_count": 91,
   "metadata": {
    "collapsed": false
   },
   "outputs": [
    {
     "data": {
      "text/plain": [
       "2"
      ]
     },
     "execution_count": 91,
     "metadata": {},
     "output_type": "execute_result"
    }
   ],
   "source": [
    "(2)"
   ]
  },
  {
   "cell_type": "code",
   "execution_count": 5,
   "metadata": {
    "collapsed": false
   },
   "outputs": [
    {
     "data": {
      "text/plain": [
       "gh (generic function with 1 method)"
      ]
     },
     "execution_count": 5,
     "metadata": {},
     "output_type": "execute_result"
    }
   ],
   "source": [
    "gh(x) = (x>=0) ? x^2 : -x\n"
   ]
  },
  {
   "cell_type": "code",
   "execution_count": 8,
   "metadata": {
    "collapsed": false
   },
   "outputs": [
    {
     "data": {
      "text/plain": [
       "64"
      ]
     },
     "execution_count": 8,
     "metadata": {},
     "output_type": "execute_result"
    }
   ],
   "source": [
    "gh(8)"
   ]
  },
  {
   "cell_type": "code",
   "execution_count": 9,
   "metadata": {
    "collapsed": false
   },
   "outputs": [
    {
     "name": "stdout",
     "output_type": "stream",
     "text": [
      "search: "
     ]
    },
    {
     "data": {
      "text/latex": [
       "No documentation found.\n",
       "\\texttt{gh} is a generic \\texttt{Function}.\n",
       "\\begin{verbatim}\n",
       "# 1 method for generic function \"gh\":\n",
       "gh(x) at In[5]:1\n",
       "\\end{verbatim}\n"
      ],
      "text/markdown": [
       "No documentation found.\n",
       "\n",
       "`gh` is a generic `Function`.\n",
       "\n",
       "```julia\n",
       "# 1 method for generic function \"gh\":\n",
       "gh(x) at In[5]:1\n",
       "```\n"
      ],
      "text/plain": [
       "No documentation found.\n",
       "\n",
       "`gh` is a generic `Function`.\n",
       "\n",
       "```julia\n",
       "# 1 method for generic function \"gh\":\n",
       "gh(x) at In[5]:1\n",
       "```\n"
      ]
     },
     "execution_count": 9,
     "metadata": {},
     "output_type": "execute_result"
    },
    {
     "name": "stdout",
     "output_type": "stream",
     "text": [
      "gh length gethostname graphemes isgraph is_assigned_char beginswith\n",
      "\n"
     ]
    }
   ],
   "source": [
    "?gh"
   ]
  },
  {
   "cell_type": "code",
   "execution_count": 2,
   "metadata": {
    "collapsed": false
   },
   "outputs": [
    {
     "data": {
      "text/plain": [
       "Rn (generic function with 1 method)"
      ]
     },
     "execution_count": 2,
     "metadata": {},
     "output_type": "execute_result"
    }
   ],
   "source": [
    "function Rn(f, n) # Monte Carlo integration of f(x,y)\n",
    "res=0.0;\n",
    "for i=1:n\n",
    "res += f(rand(), rand());\n",
    "end\n",
    "return res/n;\n",
    "end\n",
    "# define the function using the ternary operator\n"
   ]
  },
  {
   "cell_type": "code",
   "execution_count": 7,
   "metadata": {
    "collapsed": true
   },
   "outputs": [],
   "source": [
    "f(x,y) = (x <= 1.0)? 4.0:0.0;"
   ]
  },
  {
   "cell_type": "code",
   "execution_count": 12,
   "metadata": {
    "collapsed": false
   },
   "outputs": [
    {
     "data": {
      "text/plain": [
       "g (generic function with 1 method)"
      ]
     },
     "execution_count": 12,
     "metadata": {},
     "output_type": "execute_result"
    }
   ],
   "source": [
    "g(x,y) = x"
   ]
  },
  {
   "cell_type": "code",
   "execution_count": 13,
   "metadata": {
    "collapsed": false
   },
   "outputs": [
    {
     "data": {
      "text/plain": [
       "0.3299754557400843"
      ]
     },
     "execution_count": 13,
     "metadata": {},
     "output_type": "execute_result"
    }
   ],
   "source": [
    "Rn(g, 10) # run the integral with 10 points,\n"
   ]
  },
  {
   "cell_type": "code",
   "execution_count": 1,
   "metadata": {
    "collapsed": false,
    "scrolled": true
   },
   "outputs": [
    {
     "name": "stderr",
     "output_type": "stream",
     "text": [
      "\n",
      "WARNING: deprecated syntax \"AbstractVecOrMat{T} (\" at /home/juser/.julia/v0.4/Winston/src/Winston.jl:96.\n",
      "Use \"AbstractVecOrMat{T}(\" instead.\n",
      "WARNING: requiring \"Dates\" in module \"Winston\" did not define a corresponding module.\n",
      "WARNING: module Winston should explicitly import * from Base\n"
     ]
    }
   ],
   "source": [
    "using Winston"
   ]
  },
  {
   "cell_type": "code",
   "execution_count": 51,
   "metadata": {
    "collapsed": false
   },
   "outputs": [
    {
     "ename": "LoadError",
     "evalue": "LoadError: TypeError: anonymous: in typeassert, expected Symbol, got Int64\nwhile loading In[51], in expression starting on line 1",
     "output_type": "error",
     "traceback": [
      "LoadError: TypeError: anonymous: in typeassert, expected Symbol, got Int64\nwhile loading In[51], in expression starting on line 1",
      "",
      " in anonymous at no file"
     ]
    }
   ],
   "source": [
    "x = collect(1:10;1:10);"
   ]
  },
  {
   "cell_type": "code",
   "execution_count": 74,
   "metadata": {
    "collapsed": false,
    "scrolled": true
   },
   "outputs": [
    {
     "data": {
      "text/plain": [
       "bernstein (generic function with 1 method)"
      ]
     },
     "execution_count": 74,
     "metadata": {},
     "output_type": "execute_result"
    }
   ],
   "source": [
    "function bernstein(x,n)\n",
    "    x = x[:]\n",
    "    B = zeros(length(x),n+1)\n",
    "    B[:,1] = 1\n",
    "    for k = collect(2:n+1)\n",
    "        B[:,k] = x.*B[:,k-1]\n",
    "        for j = collect(length(k)-1:-1:2)\n",
    "            B[:,j] = x.*B[:,j-1] + [1-x].*B[:,j]\n",
    "        end\n",
    "        B[:,1] = (1-x).*B[:,1]\n",
    "    end\n",
    "    return B\n",
    "end"
   ]
  },
  {
   "cell_type": "code",
   "execution_count": 69,
   "metadata": {
    "collapsed": false
   },
   "outputs": [
    {
     "ename": "LoadError",
     "evalue": "LoadError: TypeError: anonymous: in typeassert, expected Symbol, got Int64\nwhile loading In[69], in expression starting on line 1",
     "output_type": "error",
     "traceback": [
      "LoadError: TypeError: anonymous: in typeassert, expected Symbol, got Int64\nwhile loading In[69], in expression starting on line 1",
      "",
      " in anonymous at no file"
     ]
    }
   ],
   "source": [
    "n = collect(1:12 ; 11:-1:2)"
   ]
  },
  {
   "cell_type": "code",
   "execution_count": 133,
   "metadata": {
    "collapsed": false
   },
   "outputs": [
    {
     "data": {
      "image/png": "[encoded data removed]",
      "text/plain": [
       "Winston.FramedPlot(...)"
      ]
     },
     "execution_count": 133,
     "metadata": {},
     "output_type": "execute_result"
    }
   ],
   "source": [
    "Winston.plot(x,bernstein(x,12))\n"
   ]
  },
  {
   "cell_type": "code",
   "execution_count": 152,
   "metadata": {
    "collapsed": false
   },
   "outputs": [],
   "source": []
  },
  {
   "cell_type": "code",
   "execution_count": 157,
   "metadata": {
    "collapsed": false
   },
   "outputs": [],
   "source": [
    "b = bernstein(x,0);"
   ]
  },
  {
   "cell_type": "code",
   "execution_count": 189,
   "metadata": {
    "collapsed": false,
    "scrolled": false
   },
   "outputs": [
    {
     "data": {
      "text/plain": [
       "plotG (generic function with 1 method)"
      ]
     },
     "execution_count": 189,
     "metadata": {},
     "output_type": "execute_result"
    }
   ],
   "source": []
  },
  {
   "cell_type": "code",
   "execution_count": 195,
   "metadata": {
    "collapsed": false
   },
   "outputs": [
    {
     "data": {
      "image/png": "[encoded data removed]",
      "text/plain": [
       "Winston.FramedPlot(...)"
      ]
     },
     "metadata": {},
     "output_type": "display_data"
    },
    {
     "data": {
      "text/plain": [
       "false"
      ]
     },
     "execution_count": 195,
     "metadata": {},
     "output_type": "execute_result"
    }
   ],
   "source": []
  },
  {
   "cell_type": "code",
   "execution_count": 82,
   "metadata": {
    "collapsed": false
   },
   "outputs": [
    {
     "data": {
      "image/png": "[encoded data removed]",
      "text/plain": [
       "Winston.FramedPlot(...)"
      ]
     },
     "execution_count": 82,
     "metadata": {},
     "output_type": "execute_result"
    }
   ],
   "source": [
    "Winston.plot(x,bernstein(x,5))  "
   ]
  },
  {
   "cell_type": "code",
   "execution_count": 187,
   "metadata": {
    "collapsed": false
   },
   "outputs": [
    {
     "data": {
      "text/plain": [
       "100x6 Array{Complex{Float64},2}:\n",
       " 0.0+0.0im  0.0+0.0im  0.0+0.0im  0.0+0.0im  0.0+0.0im  0.0+0.0im\n",
       " 0.0+0.0im  0.0+0.0im  0.0+0.0im  0.0+0.0im  0.0+0.0im  0.0+0.0im\n",
       " 0.0+0.0im  0.0+0.0im  0.0+0.0im  0.0+0.0im  0.0+0.0im  0.0+0.0im\n",
       " 0.0+0.0im  0.0+0.0im  0.0+0.0im  0.0+0.0im  0.0+0.0im  0.0+0.0im\n",
       " 0.0+0.0im  0.0+0.0im  0.0+0.0im  0.0+0.0im  0.0+0.0im  0.0+0.0im\n",
       " 0.0+0.0im  0.0+0.0im  0.0+0.0im  0.0+0.0im  0.0+0.0im  0.0+0.0im\n",
       " 0.0+0.0im  0.0+0.0im  0.0+0.0im  0.0+0.0im  0.0+0.0im  0.0+0.0im\n",
       " 0.0+0.0im  0.0+0.0im  0.0+0.0im  0.0+0.0im  0.0+0.0im  0.0+0.0im\n",
       " 0.0+0.0im  0.0+0.0im  0.0+0.0im  0.0+0.0im  0.0+0.0im  0.0+0.0im\n",
       " 0.0+0.0im  0.0+0.0im  0.0+0.0im  0.0+0.0im  0.0+0.0im  0.0+0.0im\n",
       " 0.0+0.0im  0.0+0.0im  0.0+0.0im  0.0+0.0im  0.0+0.0im  0.0+0.0im\n",
       " 0.0+0.0im  0.0+0.0im  0.0+0.0im  0.0+0.0im  0.0+0.0im  0.0+0.0im\n",
       " 0.0+0.0im  0.0+0.0im  0.0+0.0im  0.0+0.0im  0.0+0.0im  0.0+0.0im\n",
       "    ⋮                                                      ⋮     \n",
       " 0.0+0.0im  0.0+0.0im  0.0+0.0im  0.0+0.0im  0.0+0.0im  0.0+0.0im\n",
       " 0.0+0.0im  0.0+0.0im  0.0+0.0im  0.0+0.0im  0.0+0.0im  0.0+0.0im\n",
       " 0.0+0.0im  0.0+0.0im  0.0+0.0im  0.0+0.0im  0.0+0.0im  0.0+0.0im\n",
       " 0.0+0.0im  0.0+0.0im  0.0+0.0im  0.0+0.0im  0.0+0.0im  0.0+0.0im\n",
       " 0.0+0.0im  0.0+0.0im  0.0+0.0im  0.0+0.0im  0.0+0.0im  0.0+0.0im\n",
       " 0.0+0.0im  0.0+0.0im  0.0+0.0im  0.0+0.0im  0.0+0.0im  0.0+0.0im\n",
       " 0.0+0.0im  0.0+0.0im  0.0+0.0im  0.0+0.0im  0.0+0.0im  0.0+0.0im\n",
       " 0.0+0.0im  0.0+0.0im  0.0+0.0im  0.0+0.0im  0.0+0.0im  0.0+0.0im\n",
       " 0.0+0.0im  0.0+0.0im  0.0+0.0im  0.0+0.0im  0.0+0.0im  0.0+0.0im\n",
       " 0.0+0.0im  0.0+0.0im  0.0+0.0im  0.0+0.0im  0.0+0.0im  0.0+0.0im\n",
       " 0.0+0.0im  0.0+0.0im  0.0+0.0im  0.0+0.0im  0.0+0.0im  0.0+0.0im\n",
       " 0.0+0.0im  0.0+0.0im  0.0+0.0im  0.0+0.0im  0.0+0.0im  0.0+0.0im"
      ]
     },
     "execution_count": 187,
     "metadata": {},
     "output_type": "execute_result"
    }
   ],
   "source": [
    "fft(B)"
   ]
  },
  {
   "cell_type": "code",
   "execution_count": 14,
   "metadata": {
    "collapsed": false
   },
   "outputs": [
    {
     "data": {
      "text/plain": [
       "fftL (generic function with 1 method)"
      ]
     },
     "execution_count": 14,
     "metadata": {},
     "output_type": "execute_result"
    }
   ],
   "source": [
    "function fftL(n)\n",
    "    Nrows=1000;\n",
    "    Ncols=1000;\n",
    "    A=complex(rand(Nrows,Ncols),rand(Nrows,Ncols));\n",
    "\n",
    "    \n",
    "        A=fft(A,512.0);\n",
    "   \n",
    "end"
   ]
  },
  {
   "cell_type": "code",
   "execution_count": 15,
   "metadata": {
    "collapsed": false
   },
   "outputs": [
    {
     "ename": "LoadError",
     "evalue": "LoadError: BoundsError: attempt to access 2-element Array{Int64,1}:\n 1000\n 1000\n  at index [512.0]\nwhile loading In[15], in expression starting on line 155",
     "output_type": "error",
     "traceback": [
      "LoadError: BoundsError: attempt to access 2-element Array{Int64,1}:\n 1000\n 1000\n  at index [512.0]\nwhile loading In[15], in expression starting on line 155",
      "",
      " in throw_boundserror at abstractarray.jl:156",
      " in getindex at abstractarray.jl:488",
      " in dims_howmany at fft/FFTW.jl:419",
      " in call at fft/FFTW.jl:464",
      " in fft at dft.jl:37",
      " in fftL at In[14]:7"
     ]
    }
   ],
   "source": [
    "@time fftL(200000);"
   ]
  },
  {
   "cell_type": "code",
   "execution_count": null,
   "metadata": {
    "collapsed": false
   },
   "outputs": [],
   "source": []
  },
  {
   "cell_type": "code",
   "execution_count": 10,
   "metadata": {
    "collapsed": false
   },
   "outputs": [
    {
     "data": {
      "text/plain": [
       "(1001,501)"
      ]
     },
     "execution_count": 10,
     "metadata": {},
     "output_type": "execute_result"
    }
   ],
   "source": [
    "size(A)"
   ]
  },
  {
   "cell_type": "code",
   "execution_count": 7,
   "metadata": {
    "collapsed": false
   },
   "outputs": [
    {
     "data": {
      "text/plain": [
       "200"
      ]
     },
     "execution_count": 7,
     "metadata": {},
     "output_type": "execute_result"
    }
   ],
   "source": [
    "length(x)"
   ]
  },
  {
   "cell_type": "code",
   "execution_count": 1,
   "metadata": {
    "collapsed": false
   },
   "outputs": [
    {
     "data": {
      "text/plain": [
       "plotW (generic function with 1 method)"
      ]
     },
     "execution_count": 1,
     "metadata": {},
     "output_type": "execute_result"
    }
   ],
   "source": [
    "function bernstein(x,n)\n",
    "    B = zeros(length(x),n+1)\n",
    "    B[:,1] = 1.0\n",
    "    for k = 2:n+1\n",
    "        B[:,k] = x.*B[:,k-1]\n",
    "        for j = k-1:-1:2\n",
    "            B[:,j] = x.*B[:,j-1] + (1-x).*B[:,j]\n",
    "        end\n",
    "        B[:,1] = (1-x).*B[:,1]\n",
    "    end\n",
    "    return B\n",
    "end\n",
    "\n",
    "function plotW(n)\n",
    "    x = 0:1/100:1\n",
    "    A = 0        \n",
    "        for grau = 1:n        \n",
    "          A =  ((Winston.plot(x,bernstein(x,grau))));\n",
    "          Winston.hold(true)         \n",
    "         end\n",
    "    \n",
    "    #display(A)\n",
    "    Winston.hold(false)\n",
    "end"
   ]
  },
  {
   "cell_type": "code",
   "execution_count": 2,
   "metadata": {
    "collapsed": false
   },
   "outputs": [
    {
     "name": "stdout",
     "output_type": "stream",
     "text": [
      " 12.591328 seconds (931.13 k allocations: 18.660 GB, 5.27% gc time)\n"
     ]
    }
   ],
   "source": [
    "@time bernstein(1:0.001:100,100);"
   ]
  },
  {
   "cell_type": "code",
   "execution_count": 38,
   "metadata": {
    "collapsed": false
   },
   "outputs": [
    {
     "data": {
      "text/plain": [
       "bernstein_vandermonde (generic function with 1 method)"
      ]
     },
     "execution_count": 38,
     "metadata": {},
     "output_type": "execute_result"
    }
   ],
   "source": [
    "function bernstein_vandermonde( n )\n",
    "\n",
    "  if n == 1\n",
    "    v = ones( 1, 1 );\n",
    "    return v\n",
    "  end\n",
    "\n",
    "  v = zeros( n, n );\n",
    "  x = linspace( 0, 1, n );\n",
    "  for i = 1:n\n",
    "        println(\"entra no loop\")\n",
    "        v[i,1:n] = bernstein_poly_01(n - 1, x[i])\n",
    "  end\n",
    "\n",
    "  return v\n",
    "    \n",
    "end"
   ]
  },
  {
   "cell_type": "code",
   "execution_count": 51,
   "metadata": {
    "collapsed": false
   },
   "outputs": [
    {
     "data": {
      "text/plain": [
       "bernstein_poly_01 (generic function with 1 method)"
      ]
     },
     "execution_count": 51,
     "metadata": {},
     "output_type": "execute_result"
    }
   ],
   "source": [
    "function bernstein_poly_01( n, x )\n",
    "    bern = ones(n+1)\n",
    "    if n == 0\n",
    "        bern[1] = 1\n",
    "                \n",
    "        elseif 0 < n \n",
    "        bern[1] = 1 -x\n",
    "        bern[2] = x\n",
    "        \n",
    "            for i = 2:n+1\n",
    "                println(\"entra no seg loop \",i)\n",
    "                bern[i] = x*bern[i];\n",
    "            \n",
    "                for j = i-1:-1: 1\n",
    "                    bern[j] = x*bern[j] + (1 - x)*bern[j+1]\n",
    "                end\n",
    "            \n",
    "                bern[1] = (1 - x)*bern[1]\n",
    "            end\n",
    "        \n",
    "    end \n",
    "    return bern\n",
    "end"
   ]
  },
  {
   "cell_type": "code",
   "execution_count": 52,
   "metadata": {
    "collapsed": false
   },
   "outputs": [
    {
     "name": "stdout",
     "output_type": "stream",
     "text": [
      "entra no loop\n"
     ]
    },
    {
     "ename": "LoadError",
     "evalue": "LoadError: BoundsError: attempt to access 10-element Array{Float64,1}:\n 1.0\n 0.0\n 0.0\n 0.0\n 0.0\n 0.0\n 0.0\n 0.0\n 0.0\n 0.0\n  at index [11]\nwhile loading In[52], in expression starting on line 1",
     "output_type": "error",
     "traceback": [
      "LoadError: BoundsError: attempt to access 10-element Array{Float64,1}:\n 1.0\n 0.0\n 0.0\n 0.0\n 0.0\n 0.0\n 0.0\n 0.0\n 0.0\n 0.0\n  at index [11]\nwhile loading In[52], in expression starting on line 1",
      "",
      " in bernstein_poly_01 at In[39]:12",
      " in bernstein_vandermonde at In[38]:12"
     ]
    },
    {
     "name": "stdout",
     "output_type": "stream",
     "text": [
      "entra no seg loop 2\n",
      "entra no seg loop 3\n",
      "entra no seg loop 4\n",
      "entra no seg loop 5\n",
      "entra no seg loop 6\n",
      "entra no seg loop 7\n",
      "entra no seg loop 8\n",
      "entra no seg loop 9\n",
      "entra no seg loop 10\n"
     ]
    }
   ],
   "source": [
    "bernstein_vandermonde(10)"
   ]
  },
  {
   "cell_type": "code",
   "execution_count": 155,
   "metadata": {
    "collapsed": false
   },
   "outputs": [
    {
     "name": "stdout",
     "output_type": "stream",
     "text": [
      "entra no seg loop 2\n",
      "entra no seg loop 3\n",
      "entra no seg loop 4\n",
      "entra no seg loop 5\n"
     ]
    }
   ],
   "source": [
    "for i = 2:5\n",
    "            println(\"entra no seg loop \",i)\n",
    "               \n",
    "end"
   ]
  },
  {
   "cell_type": "code",
   "execution_count": 37,
   "metadata": {
    "collapsed": false
   },
   "outputs": [
    {
     "data": {
      "text/plain": [
       "1x5 Array{Float64,2}:\n",
       " 1.0  1.0  1.0  1.0  1.0"
      ]
     },
     "execution_count": 37,
     "metadata": {},
     "output_type": "execute_result"
    }
   ],
   "source": [
    "v[1,1:5]"
   ]
  },
  {
   "cell_type": "code",
   "execution_count": 25,
   "metadata": {
    "collapsed": false
   },
   "outputs": [
    {
     "data": {
      "text/plain": [
       "algLin_J (generic function with 1 method)"
      ]
     },
     "execution_count": 25,
     "metadata": {},
     "output_type": "execute_result"
    }
   ],
   "source": [
    "function algLin_J(n)\n",
    "\n",
    "for i = 2:n\n",
    "\n",
    "    A = complex(rand(i,i));\n",
    "    B = rand(i,i);\n",
    "    \n",
    "    A+B;\n",
    "    \n",
    "    trace(A);\n",
    "    trace(B);\n",
    "\n",
    "    A';\n",
    "    B';\n",
    "    sum(A);\n",
    "    sum(B);\n",
    "\n",
    "    norm(A);\n",
    "    norm(B);\n",
    "\n",
    "    V,D = eig(A);\n",
    "    V,D = eig(B);\n",
    "    \n",
    "    \n",
    "    A*B;\n",
    "    A\\B;\n",
    "    \n",
    "    A.*B;\n",
    "    B.*A;\n",
    "\n",
    "\n",
    "end\n",
    "\n",
    "end\n",
    "\n"
   ]
  },
  {
   "cell_type": "code",
   "execution_count": 33,
   "metadata": {
    "collapsed": false
   },
   "outputs": [
    {
     "data": {
      "text/plain": [
       "algLin_JL (generic function with 1 method)"
      ]
     },
     "execution_count": 33,
     "metadata": {},
     "output_type": "execute_result"
    }
   ],
   "source": [
    "function algLin_JL(n)\n",
    "\n",
    "for i = 2:n\n",
    "\n",
    "    A = complex(rand(i,i));\n",
    "    B = rand(i,i);\n",
    "    \n",
    "    A+B;\n",
    "    \n",
    "           \n",
    "    trace(A);\n",
    "    trace(B);\n",
    "\n",
    "    A';\n",
    "    B';\n",
    "    sum(A);\n",
    "    sum(B);\n",
    "\n",
    "    norm(A);\n",
    "    norm(B);\n",
    "\n",
    "    V,D = eig(A);\n",
    "    V,D = eig(B);\n",
    "    \n",
    "    \n",
    "    A*B;\n",
    "    A\\B;\n",
    "    \n",
    "    La,Ua,Pa = lu(A);\n",
    "    Lb,Ub,Pb = lu(B);\n",
    "    \n",
    "        \n",
    "    Q,R = qr(A);\n",
    "    Q,R = qr(B);\n",
    "    \n",
    "    A.*B;\n",
    "    B.*A;\n",
    "\n",
    "\n",
    "end\n",
    "\n",
    "end\n",
    "\n"
   ]
  },
  {
   "cell_type": "code",
   "execution_count": 26,
   "metadata": {
    "collapsed": false
   },
   "outputs": [],
   "source": [
    "algLin_J(10)"
   ]
  },
  {
   "cell_type": "code",
   "execution_count": 53,
   "metadata": {
    "collapsed": false
   },
   "outputs": [
    {
     "ename": "LoadError",
     "evalue": "LoadError: InterruptException:\nwhile loading In[53], in expression starting on line 179",
     "output_type": "error",
     "traceback": [
      "LoadError: InterruptException:\nwhile loading In[53], in expression starting on line 179",
      "",
      " in geevx! at linalg/lapack.jl:1866",
      " in eigfact! at linalg/eigen.jl:53",
      " in eigfact at linalg/eigen.jl:57",
      " in eig at linalg/eigen.jl:66",
      " in algLin_J at In[25]:21"
     ]
    }
   ],
   "source": [
    "@elapsed algLin_J(100)"
   ]
  },
  {
   "cell_type": "code",
   "execution_count": 54,
   "metadata": {
    "collapsed": false
   },
   "outputs": [
    {
     "data": {
      "text/plain": [
       "64.113530568"
      ]
     },
     "execution_count": 54,
     "metadata": {},
     "output_type": "execute_result"
    }
   ],
   "source": [
    "@elapsed algLin_JL(100)"
   ]
  },
  {
   "cell_type": "code",
   "execution_count": 35,
   "metadata": {
    "collapsed": false
   },
   "outputs": [
    {
     "data": {
      "text/plain": [
       "81.136378568"
      ]
     },
     "execution_count": 35,
     "metadata": {},
     "output_type": "execute_result"
    }
   ],
   "source": [
    "@elapsed algLin_JL(200)"
   ]
  },
  {
   "cell_type": "code",
   "execution_count": null,
   "metadata": {
    "collapsed": true
   },
   "outputs": [],
   "source": []
  }
 ],
 "metadata": {
  "kernelspec": {
   "display_name": "Julia 0.4.5",
   "language": "julia",
   "name": "julia-0.4"
  },
  "language_info": {
   "file_extension": ".jl",
   "mimetype": "application/julia",
   "name": "julia",
   "version": "0.4.5"
  }
 },
 "nbformat": 4,
 "nbformat_minor": 0
}
