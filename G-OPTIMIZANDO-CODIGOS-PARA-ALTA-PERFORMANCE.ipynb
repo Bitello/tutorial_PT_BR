{
 "cells": [
  {
   "cell_type": "markdown",
   "metadata": {},
   "source": [
    "# OPTIMIZANDO CODIGOS PARA ALTA PERFORMANCE"
   ]
  },
  {
   "cell_type": "markdown",
   "metadata": {},
   "source": [
    "## TIPOS DEFINIDOS EM FUNÇÕES"
   ]
  },
  {
   "cell_type": "markdown",
   "metadata": {},
   "source": [
    "Os tipos são muito importantes em JULIA. Um tipo mal definido pode atrasar e muito o desempenho de uma função/codigo. A melhor forma de obter um bom desempenho é casar o tipo do dado a ser trabalhado com o tipo que a função vai calcular.\n",
    "No exemplo abaixo, temos uma função que soma elementos de um vetor. No primeiro teste a função soma_vetor1 recebe um vetor de qualquer tipo e trabalha com \"soma\" do tipo Float (soma = 0.0). No segundo teste a mesma função e vetores, porém a variável soma é do tipo inteiro."
   ]
  },
  {
   "cell_type": "code",
   "execution_count": 1,
   "metadata": {
    "collapsed": false
   },
   "outputs": [
    {
     "data": {
      "text/plain": [
       "soma_vetor1 (generic function with 1 method)"
      ]
     },
     "execution_count": 1,
     "metadata": {},
     "output_type": "execute_result"
    }
   ],
   "source": [
    "# o comando i in x faz a variável i percorrer todo o vetor x\n",
    "# pode ser utilizado for i = 1:length(x)\n",
    "\n",
    "function soma_vetor1(x)\n",
    "    soma = 0.0\n",
    "    for i in x\n",
    "        soma = soma + i\n",
    "    end\n",
    "    return soma\n",
    "end"
   ]
  },
  {
   "cell_type": "code",
   "execution_count": 2,
   "metadata": {
    "collapsed": false
   },
   "outputs": [
    {
     "data": {
      "text/plain": [
       "0.0:0.0001:5000.0"
      ]
     },
     "execution_count": 2,
     "metadata": {},
     "output_type": "execute_result"
    }
   ],
   "source": [
    "x1 = collect(0:0.0001:5000);    # Array{Float64,1},\n",
    "x2 = linspace(0,5000,50000001); # LinSpace{Float64}\n",
    "x3 = 0:0.0001:5000;             # FloatRange{Float64}"
   ]
  },
  {
   "cell_type": "code",
   "execution_count": 58,
   "metadata": {
    "collapsed": false
   },
   "outputs": [
    {
     "data": {
      "text/plain": [
       "(Array{Float64,1},LinSpace{Float64},FloatRange{Float64})"
      ]
     },
     "execution_count": 58,
     "metadata": {},
     "output_type": "execute_result"
    }
   ],
   "source": [
    "# confirmandoo tipo\n",
    "typeof(x1) , typeof(x2) , typeof(x3)"
   ]
  },
  {
   "cell_type": "code",
   "execution_count": 59,
   "metadata": {
    "collapsed": false,
    "scrolled": true
   },
   "outputs": [
    {
     "name": "stdout",
     "output_type": "stream",
     "text": [
      "  0.297723 seconds (2.55 k allocations: 131.336 KB)\n",
      "elapsed time (ns): 297722554\n",
      "bytes allocated:   134488\n",
      "pool allocs:       2553\n"
     ]
    },
    {
     "data": {
      "text/plain": [
       "1.2500000249999998e11"
      ]
     },
     "execution_count": 59,
     "metadata": {},
     "output_type": "execute_result"
    }
   ],
   "source": [
    "@timev soma_vetor1(x1)"
   ]
  },
  {
   "cell_type": "code",
   "execution_count": 33,
   "metadata": {
    "collapsed": false,
    "scrolled": true
   },
   "outputs": [
    {
     "name": "stdout",
     "output_type": "stream",
     "text": [
      "  0.354286 seconds (16.99 k allocations: 704.616 KB)\n",
      "elapsed time (ns): 354285647\n",
      "bytes allocated:   721527\n",
      "pool allocs:       16986\n"
     ]
    },
    {
     "data": {
      "text/plain": [
       "1.2500000249999998e11"
      ]
     },
     "execution_count": 33,
     "metadata": {},
     "output_type": "execute_result"
    }
   ],
   "source": [
    "@timev soma_vetor1(x2)"
   ]
  },
  {
   "cell_type": "code",
   "execution_count": 34,
   "metadata": {
    "collapsed": false,
    "scrolled": true
   },
   "outputs": [
    {
     "name": "stdout",
     "output_type": "stream",
     "text": [
      "  0.293451 seconds (4.39 k allocations: 228.679 KB)\n",
      "elapsed time (ns): 293450822\n",
      "bytes allocated:   234167\n",
      "pool allocs:       4386\n"
     ]
    },
    {
     "data": {
      "text/plain": [
       "1.2500000249999998e11"
      ]
     },
     "execution_count": 34,
     "metadata": {},
     "output_type": "execute_result"
    }
   ],
   "source": [
    "@timev soma_vetor1(x3)"
   ]
  },
  {
   "cell_type": "markdown",
   "metadata": {},
   "source": [
    "O tipo Array{Float64,1} apresentou melhor desempenho de tempo."
   ]
  },
  {
   "cell_type": "markdown",
   "metadata": {},
   "source": [
    "A função agora modificada. Note que \"soma\" agora é do tipo inteiro, mas está recebendo um vetor do tipo Float"
   ]
  },
  {
   "cell_type": "code",
   "execution_count": 60,
   "metadata": {
    "collapsed": false
   },
   "outputs": [
    {
     "data": {
      "text/plain": [
       "soma_vetor2 (generic function with 2 methods)"
      ]
     },
     "execution_count": 60,
     "metadata": {},
     "output_type": "execute_result"
    }
   ],
   "source": [
    "# o comando i in x faz a variável i percorrer todo o vetor x\n",
    "# pode ser utilizado for i = 1:length(x)\n",
    "\n",
    "function soma_vetor2(x)\n",
    "    soma = 0             # so esse datalhe ja é suficiente para reduzir o desempenho\n",
    "    for i in x\n",
    "        soma = soma + i\n",
    "    end\n",
    "    return soma\n",
    "end"
   ]
  },
  {
   "cell_type": "code",
   "execution_count": 61,
   "metadata": {
    "collapsed": false
   },
   "outputs": [
    {
     "name": "stdout",
     "output_type": "stream",
     "text": [
      "  1.279769 seconds (100.00 M allocations: 1.490 GB, 9.16% gc time)\n",
      "elapsed time (ns): 1279768908\n",
      "gc time (ns):      117212909\n",
      "bytes allocated:   1600086940\n",
      "pool allocs:       100001754\n",
      "GC pauses:         69\n",
      "full collections:  1\n"
     ]
    },
    {
     "data": {
      "text/plain": [
       "1.2500000249999998e11"
      ]
     },
     "execution_count": 61,
     "metadata": {},
     "output_type": "execute_result"
    }
   ],
   "source": [
    "@timev soma_vetor2(x1)"
   ]
  },
  {
   "cell_type": "code",
   "execution_count": 37,
   "metadata": {
    "collapsed": false
   },
   "outputs": [
    {
     "name": "stdout",
     "output_type": "stream",
     "text": [
      "  1.456858 seconds (100.00 M allocations: 1.490 GB, 4.94% gc time)\n",
      "elapsed time (ns): 1456858450\n",
      "gc time (ns):      71930058\n",
      "bytes allocated:   1600116925\n",
      "pool allocs:       100002350\n",
      "GC pauses:         70\n"
     ]
    },
    {
     "data": {
      "text/plain": [
       "1.2500000249999998e11"
      ]
     },
     "execution_count": 37,
     "metadata": {},
     "output_type": "execute_result"
    }
   ],
   "source": [
    "@timev soma_vetor2(x2)"
   ]
  },
  {
   "cell_type": "code",
   "execution_count": 38,
   "metadata": {
    "collapsed": false,
    "scrolled": true
   },
   "outputs": [
    {
     "name": "stdout",
     "output_type": "stream",
     "text": [
      "  1.358280 seconds (100.00 M allocations: 1.490 GB, 5.30% gc time)\n",
      "elapsed time (ns): 1358280210\n",
      "gc time (ns):      72039978\n",
      "bytes allocated:   1600107936\n",
      "pool allocs:       100002141\n",
      "GC pauses:         70\n"
     ]
    },
    {
     "data": {
      "text/plain": [
       "1.2500000249999998e11"
      ]
     },
     "execution_count": 38,
     "metadata": {},
     "output_type": "execute_result"
    }
   ],
   "source": [
    "@timev soma_vetor2(x3)"
   ]
  },
  {
   "cell_type": "markdown",
   "metadata": {},
   "source": [
    "## FUNÇÕES ANÔNIMAS\n",
    "\n",
    "Funções anônimas - funções sem nome - são funções no qual não há nome para defini-las. Um bom exemplo são as funções o **map()** e em compreensões de lista. Não precisam usar o SymPy ou a forma de função genérica (funcao(variavel) = expressao). O uso principal para funções anônimas é passá-los para funções que assumem outras funções como argumentos. Em geral são mais lentas que as funções genéricas ou simbólicas. "
   ]
  },
  {
   "cell_type": "code",
   "execution_count": 1,
   "metadata": {
    "collapsed": false
   },
   "outputs": [],
   "source": [
    "using FastAnonymous"
   ]
  },
  {
   "cell_type": "code",
   "execution_count": 2,
   "metadata": {
    "collapsed": false
   },
   "outputs": [
    {
     "name": "stdout",
     "output_type": "stream",
     "text": [
      "  4.104285 seconds (200.16 M allocations: 4.479 GB, 4.13% gc time)\n",
      "elapsed time (ns): 4104285326\n",
      "gc time (ns):      169504842\n",
      "bytes allocated:   4808946512\n",
      "pool allocs:       200158030\n",
      "non-pool GC allocs:49\n",
      "malloc() calls:    2\n",
      "GC pauses:         141\n",
      "full collections:  1\n"
     ]
    }
   ],
   "source": [
    "@timev map((w -> w^2),rand(10000,10000));"
   ]
  },
  {
   "cell_type": "markdown",
   "metadata": {},
   "source": [
    "A mesma função so que agora usando a macro @anon do pacote FastAnonymous"
   ]
  },
  {
   "cell_type": "code",
   "execution_count": 3,
   "metadata": {
    "collapsed": false
   },
   "outputs": [
    {
     "name": "stdout",
     "output_type": "stream",
     "text": [
      "  1.019736 seconds (36.45 k allocations: 1.492 GB, 1.09% gc time)\n",
      "elapsed time (ns): 1019736428\n",
      "gc time (ns):      11126680\n",
      "bytes allocated:   1601702749\n",
      "pool allocs:       36449\n",
      "malloc() calls:    2\n",
      "GC pauses:         2\n"
     ]
    }
   ],
   "source": [
    "@timev map(@anon(w -> w^2),rand(10000,10000));"
   ]
  },
  {
   "cell_type": "markdown",
   "metadata": {
    "collapsed": true
   },
   "source": [
    "## NÃO USE VARIÁVEIS GLOBAIS EM FUNÇÕES\n",
    "\n",
    "Variáveis globais são uma tentação na vida de qualquer programador. Porém..."
   ]
  },
  {
   "cell_type": "code",
   "execution_count": 9,
   "metadata": {
    "collapsed": false
   },
   "outputs": [
    {
     "data": {
      "text/plain": [
       "soma_vetorG (generic function with 1 method)"
      ]
     },
     "execution_count": 9,
     "metadata": {},
     "output_type": "execute_result"
    }
   ],
   "source": [
    "# função calcula a soma a partir de uma variável global X\n",
    "# o comando i in x faz a variável i percorrer todo o vetor x\n",
    "# pode ser utilizado for i = 1:length(x)\n",
    "\n",
    "function soma_vetorG()\n",
    "    soma = 0.0             # cuidado! soma é tipo float, se não piora mais ainda\n",
    "    for i in x\n",
    "        soma = soma +  i\n",
    "    end\n",
    "    return soma\n",
    "end"
   ]
  },
  {
   "cell_type": "code",
   "execution_count": 10,
   "metadata": {
    "collapsed": false
   },
   "outputs": [],
   "source": [
    "x = collect(0:0.0001:5000);"
   ]
  },
  {
   "cell_type": "code",
   "execution_count": 11,
   "metadata": {
    "collapsed": false
   },
   "outputs": [
    {
     "name": "stdout",
     "output_type": "stream",
     "text": [
      "  6.325527 seconds (200.00 M allocations: 3.725 GB, 7.71% gc time)\n",
      "elapsed time (ns): 6325526952\n",
      "gc time (ns):      488000051\n",
      "bytes allocated:   4000095581\n",
      "pool allocs:       200001371\n",
      "GC pauses:         174\n",
      "full collections:  1\n"
     ]
    },
    {
     "data": {
      "text/plain": [
       "1.2500000249999998e11"
      ]
     },
     "execution_count": 11,
     "metadata": {},
     "output_type": "execute_result"
    }
   ],
   "source": [
    "@timev soma_vetorG()"
   ]
  },
  {
   "cell_type": "markdown",
   "metadata": {
    "collapsed": true
   },
   "source": [
    "A mesma função só que usando variável local passada para função"
   ]
  },
  {
   "cell_type": "code",
   "execution_count": 12,
   "metadata": {
    "collapsed": false
   },
   "outputs": [
    {
     "data": {
      "text/plain": [
       "soma_vetorL (generic function with 1 method)"
      ]
     },
     "execution_count": 12,
     "metadata": {},
     "output_type": "execute_result"
    }
   ],
   "source": [
    "# função calcula a soma a partir de uma variável local X passada como valor\n",
    "# o comando i in x faz a variável i percorrer todo o vetor x\n",
    "# pode ser utilizado for i = 1:length(x)\n",
    "\n",
    "function soma_vetorL(x)\n",
    "    soma = 0.0             # cuidado! soma é tipo float\n",
    "    for i in x\n",
    "        soma = soma + i\n",
    "    end\n",
    "    return soma\n",
    "end"
   ]
  },
  {
   "cell_type": "code",
   "execution_count": 13,
   "metadata": {
    "collapsed": true
   },
   "outputs": [],
   "source": [
    "x = collect(0:0.0001:5000);"
   ]
  },
  {
   "cell_type": "code",
   "execution_count": 15,
   "metadata": {
    "collapsed": false
   },
   "outputs": [
    {
     "name": "stdout",
     "output_type": "stream",
     "text": [
      "  0.057018 seconds (5 allocations: 176 bytes)\n",
      "elapsed time (ns): 57018320\n",
      "bytes allocated:   176\n",
      "pool allocs:       5\n"
     ]
    },
    {
     "data": {
      "text/plain": [
       "1.2500000249999998e11"
      ]
     },
     "execution_count": 15,
     "metadata": {},
     "output_type": "execute_result"
    }
   ],
   "source": [
    "@timev soma_vetorL(x)"
   ]
  },
  {
   "cell_type": "markdown",
   "metadata": {},
   "source": [
    "Diferença absurda de tempo de alocação de memória entre o primeiro caso e segundo caso. "
   ]
  },
  {
   "cell_type": "markdown",
   "metadata": {
    "collapsed": true
   },
   "source": [
    "## UTILIZE FUNÇÕES PARA SUBSTITUIR BLOCOS DE CÓDIGO"
   ]
  },
  {
   "cell_type": "markdown",
   "metadata": {},
   "source": [
    "Bloco de código que utiliza variáveis globais para calcular a soma todos os elementos de um vetor"
   ]
  },
  {
   "cell_type": "code",
   "execution_count": 76,
   "metadata": {
    "collapsed": false
   },
   "outputs": [
    {
     "data": {
      "text/plain": [
       "1.2500000249999998e11"
      ]
     },
     "metadata": {},
     "output_type": "display_data"
    },
    {
     "name": "stdout",
     "output_type": "stream",
     "text": [
      "elapsed time: 6.822481982 seconds\n"
     ]
    },
    {
     "data": {
      "text/plain": [
       "6.822481982"
      ]
     },
     "execution_count": 76,
     "metadata": {},
     "output_type": "execute_result"
    }
   ],
   "source": [
    "tic()\n",
    "x = collect(0:0.0001:5000)\n",
    "soma = 0.0             # cuidado! soma é tipo float\n",
    "for i in x\n",
    "    soma = soma + i\n",
    "end\n",
    "\n",
    "display(soma)\n",
    "\n",
    "toc()"
   ]
  },
  {
   "cell_type": "markdown",
   "metadata": {},
   "source": [
    "Função que substitui o procedimento acima e usa variáveis locais"
   ]
  },
  {
   "cell_type": "code",
   "execution_count": 73,
   "metadata": {
    "collapsed": false
   },
   "outputs": [
    {
     "data": {
      "text/plain": [
       "soma_vetorL (generic function with 1 method)"
      ]
     },
     "execution_count": 73,
     "metadata": {},
     "output_type": "execute_result"
    }
   ],
   "source": [
    "x = collect(0:0.0001:5000)\n",
    "\n",
    "# função calcula a soma a partir de uma variável local X passada como valor\n",
    "# o comando i in x faz a variável i percorrer todo o vetor x\n",
    "# pode ser utilizado for i = 1:length(x)\n",
    "\n",
    "function soma_vetorL(x)\n",
    "    soma = 0.0             # cuidado! soma é tipo float\n",
    "    for i in x\n",
    "        soma = soma + i\n",
    "    end\n",
    "    return soma\n",
    "end"
   ]
  },
  {
   "cell_type": "code",
   "execution_count": 74,
   "metadata": {
    "collapsed": false
   },
   "outputs": [
    {
     "name": "stdout",
     "output_type": "stream",
     "text": [
      "  0.173144 seconds (1.62 k allocations: 81.462 KB)\n",
      "elapsed time (ns): 173143904\n",
      "bytes allocated:   83417\n",
      "pool allocs:       1621\n"
     ]
    },
    {
     "data": {
      "text/plain": [
       "1.2500000249999998e11"
      ]
     },
     "execution_count": 74,
     "metadata": {},
     "output_type": "execute_result"
    }
   ],
   "source": [
    "@timev soma_vetorL(x)"
   ]
  },
  {
   "cell_type": "markdown",
   "metadata": {},
   "source": [
    "Veja que a diferença de tempo é absurda!"
   ]
  },
  {
   "cell_type": "markdown",
   "metadata": {
    "collapsed": true
   },
   "source": [
    "## QUAL A MELHOR: FUNÇÕES GENÉRICAS, SIMBÓLICAS OU ANÔNIMAS?"
   ]
  },
  {
   "cell_type": "code",
   "execution_count": null,
   "metadata": {
    "collapsed": true
   },
   "outputs": [],
   "source": []
  },
  {
   "cell_type": "markdown",
   "metadata": {},
   "source": [
    "## OTIMIZANDO UBUNTU E DERIVADOS"
   ]
  },
  {
   "cell_type": "markdown",
   "metadata": {},
   "source": [
    "O Ubuntu e outros sistemas linux, possuem uma configuração de **\"Concurrency\"** que permite habilitar todos os núcleos, isso faz com que o Boot do seu sistema seja mais rápido que o normal e pode melhorar o desempenho do processamento numérico da Julia. Para habilitar o recurso, digite no shell:\n",
    "\n",
    "```bash\n",
    "sudo gedit /etc/init.d/rc\n",
    "```\n",
    "Para evitar problemas, salve o arquivo como **rc.back**, caso ocorra algum erro ou instabilidade do sistema. Procure as linhas **CONCURRENCY=makefile** e descomente, e comente a linha **#CONCURRENCY=none**. Veja o código abaixo:\n",
    "\n",
    "    # Check if we are able to use make like booting.  It require the\n",
    "    # insserv package to be enabled. Boot concurrency also requires\n",
    "    # startpar to be installed.\n",
    "    #\n",
    "    CONCURRENCY=makefile # descomente a linha\n",
    "    # disable startpar, incompatible with \"task\" upstart jobs\n",
    "    #CONCURRENCY=none   # comente a linha\n",
    "    \n",
    "Reinicie e veja a diferença :)"
   ]
  },
  {
   "cell_type": "code",
   "execution_count": null,
   "metadata": {
    "collapsed": true
   },
   "outputs": [],
   "source": []
  }
 ],
 "metadata": {
  "kernelspec": {
   "display_name": "Julia 0.4.5",
   "language": "julia",
   "name": "julia-0.4"
  },
  "language_info": {
   "file_extension": ".jl",
   "mimetype": "application/julia",
   "name": "julia",
   "version": "0.4.5"
  }
 },
 "nbformat": 4,
 "nbformat_minor": 0
}
