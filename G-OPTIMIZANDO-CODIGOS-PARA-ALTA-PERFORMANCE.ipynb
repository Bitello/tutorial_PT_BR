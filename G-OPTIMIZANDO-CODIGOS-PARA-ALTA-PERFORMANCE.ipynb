{
 "cells": [
  {
   "cell_type": "markdown",
   "metadata": {},
   "source": [
    "# OPTIMIZANDO CODIGOS PARA ALTA PERFORMANCE"
   ]
  },
  {
   "cell_type": "markdown",
   "metadata": {},
   "source": [
    "## TIPOS DEFINIDOS EM FUNÇÕES"
   ]
  },
  {
   "cell_type": "markdown",
   "metadata": {},
   "source": [
    "Os tipos são muito importantes em JULIA. Um tipo mal definido pode atrasar e muito o desempenho de uma função/codigo. A melhor forma de obter um bom desempenho é casar o tipo do dado a ser trabalhado com o tipo que a função vai calcular.\n",
    "No exemplo abaixo, temos uma função que soma elementos de um vetor. No primeiro teste a função soma_vetor1 recebe um vetor de qualquer tipo e trabalha com \"soma\" do tipo Float (soma = 0.0). No segundo teste a mesma função e vetores, porém a variável soma é do tipo inteiro."
   ]
  },
  {
   "cell_type": "code",
   "execution_count": 36,
   "metadata": {
    "collapsed": false
   },
   "outputs": [
    {
     "data": {
      "text/plain": [
       "soma_vetor1 (generic function with 1 method)"
      ]
     },
     "execution_count": 36,
     "metadata": {},
     "output_type": "execute_result"
    }
   ],
   "source": [
    "# o comando i in x faz a variável i percorrer todo o vetor x\n",
    "# pode ser utilizado for i = 1:length(x)\n",
    "\n",
    "function soma_vetor1(x)\n",
    "    soma = 0.0\n",
    "    for i in x\n",
    "        soma = soma + i\n",
    "    end\n",
    "    return soma\n",
    "end"
   ]
  },
  {
   "cell_type": "code",
   "execution_count": 37,
   "metadata": {
    "collapsed": false
   },
   "outputs": [
    {
     "data": {
      "text/plain": [
       "0.0:0.0001:5000.0"
      ]
     },
     "execution_count": 37,
     "metadata": {},
     "output_type": "execute_result"
    }
   ],
   "source": [
    "x1 = collect(0:0.0001:5000);    # Array{Float64,1},\n",
    "x2 = linspace(0,5000,50000001); # LinSpace{Float64}\n",
    "x3 = 0:0.0001:5000;             # FloatRange{Float64}"
   ]
  },
  {
   "cell_type": "code",
   "execution_count": 38,
   "metadata": {
    "collapsed": false
   },
   "outputs": [
    {
     "data": {
      "text/plain": [
       "(Array{Float64,1},LinSpace{Float64},FloatRange{Float64})"
      ]
     },
     "execution_count": 38,
     "metadata": {},
     "output_type": "execute_result"
    }
   ],
   "source": [
    "# confirmandoo tipo\n",
    "typeof(x1) , typeof(x2) , typeof(x3)"
   ]
  },
  {
   "cell_type": "code",
   "execution_count": 39,
   "metadata": {
    "collapsed": false,
    "scrolled": true
   },
   "outputs": [
    {
     "name": "stdout",
     "output_type": "stream",
     "text": [
      "  0.064134 seconds (1.18 k allocations: 50.950 KB)\n",
      "elapsed time (ns): 64134348\n",
      "bytes allocated:   52173\n",
      "pool allocs:       1178\n"
     ]
    },
    {
     "data": {
      "text/plain": [
       "1.2500000249999998e11"
      ]
     },
     "execution_count": 39,
     "metadata": {},
     "output_type": "execute_result"
    }
   ],
   "source": [
    "@timev soma_vetor1(x1)"
   ]
  },
  {
   "cell_type": "code",
   "execution_count": 40,
   "metadata": {
    "collapsed": false,
    "scrolled": true
   },
   "outputs": [
    {
     "name": "stdout",
     "output_type": "stream",
     "text": [
      "  0.239496 seconds (1.63 k allocations: 66.964 KB)\n",
      "elapsed time (ns): 239496126\n",
      "bytes allocated:   68571\n",
      "pool allocs:       1634\n"
     ]
    },
    {
     "data": {
      "text/plain": [
       "1.2500000249999998e11"
      ]
     },
     "execution_count": 40,
     "metadata": {},
     "output_type": "execute_result"
    }
   ],
   "source": [
    "@timev soma_vetor1(x2)"
   ]
  },
  {
   "cell_type": "code",
   "execution_count": 41,
   "metadata": {
    "collapsed": false,
    "scrolled": true
   },
   "outputs": [
    {
     "name": "stdout",
     "output_type": "stream",
     "text": [
      "  0.237606 seconds (1.25 k allocations: 53.471 KB)\n",
      "elapsed time (ns): 237605986\n",
      "bytes allocated:   54754\n",
      "pool allocs:       1255\n"
     ]
    },
    {
     "data": {
      "text/plain": [
       "1.2500000249999998e11"
      ]
     },
     "execution_count": 41,
     "metadata": {},
     "output_type": "execute_result"
    }
   ],
   "source": [
    "@timev soma_vetor1(x3)"
   ]
  },
  {
   "cell_type": "markdown",
   "metadata": {},
   "source": [
    "O tipo Array{Float64,1} apresentou melhor desempenho de tempo."
   ]
  },
  {
   "cell_type": "markdown",
   "metadata": {},
   "source": [
    "A função agora modificada. Note que \"soma\" agora é do tipo inteiro, mas está recebendo um vetor do tipo Float"
   ]
  },
  {
   "cell_type": "code",
   "execution_count": 42,
   "metadata": {
    "collapsed": false
   },
   "outputs": [
    {
     "data": {
      "text/plain": [
       "soma_vetor2 (generic function with 1 method)"
      ]
     },
     "execution_count": 42,
     "metadata": {},
     "output_type": "execute_result"
    }
   ],
   "source": [
    "# o comando i in x faz a variável i percorrer todo o vetor x\n",
    "# pode ser utilizado for i = 1:length(x)\n",
    "\n",
    "function soma_vetor2(x)\n",
    "    soma = 0             # so esse datalhe ja é suficiente para reduzir o desempenho\n",
    "    for i in x\n",
    "        soma = soma + i\n",
    "    end\n",
    "    return soma\n",
    "end"
   ]
  },
  {
   "cell_type": "code",
   "execution_count": 43,
   "metadata": {
    "collapsed": false
   },
   "outputs": [
    {
     "name": "stdout",
     "output_type": "stream",
     "text": [
      "  1.391655 seconds (150.00 M allocations: 2.235 GB, 25.19% gc time)\n",
      "elapsed time (ns): 1391655209\n",
      "gc time (ns):      350588051\n",
      "bytes allocated:   2400082765\n",
      "pool allocs:       150001826\n",
      "GC pauses:         104\n",
      "full collections:  2\n"
     ]
    },
    {
     "data": {
      "text/plain": [
       "1.2500000249999998e11"
      ]
     },
     "execution_count": 43,
     "metadata": {},
     "output_type": "execute_result"
    }
   ],
   "source": [
    "@timev soma_vetor2(x1)"
   ]
  },
  {
   "cell_type": "code",
   "execution_count": 44,
   "metadata": {
    "collapsed": false
   },
   "outputs": [
    {
     "name": "stdout",
     "output_type": "stream",
     "text": [
      "  1.285765 seconds (150.00 M allocations: 2.235 GB, 10.36% gc time)\n",
      "elapsed time (ns): 1285765089\n",
      "gc time (ns):      133161043\n",
      "bytes allocated:   2400082823\n",
      "pool allocs:       150001983\n",
      "GC pauses:         105\n"
     ]
    },
    {
     "data": {
      "text/plain": [
       "1.2500000249999998e11"
      ]
     },
     "execution_count": 44,
     "metadata": {},
     "output_type": "execute_result"
    }
   ],
   "source": [
    "@timev soma_vetor2(x2)"
   ]
  },
  {
   "cell_type": "code",
   "execution_count": 45,
   "metadata": {
    "collapsed": false,
    "scrolled": false
   },
   "outputs": [
    {
     "name": "stdout",
     "output_type": "stream",
     "text": [
      "  1.235247 seconds (150.00 M allocations: 2.235 GB, 10.69% gc time)\n",
      "elapsed time (ns): 1235247288\n",
      "gc time (ns):      132010801\n",
      "bytes allocated:   2400068478\n",
      "pool allocs:       150001603\n",
      "GC pauses:         105\n"
     ]
    },
    {
     "data": {
      "text/plain": [
       "1.2500000249999998e11"
      ]
     },
     "execution_count": 45,
     "metadata": {},
     "output_type": "execute_result"
    }
   ],
   "source": [
    "@timev soma_vetor2(x3)"
   ]
  },
  {
   "cell_type": "markdown",
   "metadata": {},
   "source": [
    "Veja que todos os testes apresentaram resultados muito ruins em função do tipo de \"soma\" ser inteiro."
   ]
  },
  {
   "cell_type": "markdown",
   "metadata": {},
   "source": [
    "## FUNÇÕES ANÔNIMAS\n",
    "\n",
    "Funções anônimas (funções sem nome) são funções no qual não há nome para defini-las. Um bom exemplo são as funções o **map()** e em compreensões de lista. Não precisam usar o SymPy ou a forma de função genérica (funcao(variavel) = expressao). O uso principal para funções anônimas é passá-los para funções que assumem outras funções como argumentos. Em geral são mais lentas que as funções genéricas ou simbólicas. "
   ]
  },
  {
   "cell_type": "code",
   "execution_count": 54,
   "metadata": {
    "collapsed": false
   },
   "outputs": [
    {
     "name": "stderr",
     "output_type": "stream",
     "text": [
      "INFO: Precompiling module FastAnonymous.\n",
      "WARNING: symbol is deprecated, use Symbol instead.\n",
      " in depwarn(::String, ::Symbol) at ./deprecated.jl:64\n",
      " in symbol(::String, ::Vararg{String,N}) at ./deprecated.jl:30\n",
      " in include_from_node1(::String) at ./loading.jl:488 (repeats 2 times)\n",
      " in macro expansion; at ./none:2 [inlined]\n",
      " in anonymous at ./<missing>:?\n",
      " in eval(::Module, ::Any) at ./boot.jl:234\n",
      " in process_options(::Base.JLOptions) at ./client.jl:239\n",
      " in _start() at ./client.jl:318\n",
      "while loading /home/jmarcellopereira/.julia/v0.5/Debug/src/AST.jl, in expression starting on line 62\n",
      "WARNING: Method definition is_evaluable(Debug.AST.Node{Debug.AST.Location}) in module AST at /home/jmarcellopereira/.julia/v0.5/Debug/src/AST.jl:120 overwritten at /home/jmarcellopereira/.julia/v0.5/Debug/src/AST.jl:121.\n",
      "ERROR: LoadError: LoadError: UndefVarError: SymbolNode not defined\n",
      " in include_from_node1(::String) at ./loading.jl:488 (repeats 2 times)\n",
      " in macro expansion; at ./none:2 [inlined]\n",
      " in anonymous at ./<missing>:?\n",
      " in eval(::Module, ::Any) at ./boot.jl:234\n",
      " in process_options(::Base.JLOptions) at ./client.jl:239\n",
      " in _start() at ./client.jl:318\n",
      "while loading /home/jmarcellopereira/.julia/v0.5/Debug/src/Analysis.jl, in expression starting on line 51\n",
      "while loading /home/jmarcellopereira/.julia/v0.5/Debug/src/Debug.jl, in expression starting on line 7\n",
      "ERROR: LoadError: Failed to precompile Debug to /home/jmarcellopereira/.julia/lib/v0.5/Debug.ji.\n",
      " in compilecache(::String) at ./loading.jl:593\n",
      " in require(::Symbol) at ./loading.jl:393\n",
      " in include_from_node1(::String) at ./loading.jl:488\n",
      " in macro expansion; at ./none:2 [inlined]\n",
      " in anonymous at ./<missing>:?\n",
      " in eval(::Module, ::Any) at ./boot.jl:234\n",
      " in process_options(::Base.JLOptions) at ./client.jl:239\n",
      " in _start() at ./client.jl:318\n",
      "while loading /home/jmarcellopereira/.julia/v0.5/FastAnonymous/src/FastAnonymous.jl, in expression starting on line 5\n"
     ]
    },
    {
     "ename": "LoadError",
     "evalue": "LoadError: Failed to precompile FastAnonymous to /home/jmarcellopereira/.julia/lib/v0.5/FastAnonymous.ji.\nwhile loading In[54], in expression starting on line 1",
     "output_type": "error",
     "traceback": [
      "LoadError: Failed to precompile FastAnonymous to /home/jmarcellopereira/.julia/lib/v0.5/FastAnonymous.ji.\nwhile loading In[54], in expression starting on line 1",
      "",
      " in compilecache(::String) at ./loading.jl:593",
      " in require(::Symbol) at ./loading.jl:422"
     ]
    }
   ],
   "source": [
    "using FastAnonymous"
   ]
  },
  {
   "cell_type": "code",
   "execution_count": 52,
   "metadata": {
    "collapsed": false
   },
   "outputs": [
    {
     "name": "stdout",
     "output_type": "stream",
     "text": [
      "  6.735775 seconds (28.16 k allocations: 1.491 GB, 1.64% gc time)\n",
      "elapsed time (ns): 6735774548\n",
      "gc time (ns):      110608408\n",
      "bytes allocated:   1601345693\n",
      "pool allocs:       28161\n",
      "malloc() calls:    2\n",
      "GC pauses:         2\n",
      "full collections:  2\n"
     ]
    }
   ],
   "source": [
    "@timev map((w -> w^2),rand(10000,10000));"
   ]
  },
  {
   "cell_type": "markdown",
   "metadata": {},
   "source": [
    "A mesma função so que agora usando a macro @anon do pacote FastAnonymous"
   ]
  },
  {
   "cell_type": "code",
   "execution_count": 55,
   "metadata": {
    "collapsed": false
   },
   "outputs": [
    {
     "ename": "LoadError",
     "evalue": "LoadError: UndefVarError: @anon not defined\nwhile loading In[55], in expression starting on line 1",
     "output_type": "error",
     "traceback": [
      "LoadError: UndefVarError: @anon not defined\nwhile loading In[55], in expression starting on line 1",
      ""
     ]
    }
   ],
   "source": [
    "@timev map(@anon(w -> w^2),rand(10000,10000));"
   ]
  },
  {
   "cell_type": "markdown",
   "metadata": {
    "collapsed": true
   },
   "source": [
    "## NÃO USE VARIÁVEIS GLOBAIS EM FUNÇÕES\n",
    "\n",
    "Variáveis globais são uma tentação na vida de qualquer programador. Porém..."
   ]
  },
  {
   "cell_type": "code",
   "execution_count": 9,
   "metadata": {
    "collapsed": false
   },
   "outputs": [
    {
     "data": {
      "text/plain": [
       "soma_vetorG (generic function with 1 method)"
      ]
     },
     "execution_count": 9,
     "metadata": {},
     "output_type": "execute_result"
    }
   ],
   "source": [
    "# função calcula a soma a partir de uma variável global X\n",
    "# o comando i in x faz a variável i percorrer todo o vetor x\n",
    "# pode ser utilizado for i = 1:length(x)\n",
    "\n",
    "function soma_vetorG()\n",
    "    soma = 0.0             # cuidado! soma é tipo float, se não piora mais ainda\n",
    "    for i in x\n",
    "        soma = soma +  i\n",
    "    end\n",
    "    return soma\n",
    "end"
   ]
  },
  {
   "cell_type": "code",
   "execution_count": 10,
   "metadata": {
    "collapsed": false
   },
   "outputs": [],
   "source": [
    "x = collect(0:0.0001:5000);"
   ]
  },
  {
   "cell_type": "code",
   "execution_count": 11,
   "metadata": {
    "collapsed": false
   },
   "outputs": [
    {
     "name": "stdout",
     "output_type": "stream",
     "text": [
      "  6.325527 seconds (200.00 M allocations: 3.725 GB, 7.71% gc time)\n",
      "elapsed time (ns): 6325526952\n",
      "gc time (ns):      488000051\n",
      "bytes allocated:   4000095581\n",
      "pool allocs:       200001371\n",
      "GC pauses:         174\n",
      "full collections:  1\n"
     ]
    },
    {
     "data": {
      "text/plain": [
       "1.2500000249999998e11"
      ]
     },
     "execution_count": 11,
     "metadata": {},
     "output_type": "execute_result"
    }
   ],
   "source": [
    "@timev soma_vetorG()"
   ]
  },
  {
   "cell_type": "markdown",
   "metadata": {
    "collapsed": true
   },
   "source": [
    "A mesma função só que usando variável local passada para função"
   ]
  },
  {
   "cell_type": "code",
   "execution_count": 12,
   "metadata": {
    "collapsed": false
   },
   "outputs": [
    {
     "data": {
      "text/plain": [
       "soma_vetorL (generic function with 1 method)"
      ]
     },
     "execution_count": 12,
     "metadata": {},
     "output_type": "execute_result"
    }
   ],
   "source": [
    "# função calcula a soma a partir de uma variável local X passada como valor\n",
    "# o comando i in x faz a variável i percorrer todo o vetor x\n",
    "# pode ser utilizado for i = 1:length(x)\n",
    "\n",
    "function soma_vetorL(x)\n",
    "    soma = 0.0             # cuidado! soma é tipo float\n",
    "    for i in x\n",
    "        soma = soma + i\n",
    "    end\n",
    "    return soma\n",
    "end"
   ]
  },
  {
   "cell_type": "code",
   "execution_count": 13,
   "metadata": {
    "collapsed": true
   },
   "outputs": [],
   "source": [
    "x = collect(0:0.0001:5000);"
   ]
  },
  {
   "cell_type": "code",
   "execution_count": 15,
   "metadata": {
    "collapsed": false
   },
   "outputs": [
    {
     "name": "stdout",
     "output_type": "stream",
     "text": [
      "  0.057018 seconds (5 allocations: 176 bytes)\n",
      "elapsed time (ns): 57018320\n",
      "bytes allocated:   176\n",
      "pool allocs:       5\n"
     ]
    },
    {
     "data": {
      "text/plain": [
       "1.2500000249999998e11"
      ]
     },
     "execution_count": 15,
     "metadata": {},
     "output_type": "execute_result"
    }
   ],
   "source": [
    "@timev soma_vetorL(x)"
   ]
  },
  {
   "cell_type": "markdown",
   "metadata": {},
   "source": [
    "Diferença absurda de tempo de alocação de memória entre o primeiro caso e segundo caso. "
   ]
  },
  {
   "cell_type": "markdown",
   "metadata": {
    "collapsed": true
   },
   "source": [
    "## UTILIZE FUNÇÕES PARA SUBSTITUIR BLOCOS DE CÓDIGO"
   ]
  },
  {
   "cell_type": "markdown",
   "metadata": {},
   "source": [
    "Bloco de código que utiliza variáveis globais para calcular a soma todos os elementos de um vetor"
   ]
  },
  {
   "cell_type": "code",
   "execution_count": 56,
   "metadata": {
    "collapsed": false
   },
   "outputs": [
    {
     "data": {
      "text/plain": [
       "1.2500000249999998e11"
      ]
     },
     "metadata": {},
     "output_type": "display_data"
    },
    {
     "name": "stdout",
     "output_type": "stream",
     "text": [
      "elapsed time: 6.664979493 seconds\n"
     ]
    },
    {
     "data": {
      "text/plain": [
       "6.664979493"
      ]
     },
     "execution_count": 56,
     "metadata": {},
     "output_type": "execute_result"
    }
   ],
   "source": [
    "tic()\n",
    "x = collect(0:0.0001:5000)\n",
    "soma = 0.0             # cuidado! soma é tipo float\n",
    "for i in x\n",
    "    soma = soma + i\n",
    "end\n",
    "\n",
    "display(soma)\n",
    "\n",
    "toc()"
   ]
  },
  {
   "cell_type": "markdown",
   "metadata": {},
   "source": [
    "Função que substitui o procedimento acima e usa variáveis locais"
   ]
  },
  {
   "cell_type": "code",
   "execution_count": 57,
   "metadata": {
    "collapsed": false
   },
   "outputs": [
    {
     "data": {
      "text/plain": [
       "soma_vetorL (generic function with 1 method)"
      ]
     },
     "execution_count": 57,
     "metadata": {},
     "output_type": "execute_result"
    }
   ],
   "source": [
    "# função calcula a soma a partir de uma variável local X passada como valor\n",
    "# o comando i in x faz a variável i percorrer todo o vetor x\n",
    "# pode ser utilizado for i = 1:length(x)\n",
    "\n",
    "function soma_vetorL(x)\n",
    "    soma = 0.0             # cuidado! soma é tipo float\n",
    "    for i in x\n",
    "        soma = soma + i\n",
    "    end\n",
    "    return soma\n",
    "end"
   ]
  },
  {
   "cell_type": "code",
   "execution_count": 59,
   "metadata": {
    "collapsed": false
   },
   "outputs": [
    {
     "name": "stdout",
     "output_type": "stream",
     "text": [
      "  0.621667 seconds (9 allocations: 381.470 MB, 2.99% gc time)\n",
      "elapsed time (ns): 621667059\n",
      "gc time (ns):      18599932\n",
      "bytes allocated:   400000416\n",
      "pool allocs:       8\n",
      "malloc() calls:    1\n",
      "GC pauses:         1\n",
      "full collections:  1\n"
     ]
    },
    {
     "data": {
      "text/plain": [
       "1.2500000249999998e11"
      ]
     },
     "execution_count": 59,
     "metadata": {},
     "output_type": "execute_result"
    }
   ],
   "source": [
    "@timev soma_vetorL(collect(0:0.0001:5000))"
   ]
  },
  {
   "cell_type": "markdown",
   "metadata": {},
   "source": [
    "Veja que a diferença de tempo é absurda!"
   ]
  },
  {
   "cell_type": "markdown",
   "metadata": {
    "collapsed": true
   },
   "source": [
    "## QUAL A MELHOR: FUNÇÕES GENÉRICAS, SIMBÓLICAS OU ANÔNIMAS?"
   ]
  },
  {
   "cell_type": "code",
   "execution_count": null,
   "metadata": {
    "collapsed": true
   },
   "outputs": [],
   "source": []
  },
  {
   "cell_type": "markdown",
   "metadata": {},
   "source": [
    "## OTIMIZANDO UBUNTU E DERIVADOS"
   ]
  },
  {
   "cell_type": "markdown",
   "metadata": {},
   "source": [
    "O Ubuntu e outros sistemas linux, possuem uma configuração de **\"Concurrency\"** que permite habilitar todos os núcleos, isso faz com que o Boot do seu sistema seja mais rápido que o normal e pode melhorar o desempenho do processamento numérico da Julia. Para habilitar o recurso, digite no shell:\n",
    "\n",
    "```bash\n",
    "sudo gedit /etc/init.d/rc\n",
    "```\n",
    "Para evitar problemas, salve o arquivo como **rc.back**, caso ocorra algum erro ou instabilidade do sistema. Procure as linhas **CONCURRENCY=makefile** e descomente, e comente a linha **#CONCURRENCY=none**. Veja o código abaixo:\n",
    "\n",
    "    # Check if we are able to use make like booting.  It require the\n",
    "    # insserv package to be enabled. Boot concurrency also requires\n",
    "    # startpar to be installed.\n",
    "    #\n",
    "    CONCURRENCY=makefile # descomente a linha\n",
    "    # disable startpar, incompatible with \"task\" upstart jobs\n",
    "    #CONCURRENCY=none   # comente a linha\n",
    "    \n",
    "Reinicie e veja a diferença :)"
   ]
  },
  {
   "cell_type": "markdown",
   "metadata": {
    "collapsed": true
   },
   "source": [
    "## PARALELISMO "
   ]
  },
  {
   "cell_type": "markdown",
   "metadata": {},
   "source": [
    "### TRABALHAR COM CORES\n",
    "Para adicionar cores utilize:\n",
    "```julia\n",
    "addproces(n)\n",
    "```\n",
    "Sendo **n** o número de cores que deseja criar as instâncias. Uma boa dica é usar ``addroces()`` dessa forma Julia cria automaticamente o número de cores que melhor se ajusta à máquina."
   ]
  },
  {
   "cell_type": "code",
   "execution_count": 8,
   "metadata": {
    "collapsed": false,
    "scrolled": false
   },
   "outputs": [
    {
     "name": "stderr",
     "output_type": "stream",
     "text": [
      "WARNING: Base.CPU_CORES is deprecated.\n",
      "  likely near In[8]:2\n"
     ]
    },
    {
     "data": {
      "text/plain": [
       "4"
      ]
     },
     "execution_count": 8,
     "metadata": {},
     "output_type": "execute_result"
    }
   ],
   "source": [
    "# visualizar o numero de cores do processador físico\n",
    "CPU_CORES"
   ]
  },
  {
   "cell_type": "code",
   "execution_count": 9,
   "metadata": {
    "collapsed": false,
    "scrolled": true
   },
   "outputs": [
    {
     "data": {
      "text/plain": [
       "1-element Array{Int64,1}:\n",
       " 1"
      ]
     },
     "execution_count": 9,
     "metadata": {},
     "output_type": "execute_result"
    }
   ],
   "source": [
    "# verificar o número de cores disponíveis e ID\n",
    "procs()"
   ]
  },
  {
   "cell_type": "code",
   "execution_count": 10,
   "metadata": {
    "collapsed": false,
    "scrolled": true
   },
   "outputs": [
    {
     "data": {
      "text/plain": [
       "3-element Array{Int64,1}:\n",
       " 1\n",
       " 2\n",
       " 3"
      ]
     },
     "execution_count": 10,
     "metadata": {},
     "output_type": "execute_result"
    }
   ],
   "source": [
    "# adicionar 2 cores\n",
    "addprocs(2)\n",
    "procs()"
   ]
  },
  {
   "cell_type": "code",
   "execution_count": 12,
   "metadata": {
    "collapsed": false,
    "scrolled": true
   },
   "outputs": [
    {
     "data": {
      "text/plain": [
       "3-element Array{Int64,1}:\n",
       " 1\n",
       " 2\n",
       " 3"
      ]
     },
     "execution_count": 12,
     "metadata": {},
     "output_type": "execute_result"
    }
   ],
   "source": [
    "# remover cores rmprocs(ID_CORE)\n",
    "# para remover mais de um core use rmprocess([vetor_IDCORE])\n",
    "rmprocs(4)\n",
    "procs()"
   ]
  },
  {
   "cell_type": "markdown",
   "metadata": {},
   "source": [
    "### PARALLEL FOR\n",
    "\n",
    "@parallel"
   ]
  },
  {
   "cell_type": "code",
   "execution_count": 13,
   "metadata": {
    "collapsed": false,
    "scrolled": false
   },
   "outputs": [
    {
     "data": {
      "text/plain": [
       "3-element Array{Int64,1}:\n",
       " 1\n",
       " 2\n",
       " 3"
      ]
     },
     "execution_count": 13,
     "metadata": {},
     "output_type": "execute_result"
    }
   ],
   "source": [
    "# verificar o número de processadores\n",
    "procs()"
   ]
  },
  {
   "cell_type": "code",
   "execution_count": 14,
   "metadata": {
    "collapsed": false
   },
   "outputs": [
    {
     "data": {
      "text/plain": [
       "serial_add (generic function with 1 method)"
      ]
     },
     "execution_count": 14,
     "metadata": {},
     "output_type": "execute_result"
    }
   ],
   "source": [
    "# Função Soma.\n",
    "# Laço for de uma soma de 1 a 1000000000\n",
    "# de números aleatórios\n",
    "\n",
    "function serial_add()\n",
    "    s = 0.0\n",
    "    for i = 1:1000000000\n",
    "        s = s + randn()\n",
    "    end\n",
    "    return s\n",
    "end "
   ]
  },
  {
   "cell_type": "code",
   "execution_count": 15,
   "metadata": {
    "collapsed": false,
    "scrolled": false
   },
   "outputs": [
    {
     "name": "stdout",
     "output_type": "stream",
     "text": [
      "  5.711486 seconds (20.87 k allocations: 950.084 KB, 0.13% gc time)\n",
      "elapsed time (ns): 5711486252\n",
      "gc time (ns):      7411350\n",
      "bytes allocated:   972886\n",
      "pool allocs:       20871\n",
      "non-pool GC allocs:1\n",
      "GC pauses:         1\n"
     ]
    },
    {
     "data": {
      "text/plain": [
       "7956.158837498818"
      ]
     },
     "execution_count": 15,
     "metadata": {},
     "output_type": "execute_result"
    }
   ],
   "source": [
    "@timev serial_add()"
   ]
  },
  {
   "cell_type": "code",
   "execution_count": 16,
   "metadata": {
    "collapsed": false
   },
   "outputs": [
    {
     "data": {
      "text/plain": [
       "parallel_add (generic function with 1 method)"
      ]
     },
     "execution_count": 16,
     "metadata": {},
     "output_type": "execute_result"
    }
   ],
   "source": [
    "# função paralela\n",
    "\n",
    "function parallel_add()\n",
    "    return @parallel (+) for i = 1:1000000000\n",
    "                            randn()\n",
    "                        end\n",
    "end"
   ]
  },
  {
   "cell_type": "code",
   "execution_count": 17,
   "metadata": {
    "collapsed": false,
    "scrolled": false
   },
   "outputs": [
    {
     "name": "stdout",
     "output_type": "stream",
     "text": [
      "  4.258522 seconds (553.37 k allocations: 23.324 MB, 0.27% gc time)\n",
      "elapsed time (ns): 4258521577\n",
      "gc time (ns):      11551935\n",
      "bytes allocated:   24456981\n",
      "pool allocs:       553355\n",
      "non-pool GC allocs:16\n",
      "GC pauses:         2\n"
     ]
    },
    {
     "data": {
      "text/plain": [
       "-24614.67296161454"
      ]
     },
     "execution_count": 17,
     "metadata": {},
     "output_type": "execute_result"
    }
   ],
   "source": [
    "# execute mais de uma vez\n",
    "@timev parallel_add()"
   ]
  },
  {
   "cell_type": "markdown",
   "metadata": {},
   "source": [
    "### ParallelAccelerator\n",
    "\n",
    "ParallelAccelerator é um pacote para acelerar programas de Julia voltados principalmente para o cálculo de matrizes e vetores. Com a macro `@acc` **ParallelAccelerator** compila partes do programa e elimina automaticamente funções desnecessárias e também paraleliza e vetoriza muitas operações de dados em paralelo. Além de acelerar o cálculo, `@acc` optimiza o consumo de memória, logo é muito útil para grandes matrizes. \n",
    "\n",
    "ParallelAccelerator é parte do projeto de script de alto desempenho (HPS) da Intel Labs. \n",
    "\n"
   ]
  },
  {
   "cell_type": "code",
   "execution_count": 19,
   "metadata": {
    "collapsed": false,
    "scrolled": false
   },
   "outputs": [
    {
     "name": "stderr",
     "output_type": "stream",
     "text": [
      "INFO: Nothing to be done\n",
      "INFO: METADATA is out-of-date — you may not have the latest version of ParallelAccelerator\n",
      "INFO: Use `Pkg.update()` to get the latest versions of your packages\n"
     ]
    }
   ],
   "source": [
    "Pkg.add(\"ParallelAccelerator\")"
   ]
  },
  {
   "cell_type": "code",
   "execution_count": 20,
   "metadata": {
    "collapsed": false
   },
   "outputs": [
    {
     "data": {
      "text/plain": [
       "h (generic function with 1 method)"
      ]
     },
     "execution_count": 20,
     "metadata": {},
     "output_type": "execute_result"
    }
   ],
   "source": [
    "h(x)  = sum(x.^2 + x.^3 + x.^5 + x.^7 + x.^9 + x.^11) "
   ]
  },
  {
   "cell_type": "code",
   "execution_count": 21,
   "metadata": {
    "collapsed": false
   },
   "outputs": [
    {
     "name": "stdout",
     "output_type": "stream",
     "text": [
      " 12.963267 seconds (78.77 k allocations: 2.239 GB, 3.64% gc time)\n",
      "elapsed time (ns): 12963266895\n",
      "gc time (ns):      471809417\n",
      "bytes allocated:   2403620194\n",
      "pool allocs:       78758\n",
      "malloc() calls:    12\n",
      "GC pauses:         12\n",
      "full collections:  7\n"
     ]
    },
    {
     "data": {
      "text/plain": [
       "2.645991633212997e7"
      ]
     },
     "execution_count": 21,
     "metadata": {},
     "output_type": "execute_result"
    }
   ],
   "source": [
    "@timev h(rand(5000,5000))"
   ]
  },
  {
   "cell_type": "code",
   "execution_count": 22,
   "metadata": {
    "collapsed": false
   },
   "outputs": [],
   "source": [
    "# use o garbage collector para remover o lixo da memória\n",
    "gc()"
   ]
  },
  {
   "cell_type": "code",
   "execution_count": 23,
   "metadata": {
    "collapsed": true
   },
   "outputs": [],
   "source": [
    "using ParallelAccelerator"
   ]
  },
  {
   "cell_type": "code",
   "execution_count": 24,
   "metadata": {
    "collapsed": false
   },
   "outputs": [
    {
     "data": {
      "text/plain": [
       "g (generic function with 1 method)"
      ]
     },
     "execution_count": 24,
     "metadata": {},
     "output_type": "execute_result"
    }
   ],
   "source": [
    "@acc g(x) = sum(x.^2 + x.^3 + x.^5 + x.^7 + x.^9 + x.^11) "
   ]
  },
  {
   "cell_type": "code",
   "execution_count": 27,
   "metadata": {
    "collapsed": false,
    "scrolled": false
   },
   "outputs": [
    {
     "name": "stdout",
     "output_type": "stream",
     "text": [
      "  3.682378 seconds (50 allocations: 190.737 MB, 0.08% gc time)\n",
      "elapsed time (ns): 3682378165\n",
      "gc time (ns):      3077335\n",
      "bytes allocated:   200001904\n",
      "pool allocs:       49\n",
      "malloc() calls:    1\n",
      "GC pauses:         1\n"
     ]
    }
   ],
   "source": [
    "# execute sempre mais de uma vez para obter o melhor resultado\n",
    "@timev g(rand(5000,5000));"
   ]
  },
  {
   "cell_type": "code",
   "execution_count": 25,
   "metadata": {
    "collapsed": true
   },
   "outputs": [],
   "source": [
    "gc()"
   ]
  },
  {
   "cell_type": "markdown",
   "metadata": {},
   "source": [
    "### DistributedArrays"
   ]
  },
  {
   "cell_type": "code",
   "execution_count": 26,
   "metadata": {
    "collapsed": false,
    "scrolled": true
   },
   "outputs": [
    {
     "name": "stderr",
     "output_type": "stream",
     "text": [
      "INFO: Cloning cache of DistributedArrays from https://github.com/JuliaParallel/DistributedArrays.jl.git\n",
      "INFO: Installing DistributedArrays v0.3.0\n",
      "INFO: Package database updated\n",
      "INFO: METADATA is out-of-date — you may not have the latest version of DistributedArrays\n",
      "INFO: Use `Pkg.update()` to get the latest versions of your packages\n"
     ]
    }
   ],
   "source": [
    "Pkg.add(\"DistributedArrays\")"
   ]
  },
  {
   "cell_type": "code",
   "execution_count": 27,
   "metadata": {
    "collapsed": false
   },
   "outputs": [
    {
     "data": {
      "text/plain": [
       "array (generic function with 1 method)"
      ]
     },
     "execution_count": 27,
     "metadata": {},
     "output_type": "execute_result"
    }
   ],
   "source": [
    "function array()\n",
    "    return ([(i^2+j^3)/log(abs(i*j)) for i = 1:20000, j = 1:10000]);\n",
    "end"
   ]
  },
  {
   "cell_type": "code",
   "execution_count": 28,
   "metadata": {
    "collapsed": false,
    "scrolled": false
   },
   "outputs": [
    {
     "name": "stdout",
     "output_type": "stream",
     "text": [
      "  8.963986 seconds (39.84 k allocations: 1.492 GB, 0.21% gc time)\n",
      "elapsed time (ns): 8963985626\n",
      "gc time (ns):      18543173\n",
      "bytes allocated:   1601786100\n",
      "pool allocs:       39841\n",
      "malloc() calls:    1\n",
      "GC pauses:         1\n",
      "full collections:  1\n"
     ]
    }
   ],
   "source": [
    "@timev array();"
   ]
  },
  {
   "cell_type": "code",
   "execution_count": 29,
   "metadata": {
    "collapsed": true
   },
   "outputs": [],
   "source": [
    "# limpar memória\n",
    "gc()"
   ]
  },
  {
   "cell_type": "markdown",
   "metadata": {},
   "source": [
    "Antes de executar o código é necesário verificar se há outros cores disponíveis. Caso exista somente 1, é necessário adicionar novos cores e vincular o `DistributedArrays` ao macro `@everywhere` seguindo a ordem:\n",
    "\n",
    "    1º adicione os cores addprocs(n*)\n",
    "    2º use @everywhere using DistributedArrays\n",
    "    3º execute o código com o macro @Darray \n",
    "**n** corresponde ao número de cores. Utilizando `addprocs()`(o mesmo que usar ``addprocs(CPU_CORES)``) Julia cria automaticamente o número de cores que melhor se ajustam à máquina. Sempre execute uma segunda vez o código, a primeira tem péssimo desempenho.\n",
    "\n",
    "Caso execute novamente `addprocs(n)` e depois `@Darray`, os cores novos serão eliminados da lista de processos e será utilizado somente os cores vinculados ao macro `@everywhere`. "
   ]
  },
  {
   "cell_type": "code",
   "execution_count": 30,
   "metadata": {
    "collapsed": false,
    "scrolled": false
   },
   "outputs": [
    {
     "name": "stderr",
     "output_type": "stream",
     "text": [
      "WARNING: Base.CPU_CORES is deprecated.\n",
      "  likely near In[30]:2\n"
     ]
    },
    {
     "data": {
      "text/plain": [
       "4"
      ]
     },
     "execution_count": 30,
     "metadata": {},
     "output_type": "execute_result"
    }
   ],
   "source": [
    "# visualizar o numero de cores do processador físico\n",
    "CPU_CORES"
   ]
  },
  {
   "cell_type": "code",
   "execution_count": 31,
   "metadata": {
    "collapsed": false,
    "scrolled": true
   },
   "outputs": [
    {
     "data": {
      "text/plain": [
       "3-element Array{Int64,1}:\n",
       " 1\n",
       " 2\n",
       " 3"
      ]
     },
     "execution_count": 31,
     "metadata": {},
     "output_type": "execute_result"
    }
   ],
   "source": [
    "# verificar o número de cores disponíveis e ID\n",
    "procs()"
   ]
  },
  {
   "cell_type": "code",
   "execution_count": 32,
   "metadata": {
    "collapsed": false,
    "scrolled": true
   },
   "outputs": [
    {
     "name": "stderr",
     "output_type": "stream",
     "text": [
      "INFO: Precompiling module DistributedArrays.\n",
      "WARNING: replacing module DistributedArrays.\n",
      "WARNING: replacing module DistributedArrays.\n"
     ]
    }
   ],
   "source": [
    "@everywhere using DistributedArrays"
   ]
  },
  {
   "cell_type": "code",
   "execution_count": 33,
   "metadata": {
    "collapsed": false
   },
   "outputs": [
    {
     "data": {
      "text/plain": [
       "Darray (generic function with 1 method)"
      ]
     },
     "execution_count": 33,
     "metadata": {},
     "output_type": "execute_result"
    }
   ],
   "source": [
    "function Darray()\n",
    "    return @DArray ([(i^2+j^3)/log(abs(i*j)) for i = 1:20000, j = 1:10000]);\n",
    "end"
   ]
  },
  {
   "cell_type": "code",
   "execution_count": 34,
   "metadata": {
    "collapsed": false
   },
   "outputs": [
    {
     "name": "stdout",
     "output_type": "stream",
     "text": [
      "  5.989773 seconds (1.14 M allocations: 47.956 MB, 0.31% gc time)\n"
     ]
    }
   ],
   "source": [
    "# a primeira execução é ruim. Execute uma segunda vez\n",
    "@time  Darray();"
   ]
  },
  {
   "cell_type": "code",
   "execution_count": 35,
   "metadata": {
    "collapsed": true
   },
   "outputs": [],
   "source": [
    "gc()"
   ]
  }
 ],
 "metadata": {
  "anaconda-cloud": {},
  "kernelspec": {
   "display_name": "Julia 0.5.0",
   "language": "julia",
   "name": "julia-0.5"
  },
  "language_info": {
   "file_extension": ".jl",
   "mimetype": "application/julia",
   "name": "julia",
   "version": "0.5.0"
  }
 },
 "nbformat": 4,
 "nbformat_minor": 0
}
