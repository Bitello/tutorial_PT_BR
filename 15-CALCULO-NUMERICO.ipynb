{
 "cells": [
  {
   "cell_type": "markdown",
   "metadata": {},
   "source": [
    "# CALCULO NUMÉRICO #"
   ]
  },
  {
   "cell_type": "markdown",
   "metadata": {
    "collapsed": false
   },
   "source": [
    "## ZEROS DE FUNÇÕES ##"
   ]
  },
  {
   "cell_type": "markdown",
   "metadata": {},
   "source": [
    "### ** MÉTODO DA BISSEÇÃO** ###"
   ]
  },
  {
   "cell_type": "code",
   "execution_count": 9,
   "metadata": {
    "collapsed": false,
    "scrolled": true
   },
   "outputs": [
    {
     "data": {
      "text/plain": [
       "metbissec (generic function with 2 methods)"
      ]
     },
     "execution_count": 9,
     "metadata": {},
     "output_type": "execute_result"
    }
   ],
   "source": [
    "\"\"\"\n",
    "Metodo da Bisseccao\n",
    "\n",
    "Calcula uma aproximação para uma raiz da função de f(x)\n",
    "\n",
    "Entre os intervalo [ao,bo] e a tolerencia de erro daddo por tol.\n",
    "\n",
    "ex metbissec(\"x^2 - 2*x - 8\",-5,5,0.000001)\n",
    "\n",
    "\"\"\"\n",
    "\n",
    "function metbissec(funcao, a, b, tol = 0.00001)\n",
    "    \n",
    "println(\"f(x) = \",funcao)\n",
    "println()\n",
    "    \n",
    "@eval g(x) = $(parse(funcao)) # transforma a string em uma formula manipulável\n",
    "    \n",
    "iteracao = 0\n",
    "    \n",
    "    while b - a >= tol\n",
    "        \n",
    "    x_medio = (a + b)/2.0\n",
    "        \n",
    "        println(\"interação: \", iteracao , \" : \", round(x_medio,8), \", valor função: \",round(g(x_medio),8))\n",
    "        \n",
    "        if g(x_medio)*g(a) > 0.0\n",
    "            a = x_medio            \n",
    "        else\n",
    "            b = x_medio            \n",
    "        end\n",
    "        iteracao = iteracao + 1\n",
    "end\n",
    "    x_medio = (a + b)/2.0\n",
    "    \n",
    "    println(\"interação: \", iteracao , \" : \", round(x_medio,8), \", valor função: \",round(g(x_medio),8))\n",
    "    \n",
    "return x_medio\n",
    "    \n",
    "end"
   ]
  },
  {
   "cell_type": "code",
   "execution_count": 10,
   "metadata": {
    "collapsed": false
   },
   "outputs": [
    {
     "name": "stdout",
     "output_type": "stream",
     "text": [
      "f(x) = x^2 - 2*x - 8\n",
      "\n",
      "interação: 0 : 0.0, valor função: -8.0\n",
      "interação: 1 : -2.5, valor função: 3.25\n",
      "interação: 2 : -1.25, valor função: -3.9375\n",
      "interação: 3 : -1.875, valor função: -0.734375\n",
      "interação: 4 : -2.1875, valor função: 1.16015625\n",
      "interação: 5 : -2.03125, valor função: 0.18847656\n",
      "interação: 6 : -1.953125, valor função: -0.27905273\n",
      "interação: 7 : -1.9921875, valor função: -0.04681396\n",
      "interação: 8 : -2.01171875, valor função: 0.07044983\n",
      "interação: 9 : -2.00195312, valor função: 0.01172256\n",
      "interação: 10 : -1.99707031, valor função: -0.01756954\n",
      "interação: 11 : -1.99951172, valor função: -0.00292945\n",
      "interação: 12 : -2.00073242, valor função: 0.00439507\n",
      "interação: 13 : -2.00012207, valor função: 0.00073244\n",
      "interação: 14 : -1.99981689, valor função: -0.0010986\n",
      "interação: 15 : -1.99996948, valor função: -0.0001831\n",
      "interação: 16 : -2.00004578, valor função: 0.00027466\n",
      "interação: 17 : -2.00000763, valor função: 4.578e-5\n",
      "interação: 18 : -1.99998856, valor função: -6.866e-5\n",
      "interação: 19 : -1.99999809, valor função: -1.144e-5\n",
      "interação: 20 : -2.00000286, valor função: 1.717e-5\n",
      "interação: 21 : -2.00000048, valor função: 2.86e-6\n",
      "interação: 22 : -1.99999928, valor função: -4.29e-6\n",
      "interação: 23 : -1.99999988, valor função: -7.2e-7\n",
      "interação: 24 : -2.00000018, valor função: 1.07e-6\n"
     ]
    },
    {
     "data": {
      "text/plain": [
       "-2.0000001788139343"
      ]
     },
     "execution_count": 10,
     "metadata": {},
     "output_type": "execute_result"
    }
   ],
   "source": [
    "metbissec(\"x^2 - 2*x - 8\",-5,5,0.000001)"
   ]
  },
  {
   "cell_type": "code",
   "execution_count": 85,
   "metadata": {
    "collapsed": false
   },
   "outputs": [
    {
     "name": "stdout",
     "output_type": "stream",
     "text": [
      "search: metbissec\n",
      "\n"
     ]
    },
    {
     "data": {
      "text/latex": [
       "Metodo da Bisseccao\n",
       "Calcula uma aproximação para uma raiz da função de f(x)\n",
       "Entre os intervalo [ao,bo] e a tolerencia de erro daddo por tol.\n",
       "ex metbissec(\"x\\^{}2 - 2*x - 8\",-5,5,0.000001)\n"
      ],
      "text/markdown": [
       "Metodo da Bisseccao\n",
       "\n",
       "Calcula uma aproximação para uma raiz da função de f(x)\n",
       "\n",
       "Entre os intervalo [ao,bo] e a tolerencia de erro daddo por tol.\n",
       "\n",
       "ex metbissec(\"x^2 - 2*x - 8\",-5,5,0.000001)\n"
      ],
      "text/plain": [
       "Metodo da Bisseccao\n",
       "\n",
       "Calcula uma aproximação para uma raiz da função de f(x)\n",
       "\n",
       "Entre os intervalo [ao,bo] e a tolerencia de erro daddo por tol.\n",
       "\n",
       "ex metbissec(\"x^2 - 2*x - 8\",-5,5,0.000001)\n"
      ]
     },
     "execution_count": 85,
     "metadata": {},
     "output_type": "execute_result"
    }
   ],
   "source": [
    "? metbissec"
   ]
  },
  {
   "cell_type": "markdown",
   "metadata": {},
   "source": [
    "### MÉTODO DA FALSA POSIÇÃO ###"
   ]
  },
  {
   "cell_type": "markdown",
   "metadata": {},
   "source": [
    "### MÉTODO INTERATIVO LINEAR ###"
   ]
  },
  {
   "cell_type": "markdown",
   "metadata": {},
   "source": [
    "### MÉTODO DE NEWTON – RAPHSON ###"
   ]
  },
  {
   "cell_type": "markdown",
   "metadata": {},
   "source": [
    "### MÉTODO DA SECANTE###"
   ]
  },
  {
   "cell_type": "markdown",
   "metadata": {},
   "source": [
    "## MÉTODOS DE RESOLUÇÃO DE SISTEMAS LINEARES##"
   ]
  },
  {
   "cell_type": "markdown",
   "metadata": {},
   "source": [
    "* ### SISTEMA DE EQUAÇOES LINEARES ###"
   ]
  },
  {
   "cell_type": "markdown",
   "metadata": {},
   "source": [
    " ###  MÉTODOS DIRETOS ###"
   ]
  },
  {
   "cell_type": "markdown",
   "metadata": {},
   "source": [
    "####1. MÉTODO DE ELIMINAÇÃO DE GAUSS SEM PIVOTAMENTO#### "
   ]
  },
  {
   "cell_type": "markdown",
   "metadata": {},
   "source": [
    "#### 2.  MÉTODO DE ELIMINAÇÃO DE GAUSS COM PIVOTAMENTO TOTAL (LINHAS E COLUNAS) ####"
   ]
  },
  {
   "cell_type": "markdown",
   "metadata": {},
   "source": [
    "#### 3. FATORAÇÃO LU ####"
   ]
  },
  {
   "cell_type": "markdown",
   "metadata": {},
   "source": [
    "###  MÉTODOS INTERATIVOS ###"
   ]
  },
  {
   "cell_type": "markdown",
   "metadata": {},
   "source": [
    "#### 1.  MÉTODO ITERATIVO DE GAUSS – JACOBI ####"
   ]
  },
  {
   "cell_type": "markdown",
   "metadata": {},
   "source": [
    "#### 2.  MÉTODO ITERATIVO DE GAUSS – SEIDEL ####"
   ]
  },
  {
   "cell_type": "markdown",
   "metadata": {},
   "source": [
    "* ### SISTEMA DE EQUAÇOES NÃO LINEARES ###"
   ]
  },
  {
   "cell_type": "markdown",
   "metadata": {},
   "source": []
  },
  {
   "cell_type": "markdown",
   "metadata": {
    "collapsed": false
   },
   "source": [
    "##  INTERPOLAÇÃO ##"
   ]
  },
  {
   "cell_type": "markdown",
   "metadata": {
    "collapsed": true
   },
   "source": [
    "###  INTERPOLAÇÃO POLINOMIAL: FORMA DE LAGRANGE PARA O POLINÔMIO INTERPOLADOR ###"
   ]
  },
  {
   "cell_type": "markdown",
   "metadata": {},
   "source": [
    "###  INTERPOLAÇÃO POLINOMIAL: FORMA DE NEWTON PARA O POLINÔMIO INTERPOLADO ###"
   ]
  },
  {
   "cell_type": "markdown",
   "metadata": {},
   "source": [
    "###  INTERPOLAÇÃO POLINOMIAL: FORMA DE NEWTON-GREGORY PARA O POLINÔMIO INTERPOLADOR ###"
   ]
  },
  {
   "cell_type": "markdown",
   "metadata": {},
   "source": [
    "###  FUNÇÕES SPLINE (LINEAR) EM INTERPOLAÇÃO ###"
   ]
  },
  {
   "cell_type": "markdown",
   "metadata": {},
   "source": [
    "##  INTEGRAÇÃO NUMERICA ##"
   ]
  },
  {
   "cell_type": "markdown",
   "metadata": {},
   "source": [
    "###  REGRA DOS TRAPÉZIOS ###"
   ]
  },
  {
   "cell_type": "markdown",
   "metadata": {},
   "source": [
    "###  REGRA DE SIMPSON ###"
   ]
  },
  {
   "cell_type": "markdown",
   "metadata": {},
   "source": [
    "###  FÓRMULA DE NEWTON-COTES ###"
   ]
  },
  {
   "cell_type": "markdown",
   "metadata": {},
   "source": [
    "### MÉTODO DE ROMBERG ##"
   ]
  },
  {
   "cell_type": "markdown",
   "metadata": {},
   "source": [
    "##  SOLUÇÕES NUMÉRICAS DE EQUAÇÕES DIFERENCIAIS ORDINÁRIAS ##"
   ]
  },
  {
   "cell_type": "markdown",
   "metadata": {},
   "source": [
    "* ### MÉTODOS DE PASSO SIMPLES ###"
   ]
  },
  {
   "cell_type": "markdown",
   "metadata": {},
   "source": [
    "#### MÉTODO DE SÉRIE DE TAYLOR ####"
   ]
  },
  {
   "cell_type": "markdown",
   "metadata": {},
   "source": [
    "#### MÉTDO DE EULER ####"
   ]
  },
  {
   "cell_type": "markdown",
   "metadata": {},
   "source": [
    "#### MÉTODO DE EULER MODIFICADO ####"
   ]
  },
  {
   "cell_type": "markdown",
   "metadata": {},
   "source": [
    "#### MÉTODO DE RUNGE – KUTTA ####"
   ]
  },
  {
   "cell_type": "markdown",
   "metadata": {},
   "source": [
    "#### MÉTODOS DE PREVISÃO – CORREÇÃO ####"
   ]
  },
  {
   "cell_type": "code",
   "execution_count": null,
   "metadata": {
    "collapsed": true
   },
   "outputs": [],
   "source": []
  }
 ],
 "metadata": {
  "kernelspec": {
   "display_name": "Julia 0.4.5",
   "language": "julia",
   "name": "julia-0.4"
  },
  "language_info": {
   "file_extension": ".jl",
   "mimetype": "application/julia",
   "name": "julia",
   "version": "0.4.5"
  }
 },
 "nbformat": 4,
 "nbformat_minor": 0
}
