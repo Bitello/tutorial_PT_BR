{
 "cells": [
  {
   "cell_type": "markdown",
   "metadata": {},
   "source": [
    "<big style=\"font-weight: bold;\"><big>RAÍZES DE EQUAÇÕES E SISTEMAS</big></big>\n",
    "<p>\n",
    "<span id=\"cell_outer_35\">julia também permite calcular raízes de equações lineares e não lineares através o comando <span style=\"font-weight: bold;\">solve(equacao,var)</span></span></p>"
   ]
  },
  {
   "cell_type": "code",
   "execution_count": null,
   "metadata": {
    "collapsed": true
   },
   "outputs": [],
   "source": [
    "workspace()"
   ]
  },
  {
   "cell_type": "code",
   "execution_count": 1,
   "metadata": {
    "collapsed": false,
    "scrolled": true
   },
   "outputs": [
    {
     "data": {
      "text/latex": [
       "$$x$$"
      ],
      "text/plain": [
       "x"
      ]
     },
     "execution_count": 1,
     "metadata": {},
     "output_type": "execute_result"
    }
   ],
   "source": [
    "#resetar todas as variáveis definidas anteriormente. \n",
    "#Isto serve para não ocorrer problemas com as variáveis simbólicas X e Y\n",
    "# \n",
    "using SymPy\n",
    "\n",
    "x=Sym(\"x\") "
   ]
  },
  {
   "cell_type": "markdown",
   "metadata": {},
   "source": [
    "<strong>Raiz de uma expressão</strong>"
   ]
  },
  {
   "cell_type": "code",
   "execution_count": 2,
   "metadata": {
    "collapsed": false,
    "scrolled": true
   },
   "outputs": [
    {
     "data": {
      "text/latex": [
       "\\begin{bmatrix}\\frac{3}{2} + \\frac{\\sqrt{17}}{2}\\\\- \\frac{\\sqrt{17}}{2} + \\frac{3}{2}\\end{bmatrix}"
      ],
      "text/plain": [
       "2-element Array{SymPy.Sym,1}\n",
       "[       ____ ]\n",
       "[ 3   \\/ 17  ]\n",
       "[ - + ------ ]\n",
       "[ 2     2    ]\n",
       "[            ]\n",
       "[    ____    ]\n",
       "[  \\/ 17    3]\n",
       "[- ------ + -]\n",
       "[    2      2]"
      ]
     },
     "execution_count": 2,
     "metadata": {},
     "output_type": "execute_result"
    }
   ],
   "source": [
    "SymPy.solve(x^2-3*x-2,x)"
   ]
  },
  {
   "cell_type": "markdown",
   "metadata": {},
   "source": [
    "<strong>Raiz de uma função</strong>"
   ]
  },
  {
   "cell_type": "code",
   "execution_count": 3,
   "metadata": {
    "collapsed": false,
    "scrolled": true
   },
   "outputs": [
    {
     "data": {
      "text/plain": [
       "f (generic function with 1 method)"
      ]
     },
     "execution_count": 3,
     "metadata": {},
     "output_type": "execute_result"
    }
   ],
   "source": [
    "f(x) = x^2-3*x-2"
   ]
  },
  {
   "cell_type": "code",
   "execution_count": 4,
   "metadata": {
    "collapsed": false
   },
   "outputs": [
    {
     "data": {
      "text/latex": [
       "\\begin{bmatrix}\\frac{3}{2} + \\frac{\\sqrt{21}}{2}\\\\- \\frac{\\sqrt{21}}{2} + \\frac{3}{2}\\end{bmatrix}"
      ],
      "text/plain": [
       "2-element Array{SymPy.Sym,1}\n",
       "[       ____ ]\n",
       "[ 3   \\/ 21  ]\n",
       "[ - + ------ ]\n",
       "[ 2     2    ]\n",
       "[            ]\n",
       "[    ____    ]\n",
       "[  \\/ 21    3]\n",
       "[- ------ + -]\n",
       "[    2      2]"
      ]
     },
     "execution_count": 4,
     "metadata": {},
     "output_type": "execute_result"
    }
   ],
   "source": [
    "SymPy.solve(f(x)-1,x)"
   ]
  },
  {
   "cell_type": "markdown",
   "metadata": {},
   "source": [
    "Ou ainda"
   ]
  },
  {
   "cell_type": "code",
   "execution_count": 5,
   "metadata": {
    "collapsed": false,
    "scrolled": false
   },
   "outputs": [
    {
     "data": {
      "text/latex": [
       "\\begin{bmatrix}\\frac{3}{2} + \\frac{\\sqrt{17}}{2}\\\\- \\frac{\\sqrt{17}}{2} + \\frac{3}{2}\\end{bmatrix}"
      ],
      "text/plain": [
       "2-element Array{SymPy.Sym,1}\n",
       "[       ____ ]\n",
       "[ 3   \\/ 17  ]\n",
       "[ - + ------ ]\n",
       "[ 2     2    ]\n",
       "[            ]\n",
       "[    ____    ]\n",
       "[  \\/ 17    3]\n",
       "[- ------ + -]\n",
       "[    2      2]"
      ]
     },
     "execution_count": 5,
     "metadata": {},
     "output_type": "execute_result"
    }
   ],
   "source": [
    "resultado = SymPy.solve(x^2-3*x-2,x)"
   ]
  },
  {
   "cell_type": "markdown",
   "metadata": {},
   "source": [
    "O resultado de \"resultado\" é um vetor coluna que apresenta os valores de X1 e X2. Dessa forma, podemos acessar somente o valor de X1 ou de X2\n"
   ]
  },
  {
   "cell_type": "code",
   "execution_count": 6,
   "metadata": {
    "collapsed": false
   },
   "outputs": [
    {
     "data": {
      "text/latex": [
       "$$\\frac{3}{2} + \\frac{\\sqrt{17}}{2}$$"
      ],
      "text/plain": [
       "      ____\n",
       "3   \\/ 17 \n",
       "- + ------\n",
       "2     2   "
      ]
     },
     "metadata": {},
     "output_type": "display_data"
    },
    {
     "data": {
      "text/latex": [
       "$$- \\frac{\\sqrt{17}}{2} + \\frac{3}{2}$$"
      ],
      "text/plain": [
       "    ____    \n",
       "  \\/ 17    3\n",
       "- ------ + -\n",
       "    2      2"
      ]
     },
     "metadata": {},
     "output_type": "display_data"
    }
   ],
   "source": [
    "display(resultado[1])\n",
    "\n",
    "display(resultado[2])"
   ]
  },
  {
   "cell_type": "markdown",
   "metadata": {},
   "source": [
    "Ou com o comando print"
   ]
  },
  {
   "cell_type": "code",
   "execution_count": 7,
   "metadata": {
    "collapsed": false,
    "scrolled": true
   },
   "outputs": [
    {
     "name": "stdout",
     "output_type": "stream",
     "text": [
      "Resultado de X1: 3/2 + sqrt(17)/2. Resultado de X2: -sqrt(17)/2 + 3/2"
     ]
    }
   ],
   "source": [
    "print(\"Resultado de X1: \",(resultado[1]),\". Resultado de X2: \",resultado[2])"
   ]
  },
  {
   "cell_type": "markdown",
   "metadata": {},
   "source": []
  },
  {
   "cell_type": "markdown",
   "metadata": {},
   "source": [
    "<span id=\"cell_outer_35\"></span>ATENÇÃO! <span style=\"font-weight: bold;\">Solve()</span> não resolve todo tipo de equação. Veja o exemplo abaixo:\n"
   ]
  },
  {
   "cell_type": "code",
   "execution_count": 8,
   "metadata": {
    "collapsed": false,
    "scrolled": true
   },
   "outputs": [
    {
     "data": {
      "text/plain": [
       "t (generic function with 1 method)"
      ]
     },
     "execution_count": 8,
     "metadata": {},
     "output_type": "execute_result"
    }
   ],
   "source": [
    "t(x) =  x - x*cos(x)*exp(x)"
   ]
  },
  {
   "cell_type": "code",
   "execution_count": 9,
   "metadata": {
    "collapsed": false
   },
   "outputs": [
    {
     "ename": "LoadError",
     "evalue": "LoadError: PyError (:PyObject_Call) <type 'exceptions.NotImplementedError'>\nNotImplementedError('multiple generators [x, cos(x), exp(x)]\\nNo algorithms are implemented to solve equation -x*exp(x)*cos(x) + x',)\n  File \"/home/jmarcellopereira/.julia/v0.4/Conda/deps/usr/lib/python2.7/site-packages/sympy/solvers/solvers.py\", line 1053, in solve\n    solution = _solve(f[0], *symbols, **flags)\n  File \"/home/jmarcellopereira/.julia/v0.4/Conda/deps/usr/lib/python2.7/site-packages/sympy/solvers/solvers.py\", line 1619, in _solve\n    raise NotImplementedError('\\n'.join([msg, not_impl_msg % f]))\n\nwhile loading In[9], in expression starting on line 1",
     "output_type": "error",
     "traceback": [
      "LoadError: PyError (:PyObject_Call) <type 'exceptions.NotImplementedError'>\nNotImplementedError('multiple generators [x, cos(x), exp(x)]\\nNo algorithms are implemented to solve equation -x*exp(x)*cos(x) + x',)\n  File \"/home/jmarcellopereira/.julia/v0.4/Conda/deps/usr/lib/python2.7/site-packages/sympy/solvers/solvers.py\", line 1053, in solve\n    solution = _solve(f[0], *symbols, **flags)\n  File \"/home/jmarcellopereira/.julia/v0.4/Conda/deps/usr/lib/python2.7/site-packages/sympy/solvers/solvers.py\", line 1619, in _solve\n    raise NotImplementedError('\\n'.join([msg, not_impl_msg % f]))\n\nwhile loading In[9], in expression starting on line 1",
      ""
     ]
    }
   ],
   "source": [
    "solucao = SymPy.solve(t(x),x)"
   ]
  },
  {
   "cell_type": "markdown",
   "metadata": {},
   "source": [
    "Como podemos observar, o comando <strong>solve()</strong>\n",
    " não resolveu a equação. Neste caso temos que usar métodos de aproximação numérica para encontrar valores que satisfação uma certa \n",
    "\n",
    "restrição. Um desses métodos é o \"SymPy.nsolve\", <strong>SymPy.nsolve(função,variavel_independente, valor)</strong>, sendo \"valor\", o valor de chute da raiz a ser encontrada. Outro método é através do pacote <strong>Roots</strong> (Pkg.add(\"Roots\")). A sintaxe é: Roots(função,valor). Para encontrar um valor próximo da raiz, podemos \"chutar\" valores ou obter com precisão por meio de um gráfico "
   ]
  },
  {
   "cell_type": "code",
   "execution_count": null,
   "metadata": {
    "collapsed": false
   },
   "outputs": [],
   "source": [
    "workspace()"
   ]
  },
  {
   "cell_type": "code",
   "execution_count": 12,
   "metadata": {
    "collapsed": false,
    "scrolled": false
   },
   "outputs": [],
   "source": [
    "using SymPy\n",
    "using Winston\n",
    "\n"
   ]
  },
  {
   "cell_type": "code",
   "execution_count": 13,
   "metadata": {
    "collapsed": false,
    "scrolled": false
   },
   "outputs": [
    {
     "ename": "LoadError",
     "evalue": "LoadError: eltype of argument #1 is not Real or Complex\nwhile loading In[13], in expression starting on line 1",
     "output_type": "error",
     "traceback": [
      "LoadError: eltype of argument #1 is not Real or Complex\nwhile loading In[13], in expression starting on line 1",
      "",
      " in error at ./error.jl:21",
      " in plot at /home/jmarcellopereira/.julia/v0.4/Winston/src/plot.jl:166",
      " in plot at /home/jmarcellopereira/.julia/v0.4/Winston/src/plot.jl:240"
     ]
    }
   ],
   "source": [
    "Winston.plot([x->x - x*cos(x)*exp(x)], -20, 20)"
   ]
  },
  {
   "cell_type": "code",
   "execution_count": null,
   "metadata": {
    "collapsed": false
   },
   "outputs": [],
   "source": [
    "# para realizar o calculo, ha a necessidade de ou resetar as variáveis\n",
    "#e escrever a função nomente ou escrever a função com outra variável\n",
    "# pois ja foi atribuído valores para \"x\" e assim ocorre erro. \n",
    "# execute a expressão da função (x - x.*cos(x).*exp(x)) para ver o resultado.\n",
    "\n",
    "workspace()"
   ]
  },
  {
   "cell_type": "code",
   "execution_count": null,
   "metadata": {
    "collapsed": false
   },
   "outputs": [],
   "source": [
    "using SymPy\n",
    "\n",
    "x = Sym(\"x\")"
   ]
  },
  {
   "cell_type": "code",
   "execution_count": null,
   "metadata": {
    "collapsed": false
   },
   "outputs": [],
   "source": [
    "y(x)  = x - x*cos(x)*exp(x)"
   ]
  },
  {
   "cell_type": "code",
   "execution_count": null,
   "metadata": {
    "collapsed": false,
    "scrolled": false
   },
   "outputs": [],
   "source": [
    "SymPy.nsolve(y(x), 12), SymPy.nsolve(y(x), 14), SymPy.nsolve(y(x), 18)"
   ]
  },
  {
   "cell_type": "code",
   "execution_count": null,
   "metadata": {
    "collapsed": false
   },
   "outputs": [],
   "source": [
    "#testando\n",
    "\n",
    "y(17.278759626071672),   y(14.137166216206293)  ,   y(10.995591063064381)"
   ]
  },
  {
   "cell_type": "markdown",
   "metadata": {},
   "source": [
    "Ou então usar o pacote Roots. Pkg.add(\"Roots\")"
   ]
  },
  {
   "cell_type": "code",
   "execution_count": null,
   "metadata": {
    "collapsed": false,
    "scrolled": true
   },
   "outputs": [],
   "source": [
    "using Roots\n",
    "\n",
    "fzero(y,18),  fzero(y,14),   fzero(y,12)"
   ]
  },
  {
   "cell_type": "code",
   "execution_count": null,
   "metadata": {
    "collapsed": false
   },
   "outputs": [],
   "source": []
  },
  {
   "cell_type": "code",
   "execution_count": null,
   "metadata": {
    "collapsed": false
   },
   "outputs": [],
   "source": [
    "# ver SymPy.root"
   ]
  },
  {
   "cell_type": "markdown",
   "metadata": {
    "collapsed": true
   },
   "source": [
    "\n",
    "<strong>Sistemas De Equações </strong>"
   ]
  },
  {
   "cell_type": "code",
   "execution_count": null,
   "metadata": {
    "collapsed": true
   },
   "outputs": [],
   "source": [
    "workspace()"
   ]
  },
  {
   "cell_type": "code",
   "execution_count": null,
   "metadata": {
    "collapsed": false
   },
   "outputs": [],
   "source": [
    "using SymPy\n",
    "\n",
    "x,y = Sym(\"x,y\")"
   ]
  },
  {
   "cell_type": "code",
   "execution_count": null,
   "metadata": {
    "collapsed": false
   },
   "outputs": [],
   "source": [
    "eq1 = 2*x+3*y-6\n",
    "\n",
    "eq2 = 3*x-4*y-12\n",
    "\n",
    "display(eq1)\n",
    "display(eq2)"
   ]
  },
  {
   "cell_type": "code",
   "execution_count": null,
   "metadata": {
    "collapsed": false
   },
   "outputs": [],
   "source": [
    "SymPy.solve([eq1 ,eq2 ],[x , y]) "
   ]
  },
  {
   "cell_type": "markdown",
   "metadata": {},
   "source": [
    "<strong>MÁXIMOS E MÍNIMOS DE FUNÇÕES ++colocar depois de derivada</strong>"
   ]
  },
  {
   "cell_type": "code",
   "execution_count": null,
   "metadata": {
    "collapsed": true
   },
   "outputs": [],
   "source": [
    "workspace()"
   ]
  },
  {
   "cell_type": "code",
   "execution_count": 5,
   "metadata": {
    "collapsed": false
   },
   "outputs": [
    {
     "ename": "LoadError",
     "evalue": "LoadError: ArgumentError: SymPy not found in path\nwhile loading In[5], in expression starting on line 1",
     "output_type": "error",
     "traceback": [
      "LoadError: ArgumentError: SymPy not found in path\nwhile loading In[5], in expression starting on line 1",
      "",
      " in require at ./loading.jl:249"
     ]
    }
   ],
   "source": [
    "using SymPy\n",
    "\n",
    "x,y = Sym(\"x,y\")"
   ]
  },
  {
   "cell_type": "code",
   "execution_count": 2,
   "metadata": {
    "collapsed": false
   },
   "outputs": [
    {
     "data": {
      "text/plain": [
       "f (generic function with 1 method)"
      ]
     },
     "execution_count": 2,
     "metadata": {},
     "output_type": "execute_result"
    }
   ],
   "source": [
    "f(x) = x^3 - 2x - 1/2"
   ]
  },
  {
   "cell_type": "code",
   "execution_count": 3,
   "metadata": {
    "collapsed": false
   },
   "outputs": [
    {
     "data": {
      "text/plain": [
       "(-1.588,0.5880000000000001)"
      ]
     },
     "execution_count": 3,
     "metadata": {},
     "output_type": "execute_result"
    }
   ],
   "source": [
    "# encontra o minimo e máximo de uma função\n",
    "\n",
    "extrema(map(f,(-1.5:0.1:1.5)))"
   ]
  },
  {
   "cell_type": "code",
   "execution_count": 4,
   "metadata": {
    "collapsed": false
   },
   "outputs": [
    {
     "ename": "LoadError",
     "evalue": "LoadError: UndefVarError: SymPy not defined\nwhile loading In[4], in expression starting on line 1",
     "output_type": "error",
     "traceback": [
      "LoadError: UndefVarError: SymPy not defined\nwhile loading In[4], in expression starting on line 1",
      ""
     ]
    }
   ],
   "source": [
    "SymPy.diff(f(x))"
   ]
  },
  {
   "cell_type": "code",
   "execution_count": null,
   "metadata": {
    "collapsed": true
   },
   "outputs": [],
   "source": []
  },
  {
   "cell_type": "markdown",
   "metadata": {},
   "source": [
    "$a_2x^2 + a_1x + a_0$ as $b_2(x-c)^2 + b_1(x-c) + b_0$ "
   ]
  },
  {
   "cell_type": "code",
   "execution_count": null,
   "metadata": {
    "collapsed": false,
    "scrolled": true
   },
   "outputs": [],
   "source": [
    "Area(x, y) = x*y + pi*(x/2)^2/2\n",
    "\n",
    "# devemos resolver a equação em relação a y, de forma a termos y em função de x\n",
    "# use y0 para ver o resultado\n",
    "\n",
    "y0 = solve(2*y + x + pi/2*x - 20, y)\n",
    "\n",
    "\n",
    "# Substituir o \"y\" da função Área por y0 que vale −1.28539816339745x+10.0, derivar em relação a x\n",
    "# e resolver a raiz (Area ==0).\n",
    "# o valor dado de x será o valor extremo da função.\n",
    "# use Area(x,y0) para ver a função substituida\n",
    "\n",
    " solve(diff(Area(x, y0)), x)"
   ]
  },
  {
   "cell_type": "code",
   "execution_count": null,
   "metadata": {
    "collapsed": false
   },
   "outputs": [
    {
     "name": "stderr",
     "output_type": "stream",
     "text": [
      "INFO: Initializing package repository /home/juser/.julia/v0.4\n",
      "INFO: Cloning METADATA from git://github.com/JuliaLang/METADATA.jl\n",
      "INFO: Cloning cache of BinDeps from git://github.com/JuliaLang/BinDeps.jl.git\n",
      "INFO: Cloning cache of ColorTypes from git://github.com/JuliaGraphics/ColorTypes.jl.git\n",
      "INFO: Cloning cache of Colors from git://github.com/JuliaGraphics/Colors.jl.git\n",
      "INFO: Cloning cache of Compat from git://github.com/JuliaLang/Compat.jl.git\n",
      "INFO: Cloning cache of Conda from git://github.com/Luthaf/Conda.jl.git\n",
      "INFO: Cloning cache of Dates from git://github.com/quinnj/Dates.jl.git\n",
      "INFO: Cloning cache of Docile from git://github.com/MichaelHatherly/Docile.jl.git\n",
      "INFO: Cloning cache of FixedPointNumbers from git://github.com/JeffBezanson/FixedPointNumbers.jl.git\n",
      "INFO: Cloning cache of FixedSizeArrays from git://github.com/SimonDanisch/FixedSizeArrays.jl.git\n",
      "INFO: Cloning cache of JSON from git://github.com/JuliaLang/JSON.jl.git\n",
      "INFO: Cloning cache of MacroTools from git://github.com/one-more-minute/MacroTools.jl.git\n",
      "INFO: Cloning cache of Plots from git://github.com/tbreloff/Plots.jl.git\n",
      "INFO: Cloning cache of PyCall from git://github.com/stevengj/PyCall.jl.git\n",
      "INFO: Cloning cache of Reexport from git://github.com/simonster/Reexport.jl.git\n",
      "INFO: Cloning cache of Requires from git://github.com/one-more-minute/Requires.jl.git\n",
      "INFO: Cloning cache of SHA from git://github.com/staticfloat/SHA.jl.git\n",
      "INFO: Cloning cache of SymPy from git://github.com/jverzani/SymPy.jl.git\n",
      "INFO: Cloning cache of URIParser from git://github.com/JuliaWeb/URIParser.jl.git\n",
      "INFO: Installing BinDeps v0.3.21\n",
      "INFO: Installing ColorTypes v0.2.2\n",
      "INFO: Installing Colors v0.6.3\n",
      "INFO: Installing Compat v0.7.14\n",
      "INFO: Installing Conda v0.1.9\n",
      "INFO: Installing Dates v0.4.4\n",
      "INFO: Installing Docile v0.5.23\n",
      "INFO: Installing FixedPointNumbers v0.1.3\n",
      "INFO: Installing FixedSizeArrays v0.1.0\n",
      "INFO: Installing JSON v0.5.0\n",
      "INFO: Installing MacroTools v0.3.0\n",
      "INFO: Installing Plots v0.5.4\n",
      "INFO: Installing PyCall v1.4.0\n",
      "INFO: Installing Reexport v0.0.3\n",
      "INFO: Installing Requires v0.2.2\n",
      "INFO: Installing SHA v0.1.2\n",
      "INFO: Installing SymPy v0.2.40\n",
      "INFO: Installing URIParser v0.1.3\n",
      "INFO: Building PyCall\n",
      "INFO: Recompiling stale cache file /opt/julia_packages/.julia/lib/v0.4/Compat.ji for module Compat.\n",
      "INFO: Recompiling stale cache file /opt/julia_packages/.julia/lib/v0.4/Conda.ji for module Conda.\n",
      "INFO: Recompiling stale cache file /opt/julia_packages/.julia/lib/v0.4/JSON.ji for module JSON.\n"
     ]
    }
   ],
   "source": [
    "Pkg.add(\"SymPy\")"
   ]
  },
  {
   "cell_type": "code",
   "execution_count": null,
   "metadata": {
    "collapsed": true
   },
   "outputs": [],
   "source": []
  }
 ],
 "metadata": {
  "kernelspec": {
   "display_name": "Julia 0.4.5",
   "language": "julia",
   "name": "julia-0.4"
  },
  "language_info": {
   "file_extension": ".jl",
   "mimetype": "application/julia",
   "name": "julia",
   "version": "0.4.5"
  }
 },
 "nbformat": 4,
 "nbformat_minor": 0
}
