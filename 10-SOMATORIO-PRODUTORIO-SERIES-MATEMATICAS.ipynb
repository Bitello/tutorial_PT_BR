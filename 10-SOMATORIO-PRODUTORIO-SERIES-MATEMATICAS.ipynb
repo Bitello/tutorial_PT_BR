{
 "cells": [
  {
   "cell_type": "markdown",
   "metadata": {},
   "source": [
    "<big style=\"font-weight: bold;\"><big>SOMATÓRIO, PRODUTÓRIO E SÉRIES MATEMÁTICAS</big></big>"
   ]
  },
  {
   "cell_type": "markdown",
   "metadata": {
    "collapsed": false
   },
   "source": []
  },
  {
   "cell_type": "code",
   "execution_count": 1,
   "metadata": {
    "collapsed": false
   },
   "outputs": [
    {
     "data": {
      "text/plain": [
       "(x,y)"
      ]
     },
     "execution_count": 1,
     "metadata": {},
     "output_type": "execute_result"
    }
   ],
   "source": [
    "using SymPy\n",
    "\n",
    "x,y = Sym(\"x,y\")"
   ]
  },
  {
   "cell_type": "code",
   "execution_count": 2,
   "metadata": {
    "collapsed": false
   },
   "outputs": [
    {
     "data": {
      "text/latex": [
       "$$\\frac{1}{e^{5}} \\sin{\\left (5 \\right )} + \\left(x - 5\\right) \\left(\\frac{1}{e^{5}} \\cos{\\left (5 \\right )} - \\frac{1}{e^{5}} \\sin{\\left (5 \\right )}\\right) - \\frac{1}{e^{5}} \\left(x - 5\\right)^{2} \\cos{\\left (5 \\right )} + \\mathcal{O}\\left(\\left(x - 5\\right)^{3}; x\\rightarrow5\\right)$$"
      ],
      "text/plain": [
       " -5                  / -5           -5       \\          2  -5           /     \n",
       "e  *sin(5) + (x - 5)*\\e  *cos(5) - e  *sin(5)/ - (x - 5) *e  *cos(5) + O\\(x - \n",
       "\n",
       "  3        \\\n",
       "5) ; x -> 5/"
      ]
     },
     "execution_count": 2,
     "metadata": {},
     "output_type": "execute_result"
    }
   ],
   "source": [
    "series(sin(x)/exp(x),x,5,3)"
   ]
  },
  {
   "cell_type": "code",
   "execution_count": 3,
   "metadata": {
    "collapsed": false
   },
   "outputs": [
    {
     "data": {
      "text/latex": [
       "$$\\sum_{x=1}^{\\infty} \\frac{1}{x^{2}}$$"
      ],
      "text/plain": [
       "  oo    \n",
       "____    \n",
       "\\   `   \n",
       " \\    1 \n",
       "  \\   --\n",
       "  /    2\n",
       " /    x \n",
       "/___,   \n",
       "x = 1   "
      ]
     },
     "execution_count": 3,
     "metadata": {},
     "output_type": "execute_result"
    }
   ],
   "source": [
    "S = Sum(1/x^2, (x, 1, oo))"
   ]
  },
  {
   "cell_type": "code",
   "execution_count": 4,
   "metadata": {
    "collapsed": false,
    "scrolled": true
   },
   "outputs": [
    {
     "data": {
      "text/plain": [
       "1.6449340668482264"
      ]
     },
     "execution_count": 4,
     "metadata": {},
     "output_type": "execute_result"
    }
   ],
   "source": [
    "float(S)"
   ]
  },
  {
   "cell_type": "code",
   "execution_count": 5,
   "metadata": {
    "collapsed": false
   },
   "outputs": [
    {
     "data": {
      "text/latex": [
       "$$\\frac{\\pi^{2}}{6}$$"
      ],
      "text/plain": [
       "  2\n",
       "pi \n",
       "---\n",
       " 6 "
      ]
     },
     "execution_count": 5,
     "metadata": {},
     "output_type": "execute_result"
    }
   ],
   "source": [
    "Sum(1/x^2, (x, 1, oo)) |> doit"
   ]
  },
  {
   "cell_type": "markdown",
   "metadata": {
    "collapsed": true
   },
   "source": [
    "%%% Fim Cálculos com Matemática Simbólica %%%"
   ]
  }
 ],
 "metadata": {
  "kernelspec": {
   "display_name": "Julia 0.4.5",
   "language": "julia",
   "name": "julia-0.4"
  },
  "language_info": {
   "file_extension": ".jl",
   "mimetype": "application/julia",
   "name": "julia",
   "version": "0.4.5"
  }
 },
 "nbformat": 4,
 "nbformat_minor": 0
}
