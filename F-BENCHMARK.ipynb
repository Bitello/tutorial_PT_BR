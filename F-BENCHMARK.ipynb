{
 "cells": [
  {
   "cell_type": "markdown",
   "metadata": {},
   "source": [
    "** BENCHMARK O Crivo de Eratóstenes**\n",
    "\n",
    "O Crivo de Eratóstenes é um algoritmo simples que encontra os números primos até um determinado número inteiro.\n",
    "\n",
    "Nota\n",
    "É importante que o algoritmo de crivo ser o algoritmo real usado para encontrar números primos para a tarefa.\n"
   ]
  },
  {
   "cell_type": "code",
   "execution_count": 1,
   "metadata": {
    "collapsed": false
   },
   "outputs": [
    {
     "data": {
      "text/plain": [
       "sieve (generic function with 1 method)"
      ]
     },
     "execution_count": 1,
     "metadata": {},
     "output_type": "execute_result"
    }
   ],
   "source": [
    "# Returns an array of positive prime numbers less than or equal to lim\n",
    "function sieve(lim :: Int)\n",
    "    is_prime :: Array = trues(lim)\n",
    "    llim :: Int = isqrt(lim)\n",
    "    result :: Array = [2]  #Initial array\n",
    "    for i = 3:2:lim\n",
    "        if is_prime[i]\n",
    "            if i <= llim\n",
    "                for j = i*i:2*i:lim\n",
    "                    is_prime[j] = false\n",
    "                end\n",
    "            end\n",
    "            push!(result,i)\n",
    "        end\n",
    "    end\n",
    "    return result\n",
    "end"
   ]
  },
  {
   "cell_type": "code",
   "execution_count": 9,
   "metadata": {
    "collapsed": false
   },
   "outputs": [
    {
     "name": "stdout",
     "output_type": "stream",
     "text": [
      "  9.649716 seconds (40 allocations: 1.549 GB, 0.90% gc time)\n"
     ]
    }
   ],
   "source": [
    "@time sieve(1000000000);"
   ]
  },
  {
   "cell_type": "markdown",
   "metadata": {},
   "source": [
    "** Fatorial**"
   ]
  },
  {
   "cell_type": "code",
   "execution_count": 7,
   "metadata": {
    "collapsed": false
   },
   "outputs": [
    {
     "data": {
      "text/plain": [
       "factorial (generic function with 2 methods)"
      ]
     },
     "execution_count": 7,
     "metadata": {},
     "output_type": "execute_result"
    }
   ],
   "source": [
    "function factorial(n::Integer)\n",
    "    if n < 0\n",
    "        return zero(n)\n",
    "    end\n",
    "    f = one(n)\n",
    "    for i = 2:n\n",
    "        f *= i\n",
    "    end\n",
    "\n",
    "    return f\n",
    "end"
   ]
  },
  {
   "cell_type": "code",
   "execution_count": 8,
   "metadata": {
    "collapsed": false
   },
   "outputs": [
    {
     "name": "stdout",
     "output_type": "stream",
     "text": [
      "  "
     ]
    },
    {
     "data": {
      "text/plain": [
       "0"
      ]
     },
     "execution_count": 8,
     "metadata": {},
     "output_type": "execute_result"
    },
    {
     "name": "stdout",
     "output_type": "stream",
     "text": [
      "5.197586 seconds (1.99 k allocations: 102.180 KB)\n"
     ]
    }
   ],
   "source": [
    "@time factorial(5000000000)"
   ]
  },
  {
   "cell_type": "code",
   "execution_count": null,
   "metadata": {
    "collapsed": true
   },
   "outputs": [],
   "source": []
  }
 ],
 "metadata": {
  "kernelspec": {
   "display_name": "Julia 0.4.5",
   "language": "julia",
   "name": "julia-0.4"
  },
  "language_info": {
   "file_extension": ".jl",
   "mimetype": "application/julia",
   "name": "julia",
   "version": "0.4.5"
  }
 },
 "nbformat": 4,
 "nbformat_minor": 0
}
