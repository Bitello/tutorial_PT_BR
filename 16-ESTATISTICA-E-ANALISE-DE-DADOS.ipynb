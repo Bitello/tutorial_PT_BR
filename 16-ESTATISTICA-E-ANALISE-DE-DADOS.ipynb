{
 "cells": [
  {
   "cell_type": "markdown",
   "metadata": {},
   "source": [
    "#ESTATÍSTICA E ANÁLISE DE DADOS#"
   ]
  },
  {
   "cell_type": "markdown",
   "metadata": {},
   "source": [
    "## ESTATÍSTICA DESCRITIVA##"
   ]
  },
  {
   "cell_type": "code",
   "execution_count": 3,
   "metadata": {
    "collapsed": false
   },
   "outputs": [],
   "source": [
    "#  \n",
    "dados_alunos = [1,2,3,4,5,6,7,8,9,10,11,12,13,14];\n",
    "dados_altura_alunos = [1.6,1.8,1.72,1.55,1.65,1.92,1.70,1.57,1.63,1.65,1.64,1.74,1.72,1.68];"
   ]
  },
  {
   "cell_type": "code",
   "execution_count": 45,
   "metadata": {
    "collapsed": false
   },
   "outputs": [
    {
     "data": {
      "text/plain": [
       "14-element Array{Float64,1}:\n",
       " 1.55\n",
       " 1.57\n",
       " 1.6 \n",
       " 1.63\n",
       " 1.64\n",
       " 1.65\n",
       " 1.65\n",
       " 1.68\n",
       " 1.7 \n",
       " 1.72\n",
       " 1.72\n",
       " 1.74\n",
       " 1.8 \n",
       " 1.92"
      ]
     },
     "execution_count": 45,
     "metadata": {},
     "output_type": "execute_result"
    }
   ],
   "source": [
    "sort(dados_altura_alunos)"
   ]
  },
  {
   "cell_type": "code",
   "execution_count": 4,
   "metadata": {
    "collapsed": false
   },
   "outputs": [
    {
     "data": {
      "image/png": "[encoded data removed]",
      "text/plain": [
       "Winston.FramedPlot(...)"
      ]
     },
     "execution_count": 4,
     "metadata": {},
     "output_type": "execute_result"
    }
   ],
   "source": [
    "using Winston\n",
    "Winston.bar(dados_alunos,dados_altura_alunos)"
   ]
  },
  {
   "cell_type": "code",
   "execution_count": null,
   "metadata": {
    "collapsed": false,
    "scrolled": true
   },
   "outputs": [],
   "source": [
    "Winston.plothist(dados_altura_alunos)\n",
    "\n",
    "Winston.legend([\"o\"])          # aplica a legenda\n",
    "Winston.title(\"Histograma Altura dos alunos\")  # aplica a o título na parte superior (padrão)\n",
    "Winston.xlabel(\"Altura\")                 # aplica a nome ao eixo X\n",
    "Winston.ylabel(\"Quantidade\")                 # aplica a nome ao eixo Y\n",
    "Winston.grid(\"minor\")                      # aplica grade"
   ]
  },
  {
   "cell_type": "code",
   "execution_count": null,
   "metadata": {
    "collapsed": false
   },
   "outputs": [],
   "source": [
    "# média aritimétrica\n",
    "\n",
    "mean(dados_altura_alunos)"
   ]
  },
  {
   "cell_type": "code",
   "execution_count": 44,
   "metadata": {
    "collapsed": false
   },
   "outputs": [
    {
     "data": {
      "text/plain": [
       "1.665"
      ]
     },
     "execution_count": 44,
     "metadata": {},
     "output_type": "execute_result"
    }
   ],
   "source": [
    "# mediana\n",
    "\n",
    "median(dados_altura_alunos)"
   ]
  },
  {
   "cell_type": "code",
   "execution_count": 42,
   "metadata": {
    "collapsed": false
   },
   "outputs": [
    {
     "data": {
      "text/plain": [
       "0.009255494505494502"
      ]
     },
     "execution_count": 42,
     "metadata": {},
     "output_type": "execute_result"
    }
   ],
   "source": [
    "# variancia\n",
    "\n",
    "var(dados_altura_alunos)"
   ]
  },
  {
   "cell_type": "code",
   "execution_count": 41,
   "metadata": {
    "collapsed": false
   },
   "outputs": [
    {
     "data": {
      "text/plain": [
       "0.09620548064166876"
      ]
     },
     "execution_count": 41,
     "metadata": {},
     "output_type": "execute_result"
    }
   ],
   "source": [
    "#desvio padrão\n",
    "\n",
    "std(dados_altura_alunos)"
   ]
  },
  {
   "cell_type": "code",
   "execution_count": 47,
   "metadata": {
    "collapsed": false
   },
   "outputs": [
    {
     "data": {
      "text/plain": [
       "(1.5:0.1:2.0,[3,6,4,0,1])"
      ]
     },
     "execution_count": 47,
     "metadata": {},
     "output_type": "execute_result"
    }
   ],
   "source": [
    "hist(dados_altura_alunos)"
   ]
  },
  {
   "cell_type": "code",
   "execution_count": null,
   "metadata": {
    "collapsed": true
   },
   "outputs": [],
   "source": []
  },
  {
   "cell_type": "code",
   "execution_count": null,
   "metadata": {
    "collapsed": true
   },
   "outputs": [],
   "source": []
  },
  {
   "cell_type": "markdown",
   "metadata": {},
   "source": []
  },
  {
   "cell_type": "code",
   "execution_count": 2,
   "metadata": {
    "collapsed": false
   },
   "outputs": [
    {
     "data": {
      "text/plain": [
       "3x4 Array{Float64,2}:\n",
       " 0.26029  0.55794  0.95588  0.81311\n",
       " 0.35215  0.61938  0.8666   0.40127\n",
       " 0.41074  0.65143  0.35906  0.45998"
      ]
     },
     "execution_count": 2,
     "metadata": {},
     "output_type": "execute_result"
    }
   ],
   "source": [
    "Md = [0.26029   0.55794   0.95588   0.81311; 0.35215   0.61938   0.86660   0.40127;0.41074   0.65143   0.35906   0.45998]\n"
   ]
  },
  {
   "cell_type": "code",
   "execution_count": 3,
   "metadata": {
    "collapsed": false
   },
   "outputs": [
    {
     "data": {
      "text/plain": [
       "(\n",
       "3x4 Array{Float64,2}:\n",
       " 0.26029  0.55794  0.95588  0.81311\n",
       " 0.35215  0.61938  0.8666   0.40127\n",
       " 0.41074  0.65143  0.35906  0.45998,\n",
       "\n",
       "0.50896)"
      ]
     },
     "execution_count": 3,
     "metadata": {},
     "output_type": "execute_result"
    }
   ],
   "source": [
    "# Mediana dos elementos de uma matriz. \n",
    "# Corresponde ao elemento de posição média entre os elementos dos vetores colunas \n",
    "# [0.26029;   0.35215;   0.41074], [0.55794;   0.61938;   0.65143], \n",
    "# [0.95588;   0.86660;   0.35906] e [0.81311;   0.40127;   0.45998]\n",
    "\n",
    "Md, median(Md)"
   ]
  },
  {
   "cell_type": "code",
   "execution_count": 4,
   "metadata": {
    "collapsed": false
   },
   "outputs": [
    {
     "data": {
      "text/plain": [
       "0.35215"
      ]
     },
     "execution_count": 4,
     "metadata": {},
     "output_type": "execute_result"
    }
   ],
   "source": [
    "# Testando se 0.35215 é de fato o valor mediano do vetor coluna [0.26029;   0.35215;   0.41074]\n",
    "\n",
    "median(Md[:,1])"
   ]
  },
  {
   "cell_type": "code",
   "execution_count": 5,
   "metadata": {
    "collapsed": false
   },
   "outputs": [
    {
     "data": {
      "text/plain": [
       "(\n",
       "3x4 Array{Float64,2}:\n",
       " 0.26029  0.55794  0.95588  0.81311\n",
       " 0.35215  0.61938  0.8666   0.40127\n",
       " 0.41074  0.65143  0.35906  0.45998,\n",
       "\n",
       "0.5589858333333334)"
      ]
     },
     "execution_count": 5,
     "metadata": {},
     "output_type": "execute_result"
    }
   ],
   "source": [
    "# Media dos valores dos elementos de uma matriz.\n",
    "# Corresponde ao elemento de posição média entre os elementos dos vetores colunas \n",
    "# [0.26029;   0.35215;   0.41074], [0.55794;   0.61938;   0.65143], \n",
    "# [0.95588;   0.86660;   0.35906] e [0.81311;   0.40127;   0.45998]\n",
    "\n",
    "Md, mean(Md)"
   ]
  },
  {
   "cell_type": "code",
   "execution_count": 6,
   "metadata": {
    "collapsed": false
   },
   "outputs": [
    {
     "data": {
      "text/plain": [
       "(\n",
       "3x4 Array{Float64,2}:\n",
       " 0.26029  0.55794  0.95588  0.81311\n",
       " 0.35215  0.61938  0.8666   0.40127\n",
       " 0.41074  0.65143  0.35906  0.45998,\n",
       "\n",
       "0.34106)"
      ]
     },
     "execution_count": 6,
     "metadata": {},
     "output_type": "execute_result"
    }
   ],
   "source": [
    "# Testando se 0.34106 é de fato o valor médio do vetor coluna [0.26029;   0.35215;   0.41074]\n",
    "\n",
    "Md, mean(Md[:,1])"
   ]
  },
  {
   "cell_type": "code",
   "execution_count": 7,
   "metadata": {
    "collapsed": false
   },
   "outputs": [
    {
     "data": {
      "text/plain": [
       "(\n",
       "3x4 Array{Float64,2}:\n",
       " 0.26029  0.55794  0.95588  0.81311\n",
       " 0.35215  0.61938  0.8666   0.40127\n",
       " 0.41074  0.65143  0.35906  0.45998,\n",
       "\n",
       "0.22513609784703092)"
      ]
     },
     "execution_count": 7,
     "metadata": {},
     "output_type": "execute_result"
    }
   ],
   "source": [
    "# Desvio padrão dos elementos de uma matriz\n",
    "# Corresponde ao desvio padrão entre os elementos dos vetores colunas\n",
    "# [0.26029;   0.35215;   0.41074] [0.55794;   0.61938;   0.65143], \n",
    "# [0.95588;   0.86660;   0.35906] e [0.81311;   0.40127;   0.45998]\n",
    "\n",
    "Md, std(Md)"
   ]
  },
  {
   "cell_type": "code",
   "execution_count": 8,
   "metadata": {
    "collapsed": false
   },
   "outputs": [
    {
     "data": {
      "text/plain": [
       "(\n",
       "3x4 Array{Float64,2}:\n",
       " 0.26029  0.55794  0.95588  0.81311\n",
       " 0.35215  0.61938  0.8666   0.40127\n",
       " 0.41074  0.65143  0.35906  0.45998,\n",
       "\n",
       "0.95588)"
      ]
     },
     "execution_count": 8,
     "metadata": {},
     "output_type": "execute_result"
    }
   ],
   "source": [
    "# Valor máximo de uma matriz\n",
    "# Corresponde ao maior valor dos elementos dos vetores colunas\n",
    "# [0.26029;   0.35215;   0.41074] [0.55794;   0.61938;   0.65143], \n",
    "# [0.95588;   0.86660;   0.35906] e [0.81311;   0.40127;   0.45998]\n",
    "\n",
    "Md, maximum(Md)"
   ]
  },
  {
   "cell_type": "code",
   "execution_count": 9,
   "metadata": {
    "collapsed": false
   },
   "outputs": [
    {
     "data": {
      "text/plain": [
       "(\n",
       "3x4 Array{Float64,2}:\n",
       " 0.26029  0.55794  0.95588  0.81311\n",
       " 0.35215  0.61938  0.8666   0.40127\n",
       " 0.41074  0.65143  0.35906  0.45998,\n",
       "\n",
       "0.26029)"
      ]
     },
     "execution_count": 9,
     "metadata": {},
     "output_type": "execute_result"
    }
   ],
   "source": [
    "# Valor mínimo de uma matriz\n",
    "# Corresponde ao menor valor dos elementos dos vetores colunas\n",
    "# [0.26029;   0.35215;   0.41074] [0.55794;   0.61938;   0.65143], \n",
    "# [0.95588;   0.86660;   0.35906] e [0.81311;   0.40127;   0.45998]\n",
    "\n",
    "Md, minimum(Md)"
   ]
  },
  {
   "cell_type": "code",
   "execution_count": 10,
   "metadata": {
    "collapsed": false
   },
   "outputs": [
    {
     "data": {
      "text/plain": [
       "3x4 Array{Float64,2}:\n",
       " 0.26029  0.55794  0.95588  0.81311\n",
       " 0.35215  0.61938  0.8666   0.40127\n",
       " 0.41074  0.65143  0.35906  0.45998"
      ]
     },
     "metadata": {},
     "output_type": "display_data"
    },
    {
     "data": {
      "text/plain": [
       "(0.95588,7)"
      ]
     },
     "execution_count": 10,
     "metadata": {},
     "output_type": "execute_result"
    }
   ],
   "source": [
    "# Valor máximo dos elementos dos vetores coluna da matriz e indice que se refere à posição do elemento. \n",
    "# \"7\" significa sétimo elemento contando apartir do elemento a11, coluna por coluna\n",
    "\n",
    "display(Md)\n",
    "\n",
    "(valor,indice) = findmax(Md)"
   ]
  },
  {
   "cell_type": "code",
   "execution_count": 11,
   "metadata": {
    "collapsed": false
   },
   "outputs": [
    {
     "data": {
      "text/plain": [
       "(\n",
       "3x3 Array{Float64,2}:\n",
       " 0.533762  0.225268   0.921844 \n",
       " 0.615065  0.975729   0.313641 \n",
       " 0.988938  0.0119776  0.0724563,\n",
       "\n",
       "3x3 Array{Float64,2}:\n",
       " 0.186437  0.927802  0.172868\n",
       " 0.318194  0.588124  0.263744\n",
       " 0.450322  0.317169  0.705777,\n",
       "\n",
       "3x3 Array{Float64,2}:\n",
       " 0.533762  0.927802  0.921844\n",
       " 0.615065  0.975729  0.313641\n",
       " 0.988938  0.317169  0.705777)"
      ]
     },
     "execution_count": 11,
     "metadata": {},
     "output_type": "execute_result"
    }
   ],
   "source": [
    "# valores máximos de entre duas matrizes, tomados (a11,b11),(a12,b12)....\n",
    "\n",
    "MM = rand(3,3);NN = rand(3,3)\n",
    "\n",
    "MM,NN, max(MM,NN)"
   ]
  },
  {
   "cell_type": "code",
   "execution_count": 12,
   "metadata": {
    "collapsed": false
   },
   "outputs": [
    {
     "data": {
      "text/plain": [
       "(\n",
       "3x3 Array{Float64,2}:\n",
       " 0.0357877  0.405154  0.402199\n",
       " 0.328283   0.297471  0.720156\n",
       " 0.745668   0.238202  0.956726,\n",
       "\n",
       "3x3 Array{Float64,2}:\n",
       " 0.374725  0.162238  0.0563211\n",
       " 0.303427  0.915251  0.328071 \n",
       " 0.607713  0.905951  0.0711008,\n",
       "\n",
       "3x3 Array{Float64,2}:\n",
       " 0.0357877  0.162238  0.0563211\n",
       " 0.303427   0.297471  0.328071 \n",
       " 0.607713   0.238202  0.0711008)"
      ]
     },
     "execution_count": 12,
     "metadata": {},
     "output_type": "execute_result"
    }
   ],
   "source": [
    "# valores minimos de entre duas matrizes, tomados (a11,b11),(a12,b12)....\n",
    "\n",
    "MM = rand(3,3)\n",
    "\n",
    "NN = rand(3,3)\n",
    "\n",
    "MM,NN, min(MM,NN)"
   ]
  },
  {
   "cell_type": "code",
   "execution_count": 13,
   "metadata": {
    "collapsed": false
   },
   "outputs": [
    {
     "data": {
      "text/plain": [
       "((0.26029,1),\n",
       "3x4 Array{Float64,2}:\n",
       " 0.26029  0.55794  0.95588  0.81311\n",
       " 0.35215  0.61938  0.8666   0.40127\n",
       " 0.41074  0.65143  0.35906  0.45998)"
      ]
     },
     "execution_count": 13,
     "metadata": {},
     "output_type": "execute_result"
    }
   ],
   "source": [
    "# Valor minimo dos elementos dos vetores coluna da matriz e indice que se refere à posição do elemento. \n",
    "# \"1\" significa primeiro elemento contando apartir do elemento a11, coluna por coluna\n",
    "\n",
    "(valor,indice) = findmin(Md), Md"
   ]
  },
  {
   "cell_type": "code",
   "execution_count": null,
   "metadata": {
    "collapsed": true
   },
   "outputs": [],
   "source": []
  },
  {
   "cell_type": "code",
   "execution_count": null,
   "metadata": {
    "collapsed": true
   },
   "outputs": [],
   "source": []
  }
 ],
 "metadata": {
  "kernelspec": {
   "display_name": "Julia 0.4.5",
   "language": "julia",
   "name": "julia-0.4"
  },
  "language_info": {
   "file_extension": ".jl",
   "mimetype": "application/julia",
   "name": "julia",
   "version": "0.4.5"
  }
 },
 "nbformat": 4,
 "nbformat_minor": 0
}
