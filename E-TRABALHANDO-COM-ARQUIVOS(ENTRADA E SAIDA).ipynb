{
 "cells": [
  {
   "cell_type": "markdown",
   "metadata": {},
   "source": [
    "# TRABALHANDO COM ARQUIVOS(ENTRADA E SAIDA) ##"
   ]
  },
  {
   "cell_type": "markdown",
   "metadata": {
    "collapsed": false
   },
   "source": [
    "### CRIANDO E LENDO ARQUIVOS ###"
   ]
  },
  {
   "cell_type": "markdown",
   "metadata": {},
   "source": [
    "**Tabela de atributos** \n",
    "\n",
    "<table border=\"1\" class=\"docutils\" style=\"float: left;\">\n",
    "<colgroup>\n",
    "<col width=\"11%\" />\n",
    "<col width=\"89%\" />\n",
    "</colgroup>\n",
    "<tbody valign=\"top\">\n",
    "<tr class=\"row-odd\"><td>r</td>\n",
    "<td>read</td>\n",
    "</tr>\n",
    "<tr class=\"row-even\"><td>r+</td>\n",
    "<td>read, write</td>\n",
    "</tr>\n",
    "<tr class=\"row-odd\"><td>w</td>\n",
    "<td>write, create, truncate</td>\n",
    "</tr>\n",
    "<tr class=\"row-even\"><td>w+</td>\n",
    "<td>read, write, create, truncate</td>\n",
    "</tr>\n",
    "<tr class=\"row-odd\"><td>a</td>\n",
    "<td>write, create, append</td>\n",
    "</tr>\n",
    "<tr class=\"row-even\"><td>a+</td>\n",
    "<td>read, write, create, append</td>\n",
    "</tr>\n",
    "</tbody>\n",
    "</table>"
   ]
  },
  {
   "cell_type": "markdown",
   "metadata": {},
   "source": [
    "** Criando Arquivos **"
   ]
  },
  {
   "cell_type": "code",
   "execution_count": 2,
   "metadata": {
    "collapsed": false,
    "scrolled": false
   },
   "outputs": [
    {
     "data": {
      "text/plain": [
       "\"arquivo.dat\""
      ]
     },
     "execution_count": 2,
     "metadata": {},
     "output_type": "execute_result"
    }
   ],
   "source": [
    "arquivo_dados = \"arquivo.dat\""
   ]
  },
  {
   "cell_type": "code",
   "execution_count": 3,
   "metadata": {
    "collapsed": false
   },
   "outputs": [
    {
     "data": {
      "text/plain": [
       "ASCIIString"
      ]
     },
     "execution_count": 3,
     "metadata": {},
     "output_type": "execute_result"
    }
   ],
   "source": [
    "typeof(arquivo_dados)"
   ]
  },
  {
   "cell_type": "markdown",
   "metadata": {},
   "source": [
    "** Gravando dados **"
   ]
  },
  {
   "cell_type": "code",
   "execution_count": 5,
   "metadata": {
    "collapsed": false
   },
   "outputs": [
    {
     "data": {
      "text/plain": [
       "IOStream(<file arquivo.dat>)"
      ]
     },
     "execution_count": 5,
     "metadata": {},
     "output_type": "execute_result"
    }
   ],
   "source": [
    "# abrir o arquivo criado com atributo de gravação \"w\". \n",
    "# e vincular a uma variável chamada dados.\n",
    "# se ja foi criado o arquivo use open(\"arquivo.dat\",\"w\")\n",
    "# senão os dados serão sobreescritos\n",
    "\n",
    "dados = open(arquivo_dados, \"w\")"
   ]
  },
  {
   "cell_type": "markdown",
   "metadata": {},
   "source": [
    "ou direto"
   ]
  },
  {
   "cell_type": "code",
   "execution_count": 50,
   "metadata": {
    "collapsed": false
   },
   "outputs": [
    {
     "data": {
      "text/plain": [
       "IOStream(<file arquivo.dat>)"
      ]
     },
     "execution_count": 50,
     "metadata": {},
     "output_type": "execute_result"
    }
   ],
   "source": [
    "dados = open(\"arquivo.dat\", \"w\")"
   ]
  },
  {
   "cell_type": "code",
   "execution_count": 51,
   "metadata": {
    "collapsed": false
   },
   "outputs": [
    {
     "data": {
      "text/plain": [
       "5"
      ]
     },
     "execution_count": 51,
     "metadata": {},
     "output_type": "execute_result"
    }
   ],
   "source": [
    "write(dados, \"caramba!\")\n",
    "write(dados, \"Maluco,\")\n",
    "write(dados, \"Eita,\")"
   ]
  },
  {
   "cell_type": "code",
   "execution_count": 52,
   "metadata": {
    "collapsed": true
   },
   "outputs": [],
   "source": [
    "# fechando o arquivo\n",
    "\n",
    "close(dados)"
   ]
  },
  {
   "cell_type": "markdown",
   "metadata": {
    "collapsed": true
   },
   "source": [
    "** Lendo arquivo **"
   ]
  },
  {
   "cell_type": "code",
   "execution_count": 53,
   "metadata": {
    "collapsed": false,
    "scrolled": true
   },
   "outputs": [
    {
     "data": {
      "text/plain": [
       "\"caramba!Maluco,Eita,\""
      ]
     },
     "execution_count": 53,
     "metadata": {},
     "output_type": "execute_result"
    }
   ],
   "source": [
    "readall(\"arquivo.dat\")"
   ]
  },
  {
   "cell_type": "markdown",
   "metadata": {},
   "source": [
    "Atribuindo o arquivo a uma variável para fazer a leitura"
   ]
  },
  {
   "cell_type": "code",
   "execution_count": 13,
   "metadata": {
    "collapsed": false
   },
   "outputs": [
    {
     "data": {
      "text/plain": [
       "IOStream(<file arquivo.dat>)"
      ]
     },
     "execution_count": 13,
     "metadata": {},
     "output_type": "execute_result"
    }
   ],
   "source": [
    "# arquivo aberto com atributo de somente leitura\n",
    "\n",
    "dados = open(arquivo_dados,\"r\")"
   ]
  },
  {
   "cell_type": "code",
   "execution_count": 14,
   "metadata": {
    "collapsed": false
   },
   "outputs": [
    {
     "data": {
      "text/plain": [
       "\"caramba!\\nMaluco,Eita, ufa,\""
      ]
     },
     "execution_count": 14,
     "metadata": {},
     "output_type": "execute_result"
    }
   ],
   "source": [
    "linha_dados = readall(dados)"
   ]
  },
  {
   "cell_type": "code",
   "execution_count": 15,
   "metadata": {
    "collapsed": true
   },
   "outputs": [],
   "source": [
    "close(dados)"
   ]
  },
  {
   "cell_type": "code",
   "execution_count": 16,
   "metadata": {
    "collapsed": false
   },
   "outputs": [
    {
     "data": {
      "text/plain": [
       "\"caramba!\\nMaluco,Eita, ufa,\""
      ]
     },
     "metadata": {},
     "output_type": "display_data"
    }
   ],
   "source": [
    "# mesmo depois de fechado, pode ser lido a partir da variável\n",
    "\n",
    "display(linha_dados)"
   ]
  },
  {
   "cell_type": "markdown",
   "metadata": {},
   "source": [
    "** obs** se fizer :\n",
    "\n",
    "readall(dados)\n",
    "\n",
    "close(dados)\n",
    "\n",
    "display(linha_dados)\n",
    "\n",
    "Não vai aparecer nada! uma vez que o conteúdo não está vinculado à uma variável. Logo, ao fechar o arquivo, não serã possível ler"
   ]
  },
  {
   "cell_type": "code",
   "execution_count": 54,
   "metadata": {
    "collapsed": false
   },
   "outputs": [
    {
     "data": {
      "text/plain": [
       "\"caramba!Maluco,Eita,\""
      ]
     },
     "execution_count": 54,
     "metadata": {},
     "output_type": "execute_result"
    }
   ],
   "source": [
    "readall(\"arquivo.dat\")"
   ]
  },
  {
   "cell_type": "code",
   "execution_count": 55,
   "metadata": {
    "collapsed": false
   },
   "outputs": [
    {
     "data": {
      "text/plain": [
       "IOStream(<file arquivo.dat>)"
      ]
     },
     "execution_count": 55,
     "metadata": {},
     "output_type": "execute_result"
    }
   ],
   "source": [
    "arquivo_dados = open(\"arquivo.dat\", \"w\")"
   ]
  },
  {
   "cell_type": "code",
   "execution_count": 56,
   "metadata": {
    "collapsed": false
   },
   "outputs": [
    {
     "data": {
      "text/plain": [
       "11"
      ]
     },
     "execution_count": 56,
     "metadata": {},
     "output_type": "execute_result"
    }
   ],
   "source": [
    "write(arquivo_dados, \"opa ih....!\")"
   ]
  },
  {
   "cell_type": "code",
   "execution_count": 57,
   "metadata": {
    "collapsed": false
   },
   "outputs": [
    {
     "data": {
      "text/plain": [
       "\"\""
      ]
     },
     "execution_count": 57,
     "metadata": {},
     "output_type": "execute_result"
    }
   ],
   "source": [
    "readall(\"arquivo.dat\")\n",
    "\n",
    "# não leu nada porque o atributo é somente escrita"
   ]
  },
  {
   "cell_type": "code",
   "execution_count": 58,
   "metadata": {
    "collapsed": true
   },
   "outputs": [],
   "source": [
    "close(arquivo_dados)"
   ]
  },
  {
   "cell_type": "code",
   "execution_count": 59,
   "metadata": {
    "collapsed": false
   },
   "outputs": [
    {
     "data": {
      "text/plain": [
       "\"opa ih....!\""
      ]
     },
     "execution_count": 59,
     "metadata": {},
     "output_type": "execute_result"
    }
   ],
   "source": [
    "readall(\"arquivo.dat\")"
   ]
  },
  {
   "cell_type": "markdown",
   "metadata": {},
   "source": [
    "veja que apagou tudo!"
   ]
  },
  {
   "cell_type": "code",
   "execution_count": 60,
   "metadata": {
    "collapsed": false
   },
   "outputs": [
    {
     "data": {
      "text/plain": [
       "\"opa ih....!\""
      ]
     },
     "execution_count": 60,
     "metadata": {},
     "output_type": "execute_result"
    }
   ],
   "source": [
    "# ler o ultimo conteúdo gravado no arquivo\n",
    "\n",
    "readall(\"arquivo.dat\")"
   ]
  },
  {
   "cell_type": "code",
   "execution_count": 61,
   "metadata": {
    "collapsed": false
   },
   "outputs": [
    {
     "data": {
      "text/plain": [
       "IOStream(<file arquivo.dat>)"
      ]
     },
     "execution_count": 61,
     "metadata": {},
     "output_type": "execute_result"
    }
   ],
   "source": [
    "#abrindo o arquivo com atributo de ler, escrever, criar e acrescentar conteúdo ao final\n",
    "\n",
    "arquivo_dados= open(\"arquivo.dat\", \"a+\")"
   ]
  },
  {
   "cell_type": "code",
   "execution_count": 62,
   "metadata": {
    "collapsed": false
   },
   "outputs": [
    {
     "data": {
      "text/plain": [
       "7"
      ]
     },
     "execution_count": 62,
     "metadata": {},
     "output_type": "execute_result"
    }
   ],
   "source": [
    "write(arquivo_dados, \"ah...!\\n\")"
   ]
  },
  {
   "cell_type": "code",
   "execution_count": 63,
   "metadata": {
    "collapsed": false
   },
   "outputs": [
    {
     "data": {
      "text/plain": [
       "\"opa ih....!\""
      ]
     },
     "execution_count": 63,
     "metadata": {},
     "output_type": "execute_result"
    }
   ],
   "source": [
    "readall(\"arquivo.dat\")\n",
    "\n",
    "# le o arquivo sem ainda ter gravado os dados da memoria no arquivo em disco"
   ]
  },
  {
   "cell_type": "code",
   "execution_count": 64,
   "metadata": {
    "collapsed": true
   },
   "outputs": [],
   "source": [
    "close(arquivo_dados)"
   ]
  },
  {
   "cell_type": "code",
   "execution_count": 65,
   "metadata": {
    "collapsed": false
   },
   "outputs": [
    {
     "data": {
      "text/plain": [
       "\"opa ih....!ah...!\\n\""
      ]
     },
     "execution_count": 65,
     "metadata": {},
     "output_type": "execute_result"
    }
   ],
   "source": [
    "readall(\"arquivo.dat\")"
   ]
  },
  {
   "cell_type": "markdown",
   "metadata": {},
   "source": [
    "***Agora não apagou ;)***"
   ]
  },
  {
   "cell_type": "markdown",
   "metadata": {},
   "source": [
    "### MATRIZ PARA ARQUIVO ###\n",
    "\n",
    "Se você tem uma matriz que deseja salvar em um arquivo de texto, ou se você quiser ler dados de um arquivo em uma matriz, você pode usar as funções writedlm e readdlm.\n",
    "\n",
    "**writedlm()** escreve o conteúdo de uma matriz (ou qualquer objeto iterável) para um arquivo de texto, e **readdlm()** lê os dados a partir de um arquivo em um array:"
   ]
  },
  {
   "cell_type": "code",
   "execution_count": 25,
   "metadata": {
    "collapsed": false
   },
   "outputs": [
    {
     "data": {
      "text/plain": [
       "5x5 Array{Float64,2}:\n",
       " 0.24186   0.0906066  0.940489  0.443546  0.0500212\n",
       " 0.078629  0.421048   0.500388  0.227365  0.534344 \n",
       " 0.712063  0.459609   0.240242  0.319388  0.0695423\n",
       " 0.310301  0.700625   0.718347  0.774568  0.863176 \n",
       " 0.83365   0.675386   0.717803  0.53559   0.511795 "
      ]
     },
     "execution_count": 25,
     "metadata": {},
     "output_type": "execute_result"
    }
   ],
   "source": [
    "dados = rand(5,5)"
   ]
  },
  {
   "cell_type": "code",
   "execution_count": 26,
   "metadata": {
    "collapsed": true
   },
   "outputs": [],
   "source": [
    "writedlm(\"matriz.dat\", dados)"
   ]
  },
  {
   "cell_type": "code",
   "execution_count": 27,
   "metadata": {
    "collapsed": false,
    "scrolled": true
   },
   "outputs": [
    {
     "data": {
      "text/plain": [
       "5x5 Array{Float64,2}:\n",
       " 0.24186   0.0906066  0.940489  0.443546  0.0500212\n",
       " 0.078629  0.421048   0.500388  0.227365  0.534344 \n",
       " 0.712063  0.459609   0.240242  0.319388  0.0695423\n",
       " 0.310301  0.700625   0.718347  0.774568  0.863176 \n",
       " 0.83365   0.675386   0.717803  0.53559   0.511795 "
      ]
     },
     "execution_count": 27,
     "metadata": {},
     "output_type": "execute_result"
    }
   ],
   "source": [
    "readdlm(\"matriz.dat\")"
   ]
  },
  {
   "cell_type": "code",
   "execution_count": 28,
   "metadata": {
    "collapsed": false
   },
   "outputs": [
    {
     "data": {
      "text/plain": [
       "\"hehehehe\""
      ]
     },
     "execution_count": 28,
     "metadata": {},
     "output_type": "execute_result"
    }
   ],
   "source": [
    "b = \"hehehehe\""
   ]
  },
  {
   "cell_type": "code",
   "execution_count": 29,
   "metadata": {
    "collapsed": true
   },
   "outputs": [],
   "source": [
    "writedlm(\"matriz.dat\", b)"
   ]
  },
  {
   "cell_type": "code",
   "execution_count": 30,
   "metadata": {
    "collapsed": false,
    "scrolled": true
   },
   "outputs": [
    {
     "data": {
      "text/plain": [
       "8x1 Array{Any,2}:\n",
       " \"h\"\n",
       " \"e\"\n",
       " \"h\"\n",
       " \"e\"\n",
       " \"h\"\n",
       " \"e\"\n",
       " \"h\"\n",
       " \"e\""
      ]
     },
     "execution_count": 30,
     "metadata": {},
     "output_type": "execute_result"
    }
   ],
   "source": [
    "readdlm(\"matriz.dat\")"
   ]
  },
  {
   "cell_type": "markdown",
   "metadata": {},
   "source": [
    "### DATA FRAMES ###"
   ]
  },
  {
   "cell_type": "markdown",
   "metadata": {},
   "source": [
    "* #### CRIAR , LER E GRAVAR DATAFRAMES ####"
   ]
  },
  {
   "cell_type": "code",
   "execution_count": 1,
   "metadata": {
    "collapsed": true
   },
   "outputs": [],
   "source": [
    "using DataFrames"
   ]
  },
  {
   "cell_type": "code",
   "execution_count": 2,
   "metadata": {
    "collapsed": false
   },
   "outputs": [
    {
     "data": {
      "text/html": [
       "<table class=\"data-frame\"><tr><th></th><th>Nome</th></tr><tr><th>1</th><td>scilab</td></tr><tr><th>2</th><td>julia</td></tr></table>"
      ],
      "text/plain": [
       "2×1 DataFrames.DataFrame\n",
       "│ Row │ Nome     │\n",
       "├─────┼──────────┤\n",
       "│ 1   │ \"scilab\" │\n",
       "│ 2   │ \"julia\"  │"
      ]
     },
     "execution_count": 2,
     "metadata": {},
     "output_type": "execute_result"
    }
   ],
   "source": [
    "# criar o dataframe\n",
    "\n",
    "dados = DataFrame(Nome =[\"scilab\",\"julia\"])\n",
    "\n",
    "dados"
   ]
  },
  {
   "cell_type": "markdown",
   "metadata": {},
   "source": [
    "Ou assim:"
   ]
  },
  {
   "cell_type": "code",
   "execution_count": 3,
   "metadata": {
    "collapsed": false
   },
   "outputs": [
    {
     "data": {
      "text/html": [
       "<table class=\"data-frame\"><tr><th></th><th>Nome</th></tr><tr><th>1</th><td>scilab</td></tr><tr><th>2</th><td>julia</td></tr></table>"
      ],
      "text/plain": [
       "2×1 DataFrames.DataFrame\n",
       "│ Row │ Nome     │\n",
       "├─────┼──────────┤\n",
       "│ 1   │ \"scilab\" │\n",
       "│ 2   │ \"julia\"  │"
      ]
     },
     "execution_count": 3,
     "metadata": {},
     "output_type": "execute_result"
    }
   ],
   "source": [
    "dados = DataFrame()\n",
    "dados[:Nome] = [\"scilab\",\"julia\"]\n",
    "\n",
    "dados"
   ]
  },
  {
   "cell_type": "code",
   "execution_count": 4,
   "metadata": {
    "collapsed": false
   },
   "outputs": [],
   "source": [
    "# salvar no arquivo \n",
    "\n",
    "writetable(\"dataframe.dat\", dados)"
   ]
  },
  {
   "cell_type": "code",
   "execution_count": 5,
   "metadata": {
    "collapsed": false,
    "scrolled": false
   },
   "outputs": [
    {
     "data": {
      "text/html": [
       "<table class=\"data-frame\"><tr><th></th><th>Nome</th></tr><tr><th>1</th><td>scilab</td></tr><tr><th>2</th><td>julia</td></tr></table>"
      ],
      "text/plain": [
       "2×1 DataFrames.DataFrame\n",
       "│ Row │ Nome     │\n",
       "├─────┼──────────┤\n",
       "│ 1   │ \"scilab\" │\n",
       "│ 2   │ \"julia\"  │"
      ]
     },
     "execution_count": 5,
     "metadata": {},
     "output_type": "execute_result"
    }
   ],
   "source": [
    "# exibindo o arquivo e o conteúdo \n",
    "\n",
    "DataFrames.readtable(\"dataframe.dat\")"
   ]
  },
  {
   "cell_type": "markdown",
   "metadata": {},
   "source": [
    "Outro exemplo"
   ]
  },
  {
   "cell_type": "code",
   "execution_count": 11,
   "metadata": {
    "collapsed": false
   },
   "outputs": [
    {
     "data": {
      "text/html": [
       "<table class=\"data-frame\"><tr><th></th><th>Nome</th><th>Ano_de_lancamento</th></tr><tr><th>1</th><td>Julia</td><td>2012</td></tr><tr><th>2</th><td>SageMath</td><td>2005</td></tr><tr><th>3</th><td>Maxima</td><td>1980</td></tr><tr><th>4</th><td>Octave</td><td>2000</td></tr></table>"
      ],
      "text/plain": [
       "4×2 DataFrames.DataFrame\n",
       "│ Row │ Nome       │ Ano_de_lancamento │\n",
       "├─────┼────────────┼───────────────────┤\n",
       "│ 1   │ \"Julia\"    │ 2012              │\n",
       "│ 2   │ \"SageMath\" │ 2005              │\n",
       "│ 3   │ \"Maxima\"   │ 1980              │\n",
       "│ 4   │ \"Octave\"   │ 2000              │"
      ]
     },
     "execution_count": 11,
     "metadata": {},
     "output_type": "execute_result"
    }
   ],
   "source": [
    "Softwares = DataFrame()\n",
    "\n",
    "Softwares[:Nome]   = [\"Julia\", \"SageMath\", \"Maxima\", \"Octave\"]\n",
    "Softwares[:Ano_de_lancamento] = [2012, 2005, 1980, 2000]\n",
    "\n",
    "Softwares"
   ]
  },
  {
   "cell_type": "code",
   "execution_count": 12,
   "metadata": {
    "collapsed": false
   },
   "outputs": [
    {
     "data": {
      "text/plain": [
       "2-element Array{Symbol,1}:\n",
       " :Nome             \n",
       " :Ano_de_lancamento"
      ]
     },
     "execution_count": 12,
     "metadata": {},
     "output_type": "execute_result"
    }
   ],
   "source": [
    "names(Softwares) "
   ]
  },
  {
   "cell_type": "code",
   "execution_count": 13,
   "metadata": {
    "collapsed": false
   },
   "outputs": [
    {
     "data": {
      "text/plain": [
       "2-element Array{Type{T},1}:\n",
       " ASCIIString\n",
       " Int64      "
      ]
     },
     "execution_count": 13,
     "metadata": {},
     "output_type": "execute_result"
    }
   ],
   "source": [
    " eltypes(Softwares)"
   ]
  },
  {
   "cell_type": "code",
   "execution_count": 16,
   "metadata": {
    "collapsed": false
   },
   "outputs": [
    {
     "data": {
      "text/plain": [
       "4-element DataArrays.DataArray{ASCIIString,1}:\n",
       " \"Julia\"   \n",
       " \"SageMath\"\n",
       " \"Maxima\"  \n",
       " \"Octave\"  "
      ]
     },
     "execution_count": 16,
     "metadata": {},
     "output_type": "execute_result"
    }
   ],
   "source": [
    "# Visualizando toda a primeira coluna\n",
    "\n",
    "Softwares[1]"
   ]
  },
  {
   "cell_type": "code",
   "execution_count": 17,
   "metadata": {
    "collapsed": false
   },
   "outputs": [
    {
     "data": {
      "text/plain": [
       "\"Maxima\""
      ]
     },
     "execution_count": 17,
     "metadata": {},
     "output_type": "execute_result"
    }
   ],
   "source": [
    "# acessando o terceiro elemento da primeira coluna\n",
    "\n",
    "Softwares[1][3]"
   ]
  },
  {
   "cell_type": "code",
   "execution_count": 12,
   "metadata": {
    "collapsed": false
   },
   "outputs": [
    {
     "data": {
      "text/plain": [
       "4-element DataArrays.DataArray{Int64,1}:\n",
       " 2012\n",
       " 2005\n",
       " 1980\n",
       " 2000"
      ]
     },
     "execution_count": 12,
     "metadata": {},
     "output_type": "execute_result"
    }
   ],
   "source": [
    "Softwares[2] "
   ]
  },
  {
   "cell_type": "markdown",
   "metadata": {},
   "source": [
    "* #### ARQUIVOS CSV ####"
   ]
  },
  {
   "cell_type": "code",
   "execution_count": 2,
   "metadata": {
    "collapsed": false
   },
   "outputs": [],
   "source": [
    "using DataFrames"
   ]
  },
  {
   "cell_type": "code",
   "execution_count": 3,
   "metadata": {
    "collapsed": false
   },
   "outputs": [
    {
     "data": {
      "text/html": [
       "<table class=\"data-frame\"><tr><th></th><th>x</th><th>y</th></tr><tr><th>1</th><td>0.0</td><td>-0.183440428023042</td></tr><tr><th>2</th><td>0.2</td><td>-0.131101157495126</td></tr><tr><th>3</th><td>0.4</td><td>0.0268875670852843</td></tr><tr><th>4</th><td>0.8</td><td>0.110532679260319</td></tr><tr><th>5</th><td>1.0</td><td>0.253944632998395</td></tr><tr><th>6</th><td>1.2</td><td>0.257190123748649</td></tr><tr><th>7</th><td>1.4</td><td>0.531888837111346</td></tr><tr><th>8</th><td>1.6</td><td>0.579048247883555</td></tr><tr><th>9</th><td>2.0</td><td>0.935180993484717</td></tr><tr><th>10</th><td>2.2</td><td>0.916600344376623</td></tr><tr><th>11</th><td>2.6</td><td>1.13328608090532</td></tr><tr><th>12</th><td>2.8</td><td>1.26893326843583</td></tr><tr><th>13</th><td>3.0</td><td>1.10202945535186</td></tr><tr><th>14</th><td>3.4</td><td>1.13391615491257</td></tr></table>"
      ],
      "text/plain": [
       "14×2 DataFrames.DataFrame\n",
       "│ Row │ x   │ y         │\n",
       "├─────┼─────┼───────────┤\n",
       "│ 1   │ 0.0 │ -0.18344  │\n",
       "│ 2   │ 0.2 │ -0.131101 │\n",
       "│ 3   │ 0.4 │ 0.0268876 │\n",
       "│ 4   │ 0.8 │ 0.110533  │\n",
       "│ 5   │ 1.0 │ 0.253945  │\n",
       "│ 6   │ 1.2 │ 0.25719   │\n",
       "│ 7   │ 1.4 │ 0.531889  │\n",
       "│ 8   │ 1.6 │ 0.579048  │\n",
       "│ 9   │ 2.0 │ 0.935181  │\n",
       "│ 10  │ 2.2 │ 0.9166    │\n",
       "│ 11  │ 2.6 │ 1.13329   │\n",
       "│ 12  │ 2.8 │ 1.26893   │\n",
       "│ 13  │ 3.0 │ 1.10203   │\n",
       "│ 14  │ 3.4 │ 1.13392   │"
      ]
     },
     "execution_count": 3,
     "metadata": {},
     "output_type": "execute_result"
    }
   ],
   "source": [
    "tabela_dados_reta = DataFrames.readtable(\"dados_reta.csv\")"
   ]
  },
  {
   "cell_type": "code",
   "execution_count": 9,
   "metadata": {
    "collapsed": false,
    "scrolled": true
   },
   "outputs": [
    {
     "data": {
      "text/plain": [
       "14-element DataArrays.DataArray{Float64,1}:\n",
       " 0.0\n",
       " 0.2\n",
       " 0.4\n",
       " 0.8\n",
       " 1.0\n",
       " 1.2\n",
       " 1.4\n",
       " 1.6\n",
       " 2.0\n",
       " 2.2\n",
       " 2.6\n",
       " 2.8\n",
       " 3.0\n",
       " 3.4"
      ]
     },
     "execution_count": 9,
     "metadata": {},
     "output_type": "execute_result"
    }
   ],
   "source": [
    "# visualizar toda a primeira coluna\n",
    "\n",
    "tabela_dados_reta[1]"
   ]
  },
  {
   "cell_type": "code",
   "execution_count": 8,
   "metadata": {
    "collapsed": false
   },
   "outputs": [
    {
     "data": {
      "text/plain": [
       "1.4"
      ]
     },
     "execution_count": 8,
     "metadata": {},
     "output_type": "execute_result"
    }
   ],
   "source": [
    "# Acessar o 7 elemento da primeira coluna\n",
    "\n",
    "tabela_dados_reta[1][7]"
   ]
  },
  {
   "cell_type": "code",
   "execution_count": 24,
   "metadata": {
    "collapsed": false,
    "scrolled": true
   },
   "outputs": [
    {
     "data": {
      "text/plain": [
       "14-element DataArrays.DataArray{Float64,1}:\n",
       " -0.18344  \n",
       " -0.131101 \n",
       "  0.0268876\n",
       "  0.110533 \n",
       "  0.253945 \n",
       "  0.25719  \n",
       "  0.531889 \n",
       "  0.579048 \n",
       "  0.935181 \n",
       "  0.9166   \n",
       "  1.13329  \n",
       "  1.26893  \n",
       "  1.10203  \n",
       "  1.13392  "
      ]
     },
     "execution_count": 24,
     "metadata": {},
     "output_type": "execute_result"
    }
   ],
   "source": [
    "# Visualizar toda a segunda coluna\n",
    "\n",
    "tabela_dados_reta[2]"
   ]
  },
  {
   "cell_type": "markdown",
   "metadata": {},
   "source": [
    "* #### MANIPULAÇÕES ALGEBRICAS ####"
   ]
  },
  {
   "cell_type": "code",
   "execution_count": 31,
   "metadata": {
    "collapsed": false
   },
   "outputs": [
    {
     "data": {
      "text/plain": [
       "14-element DataArrays.DataArray{Float64,1}:\n",
       "  0.0\n",
       "  2.0\n",
       "  4.0\n",
       "  8.0\n",
       " 10.0\n",
       " 12.0\n",
       " 14.0\n",
       " 16.0\n",
       " 20.0\n",
       " 22.0\n",
       " 26.0\n",
       " 28.0\n",
       " 30.0\n",
       " 34.0"
      ]
     },
     "execution_count": 31,
     "metadata": {},
     "output_type": "execute_result"
    }
   ],
   "source": [
    "tabela_dados_reta[1]*10"
   ]
  },
  {
   "cell_type": "code",
   "execution_count": null,
   "metadata": {
    "collapsed": true
   },
   "outputs": [],
   "source": []
  }
 ],
 "metadata": {
  "kernelspec": {
   "display_name": "Julia 0.4.5",
   "language": "julia",
   "name": "julia-0.4"
  },
  "language_info": {
   "file_extension": ".jl",
   "mimetype": "application/julia",
   "name": "julia",
   "version": "0.4.5"
  }
 },
 "nbformat": 4,
 "nbformat_minor": 0
}
