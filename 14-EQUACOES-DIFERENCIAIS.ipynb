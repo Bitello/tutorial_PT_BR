{
 "cells": [
  {
   "cell_type": "markdown",
   "metadata": {},
   "source": [
    "#EQUAÇÕES DIFERENCIAIS#"
   ]
  },
  {
   "cell_type": "markdown",
   "metadata": {
    "collapsed": true
   },
   "source": []
  },
  {
   "cell_type": "markdown",
   "metadata": {},
   "source": [
    "##EQUAÇÕES DIFERENCIAIS DE PRIMEIRA ORDEM##"
   ]
  },
  {
   "cell_type": "markdown",
   "metadata": {
    "collapsed": false
   },
   "source": [
    "###Equações Diferenciais de Primeira Ordem Simbólicas###"
   ]
  },
  {
   "cell_type": "code",
   "execution_count": 1,
   "metadata": {
    "collapsed": false,
    "scrolled": true
   },
   "outputs": [
    {
     "name": "stdout",
     "output_type": "stream",
     "text": [
      "y\n"
     ]
    },
    {
     "data": {
      "text/latex": [
       "$$x$$"
      ],
      "text/plain": [
       "x"
      ]
     },
     "metadata": {},
     "output_type": "display_data"
    },
    {
     "data": {
      "text/plain": [
       "(nothing,nothing)"
      ]
     },
     "execution_count": 1,
     "metadata": {},
     "output_type": "execute_result"
    }
   ],
   "source": [
    "using SymPy\n",
    "\n",
    "y = SymFunction(\"y\")\n",
    "x = Sym(\"x\")\n",
    "\n",
    "display(y) , display(x)"
   ]
  },
  {
   "cell_type": "code",
   "execution_count": 2,
   "metadata": {
    "collapsed": false
   },
   "outputs": [
    {
     "data": {
      "text/plain": [
       "(SymPy.SymFunction,SymPy.Sym)"
      ]
     },
     "execution_count": 2,
     "metadata": {},
     "output_type": "execute_result"
    }
   ],
   "source": [
    "typeof(y) , typeof(x)"
   ]
  },
  {
   "cell_type": "code",
   "execution_count": 3,
   "metadata": {
    "collapsed": false,
    "scrolled": true
   },
   "outputs": [
    {
     "data": {
      "text/latex": [
       "$$x + \\frac{d}{d x} y{\\left (x \\right )}$$"
      ],
      "text/plain": [
       "    d       \n",
       "x + --(y(x))\n",
       "    dx      "
      ]
     },
     "execution_count": 3,
     "metadata": {},
     "output_type": "execute_result"
    }
   ],
   "source": [
    "edo1 = y'(x) + x "
   ]
  },
  {
   "cell_type": "code",
   "execution_count": 4,
   "metadata": {
    "collapsed": false,
    "scrolled": false
   },
   "outputs": [
    {
     "data": {
      "text/latex": [
       "$$y{\\left (x \\right )} = C_{1} - \\frac{x^{2}}{2}$$"
      ],
      "text/plain": [
       "             2\n",
       "            x \n",
       "y(x) = C1 - --\n",
       "            2 "
      ]
     },
     "execution_count": 4,
     "metadata": {},
     "output_type": "execute_result"
    }
   ],
   "source": [
    "SymPy.dsolve(edo1)"
   ]
  },
  {
   "cell_type": "markdown",
   "metadata": {},
   "source": [
    "ou ainda"
   ]
  },
  {
   "cell_type": "code",
   "execution_count": null,
   "metadata": {
    "collapsed": false
   },
   "outputs": [],
   "source": [
    "solucao = SymPy.dsolve(edo1)"
   ]
  },
  {
   "cell_type": "markdown",
   "metadata": {},
   "source": [
    "Solução específica:\n",
    "\n",
    "variáveis separadas, bernoulli..."
   ]
  },
  {
   "cell_type": "code",
   "execution_count": 5,
   "metadata": {
    "collapsed": false
   },
   "outputs": [
    {
     "data": {
      "text/latex": [
       "$$y{\\left (x \\right )} = C_{1} - \\frac{x^{2}}{2}$$"
      ],
      "text/plain": [
       "             2\n",
       "            x \n",
       "y(x) = C1 - --\n",
       "            2 "
      ]
     },
     "execution_count": 5,
     "metadata": {},
     "output_type": "execute_result"
    }
   ],
   "source": [
    "SymPy.dsolve(edo1, hint = \"separable\")"
   ]
  },
  {
   "cell_type": "code",
   "execution_count": 6,
   "metadata": {
    "collapsed": false
   },
   "outputs": [
    {
     "data": {
      "text/latex": [
       "\\begin{equation*}\\begin{cases}\"separable\" & \\text{=>} &y{\\left (x \\right )} = C_{1} - \\frac{x^{2}}{2}\\\\\"lie_group\" & \\text{=>} &y{\\left (x \\right )} = C_{1} - \\frac{x^{2}}{2}\\\\\"1st_exact_Integral\" & \\text{=>} &\\int^{y{\\left (x \\right )}} 1\\, dy + \\int x\\, dx = C_{1}\\\\\"Bernoulli\" & \\text{=>} &y{\\left (x \\right )} = C_{1} - \\frac{x^{2}}{2}\\\\\"nth_linear_constant_coeff_variation_of_parameters_Integral\" & \\text{=>} &y{\\left (x \\right )} = C_{1} - \\int x\\, dx\\\\\"nth_linear_constant_coeff_variation_of_parameters\" & \\text{=>} &y{\\left (x \\right )} = C_{1} - \\frac{x^{2}}{2}\\\\\"separable_Integral\" & \\text{=>} &\\int^{y{\\left (x \\right )}} 1\\, dy = C_{1} + \\int - x\\, dx\\\\\"1st_linear_Integral\" & \\text{=>} &y{\\left (x \\right )} = \\left(C_{1} + \\int - x e^{\\int 0\\, dx}\\, dx\\right) e^{- \\int 0\\, dx}\\\\\"best\" & \\text{=>} &y{\\left (x \\right )} = C_{1} - \\frac{x^{2}}{2}\\\\\"1st_linear\" & \\text{=>} &y{\\left (x \\right )} = C_{1} - \\frac{x^{2}}{2}\\\\\"nth_linear_constant_coeff_undetermined_coefficients\" & \\text{=>} &y{\\left (x \\right )} = C_{1} - \\frac{x^{2}}{2}\\\\\"default\" & \\text{=>} &\"separable\"\\\\\"best_hint\" & \\text{=>} &\"separable\"\\\\\"1st_exact\" & \\text{=>} &y{\\left (x \\right )} = C_{1} - \\frac{x^{2}}{2}\\\\\"1st_power_series\" & \\text{=>} &y{\\left (x \\right )} = - \\frac{x^{2}}{2} + C_{1} + \\mathcal{O}\\left(x^{6}\\right)\\\\\"order\" & \\text{=>} &1\\\\\"Bernoulli_Integral\" & \\text{=>} &y{\\left (x \\right )} = \\left(C_{1} - \\int x e^{\\int 0\\, dx}\\, dx\\right) e^{- \\int 0\\, dx}\\\\\\end{cases}\\end{equation*}"
      ],
      "text/plain": [
       "Dict{Any,Any} with 17 entries:\n",
       "  \"separable\"              => y(x) == C1 - x^2/2\n",
       "  \"lie_group\"              => y(x) == C1 - x^2/2\n",
       "  \"1st_exact_Integral\"     => Integral(1, (_y, y(x))) + Integral(x, x) == C1\n",
       "  \"Bernoulli\"              => y(x) == C1 - x^2/2\n",
       "  \"nth_linear_constant_co… => y(x) == C1 - Integral(x, x)\n",
       "  \"nth_linear_constant_co… => y(x) == C1 - x^2/2\n",
       "  \"separable_Integral\"     => Integral(1, (_y, y(x))) == C1 + Integral(-x, x)\n",
       "  \"1st_linear_Integral\"    => y(x) == (C1 + Integral(-x*exp(Integral(0, x)), x)…\n",
       "  \"best\"                   => y(x) == C1 - x^2/2\n",
       "  \"1st_linear\"             => y(x) == C1 - x^2/2\n",
       "  \"nth_linear_constant_co… => y(x) == C1 - x^2/2\n",
       "  \"default\"                => \"separable\"\n",
       "  \"best_hint\"              => \"separable\"\n",
       "  \"1st_exact\"              => y(x) == C1 - x^2/2\n",
       "  \"1st_power_series\"       => y(x) == -x^2/2 + C1 + O(x^6)\n",
       "  \"order\"                  => 1\n",
       "  \"Bernoulli_Integral\"     => y(x) == (C1 - Integral(x*exp(Integral(0, x)), x))…"
      ]
     },
     "execution_count": 6,
     "metadata": {},
     "output_type": "execute_result"
    }
   ],
   "source": [
    "# usando todos os métodos possíveis\n",
    "\n",
    "SymPy.dsolve(edo1, hint=\"all\")"
   ]
  },
  {
   "cell_type": "markdown",
   "metadata": {},
   "source": [
    "<strong>Equação diferencial com valores iniciais</strong>"
   ]
  },
  {
   "cell_type": "code",
   "execution_count": 7,
   "metadata": {
    "collapsed": false
   },
   "outputs": [
    {
     "data": {
      "text/plain": [
       "(SymPy.SymFunction(PyObject y,0),x)"
      ]
     },
     "execution_count": 7,
     "metadata": {},
     "output_type": "execute_result"
    }
   ],
   "source": [
    "using SymPy\n",
    "\n",
    "y   = SymFunction(\"y\")\n",
    "x   = Sym(\"x\")\n",
    "\n",
    "y , x"
   ]
  },
  {
   "cell_type": "code",
   "execution_count": 8,
   "metadata": {
    "collapsed": false
   },
   "outputs": [
    {
     "data": {
      "text/latex": [
       "$$x + \\frac{d}{d x} y{\\left (x \\right )}$$"
      ],
      "text/plain": [
       "    d       \n",
       "x + --(y(x))\n",
       "    dx      "
      ]
     },
     "execution_count": 8,
     "metadata": {},
     "output_type": "execute_result"
    }
   ],
   "source": [
    "edo1 = y'(x) + x"
   ]
  },
  {
   "cell_type": "code",
   "execution_count": 9,
   "metadata": {
    "collapsed": false,
    "scrolled": true
   },
   "outputs": [
    {
     "data": {
      "text/latex": [
       "$$y{\\left (x \\right )} = - \\frac{x^{2}}{2} + 1$$"
      ],
      "text/plain": [
       "          2    \n",
       "         x     \n",
       "y(x) = - -- + 1\n",
       "         2     "
      ]
     },
     "execution_count": 9,
     "metadata": {},
     "output_type": "execute_result"
    }
   ],
   "source": [
    "sol_simb = SymPy.dsolve(edo1, x, (y, 0, 1))"
   ]
  },
  {
   "cell_type": "code",
   "execution_count": 10,
   "metadata": {
    "collapsed": false
   },
   "outputs": [
    {
     "data": {
      "text/latex": [
       "$$y{\\left (1 \\right )} = \\frac{1}{2}$$"
      ],
      "text/plain": [
       "y(1) = 1/2"
      ]
     },
     "execution_count": 10,
     "metadata": {},
     "output_type": "execute_result"
    }
   ],
   "source": [
    "# Manipulando valores da solução\n",
    "\n",
    "sol_simb(1)"
   ]
  },
  {
   "cell_type": "code",
   "execution_count": 11,
   "metadata": {
    "collapsed": false
   },
   "outputs": [
    {
     "data": {
      "text/latex": [
       "$$\\frac{1}{2}$$"
      ],
      "text/plain": [
       "1/2"
      ]
     },
     "execution_count": 11,
     "metadata": {},
     "output_type": "execute_result"
    }
   ],
   "source": [
    "# ou somente a função \"y\"\n",
    "\n",
    "Y = rhs(sol_simb)\n",
    "\n",
    "Y(1)"
   ]
  },
  {
   "cell_type": "markdown",
   "metadata": {},
   "source": [
    "Mais um exemplo:"
   ]
  },
  {
   "cell_type": "code",
   "execution_count": null,
   "metadata": {
    "collapsed": false,
    "scrolled": true
   },
   "outputs": [],
   "source": [
    "sol_simb2 = SymPy.dsolve( y'(x) - 2*x*y(x) , x , (y,0,1))"
   ]
  },
  {
   "cell_type": "code",
   "execution_count": null,
   "metadata": {
    "collapsed": false
   },
   "outputs": [],
   "source": [
    "# Manipulando valores da solução\n",
    "\n",
    "sol_simb2(1)"
   ]
  },
  {
   "cell_type": "code",
   "execution_count": null,
   "metadata": {
    "collapsed": false,
    "scrolled": true
   },
   "outputs": [],
   "source": [
    "# ou somente a função \"y\"\n",
    "\n",
    "Ys = rhs(sol_simb2) \n",
    "\n",
    "Ys(1) "
   ]
  },
  {
   "cell_type": "code",
   "execution_count": null,
   "metadata": {
    "collapsed": false
   },
   "outputs": [],
   "source": [
    "# ou ainda \n",
    "\n",
    "rhs(sol_simb2)(1)"
   ]
  },
  {
   "cell_type": "markdown",
   "metadata": {},
   "source": [
    "####Gráfico da solução da equação diferencial de primeira ordem####"
   ]
  },
  {
   "cell_type": "code",
   "execution_count": null,
   "metadata": {
    "collapsed": false
   },
   "outputs": [],
   "source": [
    "using Winston"
   ]
  },
  {
   "cell_type": "code",
   "execution_count": null,
   "metadata": {
    "collapsed": false
   },
   "outputs": [],
   "source": [
    "Y"
   ]
  },
  {
   "cell_type": "code",
   "execution_count": null,
   "metadata": {
    "collapsed": false,
    "scrolled": true
   },
   "outputs": [],
   "source": [
    "Winston.fplot(x -> Y(x), [-10,10], \"-or\")"
   ]
  },
  {
   "cell_type": "markdown",
   "metadata": {},
   "source": [
    "Ou ainda"
   ]
  },
  {
   "cell_type": "code",
   "execution_count": null,
   "metadata": {
    "collapsed": false,
    "scrolled": false
   },
   "outputs": [],
   "source": [
    "Winston.plot(collect(-10:10),float(map(Y,collect(-10:10))),\"-or\")"
   ]
  },
  {
   "cell_type": "markdown",
   "metadata": {
    "collapsed": false
   },
   "source": [
    " <strong>Campo de direções</strong>"
   ]
  },
  {
   "cell_type": "code",
   "execution_count": null,
   "metadata": {
    "collapsed": true
   },
   "outputs": [],
   "source": []
  },
  {
   "cell_type": "markdown",
   "metadata": {},
   "source": [
    "<strong>Equação diferencial de primeira ordem numérica</strong>"
   ]
  },
  {
   "cell_type": "code",
   "execution_count": null,
   "metadata": {
    "collapsed": true
   },
   "outputs": [],
   "source": []
  },
  {
   "cell_type": "code",
   "execution_count": null,
   "metadata": {
    "collapsed": true
   },
   "outputs": [],
   "source": []
  },
  {
   "cell_type": "markdown",
   "metadata": {},
   "source": [
    "<strong>EQUAÇÕES DIFERENCIAIS DE SEGUNDA ORDEM</strong>"
   ]
  },
  {
   "cell_type": "code",
   "execution_count": null,
   "metadata": {
    "collapsed": false,
    "scrolled": false
   },
   "outputs": [],
   "source": [
    "using SymPy\n",
    "\n",
    "y   = SymFunction(\"y\");\n",
    "x   = Sym(\"x\");\n",
    "\n",
    "display(y)\n",
    "display(x)"
   ]
  },
  {
   "cell_type": "code",
   "execution_count": null,
   "metadata": {
    "collapsed": false
   },
   "outputs": [],
   "source": [
    "typeof(y) , typeof(x)"
   ]
  },
  {
   "cell_type": "code",
   "execution_count": null,
   "metadata": {
    "collapsed": false
   },
   "outputs": [],
   "source": [
    "edo2 = y''(x) - 4*y(x) - x"
   ]
  },
  {
   "cell_type": "code",
   "execution_count": null,
   "metadata": {
    "collapsed": false
   },
   "outputs": [],
   "source": [
    "SymPy.dsolve(edo2)"
   ]
  },
  {
   "cell_type": "markdown",
   "metadata": {},
   "source": [
    "<strong>Equação diferencial de segunda ordem com valores iniciais</strong>"
   ]
  },
  {
   "cell_type": "code",
   "execution_count": 1,
   "metadata": {
    "collapsed": false
   },
   "outputs": [
    {
     "name": "stdout",
     "output_type": "stream",
     "text": [
      "y\n"
     ]
    },
    {
     "data": {
      "text/latex": [
       "$$x$$"
      ],
      "text/plain": [
       "x"
      ]
     },
     "metadata": {},
     "output_type": "display_data"
    }
   ],
   "source": [
    "using SymPy\n",
    "\n",
    "y   = SymFunction(\"y\")\n",
    "x   = Sym(\"x\")\n",
    "\n",
    "display(y)\n",
    "display(x)"
   ]
  },
  {
   "cell_type": "code",
   "execution_count": 2,
   "metadata": {
    "collapsed": false
   },
   "outputs": [
    {
     "data": {
      "text/plain": [
       "(SymPy.SymFunction,SymPy.Sym)"
      ]
     },
     "execution_count": 2,
     "metadata": {},
     "output_type": "execute_result"
    }
   ],
   "source": [
    "typeof(y) , typeof(x)"
   ]
  },
  {
   "cell_type": "code",
   "execution_count": 3,
   "metadata": {
    "collapsed": false
   },
   "outputs": [
    {
     "data": {
      "text/latex": [
       "$$- x - 4 y{\\left (x \\right )} + \\frac{d^{2}}{d x^{2}}  y{\\left (x \\right )}$$"
      ],
      "text/plain": [
       "                2      \n",
       "               d       \n",
       "-x - 4*y(x) + ---(y(x))\n",
       "                2      \n",
       "              dx       "
      ]
     },
     "execution_count": 3,
     "metadata": {},
     "output_type": "execute_result"
    }
   ],
   "source": [
    "edo2 = y''(x) - 4*y(x) - x"
   ]
  },
  {
   "cell_type": "code",
   "execution_count": 4,
   "metadata": {
    "collapsed": false,
    "scrolled": true
   },
   "outputs": [
    {
     "data": {
      "text/latex": [
       "$$y{\\left (x \\right )} = - \\frac{x}{4} + \\frac{9}{16} e^{2 x} + \\frac{7}{16} e^{- 2 x}$$"
      ],
      "text/plain": [
       "                2*x      -2*x\n",
       "         x   9*e      7*e    \n",
       "y(x) = - - + ------ + -------\n",
       "         4     16        16  "
      ]
     },
     "execution_count": 4,
     "metadata": {},
     "output_type": "execute_result"
    }
   ],
   "source": [
    "sol_simb_ord2 = dsolve(edo2, x, (y, 0, 1), (y', 0, 0))"
   ]
  },
  {
   "cell_type": "code",
   "execution_count": 5,
   "metadata": {
    "collapsed": false,
    "scrolled": true
   },
   "outputs": [
    {
     "data": {
      "text/latex": [
       "$$y{\\left (1 \\right )} = - \\frac{1}{4} + \\frac{7}{16 e^{2}} + \\frac{9 e^{2}}{16}$$"
      ],
      "text/plain": [
       "                -2      2\n",
       "         1   7*e     9*e \n",
       "y(1) = - - + ----- + ----\n",
       "         4     16     16 "
      ]
     },
     "execution_count": 5,
     "metadata": {},
     "output_type": "execute_result"
    }
   ],
   "source": [
    "# manipulando ao solução geral \n",
    "\n",
    "sol_simb_ord2(1)"
   ]
  },
  {
   "cell_type": "code",
   "execution_count": null,
   "metadata": {
    "collapsed": true
   },
   "outputs": [],
   "source": []
  },
  {
   "cell_type": "code",
   "execution_count": 6,
   "metadata": {
    "collapsed": false
   },
   "outputs": [
    {
     "data": {
      "text/latex": [
       "$$- \\frac{1}{4} + \\frac{7}{16 e^{2}} + \\frac{9 e^{2}}{16}$$"
      ],
      "text/plain": [
       "         -2      2\n",
       "  1   7*e     9*e \n",
       "- - + ----- + ----\n",
       "  4     16     16 "
      ]
     },
     "execution_count": 6,
     "metadata": {},
     "output_type": "execute_result"
    }
   ],
   "source": [
    "# Manipulando a solução \"y\"\n",
    "\n",
    "# ou somente a função \"y\"\n",
    "\n",
    "Y2ord = rhs(sol_simb_ord2) \n",
    "\n",
    "Y2ord(1) "
   ]
  },
  {
   "cell_type": "code",
   "execution_count": 7,
   "metadata": {
    "collapsed": false
   },
   "outputs": [
    {
     "data": {
      "text/latex": [
       "$$- \\frac{1}{4} + \\frac{7}{16 e^{2}} + \\frac{9 e^{2}}{16}$$"
      ],
      "text/plain": [
       "         -2      2\n",
       "  1   7*e     9*e \n",
       "- - + ----- + ----\n",
       "  4     16     16 "
      ]
     },
     "execution_count": 7,
     "metadata": {},
     "output_type": "execute_result"
    }
   ],
   "source": [
    "# ou ainda \n",
    "\n",
    "rhs(sol_simb_ord2)(1)"
   ]
  },
  {
   "cell_type": "markdown",
   "metadata": {},
   "source": [
    "<strong>Gráfico da solução da equação diferencial de segunda ordem</strong>"
   ]
  },
  {
   "cell_type": "code",
   "execution_count": 11,
   "metadata": {
    "collapsed": false
   },
   "outputs": [],
   "source": [
    "using Winston"
   ]
  },
  {
   "cell_type": "code",
   "execution_count": 12,
   "metadata": {
    "collapsed": false,
    "scrolled": true
   },
   "outputs": [
    {
     "data": {
      "text/latex": [
       "$$- \\frac{x}{4} + \\frac{9}{16} e^{2 x} + \\frac{7}{16} e^{- 2 x}$$"
      ],
      "text/plain": [
       "         2*x      -2*x\n",
       "  x   9*e      7*e    \n",
       "- - + ------ + -------\n",
       "  4     16        16  "
      ]
     },
     "execution_count": 12,
     "metadata": {},
     "output_type": "execute_result"
    }
   ],
   "source": [
    "# função solução S\n",
    "\n",
    "Y2ord"
   ]
  },
  {
   "cell_type": "code",
   "execution_count": 13,
   "metadata": {
    "collapsed": false
   },
   "outputs": [
    {
     "data": {
      "image/png": "[encoded data removed]",
      "text/plain": [
       "Winston.FramedPlot(...)"
      ]
     },
     "execution_count": 13,
     "metadata": {},
     "output_type": "execute_result"
    }
   ],
   "source": [
    "Winston.fplot(x -> Y2ord(x), [-10,10], \"-or\")"
   ]
  },
  {
   "cell_type": "markdown",
   "metadata": {},
   "source": [
    "Ou ainda"
   ]
  },
  {
   "cell_type": "code",
   "execution_count": 14,
   "metadata": {
    "collapsed": false,
    "scrolled": true
   },
   "outputs": [
    {
     "data": {
      "image/png": "[encoded data removed]",
      "text/plain": [
       "Winston.FramedPlot(...)"
      ]
     },
     "execution_count": 14,
     "metadata": {},
     "output_type": "execute_result"
    }
   ],
   "source": [
    "Winston.plot(collect(-10:10),float(map(Y2ord(x),collect(-10:10))),\"-or\")"
   ]
  },
  {
   "cell_type": "markdown",
   "metadata": {},
   "source": [
    " <strong>Campo de direções</strong>"
   ]
  },
  {
   "cell_type": "code",
   "execution_count": null,
   "metadata": {
    "collapsed": true
   },
   "outputs": [],
   "source": []
  },
  {
   "cell_type": "markdown",
   "metadata": {},
   "source": [
    "<strong>Equação diferencial de segunda ordem numérica</strong>"
   ]
  },
  {
   "cell_type": "code",
   "execution_count": null,
   "metadata": {
    "collapsed": true
   },
   "outputs": [],
   "source": []
  },
  {
   "cell_type": "markdown",
   "metadata": {
    "collapsed": false
   },
   "source": [
    "%%% Fim Equações Diferenciais %%%"
   ]
  },
  {
   "cell_type": "markdown",
   "metadata": {},
   "source": []
  }
 ],
 "metadata": {
  "kernelspec": {
   "display_name": "Julia 0.4.5",
   "language": "julia",
   "name": "julia-0.4"
  },
  "language_info": {
   "file_extension": ".jl",
   "mimetype": "application/julia",
   "name": "julia",
   "version": "0.4.5"
  }
 },
 "nbformat": 4,
 "nbformat_minor": 0
}
