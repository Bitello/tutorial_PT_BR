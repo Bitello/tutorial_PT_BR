{
 "cells": [
  {
   "cell_type": "code",
   "execution_count": 32,
   "metadata": {
    "collapsed": false
   },
   "outputs": [
    {
     "name": "stderr",
     "output_type": "stream",
     "text": [
      "INFO: No packages to install, update or remove\n",
      "INFO: Package database updated\n"
     ]
    }
   ],
   "source": [
    "Pkg.add(\"Conda\")"
   ]
  },
  {
   "cell_type": "code",
   "execution_count": 50,
   "metadata": {
    "collapsed": false
   },
   "outputs": [],
   "source": [
    "using Conda"
   ]
  },
  {
   "cell_type": "code",
   "execution_count": 5,
   "metadata": {
    "collapsed": false,
    "scrolled": true
   },
   "outputs": [
    {
     "name": "stderr",
     "output_type": "stream",
     "text": [
      "INFO: Building PyCall\n",
      "INFO: No system-wide Python was found; got the following error:\n",
      "could not spawn `'' -c \"import distutils.sysconfig; print(distutils.sysconfig.get_config_var('VERSION'))\"`: no such file or directory (ENOENT)\n",
      "using the Python distribution in the Conda package\n"
     ]
    },
    {
     "name": "stdout",
     "output_type": "stream",
     "text": [
      "Fetching package metadata .......\n",
      "Solving package specifications: ..........\n",
      "\n",
      "# All requested packages already installed.\n",
      "# packages in environment at /home/jmarcellopereira/.julia/v0.4/Conda/deps/usr:\n",
      "#\n",
      "numpy                     1.11.1                   py27_0  \n"
     ]
    },
    {
     "name": "stderr",
     "output_type": "stream",
     "text": [
      "INFO: PyCall is using /home/jmarcellopereira/.julia/v0.4/Conda/deps/usr/bin/python (Python 2.7.12) at /home/jmarcellopereira/.julia/v0.4/Conda/deps/usr/bin/python, libpython = /home/jmarcellopereira/.julia/v0.4/Conda/deps/usr/lib/libpython2.7.so\n"
     ]
    }
   ],
   "source": [
    "ENV[\"PYTHON\"]=\"\"\n",
    "Pkg.build(\"PyCall\")"
   ]
  },
  {
   "cell_type": "code",
   "execution_count": 1,
   "metadata": {
    "collapsed": false
   },
   "outputs": [
    {
     "name": "stderr",
     "output_type": "stream",
     "text": [
      "INFO: Initializing package repository /home/jmarcellopereira/.julia/v0.4\n",
      "INFO: Package directory /home/jmarcellopereira/.julia/v0.4 is already initialized.\n"
     ]
    }
   ],
   "source": [
    "Pkg.init(\"PyCall\")"
   ]
  },
  {
   "cell_type": "code",
   "execution_count": 10,
   "metadata": {
    "collapsed": false
   },
   "outputs": [],
   "source": [
    "using PyCall"
   ]
  },
  {
   "cell_type": "code",
   "execution_count": 11,
   "metadata": {
    "collapsed": false
   },
   "outputs": [
    {
     "ename": "LoadError",
     "evalue": "LoadError: PyError (:PyImport_ImportModule) <type 'exceptions.ImportError'>\nImportError('libmkl_intel_lp64.so: cannot open shared object file: No such file or directory',)\n  File \"/home/jmarcellopereira/.julia/v0.4/Conda/deps/usr/lib/python2.7/site-packages/scipy/__init__.py\", line 61, in <module>\n    from numpy import show_config as show_numpy_config\n  File \"/home/jmarcellopereira/.julia/v0.4/Conda/deps/usr/lib/python2.7/site-packages/numpy/__init__.py\", line 184, in <module>\n    from . import add_newdocs\n  File \"/home/jmarcellopereira/.julia/v0.4/Conda/deps/usr/lib/python2.7/site-packages/numpy/add_newdocs.py\", line 13, in <module>\n    from numpy.lib import add_newdoc\n  File \"/home/jmarcellopereira/.julia/v0.4/Conda/deps/usr/lib/python2.7/site-packages/numpy/lib/__init__.py\", line 8, in <module>\n    from .type_check import *\n  File \"/home/jmarcellopereira/.julia/v0.4/Conda/deps/usr/lib/python2.7/site-packages/numpy/lib/type_check.py\", line 11, in <module>\n    import numpy.core.numeric as _nx\n  File \"/home/jmarcellopereira/.julia/v0.4/Conda/deps/usr/lib/python2.7/site-packages/numpy/core/__init__.py\", line 14, in <module>\n    from . import multiarray\n\nwhile loading In[11], in expression starting on line 324",
     "output_type": "error",
     "traceback": [
      "LoadError: PyError (:PyImport_ImportModule) <type 'exceptions.ImportError'>\nImportError('libmkl_intel_lp64.so: cannot open shared object file: No such file or directory',)\n  File \"/home/jmarcellopereira/.julia/v0.4/Conda/deps/usr/lib/python2.7/site-packages/scipy/__init__.py\", line 61, in <module>\n    from numpy import show_config as show_numpy_config\n  File \"/home/jmarcellopereira/.julia/v0.4/Conda/deps/usr/lib/python2.7/site-packages/numpy/__init__.py\", line 184, in <module>\n    from . import add_newdocs\n  File \"/home/jmarcellopereira/.julia/v0.4/Conda/deps/usr/lib/python2.7/site-packages/numpy/add_newdocs.py\", line 13, in <module>\n    from numpy.lib import add_newdoc\n  File \"/home/jmarcellopereira/.julia/v0.4/Conda/deps/usr/lib/python2.7/site-packages/numpy/lib/__init__.py\", line 8, in <module>\n    from .type_check import *\n  File \"/home/jmarcellopereira/.julia/v0.4/Conda/deps/usr/lib/python2.7/site-packages/numpy/lib/type_check.py\", line 11, in <module>\n    import numpy.core.numeric as _nx\n  File \"/home/jmarcellopereira/.julia/v0.4/Conda/deps/usr/lib/python2.7/site-packages/numpy/core/__init__.py\", line 14, in <module>\n    from . import multiarray\n\nwhile loading In[11], in expression starting on line 324",
      "",
      " [inlined code] from /home/jmarcellopereira/.julia/v0.4/PyCall/src/exception.jl:81",
      " in pyimport at /home/jmarcellopereira/.julia/v0.4/PyCall/src/PyCall.jl:285"
     ]
    }
   ],
   "source": [
    "@pyimport scipy as nr"
   ]
  },
  {
   "cell_type": "code",
   "execution_count": 9,
   "metadata": {
    "collapsed": false
   },
   "outputs": [
    {
     "ename": "LoadError",
     "evalue": "LoadError: UndefVarError: sci not defined\nwhile loading In[9], in expression starting on line 3",
     "output_type": "error",
     "traceback": [
      "LoadError: UndefVarError: sci not defined\nwhile loading In[9], in expression starting on line 3",
      ""
     ]
    }
   ],
   "source": [
    "# integral numerica. valor numérico e erro\n",
    "\n",
    "sci.quad(x -> x^2 - 4*x, 1, 5)"
   ]
  },
  {
   "cell_type": "code",
   "execution_count": 107,
   "metadata": {
    "collapsed": false
   },
   "outputs": [
    {
     "data": {
      "text/plain": [
       "4.000000000000009"
      ]
     },
     "execution_count": 107,
     "metadata": {},
     "output_type": "execute_result"
    }
   ],
   "source": [
    "# raiz pelo método de newton dado um ponto inicial\n",
    "\n",
    "sco.newton(x -> x^2 - 4*x, 5)"
   ]
  },
  {
   "cell_type": "code",
   "execution_count": 9,
   "metadata": {
    "collapsed": false,
    "scrolled": true
   },
   "outputs": [
    {
     "data": {
      "text/plain": [
       "PyObject w"
      ]
     },
     "execution_count": 9,
     "metadata": {},
     "output_type": "execute_result"
    }
   ],
   "source": [
    "w = sp.Symbol(\"w\")"
   ]
  },
  {
   "cell_type": "code",
   "execution_count": 19,
   "metadata": {
    "collapsed": true
   },
   "outputs": [],
   "source": [
    "using Conda"
   ]
  },
  {
   "cell_type": "code",
   "execution_count": 21,
   "metadata": {
    "collapsed": false
   },
   "outputs": [
    {
     "name": "stdout",
     "output_type": "stream",
     "text": [
      "Fetching package metadata .......\n",
      "Solving package specifications: ..........\n",
      "\n",
      "# All requested packages already installed.\n",
      "# packages in environment at /home/jmarcellopereira/.julia/v0.4/Conda/deps/usr:\n",
      "#\n",
      "python                    2.7.12                        1  \n"
     ]
    }
   ],
   "source": [
    "Conda.add(\"Python\")"
   ]
  },
  {
   "cell_type": "code",
   "execution_count": null,
   "metadata": {
    "collapsed": true
   },
   "outputs": [],
   "source": []
  }
 ],
 "metadata": {
  "kernelspec": {
   "display_name": "Julia 0.4.5",
   "language": "julia",
   "name": "julia-0.4"
  },
  "language_info": {
   "file_extension": ".jl",
   "mimetype": "application/julia",
   "name": "julia",
   "version": "0.4.5"
  }
 },
 "nbformat": 4,
 "nbformat_minor": 0
}
