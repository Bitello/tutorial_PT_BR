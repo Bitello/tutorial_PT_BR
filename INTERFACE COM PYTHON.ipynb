{
 "cells": [
  {
   "cell_type": "code",
   "execution_count": 1,
   "metadata": {
    "collapsed": false
   },
   "outputs": [
    {
     "name": "stderr",
     "output_type": "stream",
     "text": [
      "INFO: Nothing to be done\n",
      "INFO: METADATA is out-of-date — you may not have the latest version of Conda\n",
      "INFO: Use `Pkg.update()` to get the latest versions of your packages\n"
     ]
    }
   ],
   "source": [
    "Pkg.add(\"Conda\")"
   ]
  },
  {
   "cell_type": "code",
   "execution_count": 2,
   "metadata": {
    "collapsed": false
   },
   "outputs": [],
   "source": [
    "using Conda"
   ]
  },
  {
   "cell_type": "code",
   "execution_count": null,
   "metadata": {
    "collapsed": false,
    "scrolled": true
   },
   "outputs": [
    {
     "name": "stderr",
     "output_type": "stream",
     "text": [
      "INFO: Building PyCall\n",
      "INFO: No system-wide Python was found; got the following error:\n",
      "could not spawn `'' -c \"import distutils.sysconfig; print(distutils.sysconfig.get_config_var('VERSION'))\"`: no such file or directory (ENOENT)\n",
      "using the Python distribution in the Conda package\n",
      "INFO: Downloading miniconda installer ...\n",
      "  % Total    % Received % Xferd  Average Speed   Time    Time     Time  Current\n",
      "                                 Dload  Upload   Total   Spent    Left  Speed\n",
      "100 24.2M  100 24.2M    0     0   328k      0  0:01:15  0:01:15 --:--:--  448k\n",
      "INFO: Installing miniconda ...\n"
     ]
    },
    {
     "name": "stdout",
     "output_type": "stream",
     "text": [
      "PREFIX=/home/jmarcellopereira/.julia/v0.4/Conda/deps/usr\n",
      "installing: _cache-0.0-py27_x0 ...\n",
      "installing: python-2.7.11-0 ...\n",
      "installing: conda-env-2.4.5-py27_0 ...\n",
      "installing: openssl-1.0.2d-0 ...\n",
      "installing: pycosat-0.6.1-py27_0 ...\n",
      "installing: pyyaml-3.11-py27_1 ...\n",
      "installing: readline-6.2-2 ...\n",
      "installing: requests-2.9.0-py27_0 ...\n",
      "installing: sqlite-3.8.4.1-1 ...\n",
      "installing: tk-8.5.18-0 ...\n",
      "installing: yaml-0.1.6-0 ...\n",
      "installing: zlib-1.2.8-0 ...\n",
      "installing: conda-3.19.0-py27_0 ...\n",
      "installing: pycrypto-2.6.1-py27_0 ...\n",
      "installing: pip-7.1.2-py27_0 ...\n",
      "installing: wheel-0.26.0-py27_1 ...\n",
      "installing: setuptools-18.8.1-py27_0 ...\n",
      "creating default environment...\n"
     ]
    },
    {
     "name": "stderr",
     "output_type": "stream",
     "text": [
      "Python 2.7.11 :: Continuum Analytics, Inc.\n"
     ]
    },
    {
     "name": "stdout",
     "output_type": "stream",
     "text": [
      "installation finished.\n",
      "Fetching package metadata: ....\n",
      "Solving package specifications: ..................."
     ]
    }
   ],
   "source": [
    "ENV[\"PYTHON\"]=\"\"\n",
    "Pkg.build(\"PyCall\")"
   ]
  },
  {
   "cell_type": "code",
   "execution_count": 10,
   "metadata": {
    "collapsed": false
   },
   "outputs": [
    {
     "name": "stderr",
     "output_type": "stream",
     "text": [
      "INFO: Initializing package repository /home/jmarcellopereira/.julia/v0.4\n",
      "INFO: Package directory /home/jmarcellopereira/.julia/v0.4 is already initialized.\n"
     ]
    }
   ],
   "source": [
    "Pkg.init(\"PyCall\")"
   ]
  },
  {
   "cell_type": "code",
   "execution_count": 1,
   "metadata": {
    "collapsed": false
   },
   "outputs": [],
   "source": [
    "using PyCall"
   ]
  },
  {
   "cell_type": "code",
   "execution_count": 2,
   "metadata": {
    "collapsed": false
   },
   "outputs": [],
   "source": [
    "@pyimport scipy as sci"
   ]
  },
  {
   "cell_type": "code",
   "execution_count": 13,
   "metadata": {
    "collapsed": false
   },
   "outputs": [
    {
     "ename": "LoadError",
     "evalue": "LoadError: UndefVarError: quad not defined\nwhile loading In[13], in expression starting on line 3",
     "output_type": "error",
     "traceback": [
      "LoadError: UndefVarError: quad not defined\nwhile loading In[13], in expression starting on line 3",
      ""
     ]
    }
   ],
   "source": [
    "# integral numerica. valor numérico e erro\n",
    "\n",
    "sci.interp"
   ]
  },
  {
   "cell_type": "code",
   "execution_count": 107,
   "metadata": {
    "collapsed": false
   },
   "outputs": [
    {
     "data": {
      "text/plain": [
       "4.000000000000009"
      ]
     },
     "execution_count": 107,
     "metadata": {},
     "output_type": "execute_result"
    }
   ],
   "source": [
    "# raiz pelo método de newton dado um ponto inicial\n",
    "\n",
    "sco.newton(x -> x^2 - 4*x, 5)"
   ]
  },
  {
   "cell_type": "code",
   "execution_count": 9,
   "metadata": {
    "collapsed": false,
    "scrolled": true
   },
   "outputs": [
    {
     "data": {
      "text/plain": [
       "PyObject w"
      ]
     },
     "execution_count": 9,
     "metadata": {},
     "output_type": "execute_result"
    }
   ],
   "source": [
    "w = sp.Symbol(\"w\")"
   ]
  },
  {
   "cell_type": "code",
   "execution_count": 19,
   "metadata": {
    "collapsed": true
   },
   "outputs": [],
   "source": [
    "using Conda"
   ]
  },
  {
   "cell_type": "code",
   "execution_count": 21,
   "metadata": {
    "collapsed": false
   },
   "outputs": [
    {
     "name": "stdout",
     "output_type": "stream",
     "text": [
      "Fetching package metadata .......\n",
      "Solving package specifications: ..........\n",
      "\n",
      "# All requested packages already installed.\n",
      "# packages in environment at /home/jmarcellopereira/.julia/v0.4/Conda/deps/usr:\n",
      "#\n",
      "python                    2.7.12                        1  \n"
     ]
    }
   ],
   "source": [
    "Conda.add(\"Python\")"
   ]
  },
  {
   "cell_type": "code",
   "execution_count": null,
   "metadata": {
    "collapsed": true
   },
   "outputs": [],
   "source": []
  }
 ],
 "metadata": {
  "anaconda-cloud": {},
  "kernelspec": {
   "display_name": "Julia 0.5.0",
   "language": "julia",
   "name": "julia-0.5"
  },
  "language_info": {
   "file_extension": ".jl",
   "mimetype": "application/julia",
   "name": "julia",
   "version": "0.5.0"
  }
 },
 "nbformat": 4,
 "nbformat_minor": 0
}
