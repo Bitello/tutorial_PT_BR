{
 "cells": [
  {
   "cell_type": "markdown",
   "metadata": {},
   "source": [
    "#PROGRAMAÇÃO BÁSICA#"
   ]
  },
  {
   "cell_type": "markdown",
   "metadata": {
    "collapsed": true
   },
   "source": []
  },
  {
   "cell_type": "markdown",
   "metadata": {
    "collapsed": true
   },
   "source": [
    "<strong>OPERADORES LÓGIGOS E BOLEANOS</strong>"
   ]
  },
  {
   "cell_type": "markdown",
   "metadata": {
    "collapsed": true
   },
   "source": [
    "<div style=\"text-align: justify;\">Operadores de comparação para\n",
    "determinar, por exemplo, se são iguais. Todos os operadores de\n",
    "comparação da JULIA retornam TRUE como verdade e FALSE como falso.<br>\n",
    "Resumo:<br>\n",
    "</div>\n",
    "</body>\n",
    "<ul>\n",
    "<li>x &lt; y, verdade se x é menor que y.</li>\n",
    "<li>x &lt;= y, verdade se x é menor ou igual a y.</li>\n",
    "<li>x &gt;= y, verdade se x é maior ou igual a y.</li>\n",
    "<li>x &gt; y, verdade se x é maior que y.</li>\n",
    "<li>x == y, verdade se x é igual a y.</li>\n",
    "<li>&nbsp;x != y,</li>\n",
    "<li>&nbsp;x ~= y, verdade se x é diferente de y.</li>\n",
    "</ul>\n",
    "\n"
   ]
  },
  {
   "cell_type": "markdown",
   "metadata": {
    "collapsed": true
   },
   "source": [
    "<div style=\"text-align: justify;\">Uma expressão booleana elemento por\n",
    "elemento, é uma combinação de comparação de expressões usando os\n",
    "operadores:<br>\n",
    "</div>\n",
    "<ul>\n",
    "<li>| |, operador “ou”</li>\n",
    "<li>& &, operador “e”</li>\n",
    "<li>~ ou !, operador “não”</li>\n",
    "</ul>\n",
    "<div style=\"text-align: justify;\">\n",
    "Uma expressão booleana é verdadeira se o resultado do cálculo das\n",
    "combinações lógicas das expressões booleanas for verdadeira. O valor\n",
    "será considerado falso se for zero, e verdadeiro de outra forma.<br>\n",
    "</div>"
   ]
  },
  {
   "cell_type": "markdown",
   "metadata": {},
   "source": [
    "<strong>ENTRADA E SAÍDA</strong>"
   ]
  },
  {
   "cell_type": "code",
   "execution_count": null,
   "metadata": {
    "collapsed": false
   },
   "outputs": [],
   "source": []
  },
  {
   "cell_type": "code",
   "execution_count": 1,
   "metadata": {
    "collapsed": false
   },
   "outputs": [],
   "source": [
    "using DataFrames"
   ]
  },
  {
   "cell_type": "code",
   "execution_count": 20,
   "metadata": {
    "collapsed": false,
    "scrolled": true
   },
   "outputs": [
    {
     "data": {
      "text/html": [
       "<table class=\"data-frame\"><tr><th></th><th>Tabela_de_softwares</th></tr><tr><th>1</th><td>Julia</td></tr><tr><th>2</th><td>sage math</td></tr><tr><th>3</th><td>Octave</td></tr></table>"
      ],
      "text/plain": [
       "3x1 DataFrames.DataFrame\n",
       "│ Row │ Tabela_de_softwares │\n",
       "┝━━━━━┿━━━━━━━━━━━━━━━━━━━━━┥\n",
       "│ 1   │ \"Julia\"             │\n",
       "│ 2   │ \"sage math\"         │\n",
       "│ 3   │ \"Octave\"            │"
      ]
     },
     "execution_count": 20,
     "metadata": {},
     "output_type": "execute_result"
    }
   ],
   "source": [
    "tabela_dat"
   ]
  },
  {
   "cell_type": "code",
   "execution_count": 28,
   "metadata": {
    "collapsed": false
   },
   "outputs": [
    {
     "ename": "LoadError",
     "evalue": "LoadError: MethodError: `writetable` has no method matching writetable(::ASCIIString, ::ASCIIString)\nClosest candidates are:\n  writetable(::AbstractString, !Matched::DataFrames.AbstractDataFrame)\nwhile loading In[28], in expression starting on line 3",
     "output_type": "error",
     "traceback": [
      "LoadError: MethodError: `writetable` has no method matching writetable(::ASCIIString, ::ASCIIString)\nClosest candidates are:\n  writetable(::AbstractString, !Matched::DataFrames.AbstractDataFrame)\nwhile loading In[28], in expression starting on line 3",
      ""
     ]
    }
   ],
   "source": [
    "df = \"DataFrame\"\n",
    "\n",
    "DataFrames.writetable(\"arquivo.dat\",df)"
   ]
  },
  {
   "cell_type": "code",
   "execution_count": 58,
   "metadata": {
    "collapsed": false,
    "scrolled": true
   },
   "outputs": [
    {
     "data": {
      "text/plain": [
       "\"J\\nu\\nl\\ni\\na\\n \\né\\n \\nl\\ne\\ng\\na\\nl\\n\\n\\n\""
      ]
     },
     "execution_count": 58,
     "metadata": {},
     "output_type": "execute_result"
    }
   ],
   "source": [
    "f = open(\"arquivo.txt\")\n",
    "\n",
    "readall(f)"
   ]
  },
  {
   "cell_type": "code",
   "execution_count": 59,
   "metadata": {
    "collapsed": false,
    "scrolled": true
   },
   "outputs": [
    {
     "data": {
      "text/plain": [
       "15-element Array{ByteString,1}:\n",
       " \"J\\n\"\n",
       " \"u\\n\"\n",
       " \"l\\n\"\n",
       " \"i\\n\"\n",
       " \"a\\n\"\n",
       " \" \\n\"\n",
       " \"é\\n\"\n",
       " \" \\n\"\n",
       " \"l\\n\"\n",
       " \"e\\n\"\n",
       " \"g\\n\"\n",
       " \"a\\n\"\n",
       " \"l\\n\"\n",
       " \"\\n\" \n",
       " \"\\n\" "
      ]
     },
     "execution_count": 59,
     "metadata": {},
     "output_type": "execute_result"
    }
   ],
   "source": [
    "f = open(\"arquivo.txt\")\n",
    "\n",
    "readlines(f)"
   ]
  },
  {
   "cell_type": "code",
   "execution_count": 88,
   "metadata": {
    "collapsed": false,
    "scrolled": false
   },
   "outputs": [
    {
     "name": "stdout",
     "output_type": "stream",
     "text": [
      "J\n",
      "u\n",
      "l\n",
      "i\n",
      "a\n",
      " \n",
      "é\n",
      " \n",
      "l\n",
      "e\n",
      "g\n",
      "a\n",
      "l\n",
      "\n",
      "\n"
     ]
    }
   ],
   "source": [
    "f = open(\"arquivo.txt\")\n",
    "\n",
    "for ln in eachline(f)\n",
    "       print(\"$ln\")\n",
    "end"
   ]
  },
  {
   "cell_type": "code",
   "execution_count": null,
   "metadata": {
    "collapsed": false
   },
   "outputs": [],
   "source": []
  },
  {
   "cell_type": "code",
   "execution_count": 91,
   "metadata": {
    "collapsed": false
   },
   "outputs": [
    {
     "ename": "LoadError",
     "evalue": "LoadError: MethodError: `writemime` has no method matching writemime(::ASCIIString, ::UTF8String)\nClosest candidates are:\n  writemime(!Matched::IO, ::AbstractString, !Matched::Any)\nwhile loading In[91], in expression starting on line 3",
     "output_type": "error",
     "traceback": [
      "LoadError: MethodError: `writemime` has no method matching writemime(::ASCIIString, ::UTF8String)\nClosest candidates are:\n  writemime(!Matched::IO, ::AbstractString, !Matched::Any)\nwhile loading In[91], in expression starting on line 3",
      ""
     ]
    }
   ],
   "source": [
    "f = open(\"arquivo.txt\", \"w\")\n",
    "\n",
    "wr(\"arquivo.txt\",\"Julia é legal\\n\")"
   ]
  },
  {
   "cell_type": "code",
   "execution_count": 90,
   "metadata": {
    "collapsed": false,
    "scrolled": true
   },
   "outputs": [
    {
     "data": {
      "text/plain": [
       "\"J\\nu\\nl\\ni\\na\\n \\né\\n \\nl\\ne\\ng\\na\\nl\\n\\n\\n\""
      ]
     },
     "execution_count": 90,
     "metadata": {},
     "output_type": "execute_result"
    }
   ],
   "source": [
    "f = open(\"arquivo.txt\")\n",
    "\n",
    "readall(f)"
   ]
  },
  {
   "cell_type": "markdown",
   "metadata": {},
   "source": [
    "<strong>Usando data frames</strong>"
   ]
  },
  {
   "cell_type": "code",
   "execution_count": 3,
   "metadata": {
    "collapsed": true
   },
   "outputs": [],
   "source": [
    "using DataFrames"
   ]
  },
  {
   "cell_type": "code",
   "execution_count": 180,
   "metadata": {
    "collapsed": false
   },
   "outputs": [
    {
     "data": {
      "text/html": [
       "<table class=\"data-frame\"><tr><th></th><th>Texto</th></tr><tr><th>1</th><td>scilab</td></tr><tr><th>2</th><td>julia</td></tr></table>"
      ],
      "text/plain": [
       "2x1 DataFrames.DataFrame\n",
       "│ Row │ Texto    │\n",
       "┝━━━━━┿━━━━━━━━━━┥\n",
       "│ 1   │ \"scilab\" │\n",
       "│ 2   │ \"julia\"  │"
      ]
     },
     "execution_count": 180,
     "metadata": {},
     "output_type": "execute_result"
    }
   ],
   "source": [
    "tabela_dat = DataFrames.readtable(\"arquivo.dat\")"
   ]
  },
  {
   "cell_type": "code",
   "execution_count": 181,
   "metadata": {
    "collapsed": false
   },
   "outputs": [],
   "source": [
    "dados = DataFrame(Texto =[\"scilab\",\"julia\"])\n",
    "\n",
    "writetable(\"arquivo.dat\", dados)"
   ]
  },
  {
   "cell_type": "code",
   "execution_count": 182,
   "metadata": {
    "collapsed": false
   },
   "outputs": [
    {
     "data": {
      "text/html": [
       "<table class=\"data-frame\"><tr><th></th><th>Texto</th></tr><tr><th>1</th><td>scilab</td></tr><tr><th>2</th><td>julia</td></tr></table>"
      ],
      "text/plain": [
       "2x1 DataFrames.DataFrame\n",
       "│ Row │ Texto    │\n",
       "┝━━━━━┿━━━━━━━━━━┥\n",
       "│ 1   │ \"scilab\" │\n",
       "│ 2   │ \"julia\"  │"
      ]
     },
     "execution_count": 182,
     "metadata": {},
     "output_type": "execute_result"
    }
   ],
   "source": [
    "DataFrames.readtable(\"arquivo.dat\")"
   ]
  },
  {
   "cell_type": "code",
   "execution_count": 151,
   "metadata": {
    "collapsed": false,
    "scrolled": false
   },
   "outputs": [
    {
     "data": {
      "text/html": [
       "<table class=\"data-frame\"><tr><th></th><th>Linguagem</th><th>Teste</th><th>Tempo_s_</th></tr><tr><th>1</th><td>c</td><td>fib</td><td>0.05623</td></tr><tr><th>2</th><td>c</td><td>mandel</td><td>0.432661</td></tr><tr><th>3</th><td>c</td><td>parse_int</td><td>0.218658</td></tr><tr><th>4</th><td>c</td><td>pi_sum</td><td>55.028915</td></tr><tr><th>5</th><td>c</td><td>printfd</td><td>24.981976</td></tr><tr><th>6</th><td>c</td><td>quicksort</td><td>0.601053</td></tr><tr><th>7</th><td>c</td><td>rand_mat_mul</td><td>272.912979</td></tr><tr><th>8</th><td>c</td><td>rand_mat_stat</td><td>13.940811</td></tr><tr><th>9</th><td>fortran</td><td>fib</td><td>0.039566</td></tr><tr><th>10</th><td>fortran</td><td>mandel</td><td>0.350346</td></tr><tr><th>11</th><td>fortran</td><td>parse_int</td><td>1.104461</td></tr><tr><th>12</th><td>fortran</td><td>pi_sum</td><td>55.01066</td></tr><tr><th>13</th><td>fortran</td><td>quicksort</td><td>0.784839</td></tr><tr><th>14</th><td>fortran</td><td>rand_mat_mul</td><td>950.410142</td></tr><tr><th>15</th><td>fortran</td><td>rand_mat_stat</td><td>20.167418</td></tr><tr><th>16</th><td>go</td><td>fib</td><td>0.10481975130000001</td></tr><tr><th>17</th><td>go</td><td>mandel</td><td>0.479551348</td></tr><tr><th>18</th><td>go</td><td>parse_int</td><td>0.2616138492</td></tr><tr><th>19</th><td>go</td><td>pi_sum</td><td>55.04490216666667</td></tr><tr><th>20</th><td>go</td><td>quicksort</td><td>0.777689876</td></tr><tr><th>21</th><td>go</td><td>rand_mat_mul</td><td>387.744084</td></tr><tr><th>22</th><td>go</td><td>rand_mat_stat</td><td>41.2285459</td></tr><tr><th>23</th><td>java</td><td>fib</td><td>0.067959</td></tr><tr><th>24</th><td>java</td><td>mandel</td><td>0.5853</td></tr><tr><th>25</th><td>java</td><td>parse_int</td><td>0.732146</td></tr><tr><th>26</th><td>java</td><td>pi_sum</td><td>55.135672</td></tr><tr><th>27</th><td>java</td><td>printfd</td><td>140.506187</td></tr><tr><th>28</th><td>java</td><td>quicksort</td><td>1.565566</td></tr><tr><th>29</th><td>java</td><td>rand_mat_mul</td><td>645.078769</td></tr><tr><th>30</th><td>java</td><td>rand_mat_stat</td><td>54.689037</td></tr><tr><th>&vellip;</th><td>&vellip;</td><td>&vellip;</td><td>&vellip;</td></tr></table>"
      ],
      "text/plain": [
       "91x3 DataFrames.DataFrame\n",
       "│ Row │ Linguagem │ Teste           │ Tempo_s_ │\n",
       "┝━━━━━┿━━━━━━━━━━━┿━━━━━━━━━━━━━━━━━┿━━━━━━━━━━┥\n",
       "│ 1   │ \"c\"       │ \"fib\"           │ 0.05623  │\n",
       "│ 2   │ \"c\"       │ \"mandel\"        │ 0.432661 │\n",
       "│ 3   │ \"c\"       │ \"parse_int\"     │ 0.218658 │\n",
       "│ 4   │ \"c\"       │ \"pi_sum\"        │ 55.0289  │\n",
       "│ 5   │ \"c\"       │ \"printfd\"       │ 24.982   │\n",
       "│ 6   │ \"c\"       │ \"quicksort\"     │ 0.601053 │\n",
       "│ 7   │ \"c\"       │ \"rand_mat_mul\"  │ 272.913  │\n",
       "│ 8   │ \"c\"       │ \"rand_mat_stat\" │ 13.9408  │\n",
       "│ 9   │ \"fortran\" │ \"fib\"           │ 0.039566 │\n",
       "│ 10  │ \"fortran\" │ \"mandel\"        │ 0.350346 │\n",
       "│ 11  │ \"fortran\" │ \"parse_int\"     │ 1.10446  │\n",
       "⋮\n",
       "│ 80  │ \"python\"  │ \"parse_int\"     │ 3.72243  │\n",
       "│ 81  │ \"python\"  │ \"pi_sum\"        │ 1210.33  │\n",
       "│ 82  │ \"python\"  │ \"quicksort\"     │ 19.7685  │\n",
       "│ 83  │ \"python\"  │ \"rand_mat_mul\"  │ 310.41   │\n",
       "│ 84  │ \"python\"  │ \"rand_mat_stat\" │ 249.915  │\n",
       "│ 85  │ \"r\"       │ \"fib\"           │ 30.0     │\n",
       "│ 86  │ \"r\"       │ \"mandel\"        │ 23.0     │\n",
       "│ 87  │ \"r\"       │ \"parse_int\"     │ 10.0     │\n",
       "│ 88  │ \"r\"       │ \"pi_sum\"        │ 526.0    │\n",
       "│ 89  │ \"r\"       │ \"quicksort\"     │ 159.0    │\n",
       "│ 90  │ \"r\"       │ \"rand_mat_mul\"  │ 428.0    │\n",
       "│ 91  │ \"r\"       │ \"rand_mat_stat\" │ 203.0    │"
      ]
     },
     "execution_count": 151,
     "metadata": {},
     "output_type": "execute_result"
    }
   ],
   "source": [
    "tabela = DataFrames.readtable(\"benchmarks.csv\")"
   ]
  },
  {
   "cell_type": "code",
   "execution_count": 152,
   "metadata": {
    "collapsed": false
   },
   "outputs": [
    {
     "data": {
      "text/html": [
       "<table class=\"data-frame\"><tr><th></th><th>Linguagem</th><th>Teste</th><th>Tempo_s_</th></tr><tr><th>1</th><td>c</td><td>fib</td><td>0.05623</td></tr><tr><th>2</th><td>c</td><td>mandel</td><td>0.432661</td></tr><tr><th>3</th><td>c</td><td>parse_int</td><td>0.218658</td></tr><tr><th>4</th><td>c</td><td>pi_sum</td><td>55.028915</td></tr><tr><th>5</th><td>c</td><td>printfd</td><td>24.981976</td></tr><tr><th>6</th><td>c</td><td>quicksort</td><td>0.601053</td></tr><tr><th>7</th><td>c</td><td>rand_mat_mul</td><td>272.912979</td></tr><tr><th>8</th><td>c</td><td>rand_mat_stat</td><td>13.940811</td></tr><tr><th>9</th><td>fortran</td><td>fib</td><td>0.039566</td></tr><tr><th>10</th><td>fortran</td><td>mandel</td><td>0.350346</td></tr><tr><th>11</th><td>fortran</td><td>parse_int</td><td>1.104461</td></tr><tr><th>12</th><td>fortran</td><td>pi_sum</td><td>55.01066</td></tr><tr><th>13</th><td>fortran</td><td>quicksort</td><td>0.784839</td></tr><tr><th>14</th><td>fortran</td><td>rand_mat_mul</td><td>950.410142</td></tr><tr><th>15</th><td>fortran</td><td>rand_mat_stat</td><td>20.167418</td></tr><tr><th>16</th><td>go</td><td>fib</td><td>0.10481975130000001</td></tr><tr><th>17</th><td>go</td><td>mandel</td><td>0.479551348</td></tr><tr><th>18</th><td>go</td><td>parse_int</td><td>0.2616138492</td></tr><tr><th>19</th><td>go</td><td>pi_sum</td><td>55.04490216666667</td></tr><tr><th>20</th><td>go</td><td>quicksort</td><td>0.777689876</td></tr><tr><th>21</th><td>go</td><td>rand_mat_mul</td><td>387.744084</td></tr><tr><th>22</th><td>go</td><td>rand_mat_stat</td><td>41.2285459</td></tr><tr><th>23</th><td>java</td><td>fib</td><td>0.067959</td></tr><tr><th>24</th><td>java</td><td>mandel</td><td>0.5853</td></tr><tr><th>25</th><td>java</td><td>parse_int</td><td>0.732146</td></tr><tr><th>26</th><td>java</td><td>pi_sum</td><td>55.135672</td></tr><tr><th>27</th><td>java</td><td>printfd</td><td>140.506187</td></tr><tr><th>28</th><td>java</td><td>quicksort</td><td>1.565566</td></tr><tr><th>29</th><td>java</td><td>rand_mat_mul</td><td>645.078769</td></tr><tr><th>30</th><td>java</td><td>rand_mat_stat</td><td>54.689037</td></tr><tr><th>&vellip;</th><td>&vellip;</td><td>&vellip;</td><td>&vellip;</td></tr></table>"
      ],
      "text/plain": [
       "91x3 DataFrames.DataFrame\n",
       "│ Row │ Linguagem │ Teste           │ Tempo_s_ │\n",
       "┝━━━━━┿━━━━━━━━━━━┿━━━━━━━━━━━━━━━━━┿━━━━━━━━━━┥\n",
       "│ 1   │ \"c\"       │ \"fib\"           │ 0.05623  │\n",
       "│ 2   │ \"c\"       │ \"mandel\"        │ 0.432661 │\n",
       "│ 3   │ \"c\"       │ \"parse_int\"     │ 0.218658 │\n",
       "│ 4   │ \"c\"       │ \"pi_sum\"        │ 55.0289  │\n",
       "│ 5   │ \"c\"       │ \"printfd\"       │ 24.982   │\n",
       "│ 6   │ \"c\"       │ \"quicksort\"     │ 0.601053 │\n",
       "│ 7   │ \"c\"       │ \"rand_mat_mul\"  │ 272.913  │\n",
       "│ 8   │ \"c\"       │ \"rand_mat_stat\" │ 13.9408  │\n",
       "│ 9   │ \"fortran\" │ \"fib\"           │ 0.039566 │\n",
       "│ 10  │ \"fortran\" │ \"mandel\"        │ 0.350346 │\n",
       "│ 11  │ \"fortran\" │ \"parse_int\"     │ 1.10446  │\n",
       "⋮\n",
       "│ 80  │ \"python\"  │ \"parse_int\"     │ 3.72243  │\n",
       "│ 81  │ \"python\"  │ \"pi_sum\"        │ 1210.33  │\n",
       "│ 82  │ \"python\"  │ \"quicksort\"     │ 19.7685  │\n",
       "│ 83  │ \"python\"  │ \"rand_mat_mul\"  │ 310.41   │\n",
       "│ 84  │ \"python\"  │ \"rand_mat_stat\" │ 249.915  │\n",
       "│ 85  │ \"r\"       │ \"fib\"           │ 30.0     │\n",
       "│ 86  │ \"r\"       │ \"mandel\"        │ 23.0     │\n",
       "│ 87  │ \"r\"       │ \"parse_int\"     │ 10.0     │\n",
       "│ 88  │ \"r\"       │ \"pi_sum\"        │ 526.0    │\n",
       "│ 89  │ \"r\"       │ \"quicksort\"     │ 159.0    │\n",
       "│ 90  │ \"r\"       │ \"rand_mat_mul\"  │ 428.0    │\n",
       "│ 91  │ \"r\"       │ \"rand_mat_stat\" │ 203.0    │"
      ]
     },
     "execution_count": 152,
     "metadata": {},
     "output_type": "execute_result"
    }
   ],
   "source": [
    "tabela"
   ]
  },
  {
   "cell_type": "code",
   "execution_count": 153,
   "metadata": {
    "collapsed": false
   },
   "outputs": [
    {
     "data": {
      "text/plain": [
       "91-element DataArrays.DataArray{UTF8String,1}:\n",
       " \"c\"      \n",
       " \"c\"      \n",
       " \"c\"      \n",
       " \"c\"      \n",
       " \"c\"      \n",
       " \"c\"      \n",
       " \"c\"      \n",
       " \"c\"      \n",
       " \"fortran\"\n",
       " \"fortran\"\n",
       " \"fortran\"\n",
       " \"fortran\"\n",
       " \"fortran\"\n",
       " ⋮        \n",
       " \"python\" \n",
       " \"python\" \n",
       " \"python\" \n",
       " \"python\" \n",
       " \"python\" \n",
       " \"r\"      \n",
       " \"r\"      \n",
       " \"r\"      \n",
       " \"r\"      \n",
       " \"r\"      \n",
       " \"r\"      \n",
       " \"r\"      "
      ]
     },
     "execution_count": 153,
     "metadata": {},
     "output_type": "execute_result"
    }
   ],
   "source": [
    "tabela.columns[1]"
   ]
  },
  {
   "cell_type": "code",
   "execution_count": 155,
   "metadata": {
    "collapsed": false,
    "scrolled": true
   },
   "outputs": [
    {
     "data": {
      "text/plain": [
       "91-element DataArrays.DataArray{UTF8String,1}:\n",
       " \"fib\"          \n",
       " \"mandel\"       \n",
       " \"parse_int\"    \n",
       " \"pi_sum\"       \n",
       " \"printfd\"      \n",
       " \"quicksort\"    \n",
       " \"rand_mat_mul\" \n",
       " \"rand_mat_stat\"\n",
       " \"fib\"          \n",
       " \"mandel\"       \n",
       " \"parse_int\"    \n",
       " \"pi_sum\"       \n",
       " \"quicksort\"    \n",
       " ⋮              \n",
       " \"parse_int\"    \n",
       " \"pi_sum\"       \n",
       " \"quicksort\"    \n",
       " \"rand_mat_mul\" \n",
       " \"rand_mat_stat\"\n",
       " \"fib\"          \n",
       " \"mandel\"       \n",
       " \"parse_int\"    \n",
       " \"pi_sum\"       \n",
       " \"quicksort\"    \n",
       " \"rand_mat_mul\" \n",
       " \"rand_mat_stat\""
      ]
     },
     "execution_count": 155,
     "metadata": {},
     "output_type": "execute_result"
    }
   ],
   "source": [
    "tabela.columns[2]"
   ]
  },
  {
   "cell_type": "code",
   "execution_count": 15,
   "metadata": {
    "collapsed": false
   },
   "outputs": [
    {
     "data": {
      "text/html": [
       "<table class=\"data-frame\"><tr><th></th><th>Nome</th><th>Ano_de_lancamento</th></tr><tr><th>1</th><td>Julia</td><td>2012</td></tr><tr><th>2</th><td>SageMath</td><td>2005</td></tr><tr><th>3</th><td>Maxima</td><td>1980</td></tr><tr><th>4</th><td>Octave</td><td>2000</td></tr></table>"
      ],
      "text/plain": [
       "4x2 DataFrames.DataFrame\n",
       "│ Row │ Nome       │ Ano_de_lancamento │\n",
       "┝━━━━━┿━━━━━━━━━━━━┿━━━━━━━━━━━━━━━━━━━┥\n",
       "│ 1   │ \"Julia\"    │ 2012              │\n",
       "│ 2   │ \"SageMath\" │ 2005              │\n",
       "│ 3   │ \"Maxima\"   │ 1980              │\n",
       "│ 4   │ \"Octave\"   │ 2000              │"
      ]
     },
     "execution_count": 15,
     "metadata": {},
     "output_type": "execute_result"
    }
   ],
   "source": [
    "Softwares = DataFrame()\n",
    "\n",
    "Softwares[:Nome]   = [\"Julia\", \"SageMath\", \"Maxima\", \"Octave\"]\n",
    "Softwares[:Ano_de_lancamento] = [2012, 2005, 1980, 2000]\n",
    "\n",
    "Softwares"
   ]
  },
  {
   "cell_type": "code",
   "execution_count": 22,
   "metadata": {
    "collapsed": false
   },
   "outputs": [
    {
     "data": {
      "text/plain": [
       "([:Nome,:Ano_de_lancamento],Type[ASCIIString,Int64])"
      ]
     },
     "execution_count": 22,
     "metadata": {},
     "output_type": "execute_result"
    }
   ],
   "source": [
    "names(Softwares) ,  eltypes(Softwares)"
   ]
  },
  {
   "cell_type": "code",
   "execution_count": 17,
   "metadata": {
    "collapsed": false
   },
   "outputs": [],
   "source": [
    "DataFrames.writetable(\"planilha.csv\", Softwares)"
   ]
  },
  {
   "cell_type": "code",
   "execution_count": 23,
   "metadata": {
    "collapsed": false,
    "scrolled": true
   },
   "outputs": [
    {
     "data": {
      "text/html": [
       "<table class=\"data-frame\"><tr><th></th><th>Nome</th><th>Ano_de_lancamento</th></tr><tr><th>1</th><td>Julia</td><td>2012</td></tr><tr><th>2</th><td>SageMath</td><td>2005</td></tr><tr><th>3</th><td>Maxima</td><td>1980</td></tr><tr><th>4</th><td>Octave</td><td>2000</td></tr></table>"
      ],
      "text/plain": [
       "4x2 DataFrames.DataFrame\n",
       "│ Row │ Nome       │ Ano_de_lancamento │\n",
       "┝━━━━━┿━━━━━━━━━━━━┿━━━━━━━━━━━━━━━━━━━┥\n",
       "│ 1   │ \"Julia\"    │ 2012              │\n",
       "│ 2   │ \"SageMath\" │ 2005              │\n",
       "│ 3   │ \"Maxima\"   │ 1980              │\n",
       "│ 4   │ \"Octave\"   │ 2000              │"
      ]
     },
     "execution_count": 23,
     "metadata": {},
     "output_type": "execute_result"
    }
   ],
   "source": [
    "planilha = DataFrames.readtable(\"planilha.csv\")"
   ]
  },
  {
   "cell_type": "code",
   "execution_count": 29,
   "metadata": {
    "collapsed": false
   },
   "outputs": [
    {
     "data": {
      "text/plain": [
       "4-element DataArrays.DataArray{UTF8String,1}:\n",
       " \"Julia\"   \n",
       " \"SageMath\"\n",
       " \"Maxima\"  \n",
       " \"Octave\"  "
      ]
     },
     "metadata": {},
     "output_type": "display_data"
    },
    {
     "data": {
      "text/plain": [
       "4-element DataArrays.DataArray{Int64,1}:\n",
       " 2012\n",
       " 2005\n",
       " 1980\n",
       " 2000"
      ]
     },
     "metadata": {},
     "output_type": "display_data"
    }
   ],
   "source": [
    "display(planilha[:Nome])\n",
    "\n",
    "display(planilha[:Ano_de_lancamento])"
   ]
  },
  {
   "cell_type": "markdown",
   "metadata": {},
   "source": [
    "<strong> ESTRUTURAS DE CONTROLE </strong>"
   ]
  },
  {
   "cell_type": "markdown",
   "metadata": {},
   "source": [
    "Laços ocupam um lugar relevante no controle e núcleos de repetição. Os comandos de controle\n",
    "de laço são: while, for, do, if, switch"
   ]
  },
  {
   "cell_type": "markdown",
   "metadata": {},
   "source": [
    "<strong>Condicional \"SE\" (IF)</strong>"
   ]
  },
  {
   "cell_type": "markdown",
   "metadata": {},
   "source": [
    "<p style=\"text-align: justify;\"><strong>Condicional IF</strong></p>\n",
    "<p style=\"text-align: justify;\"><strong></strong></p>\n",
    "<table style=\"text-align: left; width: 359px; height: 186px; margin-left: 0px; margin-right: 0px;\" border=\"1\" cellpadding=\"2\" cellspacing=\"1\">\n",
    "<tbody>\n",
    "<tr>\n",
    "<td style=\"vertical-align: top; text-align: left;\"><span style=\"font-weight: bold;\">if</span> condição<br>\n",
    "&nbsp;&nbsp;&nbsp;\n",
    "instruções<br>\n",
    "&nbsp;<span style=\"font-weight: bold;\">end</span></td>\n",
    "<td style=\"vertical-align: top;\">&nbsp;<span style=\"font-weight: bold;\">if </span>condição<br>\n",
    "\n",
    "&nbsp;&nbsp;&nbsp;\n",
    "instruções<span style=\"font-weight: bold;\"></span><br>\n",
    "&nbsp;<span style=\"font-weight: bold;\">else</span><br>\n",
    "&nbsp;&nbsp;&nbsp;\n",
    "instruções<br>\n",
    "&nbsp;<span style=\"font-weight: bold;\">end</span></td>\n",
    "<td style=\"vertical-align: top;\">&nbsp;<span style=\"font-weight: bold;\">if</span> expressao<br>\n",
    "&nbsp;&nbsp;&nbsp;&nbsp;&nbsp; instruções<span style=\"font-weight: bold;\"></span><br>\n",
    "\n",
    "&nbsp;<strong>elseif</strong> outra_expressao<br>\n",
    "&nbsp;&nbsp;&nbsp;&nbsp;&nbsp; instruções<span style=\"font-weight: bold;\"></span><br>\n",
    "&nbsp;<span style=\"font-weight: bold;\">else</span><br>\n",
    "&nbsp;&nbsp;&nbsp;&nbsp;&nbsp; outro_bloco_ainda<span style=\"font-weight: bold;\"></span><br>\n",
    "&nbsp;<span style=\"font-weight: bold;\">end</span> &nbsp;<br>\n",
    "</td>\n",
    "</tr>\n",
    "\n",
    "</tbody>\n",
    "</table>"
   ]
  },
  {
   "cell_type": "code",
   "execution_count": 163,
   "metadata": {
    "collapsed": false
   },
   "outputs": [
    {
     "data": {
      "text/plain": [
       "(6,9)"
      ]
     },
     "execution_count": 163,
     "metadata": {},
     "output_type": "execute_result"
    }
   ],
   "source": [
    "x=rand(0:10);\n",
    "\n",
    "y=rand(0:10);\n",
    "\n",
    "x,y"
   ]
  },
  {
   "cell_type": "code",
   "execution_count": 164,
   "metadata": {
    "collapsed": false
   },
   "outputs": [
    {
     "name": "stdout",
     "output_type": "stream",
     "text": [
      "x is less than y\n"
     ]
    }
   ],
   "source": [
    "# se x< 15 será impresso a mensagem, se x>y não será feito nada\n",
    "\n",
    "if x < y\n",
    "  println(\"x is less than y\")\n",
    "end"
   ]
  },
  {
   "cell_type": "code",
   "execution_count": null,
   "metadata": {
    "collapsed": true
   },
   "outputs": [],
   "source": []
  },
  {
   "cell_type": "code",
   "execution_count": 165,
   "metadata": {
    "collapsed": false
   },
   "outputs": [
    {
     "name": "stdout",
     "output_type": "stream",
     "text": [
      "x é menor que y .Valor de x: 6 Valor de y: 9\n"
     ]
    }
   ],
   "source": [
    "if x < y\n",
    "    println(\"x é menor que y .\",\"Valor de x: \",x,\" Valor de y: \",y)\n",
    "else\n",
    "    println(\"x é maior que y .\",\"Valor de x: \",x,\" Valor de y: \",y)\n",
    "end"
   ]
  },
  {
   "cell_type": "code",
   "execution_count": null,
   "metadata": {
    "collapsed": true
   },
   "outputs": [],
   "source": []
  },
  {
   "cell_type": "code",
   "execution_count": 166,
   "metadata": {
    "collapsed": false
   },
   "outputs": [
    {
     "name": "stdout",
     "output_type": "stream",
     "text": [
      "x é menor que y .Valor de x: 6 Valor de y: 9\n"
     ]
    }
   ],
   "source": [
    "if x < y\n",
    "  println(\"x é menor que y .\",\"Valor de x: \",x,\" Valor de y: \",y)\n",
    "    \n",
    "elseif x > y\n",
    "  println(\"x é maior que y .\",\"Valor de x: \",x,\" Valor de y: \",y)\n",
    "    \n",
    "else\n",
    "    println(\"x é igual a y .\",\"Valor de x: \",x,\" Valor de y: \",y)\n",
    "end"
   ]
  },
  {
   "cell_type": "markdown",
   "metadata": {
    "collapsed": true
   },
   "source": [
    "Definindo funções do tipo: $~\n",
    "f(x) = \\begin{cases}\n",
    "\\cos(x) & x \\geq 0\\\\\n",
    "1 - e^{-1/x^2} & \\text{x < 0}.\n",
    "\\end{cases}\n",
    "~$"
   ]
  },
  {
   "cell_type": "code",
   "execution_count": 167,
   "metadata": {
    "collapsed": false
   },
   "outputs": [
    {
     "name": "stdout",
     "output_type": "stream",
     "text": [
      "f = exp(-1/x^2) = 0.36787944117144233"
     ]
    }
   ],
   "source": [
    "x  = rand(-1:1)\n",
    "\n",
    "if x>=0\n",
    "    print(\"f = cos(x) = \",cos(x))\n",
    "    \n",
    "elseif x<0\n",
    "    print(\"f = exp(-1/x^2) = \",exp(-1/x^2))\n",
    "    \n",
    "end"
   ]
  },
  {
   "cell_type": "markdown",
   "metadata": {},
   "source": []
  },
  {
   "cell_type": "markdown",
   "metadata": {},
   "source": [
    "<strong>Condicional \"TROCAR\" (SWITCH) </strong>\n",
    "\n",
    "Não existe um comando nativo para \"case\" ou \"swith\". Pode ser utilizado uma sequencia de \"if..elseif..else\" ou instalar o \"case\" do pacote \"Switch\""
   ]
  },
  {
   "cell_type": "markdown",
   "metadata": {},
   "source": [
    "<p style=\"text-align: justify;\"><strong>Condicional \"SWITCH\"</strong></p>\n",
    "<p style=\"text-align: justify;\"><strong></strong></p>\n",
    "<table style=\"text-align: left; width: 440px; height: 335px; margin-left: 0px; margin-right: 0px;\" border=\"1\" cellpadding=\"2\" cellspacing=\"1\">\n",
    "<tbody>\n",
    "<tr>\n",
    "<td colspan=\"1\" rowspan=\"1\" style=\"vertical-align: top; text-align: left;\"><span style=\"font-weight: bold;\">if </span>variável<span style=\"font-weight: bold;\">&nbsp;</span> condição <br>&nbsp;&nbsp;&nbsp;&nbsp;&nbsp;&nbsp; instruções<br>&nbsp;&nbsp;&nbsp; <span style=\"font-weight: bold;\">elseif </span>variável<span style=\"font-weight: bold;\">&nbsp;</span> condição<br>&nbsp;&nbsp;&nbsp;&nbsp;&nbsp;&nbsp;&nbsp; instruções<br>&nbsp;&nbsp;&nbsp; <span style=\"font-weight: bold;\">elseif</span> variável<span style=\"font-weight: bold;\">&nbsp;</span> condição<br>&nbsp;&nbsp;&nbsp;&nbsp;&nbsp;&nbsp; instruções<br><span style=\"font-weight: bold;\">end</span> \n",
    "\n",
    "</td><td style=\"vertical-align: top;\"><span style=\"font-weight: bold;\">using Switch</span><br>variável condição<br>&nbsp;&nbsp;&nbsp; <span style=\"font-weight: bold;\">@switch</span> variável begin<br>&nbsp;&nbsp;&nbsp;&nbsp;&nbsp;&nbsp;&nbsp; <span style=\"font-weight: bold;\">@case</span> valor variável<br>&nbsp;&nbsp;&nbsp;&nbsp;&nbsp;&nbsp;&nbsp;&nbsp;&nbsp;&nbsp;&nbsp; instruções<br>&nbsp;&nbsp;&nbsp;&nbsp;&nbsp;&nbsp;&nbsp;&nbsp;&nbsp;&nbsp;&nbsp; <span style=\"font-weight: bold;\">break</span><br><br>&nbsp;&nbsp;&nbsp;&nbsp;&nbsp;&nbsp;&nbsp; <span style=\"font-weight: bold;\">@case</span> valor variável<br>&nbsp;&nbsp;&nbsp;&nbsp;&nbsp;&nbsp;&nbsp;&nbsp;&nbsp;&nbsp; instruções<br>&nbsp;&nbsp;&nbsp;&nbsp;&nbsp;&nbsp;&nbsp;&nbsp;&nbsp;&nbsp;&nbsp; <span style=\"font-weight: bold;\">break</span><br><br>&nbsp;&nbsp;&nbsp;&nbsp;&nbsp;&nbsp; <span style=\"font-weight: bold;\">@default</span><br>&nbsp;&nbsp;&nbsp;&nbsp;&nbsp;&nbsp;&nbsp;&nbsp;&nbsp;&nbsp;&nbsp; println(\"Não encontrado\")<span style=\"font-weight: bold;\"></span><br><span style=\"font-weight: bold;\">end</span><br></td>\n",
    "\n",
    "</tr>\n",
    "</tbody>\n",
    "</table>"
   ]
  },
  {
   "cell_type": "code",
   "execution_count": 168,
   "metadata": {
    "collapsed": false,
    "scrolled": true
   },
   "outputs": [
    {
     "name": "stdout",
     "output_type": "stream",
     "text": [
      "Valor positivo: 0.8414709848078965. valor de x: 1"
     ]
    }
   ],
   "source": [
    "# \n",
    "\n",
    "x = rand(-10:10)\n",
    "y = sin(x)\n",
    "\n",
    "if  y == 0\n",
    "    print(\"Raiz: \",x) \n",
    "    \n",
    "elseif y > 0\n",
    "    print(\"Valor positivo: \",y,\". valor de x: \",x)\n",
    "    \n",
    "elseif y < 0 \n",
    "    print(\"Valor negativo: \",y,\". valor de x: \",x)    \n",
    "\n",
    "end\n"
   ]
  },
  {
   "cell_type": "markdown",
   "metadata": {},
   "source": []
  },
  {
   "cell_type": "code",
   "execution_count": 6,
   "metadata": {
    "collapsed": false,
    "scrolled": false
   },
   "outputs": [
    {
     "name": "stdout",
     "output_type": "stream",
     "text": [
      "y vale Zero"
     ]
    }
   ],
   "source": [
    "using Switch\n",
    "\n",
    "y = rand(0:4)\n",
    "\n",
    "@switch y begin\n",
    "    @case 0\n",
    "    print( \"y vale Zero\")\n",
    "    break\n",
    "\n",
    "    @case 1\n",
    "    println(\"y vale Um\")\n",
    "    break\n",
    "\n",
    "    @case 2\n",
    "    println(\"y vale Dois\")\n",
    "    break\n",
    "\n",
    "    @default\n",
    "    println(\"Não encontrado.numero acima de 2\")\n",
    "end\n"
   ]
  },
  {
   "cell_type": "markdown",
   "metadata": {},
   "source": []
  },
  {
   "cell_type": "markdown",
   "metadata": {},
   "source": [
    "<strong>Repetição \"PARA\" (FOR) </strong>"
   ]
  },
  {
   "cell_type": "markdown",
   "metadata": {},
   "source": [
    "<p style=\"text-align: justify;\"><strong>Repetição \"FOR\"<br>\n",
    "</strong></p>\n",
    "<p style=\"text-align: justify;\"><strong></strong></p>\n",
    "<table style=\"text-align: left; width: 786px; height: 160px; margin-left: 0px; margin-right: 0px;\" border=\"1\" cellpadding=\"2\" cellspacing=\"1\">\n",
    "<tbody>\n",
    "<tr>\n",
    "<td colspan=\"1\" rowspan=\"1\" style=\"vertical-align: top; text-align: left;\">&nbsp;<span style=\"font-weight: bold;\">for</span> variável = inicio : fim<br>\n",
    "&nbsp;&nbsp;&nbsp;&nbsp; instruções<span style=\"font-weight: bold;\">;</span><br>\n",
    "&nbsp;<span style=\"font-weight: bold;\">end</span><br>\n",
    "\n",
    "&nbsp;<br>\n",
    "</td>\n",
    "<td style=\"vertical-align: top;\"><span style=\"font-weight: bold;\">for</span> variável <span style=\"font-weight: bold;\">in/= range</span><br>\n",
    "&nbsp;&nbsp;&nbsp;&nbsp; instruções<span style=\"font-weight: bold;\">;</span><br>\n",
    "&nbsp;<span style=\"font-weight: bold;\">end</span><br>&nbsp;\n",
    "<br></td><td style=\"vertical-align: top;\"><span style=\"font-weight: bold;\">for</span>\n",
    "variável = <span style=\"font-weight: bold;\">inicio :</span> <span style=\"font-weight: bold;\">length(vetor)</span><br>\n",
    "\n",
    "&nbsp;&nbsp;&nbsp;&nbsp; instruções<span style=\"font-weight: bold;\">;</span><br>\n",
    "&nbsp;<span style=\"font-weight: bold;\">end</span></td>\n",
    "<td style=\"vertical-align: top;\"><span style=\"font-weight: bold;\">for</span>\n",
    "variável = <span style=\"font-weight: bold;\">inicio : fim</span><br>\n",
    "&nbsp;&nbsp;&nbsp;&nbsp; instruções<span style=\"font-weight: bold;\">;</span><br>\n",
    "&nbsp;&nbsp;&nbsp;&nbsp; <span style=\"font-weight: bold;\">if </span>condição<br>\n",
    "\n",
    "&nbsp;&nbsp;&nbsp;&nbsp;&nbsp;&nbsp;&nbsp; <span style=\"font-weight: bold;\">continue ou break</span><br>\n",
    "&nbsp;&nbsp;&nbsp;&nbsp; <span style=\"font-weight: bold;\">end</span><br>\n",
    "&nbsp;<span style=\"font-weight: bold;\">end</span></td>\n",
    "</tr>\n",
    "</tbody>\n",
    "</table>"
   ]
  },
  {
   "cell_type": "code",
   "execution_count": 170,
   "metadata": {
    "collapsed": false,
    "scrolled": true
   },
   "outputs": [
    {
     "name": "stdout",
     "output_type": "stream",
     "text": [
      "Valor da função sin(x)*cos(x/2)+x: \n",
      "\n",
      "1.7384602626041288 Para x = 1\n",
      "2.491295496433882 Para x = 2\n",
      "3.0099824344694786 Para x = 3\n",
      "4.314940964313378 Para x = 4\n",
      "5.768236060439348 Para x = 5\n",
      "6.276619246650812 Para x = 6\n",
      "6.384760506169355 Para x = 7\n",
      "7.353312293345819 Para x = 8\n",
      "8.913127154443261 Para x = 9\n",
      "9.84568178274699 Para x = 10\n"
     ]
    }
   ],
   "source": [
    "print(\"Valor da função sin(x)*cos(x/2)+x: \\n\\n\")\n",
    "\n",
    "for x = [1 2 3 4 5 6 7 8 9 10]\n",
    "    \n",
    "    println(sin(x)*cos(x/2)+x,\" Para x = \",x)\n",
    "    \n",
    "end"
   ]
  },
  {
   "cell_type": "code",
   "execution_count": 7,
   "metadata": {
    "collapsed": false
   },
   "outputs": [
    {
     "name": "stdout",
     "output_type": "stream",
     "text": [
      "Valor da função sin(x)*cos(x/2)+x:\n",
      "\n",
      "1.7384602626041288 Para x = 1\n",
      "2.491295496433882 Para x = 2\n",
      "3.0099824344694786 Para x = 3\n",
      "4.314940964313378 Para x = 4\n",
      "5.768236060439348 Para x = 5\n",
      "6.276619246650812 Para x = 6\n",
      "6.384760506169355 Para x = 7\n",
      "7.353312293345819 Para x = 8\n",
      "8.913127154443261 Para x = 9\n",
      "9.84568178274699 Para x = 10\n"
     ]
    }
   ],
   "source": [
    "vetor = 1:10\n",
    "\n",
    "print(\"Valor da função sin(x)*cos(x/2)+x:\\n\\n\")\n",
    "\n",
    "for x = vetor # pode ser usando também (x = 1:length(vetor))\n",
    "    \n",
    "    println(sin(x)*cos(x/2)+x,\" Para x = \",x)\n",
    "    \n",
    "end\n",
    "    "
   ]
  },
  {
   "cell_type": "markdown",
   "metadata": {},
   "source": [
    "Break e Continue"
   ]
  },
  {
   "cell_type": "code",
   "execution_count": 172,
   "metadata": {
    "collapsed": false
   },
   "outputs": [
    {
     "name": "stdout",
     "output_type": "stream",
     "text": [
      "3\n",
      "6\n",
      "9\n"
     ]
    }
   ],
   "source": [
    "# para i de 1 até 10,\n",
    "# se o resto da divisão i por 3 for diferente de zero, \n",
    "# então o loop é parado e retorna para o inicio do for\n",
    "# e o loop será continuado até o final se o resto for 0\n",
    "\n",
    "for i = 1:10\n",
    "    if i % 3 != 0\n",
    "        continue\n",
    "    end\n",
    "    println(i)\n",
    "end\n"
   ]
  },
  {
   "cell_type": "code",
   "execution_count": 173,
   "metadata": {
    "collapsed": false,
    "scrolled": true
   },
   "outputs": [
    {
     "name": "stdout",
     "output_type": "stream",
     "text": [
      "1\n",
      "2\n"
     ]
    }
   ],
   "source": [
    "# para i de 1 até 10,\n",
    "# se o resto da divisão i por 3 for igual a zero,então o loop é encerrado\n",
    "\n",
    "for i = 1:10\n",
    "    if i % 3 == 0\n",
    "        break\n",
    "    end\n",
    "    println(i)\n",
    "end\n"
   ]
  },
  {
   "cell_type": "markdown",
   "metadata": {},
   "source": [
    "Percorrendo Uma Matrix ou vetor usando o FOR"
   ]
  },
  {
   "cell_type": "code",
   "execution_count": 9,
   "metadata": {
    "collapsed": false
   },
   "outputs": [
    {
     "data": {
      "text/plain": [
       "3x3 Array{Int64,2}:\n",
       "  2   4   6\n",
       "  8   9  10\n",
       " 12  14  16"
      ]
     },
     "execution_count": 9,
     "metadata": {},
     "output_type": "execute_result"
    }
   ],
   "source": [
    "mnum = [2 4 6;8 9 10;12 14 16]"
   ]
  },
  {
   "cell_type": "code",
   "execution_count": 11,
   "metadata": {
    "collapsed": false
   },
   "outputs": [
    {
     "name": "stdout",
     "output_type": "stream",
     "text": [
      "elemento da linha 3 coluna 3 é :16\n"
     ]
    }
   ],
   "source": [
    "linhas,colunas = size(mnum)\n",
    "\n",
    "for i = linhas\n",
    "    \n",
    "    for j = colunas\n",
    "        \n",
    "        println(\"elemento da linha $i coluna $j é :\",mnum[i,j])\n",
    "    end\n",
    "end"
   ]
  },
  {
   "cell_type": "code",
   "execution_count": 174,
   "metadata": {
    "collapsed": false
   },
   "outputs": [
    {
     "name": "stdout",
     "output_type": "stream",
     "text": [
      "1 * 1 = 1\n",
      "1 * 2 = 2\n",
      "1 * 3 = 3\n",
      "2 * 1 = 2\n",
      "2 * 2 = 4\n",
      "2 * 3 = 6\n",
      "3 * 1 = 3\n",
      "3 * 2 = 6\n",
      "3 * 3 = 9\n"
     ]
    }
   ],
   "source": [
    "for n = 1:3\n",
    "    for m = 1:3\n",
    "        println(\"$n * $m = $(n * m)\")\n",
    "    end\n",
    "end "
   ]
  },
  {
   "cell_type": "code",
   "execution_count": 175,
   "metadata": {
    "collapsed": false,
    "scrolled": true
   },
   "outputs": [
    {
     "name": "stdout",
     "output_type": "stream",
     "text": [
      "1 * 1 = 1\n",
      "1 * 2 = 2\n",
      "1 * 3 = 3\n",
      "2 * 1 = 2\n",
      "2 * 2 = 4\n",
      "2 * 3 = 6\n",
      "3 * 1 = 3\n",
      "3 * 2 = 6\n",
      "3 * 3 = 9\n"
     ]
    }
   ],
   "source": [
    "for n = 1:3, m = 1:3\n",
    "    println(\"$n * $m = $(n * m)\")\n",
    "end "
   ]
  },
  {
   "cell_type": "code",
   "execution_count": 2,
   "metadata": {
    "collapsed": false
   },
   "outputs": [
    {
     "name": "stdout",
     "output_type": "stream",
     "text": [
      "1 julia\n",
      "2 python\n",
      "3 sagemath\n",
      "4 maxima\n",
      "5 octave\n"
     ]
    }
   ],
   "source": [
    "lista = [\"julia\",\"python\",\"sagemath\",\"maxima\",\"octave\"]\n",
    "\n",
    "for (index, value) in enumerate(lista)\n",
    "           println(\"$index $value\")\n",
    "end"
   ]
  },
  {
   "cell_type": "code",
   "execution_count": 176,
   "metadata": {
    "collapsed": false
   },
   "outputs": [],
   "source": [
    "workspace()"
   ]
  },
  {
   "cell_type": "code",
   "execution_count": 4,
   "metadata": {
    "collapsed": false
   },
   "outputs": [
    {
     "name": "stdout",
     "output_type": "stream",
     "text": [
      "Valor(y):9.183198128581704e-5 . Raiz(x): 2.704988\n",
      "Valor(y):8.117076691938063e-5 . Raiz(x): 2.704989\n",
      "Valor(y):7.050953996645681e-5 . Raiz(x): 2.70499\n",
      "Valor(y):5.9848300428932966e-5 . Raiz(x): 2.704991\n",
      "Valor(y):4.918704831347043e-5 . Raiz(x): 2.704992\n",
      "Valor(y):3.8525783609855146e-5 . Raiz(x): 2.704993\n",
      "Valor(y):2.786450632275006e-5 . Raiz(x): 2.704994\n",
      "Valor(y):1.7203216458150372e-5 . Raiz(x): 2.704995\n",
      "Valor(y):6.541914004620786e-6 . Raiz(x): 2.704996\n",
      "Valor(y):-4.119401031843495e-6 . Raiz(x): 2.704997\n",
      "Valor(y):-1.4780728646357488e-5 . Raiz(x): 2.704998\n",
      "Valor(y):-2.544206884924627e-5 . Raiz(x): 2.704999\n",
      "Valor(y):-3.6103421634625654e-5 . Raiz(x): 2.705\n",
      "Valor(y):-4.6764787002939734e-5 . Raiz(x): 2.705001\n",
      "Valor(y):-5.7426164951190906e-5 . Raiz(x): 2.705002\n",
      "Valor(y):-6.80875554864846e-5 . Raiz(x): 2.705003\n",
      "Valor(y):-7.874895860460196e-5 . Raiz(x): 2.705004\n",
      "Valor(y):-8.941037430099108e-5 . Raiz(x): 2.705005\n",
      "Valor(y):-9.05866780109843e-5 . Raiz(x): 5.353255\n",
      "Valor(y):-5.1064842714332315e-5 . Raiz(x): 5.353256\n",
      "Valor(y):-1.154297119421166e-5 . Raiz(x): 5.353257\n",
      "Valor(y):2.7978936549544198e-5 . Raiz(x): 5.353258\n",
      "Valor(y):6.750088050955227e-5 . Raiz(x): 5.353259\n",
      "Valor(y):9.296093923705229e-5 . Raiz(x): 8.726467\n",
      "Valor(y):-1.4736791327019105e-5 . Raiz(x): 8.726468\n",
      "elapsed time: 7.903018223 seconds\n"
     ]
    }
   ],
   "source": [
    "# Método bruto de encontrar raízes de uma função\n",
    "\n",
    "tic()\n",
    "\n",
    "x = 1:0.000001:10;\n",
    "\n",
    "for k = 1:length(x)\n",
    "    \n",
    "    if abs(sin(x[k]).*x[k].^2 + cos(x[k]).*x[k].^2 + x[k] + cos(sin(x[k])).^2) < 0.0001\n",
    "        \n",
    "        println(\"Valor(y):\",sin(x[k]).*x[k].^2+cos(x[k]).*x[k].^2+x[k]+cos(sin(x[k])).^2,\" . Raiz(x): \",x[k])\n",
    "        \n",
    "    end\n",
    "end\n",
    "\n",
    "toc();"
   ]
  },
  {
   "cell_type": "markdown",
   "metadata": {},
   "source": [
    "Foi encontrda 3 raízes: 2.70499, 5.35325 e 8.726468"
   ]
  },
  {
   "cell_type": "markdown",
   "metadata": {},
   "source": []
  },
  {
   "cell_type": "code",
   "execution_count": 7,
   "metadata": {
    "collapsed": false
   },
   "outputs": [
    {
     "name": "stdout",
     "output_type": "stream",
     "text": [
      "valor de A: [4.1 -5.4 6.8\n",
      " 7.8 -8.0 -9.0\n",
      " -17.0 4.0 1.0]\n",
      "valor de b:[1.0,2.0,3.0]\n",
      "valor de al e ac:3,3\n",
      "valor de x:[0.0,0.0,0.0]\n",
      "valor de m:0\n"
     ]
    }
   ],
   "source": [
    "#********** PROGRAMA ELIMINAÇÃO PELO MÉTODO DE GAUSS ************* \n",
    "\n",
    "A = [4.1 -5.4 6.8;7.8 -8 -9;-17 4 1]; # use numeros decimais mesmo que sejam inteiros\n",
    "b = [1.0,2.0,3.0]; # use numeros decimais mesmo que sejam inteiros\n",
    "\n",
    "x = zeros(3); # pré alocação da matrix x\n",
    "m = 0;\n",
    "al,ac = size(A);\n",
    "\n",
    "println(\"valor de A: \",A)\n",
    "\n",
    "println(\"valor de b:\", b)\n",
    "\n",
    "println(\"valor de al e ac:\",al,\",\",ac)\n",
    "\n",
    "println(\"valor de x:\",x)\n",
    "\n",
    "println(\"valor de m:\",m)"
   ]
  },
  {
   "cell_type": "code",
   "execution_count": null,
   "metadata": {
    "collapsed": false,
    "scrolled": false
   },
   "outputs": [],
   "source": [
    "#********** PROGRAMA ELIMINAÇÃO PELO MÉTODO DE GAUSS ************* \n",
    "\n",
    "# Aqui é escolhido o pivo e a matriz é escalonada\n",
    "\n",
    "for k= 1:(al-1)\n",
    "    #println(\"valor de k \",k)\n",
    "    for i = (k+1):al\n",
    "        #println(\"valor de i \",i)\n",
    "        m = A[i,k]/(A[k,k])\n",
    "        A[i,k] = 0\n",
    "        for j=(k+1):al\n",
    "            #println(\"valor de j\",j)\n",
    "            A[i,j] = A[i,j] - m*A[k,j]\n",
    "            b[i]= b[i] - m*b[k]\n",
    "        end\n",
    "    end\n",
    "end\n",
    "\n",
    "# aqui os valores do vetor solução X são calculados\n",
    "\n",
    "x[al] = b[al]/(A[al,al])\n",
    "\n",
    "for k = (al-1):-1:1\n",
    "    begin\n",
    "        s = 0;\n",
    "        for j = (k+1):al\n",
    "            s = s+A[k,j]*x[j]\n",
    "        end\n",
    "        x[k]=(b[k]-s)/A[k,k]\n",
    "    end\n",
    "end\n",
    "\n",
    "println(x)"
   ]
  },
  {
   "cell_type": "markdown",
   "metadata": {},
   "source": []
  },
  {
   "cell_type": "markdown",
   "metadata": {},
   "source": [
    "<strong>Repetição \"ENQUANTO\" (WHILE) </strong>"
   ]
  },
  {
   "cell_type": "markdown",
   "metadata": {},
   "source": [
    "<p style=\"text-align: justify;\"><strong>Repetição \"WHILE\"<br>\n",
    "</strong></p>\n",
    "<p style=\"text-align: justify;\"><strong></strong></p>\n",
    "<table\n",
    "style=\"text-align: left; width: 284px; height: 146px; margin-left: 0px; margin-right: 0px;\"\n",
    "border=\"1\" cellpadding=\"2\" cellspacing=\"1\">\n",
    "<tbody>\n",
    "<tr>\n",
    "<td colspan=\"1\" rowspan=\"1\"\n",
    "style=\"vertical-align: top; text-align: left;\">&nbsp;<span\n",
    "style=\"font-weight: bold;\">while</span> condicao<br>\n",
    "&nbsp;&nbsp;&nbsp;&nbsp; instruções;<br>\n",
    "&nbsp;<span style=\"font-weight: bold;\">end</span><span\n",
    "style=\"font-weight: bold;\"></span><span style=\"font-weight: bold;\"><br>\n",
    "</span></td>\n",
    "<td style=\"vertical-align: top;\"><span style=\"font-weight: bold;\">while</span>\n",
    "condicao<br>\n",
    "&nbsp;&nbsp;&nbsp;&nbsp; instruções;<br>\n",
    "&nbsp;&nbsp;&nbsp;&nbsp; <span style=\"font-weight: bold;\">if</span>\n",
    "condição<br>\n",
    "&nbsp;&nbsp;&nbsp;&nbsp;&nbsp;&nbsp;&nbsp; <span\n",
    "style=\"font-weight: bold;\">continue ou break;</span><br>\n",
    "&nbsp;&nbsp;&nbsp;&nbsp; <span style=\"font-weight: bold;\">end<br>\n",
    "end</span><span style=\"font-weight: bold;\"></span><span\n",
    "style=\"font-weight: bold;\"><br>\n",
    "</span></td>\n",
    "</tr>\n",
    "</tbody>\n",
    "</table>"
   ]
  },
  {
   "cell_type": "code",
   "execution_count": 180,
   "metadata": {
    "collapsed": true
   },
   "outputs": [],
   "source": [
    "workspace()"
   ]
  },
  {
   "cell_type": "code",
   "execution_count": 181,
   "metadata": {
    "collapsed": false,
    "scrolled": true
   },
   "outputs": [
    {
     "name": "stdout",
     "output_type": "stream",
     "text": [
      "0\n",
      "1\n",
      "2\n",
      "3\n",
      "4\n",
      "5\n"
     ]
    }
   ],
   "source": [
    "i = 0\n",
    "while true\n",
    "    println(i)\n",
    "    i = i + 1\n",
    "    if i % 6 == 0\n",
    "        break\n",
    "    end\n",
    "end"
   ]
  },
  {
   "cell_type": "markdown",
   "metadata": {},
   "source": []
  },
  {
   "cell_type": "code",
   "execution_count": 182,
   "metadata": {
    "collapsed": false
   },
   "outputs": [
    {
     "name": "stdout",
     "output_type": "stream",
     "text": [
      "Interações: 29\n",
      "Valor da raiz: 2.4318534061312675\n",
      "Valor de f(x)= -1.0e-8 com erro menor que 1.0e-8\n",
      "elapsed time: 0.037001988 seconds\n"
     ]
    }
   ],
   "source": [
    "tic()\n",
    "# Metodo da Bisseccao\n",
    "# Calcula uma aproximação para uma raiz da função de f(x)\n",
    "# Entre os intervalo [ao,bo] e a tolerencia de erro daddo por tol.\n",
    "# y = sin(x)*x^2 + cos(x)*x^2 + cos(sin(x))^2\n",
    "\n",
    "    x = 1\n",
    "    ao = 1\n",
    "    bo = 5\n",
    "    tol = 0.00000001\n",
    "    interacao = 0\n",
    "            \n",
    "    if ((sin(ao)*ao^2+cos(ao)*ao^2 + cos(sin(ao))^2) * (sin(bo)*bo^2+cos(bo)*bo^2 + cos(sin(bo))^2)) < 0\n",
    "        \n",
    "        while (abs(bo-ao) > tol)  &&  (interacao<10000000)\n",
    "            x=(ao+bo)/2\n",
    "            interacao = interacao+1\n",
    "        \n",
    "            if (sin(x)*x^2 + cos(x)*x^2 + cos(sin(x))^2)*(sin(ao)*ao^2 + cos(ao)*ao^2+ cos(sin(ao))^2) > 0\n",
    "                ao=x\n",
    "            else\n",
    "                bo=x\n",
    "            end\n",
    "        \n",
    "        end\n",
    "        println(\"Interações: \",interacao)\n",
    "        println(\"Valor da raiz: \",x)\n",
    "        println(\"Valor de f(x)= \",round(sin(x)*x^2 + cos(x)*x^2 + cos(sin(x))^2,8),\" com erro menor que \",tol)\n",
    "    else\n",
    "        println(\"Não há raízes no intervalo\")\n",
    "    end    \n",
    "toc();"
   ]
  },
  {
   "cell_type": "markdown",
   "metadata": {},
   "source": []
  },
  {
   "cell_type": "markdown",
   "metadata": {},
   "source": [
    "<strong>Repetição \"FAÇA ATÉ QUE\" (DO...UNTIL) </strong>"
   ]
  },
  {
   "cell_type": "markdown",
   "metadata": {},
   "source": [
    "<p style=\"text-align: justify;\"><strong>Repetição \"DO... UNTIL\"<br>\n",
    "</strong></p>\n",
    "<p style=\"text-align: justify;\"><strong></strong></p>\n",
    "<table\n",
    "style=\"text-align: left; width: 329px; height: 130px; margin-left: 0px; margin-right: 0px;\"\n",
    "border=\"1\" cellpadding=\"2\" cellspacing=\"1\">\n",
    "<tbody>\n",
    "<tr>\n",
    "<td colspan=\"1\" rowspan=\"1\"\n",
    "style=\"vertical-align: top; text-align: left;\">&nbsp;<span\n",
    "style=\"font-weight: bold;\"></span><span style=\"font-weight: bold;\">do<br>\n",
    "&nbsp;&nbsp;&nbsp;&nbsp;&nbsp; </span>instruções<span\n",
    "style=\"font-weight: bold;\">;<br>\n",
    "&nbsp;until (</span>condicao<span style=\"font-weight: bold;\">)<br>\n",
    "</span></td>\n",
    "<td style=\"vertical-align: top;\"><span style=\"font-weight: bold;\">do<br>\n",
    "&nbsp;&nbsp;&nbsp;&nbsp;&nbsp; </span>instruções<span\n",
    "style=\"font-weight: bold;\">;<br>\n",
    "&nbsp;&nbsp;&nbsp;&nbsp;&nbsp; if </span>condição<br>\n",
    "&nbsp;&nbsp;&nbsp;&nbsp;&nbsp;&nbsp;&nbsp;&nbsp; <span\n",
    "style=\"font-weight: bold;\">continue ou break;</span><br>\n",
    "<span style=\"font-weight: bold;\">&nbsp; &nbsp; &nbsp; end <br>\n",
    "until (</span>condicao<span style=\"font-weight: bold;\">)</span></td>\n",
    "</tr>\n",
    "</tbody>\n",
    "</table>"
   ]
  },
  {
   "cell_type": "code",
   "execution_count": 183,
   "metadata": {
    "collapsed": true
   },
   "outputs": [],
   "source": [
    "workspace()"
   ]
  },
  {
   "cell_type": "code",
   "execution_count": 184,
   "metadata": {
    "collapsed": false
   },
   "outputs": [
    {
     "data": {
      "text/plain": [
       "1-element Array{Int64,1}:\n",
       " 115"
      ]
     },
     "execution_count": 184,
     "metadata": {},
     "output_type": "execute_result"
    }
   ],
   "source": [
    "numeros = 1:0.1:20\n",
    "find(numeros) do valor\n",
    "    valor == 12.4\n",
    "end"
   ]
  },
  {
   "cell_type": "markdown",
   "metadata": {},
   "source": [
    "<strong>FUNÇÕES ( function( ) )</strong>"
   ]
  },
  {
   "cell_type": "markdown",
   "metadata": {},
   "source": [
    "Função dimensão de uma Matriz"
   ]
  },
  {
   "cell_type": "code",
   "execution_count": 103,
   "metadata": {
    "collapsed": false,
    "scrolled": false
   },
   "outputs": [
    {
     "data": {
      "text/plain": [
       "fmatrixD (generic function with 1 method)"
      ]
     },
     "execution_count": 103,
     "metadata": {},
     "output_type": "execute_result"
    }
   ],
   "source": [
    "function fmatrixD(M)\n",
    "    println(\"------------ inicio funcao -----------\")\n",
    "    \n",
    "    display(M)    \n",
    "        \n",
    "    println(\"a dimensão da matriz é :\",size(M))\n",
    "    \n",
    "    println(\"--------------- fim -----------------\")\n",
    "    \n",
    "end"
   ]
  },
  {
   "cell_type": "code",
   "execution_count": 104,
   "metadata": {
    "collapsed": false,
    "scrolled": true
   },
   "outputs": [
    {
     "name": "stdout",
     "output_type": "stream",
     "text": [
      "------------ inicio funcao -----------\n"
     ]
    },
    {
     "data": {
      "text/plain": [
       "2x3 Array{Int64,2}:\n",
       " 1  1  2\n",
       " 4  8  9"
      ]
     },
     "metadata": {},
     "output_type": "display_data"
    },
    {
     "name": "stdout",
     "output_type": "stream",
     "text": [
      "a dimensão da matriz é :(2,3)\n",
      "--------------- fim -----------------\n"
     ]
    }
   ],
   "source": [
    "fmatrixD([1 1 2 ; 4 8 9])"
   ]
  },
  {
   "cell_type": "markdown",
   "metadata": {},
   "source": [
    "Função Calculo da área de um circulo"
   ]
  },
  {
   "cell_type": "code",
   "execution_count": 88,
   "metadata": {
    "collapsed": false
   },
   "outputs": [
    {
     "data": {
      "text/plain": [
       "area (generic function with 1 method)"
      ]
     },
     "execution_count": 88,
     "metadata": {},
     "output_type": "execute_result"
    }
   ],
   "source": [
    "function area(raio)\n",
    "  areaCirc = pi * raio^2\n",
    "    println(\"A área vale: \", round(areaCirc,5),\"m²\" )\n",
    "end"
   ]
  },
  {
   "cell_type": "code",
   "execution_count": 89,
   "metadata": {
    "collapsed": false
   },
   "outputs": [
    {
     "name": "stdout",
     "output_type": "stream",
     "text": [
      "A área vale: 12.56637m²\n"
     ]
    }
   ],
   "source": [
    "area(2)"
   ]
  },
  {
   "cell_type": "markdown",
   "metadata": {},
   "source": [
    "Função Calculo das raízes de uma função do segundo grau"
   ]
  },
  {
   "cell_type": "code",
   "execution_count": 105,
   "metadata": {
    "collapsed": false
   },
   "outputs": [
    {
     "data": {
      "text/plain": [
       "fraiz (generic function with 1 method)"
      ]
     },
     "execution_count": 105,
     "metadata": {},
     "output_type": "execute_result"
    }
   ],
   "source": [
    "function fraiz(a,b,c)\n",
    "    \n",
    "    d = (b^2) - (4*a*c)\n",
    "    \n",
    "    if d < 0\n",
    "        print(\"Delta negativo, raiz real impossivel de ser extraida.\")\n",
    "        \n",
    "    else\n",
    "        println(\"Delta: \",d)\n",
    "        \n",
    "        m1 = sqrt(d)\n",
    "        x1 = (-b+m1) / (2*a)\n",
    "        x2 = (-b-m1) / (2*a)\n",
    "        \n",
    "        println(\"Raiz X1 = \", x1)\n",
    "        println(\"Raiz X2 = \", x2)\n",
    "    end\n",
    "end"
   ]
  },
  {
   "cell_type": "code",
   "execution_count": 106,
   "metadata": {
    "collapsed": false,
    "scrolled": true
   },
   "outputs": [
    {
     "name": "stdout",
     "output_type": "stream",
     "text": [
      "Delta: 25\n",
      "Raiz X1 = 1.0\n",
      "Raiz X2 = -1.5\n"
     ]
    }
   ],
   "source": [
    "fraiz(2,1,-3)"
   ]
  },
  {
   "cell_type": "markdown",
   "metadata": {},
   "source": [
    "Função mais complexa\n",
    "\n",
    "Função Método da Bisseção"
   ]
  },
  {
   "cell_type": "code",
   "execution_count": 69,
   "metadata": {
    "collapsed": false
   },
   "outputs": [
    {
     "data": {
      "text/plain": [
       "fbissec (generic function with 1 method)"
      ]
     },
     "execution_count": 69,
     "metadata": {},
     "output_type": "execute_result"
    }
   ],
   "source": [
    "function fbissec(a,b,toll)\n",
    "\n",
    "    x = 1\n",
    "    ao = a\n",
    "    bo = b\n",
    "    tol = toll\n",
    "    interacao = 0\n",
    "        \n",
    "    if ((sin(ao)*ao^2+cos(ao)*ao^2 + cos(sin(ao))^2) * (sin(bo)*bo^2+cos(bo)*bo^2 + cos(sin(bo))^2)) < 0\n",
    "        \n",
    "        while (abs(bo-ao) > tol)  &&  (interacao<10000000)\n",
    "            x=(ao+bo)/2\n",
    "            interacao = interacao+1\n",
    "            if (sin(x)*x^2 + cos(x)*x^2 + cos(sin(x))^2)*(sin(ao)*ao^2 + cos(ao)*ao^2+ cos(sin(ao))^2) > 0\n",
    "                ao=x\n",
    "            else\n",
    "                bo=x\n",
    "            end\n",
    "        end\n",
    "        println(\"Interações: \",interacao)\n",
    "        println(\"Valor da raiz: \",x)\n",
    "        println(\"Valor de f(x)= \",round(sin(x)*x^2 + cos(x)*x^2 + cos(sin(x))^2,8),\" com erro menor que \",tol)\n",
    "    else\n",
    "        println(\"Não há raízes no intervalo\")\n",
    "    end    \n",
    "end"
   ]
  },
  {
   "cell_type": "code",
   "execution_count": 186,
   "metadata": {
    "collapsed": false
   },
   "outputs": [
    {
     "name": "stdout",
     "output_type": "stream",
     "text": [
      "Interações: 29\n",
      "Valor da raiz: 2.4318534061312675\n",
      "Valor de f(x)= -1.0e-8 com erro menor que 1.0e-8\n"
     ]
    }
   ],
   "source": [
    "fbissec(1,5,0.00000001)"
   ]
  },
  {
   "cell_type": "markdown",
   "metadata": {},
   "source": [
    "Função série de Fibonacci"
   ]
  },
  {
   "cell_type": "code",
   "execution_count": 2,
   "metadata": {
    "collapsed": false
   },
   "outputs": [
    {
     "data": {
      "text/plain": [
       "fiboR (generic function with 1 method)"
      ]
     },
     "execution_count": 2,
     "metadata": {},
     "output_type": "execute_result"
    }
   ],
   "source": [
    "function fiboR(n) \n",
    "    if n < 2 \n",
    "        return n\n",
    "    else\n",
    "        fiboR(n-1) + fiboR(n-2)\n",
    "    end\n",
    "end"
   ]
  },
  {
   "cell_type": "code",
   "execution_count": 3,
   "metadata": {
    "collapsed": false,
    "scrolled": true
   },
   "outputs": [
    {
     "name": "stdout",
     "output_type": "stream",
     "text": [
      "  "
     ]
    },
    {
     "data": {
      "text/plain": [
       "9227465"
      ]
     },
     "execution_count": 3,
     "metadata": {},
     "output_type": "execute_result"
    },
    {
     "name": "stdout",
     "output_type": "stream",
     "text": [
      "0.099323 seconds (733 allocations: 39.685 KB)\n"
     ]
    }
   ],
   "source": [
    "@time fiboR(35)"
   ]
  },
  {
   "cell_type": "markdown",
   "metadata": {},
   "source": [
    "<strong>Importando Funções \".jl\" </strong>"
   ]
  },
  {
   "cell_type": "code",
   "execution_count": 189,
   "metadata": {
    "collapsed": false
   },
   "outputs": [
    {
     "data": {
      "text/plain": [
       "ffiboR_JL (generic function with 1 method)"
      ]
     },
     "execution_count": 189,
     "metadata": {},
     "output_type": "execute_result"
    }
   ],
   "source": [
    "include(\"ffiboR_JL.jl\")"
   ]
  },
  {
   "cell_type": "code",
   "execution_count": 190,
   "metadata": {
    "collapsed": false,
    "scrolled": true
   },
   "outputs": [
    {
     "name": "stdout",
     "output_type": "stream",
     "text": [
      "  1.024784 seconds (697 allocations: 37.759 KB)\n"
     ]
    },
    {
     "data": {
      "text/plain": [
       "102334155"
      ]
     },
     "execution_count": 190,
     "metadata": {},
     "output_type": "execute_result"
    }
   ],
   "source": [
    "@time ffiboR_JL(40)"
   ]
  },
  {
   "cell_type": "markdown",
   "metadata": {
    "collapsed": true
   },
   "source": [
    "%%% Fim Programação  Básica %%%"
   ]
  }
 ],
 "metadata": {
  "kernelspec": {
   "display_name": "Julia 0.4.5",
   "language": "julia",
   "name": "julia-0.4"
  },
  "language_info": {
   "file_extension": ".jl",
   "mimetype": "application/julia",
   "name": "julia",
   "version": "0.4.5"
  }
 },
 "nbformat": 4,
 "nbformat_minor": 0
}
