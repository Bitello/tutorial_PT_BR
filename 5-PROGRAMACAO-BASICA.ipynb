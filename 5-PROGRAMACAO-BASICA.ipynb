{
 "cells": [
  {
   "cell_type": "markdown",
   "metadata": {},
   "source": [
    "#PROGRAMAÇÃO BÁSICA#"
   ]
  },
  {
   "cell_type": "markdown",
   "metadata": {
    "collapsed": true
   },
   "source": []
  },
  {
   "cell_type": "markdown",
   "metadata": {
    "collapsed": true
   },
   "source": [
    "###OPERADORES LÓGIGOS E BOLEANOS###"
   ]
  },
  {
   "cell_type": "markdown",
   "metadata": {
    "collapsed": true
   },
   "source": [
    "Operadores de comparação para determinar, por exemplo, se são iguais. Todos os operadores de comparação da JULIA retornam TRUE como verdade e FALSE como falso.\n",
    "Resumo:\n",
    "+ x; y, verdade se x é menor que y.\n",
    "+ x <= y, verdade se x é menor ou igual a y.\n",
    "+ x >= y, verdade se x é maior ou igual a y.\n",
    "+ x > y, verdade se x é maior que y.\n",
    "+ x == y, verdade se x é igual a y.\n",
    "+ x != y,\n",
    "+ x ~= y, verdade se x é diferente de y."
   ]
  },
  {
   "cell_type": "markdown",
   "metadata": {
    "collapsed": true
   },
   "source": [
    "Uma expressão booleana elemento por elemento, é uma combinação de comparação de expressões usando os operadores:\n",
    "+ | |, operador “ou”\n",
    "+ & &, operador “e”\n",
    "+ ~ ou !, operador “não”\n",
    "\n",
    "Uma expressão booleana é verdadeira se o resultado do cálculo das combinações lógicas das expressões booleanas for verdadeira. O valor será considerado falso se for zero, e verdadeiro de outra forma.\n"
   ]
  },
  {
   "cell_type": "markdown",
   "metadata": {},
   "source": [
    "### ESTRUTURAS DE CONTROLE ###"
   ]
  },
  {
   "cell_type": "markdown",
   "metadata": {},
   "source": [
    "Laços ocupam um lugar relevante no controle e núcleos de repetição. Os comandos de controle\n",
    "de laço são: while, for, do, if, switch"
   ]
  },
  {
   "cell_type": "markdown",
   "metadata": {},
   "source": [
    "####CONDICIONAL \"SE\" (IF)####"
   ]
  },
  {
   "cell_type": "markdown",
   "metadata": {},
   "source": [
    "<p style=\"text-align: justify;\"><strong>Condicional IF</strong></p>\n",
    "<p style=\"text-align: justify;\"><strong></strong></p>\n",
    "<table style=\"text-align: left; width: 359px; height: 186px; margin-left: 0px; margin-right: 0px;\" border=\"1\" cellpadding=\"2\" cellspacing=\"1\">\n",
    "<tbody>\n",
    "<tr>\n",
    "<td style=\"vertical-align: top; text-align: left;\"><span style=\"font-weight: bold;\">if</span> condição<br>\n",
    "&nbsp;&nbsp;&nbsp;\n",
    "instruções<br>\n",
    "&nbsp;<span style=\"font-weight: bold;\">end</span></td>\n",
    "<td style=\"vertical-align: top;\">&nbsp;<span style=\"font-weight: bold;\">if </span>condição<br>\n",
    "\n",
    "&nbsp;&nbsp;&nbsp;\n",
    "instruções<span style=\"font-weight: bold;\"></span><br>\n",
    "&nbsp;<span style=\"font-weight: bold;\">else</span><br>\n",
    "&nbsp;&nbsp;&nbsp;\n",
    "instruções<br>\n",
    "&nbsp;<span style=\"font-weight: bold;\">end</span></td>\n",
    "<td style=\"vertical-align: top;\">&nbsp;<span style=\"font-weight: bold;\">if</span> condição<br>\n",
    "&nbsp;&nbsp;&nbsp;&nbsp;&nbsp; instruções<span style=\"font-weight: bold;\"></span><br>\n",
    "\n",
    "&nbsp;<strong>elseif</strong> outra_condição<br>\n",
    "&nbsp;&nbsp;&nbsp;&nbsp;&nbsp; instruções<span style=\"font-weight: bold;\"></span><br>\n",
    "&nbsp;<span style=\"font-weight: bold;\">else</span><br>\n",
    "&nbsp;&nbsp;&nbsp;&nbsp;&nbsp; outro_bloco_ainda<span style=\"font-weight: bold;\"></span><br>\n",
    "&nbsp;<span style=\"font-weight: bold;\">end</span> &nbsp;<br>\n",
    "</td>\n",
    "</tr>\n",
    "\n",
    "</tbody>\n",
    "</table>"
   ]
  },
  {
   "cell_type": "code",
   "execution_count": 4,
   "metadata": {
    "collapsed": false
   },
   "outputs": [
    {
     "data": {
      "text/plain": [
       "(6,10)"
      ]
     },
     "execution_count": 4,
     "metadata": {},
     "output_type": "execute_result"
    }
   ],
   "source": [
    "x=rand(0:10)\n",
    "\n",
    "y=rand(0:10)\n",
    "\n",
    "x,y"
   ]
  },
  {
   "cell_type": "code",
   "execution_count": 5,
   "metadata": {
    "collapsed": false
   },
   "outputs": [
    {
     "name": "stdout",
     "output_type": "stream",
     "text": [
      "x é menor que y\n"
     ]
    }
   ],
   "source": [
    "# se x< 15 será impresso a mensagem, se x>y não será feito nada\n",
    "\n",
    "if x < y\n",
    "    println(\"x é menor que y\")\n",
    "end"
   ]
  },
  {
   "cell_type": "markdown",
   "metadata": {},
   "source": [
    "Melhorando...."
   ]
  },
  {
   "cell_type": "code",
   "execution_count": 165,
   "metadata": {
    "collapsed": false
   },
   "outputs": [
    {
     "name": "stdout",
     "output_type": "stream",
     "text": [
      "x é menor que y .Valor de x: 6 Valor de y: 9\n"
     ]
    }
   ],
   "source": [
    "if x < y\n",
    "    println(\"x é menor que y .\",\"Valor de x: \",x,\" Valor de y: \",y)\n",
    "else\n",
    "    println(\"x é maior que y .\",\"Valor de x: \",x,\" Valor de y: \",y)\n",
    "end"
   ]
  },
  {
   "cell_type": "markdown",
   "metadata": {},
   "source": [
    "Melhorando mais...."
   ]
  },
  {
   "cell_type": "code",
   "execution_count": 166,
   "metadata": {
    "collapsed": false
   },
   "outputs": [
    {
     "name": "stdout",
     "output_type": "stream",
     "text": [
      "x é menor que y .Valor de x: 6 Valor de y: 9\n"
     ]
    }
   ],
   "source": [
    "if x < y\n",
    "  println(\"x é menor que y .\",\"Valor de x: \",x,\" Valor de y: \",y)\n",
    "    \n",
    "elseif x > y\n",
    "  println(\"x é maior que y .\",\"Valor de x: \",x,\" Valor de y: \",y)\n",
    "    \n",
    "else\n",
    "    println(\"x é igual a y .\",\"Valor de x: \",x,\" Valor de y: \",y)\n",
    "end"
   ]
  },
  {
   "cell_type": "markdown",
   "metadata": {
    "collapsed": true
   },
   "source": [
    " Definindo funções do tipo: $~\n",
    "f(x) = \\begin{cases}\n",
    "\\cos(x) & x \\geq 0\\\\\n",
    "1 - e^{-1/x^2} & \\text{x < 0}.\n",
    "\\end{cases}\n",
    "~$"
   ]
  },
  {
   "cell_type": "code",
   "execution_count": 167,
   "metadata": {
    "collapsed": false
   },
   "outputs": [
    {
     "name": "stdout",
     "output_type": "stream",
     "text": [
      "f = exp(-1/x^2) = 0.36787944117144233"
     ]
    }
   ],
   "source": [
    "x  = rand(-1:1)\n",
    "\n",
    "if x>=0\n",
    "    print(\"f = cos(x) = \",cos(x))\n",
    "    \n",
    "elseif x<0\n",
    "    print(\"f = exp(-1/x^2) = \",exp(-1/x^2))\n",
    "    \n",
    "end"
   ]
  },
  {
   "cell_type": "markdown",
   "metadata": {},
   "source": [
    "** Operador ternário (“ternary operator\")  **\n",
    "\n",
    "O chamado \"operador ternário\",(:?), Está relacionado com a sintaxe if-elseif-else, recebe este nome em função de ser o único operador na maioria dos idiomas que tomam três operandos:\n",
    "**(condição ? expressão1 : expressão2)**\n",
    "\n",
    "A operação ternária efeturá a **\"expressão1\"** antes do \":\" se a **\"condição\"** é verdadeira ou a **\"expressão2\"** depois do \":\" se \"condição\" for falsa"
   ]
  },
  {
   "cell_type": "code",
   "execution_count": 3,
   "metadata": {
    "collapsed": false
   },
   "outputs": [
    {
     "data": {
      "text/plain": [
       "ot (generic function with 1 method)"
      ]
     },
     "execution_count": 3,
     "metadata": {},
     "output_type": "execute_result"
    }
   ],
   "source": [
    "ot(x) = ( x >= 0 ? sqrt(x) : \"Raiz de numero negativo\")"
   ]
  },
  {
   "cell_type": "code",
   "execution_count": 5,
   "metadata": {
    "collapsed": false
   },
   "outputs": [
    {
     "data": {
      "text/plain": [
       "(2.8284271247461903,\"Raiz de numero negativo\")"
      ]
     },
     "execution_count": 5,
     "metadata": {},
     "output_type": "execute_result"
    }
   ],
   "source": [
    "ot(8) , ot(-2)"
   ]
  },
  {
   "cell_type": "markdown",
   "metadata": {},
   "source": [
    "####CONDICIONAL \"TROCAR\" (SWITCH) ####\n",
    "\n",
    "Não existe um comando nativo para \"case\" ou \"swith\". Pode ser utilizado uma sequencia de \"if..elseif..else\" ou instalar o \"case\" do pacote \"Switch\""
   ]
  },
  {
   "cell_type": "markdown",
   "metadata": {},
   "source": [
    "<p style=\"text-align: justify;\"><strong>Condicional \"SWITCH\"</strong></p>\n",
    "<p style=\"text-align: justify;\"><strong></strong></p>\n",
    "<table style=\"text-align: left; width: 440px; height: 335px; margin-left: 0px; margin-right: 0px;\" border=\"1\" cellpadding=\"2\" cellspacing=\"1\">\n",
    "<tbody>\n",
    "<tr>\n",
    "<td colspan=\"1\" rowspan=\"1\" style=\"vertical-align: top; text-align: left;\"><span style=\"font-weight: bold;\">if </span>variável<span style=\"font-weight: bold;\">&nbsp;</span> condição <br>&nbsp;&nbsp;&nbsp;&nbsp;&nbsp;&nbsp; instruções<br>&nbsp;&nbsp;&nbsp; <span style=\"font-weight: bold;\">elseif </span>variável<span style=\"font-weight: bold;\">&nbsp;</span> condição<br>&nbsp;&nbsp;&nbsp;&nbsp;&nbsp;&nbsp;&nbsp; instruções<br>&nbsp;&nbsp;&nbsp; <span style=\"font-weight: bold;\">elseif</span> variável<span style=\"font-weight: bold;\">&nbsp;</span> condição<br>&nbsp;&nbsp;&nbsp;&nbsp;&nbsp;&nbsp; instruções<br><span style=\"font-weight: bold;\">end</span> \n",
    "\n",
    "</td><td style=\"vertical-align: top;\"><span style=\"font-weight: bold;\">using Switch</span><br>variável condição<br>&nbsp;&nbsp;&nbsp; <span style=\"font-weight: bold;\">@switch</span> variável begin<br>&nbsp;&nbsp;&nbsp;&nbsp;&nbsp;&nbsp;&nbsp; <span style=\"font-weight: bold;\">@case</span> valor variável<br>&nbsp;&nbsp;&nbsp;&nbsp;&nbsp;&nbsp;&nbsp;&nbsp;&nbsp;&nbsp;&nbsp; instruções<br>&nbsp;&nbsp;&nbsp;&nbsp;&nbsp;&nbsp;&nbsp;&nbsp;&nbsp;&nbsp;&nbsp; <span style=\"font-weight: bold;\">break</span><br><br>&nbsp;&nbsp;&nbsp;&nbsp;&nbsp;&nbsp;&nbsp; <span style=\"font-weight: bold;\">@case</span> valor variável<br>&nbsp;&nbsp;&nbsp;&nbsp;&nbsp;&nbsp;&nbsp;&nbsp;&nbsp;&nbsp; instruções<br>&nbsp;&nbsp;&nbsp;&nbsp;&nbsp;&nbsp;&nbsp;&nbsp;&nbsp;&nbsp;&nbsp; <span style=\"font-weight: bold;\">break</span><br><br>&nbsp;&nbsp;&nbsp;&nbsp;&nbsp;&nbsp; <span style=\"font-weight: bold;\">@default</span><br>&nbsp;&nbsp;&nbsp;&nbsp;&nbsp;&nbsp;&nbsp;&nbsp;&nbsp;&nbsp;&nbsp; println(\"Não encontrado\")<span style=\"font-weight: bold;\"></span><br><span style=\"font-weight: bold;\">end</span><br></td>\n",
    "\n",
    "</tr>\n",
    "</tbody>\n",
    "</table>"
   ]
  },
  {
   "cell_type": "code",
   "execution_count": 6,
   "metadata": {
    "collapsed": false,
    "scrolled": true
   },
   "outputs": [
    {
     "name": "stdout",
     "output_type": "stream",
     "text": [
      "Raiz: 0"
     ]
    }
   ],
   "source": [
    "x = rand(-10:10)\n",
    "y = sin(x)\n",
    "\n",
    "if  y == 0\n",
    "    print(\"Raiz: \",x) \n",
    "    \n",
    "elseif y > 0\n",
    "    print(\"Valor positivo: \",y,\". valor de x: \",x)\n",
    "    \n",
    "elseif y < 0 \n",
    "    print(\"Valor negativo: \",y,\". valor de x: \",x)    \n",
    "\n",
    "end\n"
   ]
  },
  {
   "cell_type": "markdown",
   "metadata": {},
   "source": []
  },
  {
   "cell_type": "code",
   "execution_count": 6,
   "metadata": {
    "collapsed": false,
    "scrolled": false
   },
   "outputs": [
    {
     "name": "stdout",
     "output_type": "stream",
     "text": [
      "y vale Zero"
     ]
    }
   ],
   "source": [
    "using Switch\n",
    "\n",
    "y = rand(0:4)\n",
    "\n",
    "@switch y begin\n",
    "    @case 0\n",
    "    print( \"y vale Zero\")\n",
    "    break\n",
    "\n",
    "    @case 1\n",
    "    println(\"y vale Um\")\n",
    "    break\n",
    "\n",
    "    @case 2\n",
    "    println(\"y vale Dois\")\n",
    "    break\n",
    "\n",
    "    @default\n",
    "    println(\"Não encontrado.numero acima de 2\")\n",
    "end"
   ]
  },
  {
   "cell_type": "markdown",
   "metadata": {},
   "source": []
  },
  {
   "cell_type": "markdown",
   "metadata": {},
   "source": [
    "####REPETIÇÃO \"PARA\" (FOR) ####"
   ]
  },
  {
   "cell_type": "markdown",
   "metadata": {},
   "source": [
    "<strong>Repetição \"FOR\"<br>\n",
    "</strong>\n",
    "<p style=\"text-align: justify;\"><strong></strong></p>\n",
    "<table style=\"text-align: left; width: 786px; height: 160px; margin-left: 0px; margin-right: 0px;\" border=\"1\" cellpadding=\"2\" cellspacing=\"1\">\n",
    "<tbody>\n",
    "<tr>\n",
    "<td colspan=\"1\" rowspan=\"1\" style=\"vertical-align: top; text-align: left;\">&nbsp;<span style=\"font-weight: bold;\">for</span> variável = inicio : fim<br>\n",
    "&nbsp;&nbsp;&nbsp;&nbsp; instruções<span style=\"font-weight: bold;\">;</span><br>\n",
    "&nbsp;<span style=\"font-weight: bold;\">end</span><br>\n",
    "\n",
    "&nbsp;<br>\n",
    "</td>\n",
    "<td style=\"vertical-align: top;\"><span style=\"font-weight: bold;\">for</span> variável <span style=\"font-weight: bold;\">in = range</span><br>\n",
    "&nbsp;&nbsp;&nbsp;&nbsp; instruções<span style=\"font-weight: bold;\">;</span><br>\n",
    "&nbsp;<span style=\"font-weight: bold;\">end</span><br>&nbsp;\n",
    "<br></td><td style=\"vertical-align: top;\"><span style=\"font-weight: bold;\">for</span>\n",
    "variável = <span style=\"font-weight: bold;\">inicio :</span> <span style=\"font-weight: bold;\">length(vetor)</span><br>\n",
    "\n",
    "&nbsp;&nbsp;&nbsp;&nbsp; instruções<span style=\"font-weight: bold;\">;</span><br>\n",
    "&nbsp;<span style=\"font-weight: bold;\">end</span></td>\n",
    "<td style=\"vertical-align: top;\"><span style=\"font-weight: bold;\">for</span>\n",
    "variável = <span style=\"font-weight: bold;\">inicio : fim</span><br>\n",
    "&nbsp;&nbsp;&nbsp;&nbsp; instruções<span style=\"font-weight: bold;\">;</span><br>\n",
    "&nbsp;&nbsp;&nbsp;&nbsp; <span style=\"font-weight: bold;\">if </span>condição<br>\n",
    "\n",
    "&nbsp;&nbsp;&nbsp;&nbsp;&nbsp;&nbsp;&nbsp; <span style=\"font-weight: bold;\">continue ou break</span><br>\n",
    "&nbsp;&nbsp;&nbsp;&nbsp; <span style=\"font-weight: bold;\">end</span><br>\n",
    "&nbsp;<span style=\"font-weight: bold;\">end</span></td>\n",
    "</tr>\n",
    "</tbody>\n",
    "</table>"
   ]
  },
  {
   "cell_type": "code",
   "execution_count": 7,
   "metadata": {
    "collapsed": false,
    "scrolled": true
   },
   "outputs": [
    {
     "name": "stdout",
     "output_type": "stream",
     "text": [
      "Valor da função sin(x)*cos(x/2)+x: \n",
      "\n",
      "1.7384602626041288 Para x = 1\n",
      "2.491295496433882 Para x = 2\n",
      "3.0099824344694786 Para x = 3\n",
      "4.314940964313378 Para x = 4\n",
      "5.768236060439348 Para x = 5\n",
      "6.276619246650812 Para x = 6\n",
      "6.384760506169355 Para x = 7\n",
      "7.353312293345819 Para x = 8\n",
      "8.913127154443261 Para x = 9\n",
      "9.84568178274699 Para x = 10\n"
     ]
    }
   ],
   "source": [
    "print(\"Valor da função sin(x)*cos(x/2)+x: \\n\\n\")\n",
    "\n",
    "for x = [1 2 3 4 5 6 7 8 9 10] # pode ser também x in vetor\n",
    "    \n",
    "    println(sin(x)*cos(x/2)+x,\" Para x = \",x)\n",
    "    \n",
    "end"
   ]
  },
  {
   "cell_type": "code",
   "execution_count": 8,
   "metadata": {
    "collapsed": false
   },
   "outputs": [
    {
     "name": "stdout",
     "output_type": "stream",
     "text": [
      "Valor da função sin(x)*cos(x/2)+x:\n",
      "\n",
      "1.7384602626041288 Para x = 1\n",
      "2.491295496433882 Para x = 2\n",
      "3.0099824344694786 Para x = 3\n",
      "4.314940964313378 Para x = 4\n",
      "5.768236060439348 Para x = 5\n",
      "6.276619246650812 Para x = 6\n",
      "6.384760506169355 Para x = 7\n",
      "7.353312293345819 Para x = 8\n",
      "8.913127154443261 Para x = 9\n",
      "9.84568178274699 Para x = 10\n"
     ]
    }
   ],
   "source": [
    "vetor = 1:10\n",
    "\n",
    "print(\"Valor da função sin(x)*cos(x/2)+x:\\n\\n\")\n",
    "\n",
    "for x = vetor # pode ser usando também x = 1:length(vetor) ou x in vetor\n",
    "    \n",
    "    println(sin(x)*cos(x/2)+x,\" Para x = \",x)\n",
    "    \n",
    "end\n",
    "    "
   ]
  },
  {
   "cell_type": "markdown",
   "metadata": {},
   "source": [
    "** Break e Continue **"
   ]
  },
  {
   "cell_type": "code",
   "execution_count": 172,
   "metadata": {
    "collapsed": false
   },
   "outputs": [
    {
     "name": "stdout",
     "output_type": "stream",
     "text": [
      "3\n",
      "6\n",
      "9\n"
     ]
    }
   ],
   "source": [
    "# para i de 1 até 10,\n",
    "# se o resto da divisão i por 3 for diferente de zero, \n",
    "# então o loop é parado e retorna para o inicio do FOR\n",
    "# e o loop será continuado até o final se o resto for 0\n",
    "\n",
    "for i = 1:10\n",
    "    if i % 3 != 0\n",
    "        continue\n",
    "    end\n",
    "    println(i)\n",
    "end\n"
   ]
  },
  {
   "cell_type": "code",
   "execution_count": 173,
   "metadata": {
    "collapsed": false,
    "scrolled": true
   },
   "outputs": [
    {
     "name": "stdout",
     "output_type": "stream",
     "text": [
      "1\n",
      "2\n"
     ]
    }
   ],
   "source": [
    "# para i de 1 até 10,\n",
    "# se o resto da divisão i por 3 for igual a zero,então o loop é encerrado\n",
    "\n",
    "for i = 1:10\n",
    "    if i % 3 == 0\n",
    "        break\n",
    "    end\n",
    "    println(i)\n",
    "bend\n"
   ]
  },
  {
   "cell_type": "markdown",
   "metadata": {},
   "source": [
    "** Controlando o laço For com sleep**\n",
    "\n",
    "Importe o pacote PyPlot e use o comando **sleep(tempo_segundos)**"
   ]
  },
  {
   "cell_type": "code",
   "execution_count": 1,
   "metadata": {
    "collapsed": false
   },
   "outputs": [
    {
     "name": "stdout",
     "output_type": "stream",
     "text": [
      "Valor da função sin(x)*cos(x/2)+x:\n",
      "\n",
      "1.7384602626041288 Para x = 1\n",
      "2.491295496433882 Para x = 2\n",
      "3.0099824344694786 Para x = 3\n",
      "4.314940964313378 Para x = 4\n",
      "5.768236060439348 Para x = 5\n"
     ]
    }
   ],
   "source": [
    "vetor = 1:5\n",
    "\n",
    "print(\"Valor da função sin(x)*cos(x/2)+x:\\n\\n\")\n",
    "\n",
    "for x = vetor # pode ser usando também x = 1:length(vetor) ou x in vetor\n",
    "    sleep(1)\n",
    "    println(sin(x)*cos(x/2)+x,\" Para x = \",x)\n",
    "    \n",
    "    \n",
    "end"
   ]
  },
  {
   "cell_type": "markdown",
   "metadata": {},
   "source": [
    "** Percorrendo Uma Matrix ou vetor usando o FOR **"
   ]
  },
  {
   "cell_type": "code",
   "execution_count": 10,
   "metadata": {
    "collapsed": false
   },
   "outputs": [
    {
     "data": {
      "text/plain": [
       "3x3 Array{Int64,2}:\n",
       "  2   4   6\n",
       "  8   9  10\n",
       " 12  14  16"
      ]
     },
     "execution_count": 10,
     "metadata": {},
     "output_type": "execute_result"
    }
   ],
   "source": [
    "mnum = [2 4 6;8 9 10;12 14 16]"
   ]
  },
  {
   "cell_type": "code",
   "execution_count": 20,
   "metadata": {
    "collapsed": false,
    "scrolled": true
   },
   "outputs": [
    {
     "name": "stdout",
     "output_type": "stream",
     "text": [
      "elemento da linha 1 coluna 1 é :2\n",
      "elemento da linha 1 coluna 2 é :4\n",
      "elemento da linha 1 coluna 3 é :6\n",
      "elemento da linha 2 coluna 1 é :8\n",
      "elemento da linha 2 coluna 2 é :9\n",
      "elemento da linha 2 coluna 3 é :10\n",
      "elemento da linha 3 coluna 1 é :12\n",
      "elemento da linha 3 coluna 2 é :14\n",
      "elemento da linha 3 coluna 3 é :16\n"
     ]
    }
   ],
   "source": [
    "linhas,colunas = size(mnum)\n",
    "\n",
    "for i = 1:linhas\n",
    "    \n",
    "    for j = 1:colunas\n",
    "        \n",
    "        println(\"elemento da linha $i coluna $j é :\",mnum[i,j])\n",
    "    end\n",
    "end"
   ]
  },
  {
   "cell_type": "markdown",
   "metadata": {},
   "source": [
    "Melhorando...."
   ]
  },
  {
   "cell_type": "code",
   "execution_count": 21,
   "metadata": {
    "collapsed": false
   },
   "outputs": [
    {
     "name": "stdout",
     "output_type": "stream",
     "text": [
      "elemento da linha 1 coluna 1 é :2\n",
      "elemento da linha 1 coluna 2 é :4\n",
      "elemento da linha 1 coluna 3 é :6\n",
      "elemento da linha 2 coluna 1 é :8\n",
      "elemento da linha 2 coluna 2 é :9\n",
      "elemento da linha 2 coluna 3 é :10\n",
      "elemento da linha 3 coluna 1 é :12\n",
      "elemento da linha 3 coluna 2 é :14\n",
      "elemento da linha 3 coluna 3 é :16\n"
     ]
    }
   ],
   "source": [
    "for i = 1:linhas, j = 1:colunas\n",
    "    println(\"elemento da linha $i coluna $j é :\",mnum[i,j])\n",
    "end "
   ]
  },
  {
   "cell_type": "markdown",
   "metadata": {},
   "source": [
    "** Formas elegantes do laço for**"
   ]
  },
  {
   "cell_type": "code",
   "execution_count": 174,
   "metadata": {
    "collapsed": false,
    "scrolled": true
   },
   "outputs": [
    {
     "name": "stdout",
     "output_type": "stream",
     "text": [
      "1 * 1 = 1\n",
      "1 * 2 = 2\n",
      "1 * 3 = 3\n",
      "2 * 1 = 2\n",
      "2 * 2 = 4\n",
      "2 * 3 = 6\n",
      "3 * 1 = 3\n",
      "3 * 2 = 6\n",
      "3 * 3 = 9\n"
     ]
    }
   ],
   "source": [
    "for n = 1:3\n",
    "    for m = 1:3\n",
    "        println(\"$n * $m = $(n * m)\")\n",
    "    end\n",
    "end "
   ]
  },
  {
   "cell_type": "code",
   "execution_count": 175,
   "metadata": {
    "collapsed": false,
    "scrolled": true
   },
   "outputs": [
    {
     "name": "stdout",
     "output_type": "stream",
     "text": [
      "1 * 1 = 1\n",
      "1 * 2 = 2\n",
      "1 * 3 = 3\n",
      "2 * 1 = 2\n",
      "2 * 2 = 4\n",
      "2 * 3 = 6\n",
      "3 * 1 = 3\n",
      "3 * 2 = 6\n",
      "3 * 3 = 9\n"
     ]
    }
   ],
   "source": [
    "for n = 1:3, m = 1:3\n",
    "    println(\"$n * $m = $(n * m)\")\n",
    "end "
   ]
  },
  {
   "cell_type": "code",
   "execution_count": 2,
   "metadata": {
    "collapsed": false,
    "scrolled": false
   },
   "outputs": [
    {
     "name": "stdout",
     "output_type": "stream",
     "text": [
      "1 julia\n",
      "2 python\n",
      "3 sagemath\n",
      "4 maxima\n",
      "5 octave\n"
     ]
    }
   ],
   "source": [
    "lista = [\"julia\",\"python\",\"sagemath\",\"maxima\",\"octave\"]\n",
    "\n",
    "for (index, value) in enumerate(lista)\n",
    "           println(\"$index $value\")\n",
    "end"
   ]
  },
  {
   "cell_type": "markdown",
   "metadata": {},
   "source": [
    "**List Comprehensions**\n",
    "\n",
    "Uma compreensão de lista é uma construção sintática disponível em algumas linguagens de programação para criação de uma lista baseada em listas existentes. Ela segue a forma da notação de definição de conjunto matemática (compreensão de conjunto) como forma distinta para uso de funções de mapa e filtro.\n",
    "***Fonte: wikipedia***"
   ]
  },
  {
   "cell_type": "code",
   "execution_count": 27,
   "metadata": {
    "collapsed": false
   },
   "outputs": [
    {
     "data": {
      "text/plain": [
       "5-element Array{Int64,1}:\n",
       "  1\n",
       "  4\n",
       "  9\n",
       " 16\n",
       " 25"
      ]
     },
     "execution_count": 27,
     "metadata": {},
     "output_type": "execute_result"
    }
   ],
   "source": [
    "[x^2 for x in 1:5]"
   ]
  },
  {
   "cell_type": "code",
   "execution_count": 5,
   "metadata": {
    "collapsed": false
   },
   "outputs": [
    {
     "data": {
      "text/plain": [
       "3x4 Array{Int64,2}:\n",
       " 3   4   5   6\n",
       " 6   8  10  12\n",
       " 9  12  15  18"
      ]
     },
     "execution_count": 5,
     "metadata": {},
     "output_type": "execute_result"
    }
   ],
   "source": [
    "[x * y for x in 1:3, y in 3:6]"
   ]
  },
  {
   "cell_type": "code",
   "execution_count": 26,
   "metadata": {
    "collapsed": false
   },
   "outputs": [
    {
     "data": {
      "text/plain": [
       "6-element Array{Any,1}:\n",
       "   5\n",
       "   9\n",
       "  25\n",
       "  32\n",
       "  55\n",
       " 510"
      ]
     },
     "execution_count": 26,
     "metadata": {},
     "output_type": "execute_result"
    }
   ],
   "source": [
    "# a instrução \".>\" é necessária para comparar elemento por elemento\n",
    "\n",
    "x=[1 2 3 4 5 9 25 32 55 510]\n",
    "\n",
    "[y for y in x[x .> 4]]"
   ]
  },
  {
   "cell_type": "code",
   "execution_count": 31,
   "metadata": {
    "collapsed": false
   },
   "outputs": [
    {
     "data": {
      "text/plain": [
       "3x3 Array{Int64,2}:\n",
       " 0  -1  -2\n",
       " 1   0  -1\n",
       " 2   1   0"
      ]
     },
     "execution_count": 31,
     "metadata": {},
     "output_type": "execute_result"
    }
   ],
   "source": [
    "# x = vetor; y = vetor\n",
    "\n",
    "g(x,y) = x - y\n",
    "\n",
    "A1 = [ g(x,y) for x in [1 2 3], y = [1 2 3]]"
   ]
  },
  {
   "cell_type": "code",
   "execution_count": 62,
   "metadata": {
    "collapsed": false
   },
   "outputs": [
    {
     "data": {
      "text/plain": [
       "-2"
      ]
     },
     "execution_count": 62,
     "metadata": {},
     "output_type": "execute_result"
    }
   ],
   "source": [
    "# Acessar o elemento da primeira linha e terceira coluna\n",
    "\n",
    "A[1,3]"
   ]
  },
  {
   "cell_type": "code",
   "execution_count": 7,
   "metadata": {
    "collapsed": false
   },
   "outputs": [
    {
     "data": {
      "text/plain": [
       "3x3 Array{Int64,2}:\n",
       " 0  -1  -2\n",
       " 1   0  -1\n",
       " 2   1   0"
      ]
     },
     "execution_count": 7,
     "metadata": {},
     "output_type": "execute_result"
    }
   ],
   "source": [
    "# x in ; y in\n",
    "\n",
    "A2 = [g(x,y) for x in [1 2 3], y in [1 2 3]]"
   ]
  },
  {
   "cell_type": "code",
   "execution_count": 4,
   "metadata": {
    "collapsed": false,
    "scrolled": true
   },
   "outputs": [
    {
     "data": {
      "text/plain": [
       "7-element Array{Any,1}:\n",
       " 21\n",
       " 23\n",
       " 25\n",
       " 27\n",
       " 29\n",
       " 31\n",
       " 33"
      ]
     },
     "execution_count": 4,
     "metadata": {},
     "output_type": "execute_result"
    }
   ],
   "source": [
    "x = [10 11 12 13 14 15 16 17]\n",
    "\n",
    "[ x[i] + x[i-1] for i=2:length(x) ]"
   ]
  },
  {
   "cell_type": "code",
   "execution_count": 58,
   "metadata": {
    "collapsed": false
   },
   "outputs": [
    {
     "data": {
      "text/plain": [
       "5-element Array{Any,1}:\n",
       "   4\n",
       "  16\n",
       "  36\n",
       "  64\n",
       " 100"
      ]
     },
     "execution_count": 58,
     "metadata": {},
     "output_type": "execute_result"
    }
   ],
   "source": [
    "sq = [x*x for x in filter(x -> x % 2 == 0, 1:10)]"
   ]
  },
  {
   "cell_type": "code",
   "execution_count": 51,
   "metadata": {
    "collapsed": false
   },
   "outputs": [
    {
     "data": {
      "text/plain": [
       "2x3 Array{Any,2}:\n",
       " 3  4  6\n",
       " 4  5  7"
      ]
     },
     "execution_count": 51,
     "metadata": {},
     "output_type": "execute_result"
    }
   ],
   "source": [
    "[ x+y for x = filter(x -> x <= 2, 1:5), y=filter(isprime,1:5) ]"
   ]
  },
  {
   "cell_type": "markdown",
   "metadata": {},
   "source": [
    "** Aplicações**"
   ]
  },
  {
   "cell_type": "markdown",
   "metadata": {},
   "source": [
    "* **Teste de Benchmark **"
   ]
  },
  {
   "cell_type": "code",
   "execution_count": 176,
   "metadata": {
    "collapsed": false
   },
   "outputs": [],
   "source": [
    "workspace()"
   ]
  },
  {
   "cell_type": "code",
   "execution_count": 2,
   "metadata": {
    "collapsed": true
   },
   "outputs": [
    {
     "name": "stdout",
     "output_type": "stream",
     "text": [
      "Valor(y):9.929482385950816e-5 . Raiz(x): 2.7049873\n",
      "Valor(y):9.822870387166116e-5 . Raiz(x): 2.7049874\n",
      "Valor(y):9.716258375291886e-5 . Raiz(x): 2.7049875\n",
      "Valor(y):9.609646351349532e-5 . Raiz(x): 2.7049876\n",
      "Valor(y):9.503034314251035e-5 . Raiz(x): 2.7049877\n",
      "Valor(y):9.396422265084414e-5 . Raiz(x): 2.7049878\n",
      "Valor(y):9.289810203416682e-5 . Raiz(x): 2.7049879\n",
      "Valor(y):9.183198128581704e-5 . Raiz(x): 2.704988\n",
      "Valor(y):9.0765860416675e-5 . Raiz(x): 2.7049881\n",
      "Valor(y):8.969973942252185e-5 . Raiz(x): 2.7049882\n",
      "Valor(y):8.863361829725136e-5 . Raiz(x): 2.7049883\n",
      "Valor(y):8.756749705007838e-5 . Raiz(x): 2.7049884\n",
      "Valor(y):8.650137567756122e-5 . Raiz(x): 2.7049885\n",
      "Valor(y):8.543525417470388e-5 . Raiz(x): 2.7049886\n",
      "Valor(y):8.436913255127632e-5 . Raiz(x): 2.7049887\n",
      "Valor(y):8.330301079684244e-5 . Raiz(x): 2.7049888\n",
      "Valor(y):8.223688892139425e-5 . Raiz(x): 2.7049889\n",
      "Valor(y):8.117076691938063e-5 . Raiz(x): 2.704989\n",
      "Valor(y):8.010464478747092e-5 . Raiz(x): 2.7049891\n",
      "Valor(y):7.903852253510202e-5 . Raiz(x): 2.7049892\n",
      "Valor(y):7.797240015605666e-5 . Raiz(x): 2.7049893\n",
      "Valor(y):7.690627764611602e-5 . Raiz(x): 2.7049894\n",
      "Valor(y):7.584015501593822e-5 . Raiz(x): 2.7049895\n",
      "Valor(y):7.477403225408796e-5 . Raiz(x): 2.7049896\n",
      "Valor(y):7.370790937266669e-5 . Raiz(x): 2.7049897\n",
      "Valor(y):7.26417863642359e-5 . Raiz(x): 2.7049898\n",
      "Valor(y):7.157566322557596e-5 . Raiz(x): 2.7049899\n",
      "Valor(y):7.050953996645681e-5 . Raiz(x): 2.70499\n",
      "Valor(y):6.94434165805502e-5 . Raiz(x): 2.7049901\n",
      "Valor(y):6.837729306463647e-5 . Raiz(x): 2.7049902\n",
      "Valor(y):6.731116942693127e-5 . Raiz(x): 2.7049903\n",
      "Valor(y):6.624504566354883e-5 . Raiz(x): 2.7049904\n",
      "Valor(y):6.517892177004825e-5 . Raiz(x): 2.7049905\n",
      "Valor(y):6.411279775531131e-5 . Raiz(x): 2.7049906\n",
      "Valor(y):6.304667360934602e-5 . Raiz(x): 2.7049907\n",
      "Valor(y):6.198054934392072e-5 . Raiz(x): 2.7049908\n",
      "Valor(y):6.091442495148591e-5 . Raiz(x): 2.7049909\n",
      "Valor(y):5.9848300428932966e-5 . Raiz(x): 2.704991\n",
      "Valor(y):5.878217578492162e-5 . Raiz(x): 2.7049911\n",
      "Valor(y):5.7716051014566894e-5 . Raiz(x): 2.7049912\n",
      "Valor(y):5.6649926114316074e-5 . Raiz(x): 2.7049913\n",
      "Valor(y):5.558380109393912e-5 . Raiz(x): 2.7049914\n",
      "Valor(y):5.451767594200074e-5 . Raiz(x): 2.7049915\n",
      "Valor(y):5.345155066738272e-5 . Raiz(x): 2.7049916\n",
      "Valor(y):5.238542526952994e-5 . Raiz(x): 2.7049917\n",
      "Valor(y):5.131929973967164e-5 . Raiz(x): 2.7049918\n",
      "Valor(y):5.025317408957619e-5 . Raiz(x): 2.7049919\n",
      "Valor(y):4.918704831347043e-5 . Raiz(x): 2.704992\n",
      "Valor(y):4.812092240669141e-5 . Raiz(x): 2.7049921\n",
      "Valor(y):4.705479637834298e-5 . Raiz(x): 2.7049922\n",
      "Valor(y):4.598867022409525e-5 . Raiz(x): 2.7049923\n",
      "Valor(y):4.492254393850814e-5 . Raiz(x): 2.7049924\n",
      "Valor(y):4.3856417534460235e-5 . Raiz(x): 2.7049925\n",
      "Valor(y):4.279029099796272e-5 . Raiz(x): 2.7049926\n",
      "Valor(y):4.1724164340783965e-5 . Raiz(x): 2.7049927\n",
      "Valor(y):4.0658037558150006e-5 . Raiz(x): 2.7049928\n",
      "Valor(y):3.959191064406564e-5 . Raiz(x): 2.7049929\n",
      "Valor(y):3.8525783609855146e-5 . Raiz(x): 2.704993\n",
      "Valor(y):3.745965644863514e-5 . Raiz(x): 2.7049931\n",
      "Valor(y):3.639352915729699e-5 . Raiz(x): 2.7049932\n",
      "Valor(y):3.5327401745166576e-5 . Raiz(x): 2.7049933\n",
      "Valor(y):3.4261274202029846e-5 . Raiz(x): 2.7049934\n",
      "Valor(y):3.3195146539211073e-5 . Raiz(x): 2.7049935\n",
      "Valor(y):3.21290187489387e-5 . Raiz(x): 2.7049936\n",
      "Valor(y):3.106289082899227e-5 . Raiz(x): 2.7049937\n",
      "Valor(y):2.9996762787809494e-5 . Raiz(x): 2.7049938\n",
      "Valor(y):2.8930634620838447e-5 . Raiz(x): 2.7049939\n",
      "Valor(y):2.786450632275006e-5 . Raiz(x): 2.704994\n",
      "Valor(y):2.6798377903203274e-5 . Raiz(x): 2.7049941\n",
      "Valor(y):2.5732249358978443e-5 . Raiz(x): 2.7049942\n",
      "Valor(y):2.4666120683192183e-5 . Raiz(x): 2.7049943\n",
      "Valor(y):2.359999188672468e-5 . Raiz(x): 2.7049944\n",
      "Valor(y):2.2533862960472106e-5 . Raiz(x): 2.7049945\n",
      "Valor(y):2.1467733912428066e-5 . Raiz(x): 2.7049946\n",
      "Valor(y):2.0401604739039847e-5 . Raiz(x): 2.7049947\n",
      "Valor(y):1.9335475434756333e-5 . Raiz(x): 2.7049948\n",
      "Valor(y):1.8269346008792375e-5 . Raiz(x): 2.7049949\n",
      "Valor(y):1.7203216458150372e-5 . Raiz(x): 2.704995\n",
      "Valor(y):1.6137086775280807e-5 . Raiz(x): 2.7049951\n",
      "Valor(y):1.5070956972507155e-5 . Raiz(x): 2.7049952\n",
      "Valor(y):1.4004827039171275e-5 . Raiz(x): 2.7049953\n",
      "Valor(y):1.2938696984154952e-5 . Raiz(x): 2.7049954\n",
      "Valor(y):1.1872566803905471e-5 . Raiz(x): 2.7049955\n",
      "Valor(y):1.0806436492760696e-5 . Raiz(x): 2.7049956\n",
      "Valor(y):9.740306059824455e-6 . Raiz(x): 2.7049957\n",
      "Valor(y):8.674175502876302e-6 . Raiz(x): 2.7049958\n",
      "Valor(y):7.608044814588766e-6 . Raiz(x): 2.7049959\n",
      "Valor(y):6.541914004620786e-6 . Raiz(x): 2.704996\n",
      "Valor(y):5.475783068753515e-6 . Raiz(x): 2.7049961\n",
      "Valor(y):4.409652002768105e-6 . Raiz(x): 2.7049962\n",
      "Valor(y):3.3435208148802076e-6 . Raiz(x): 2.7049963\n",
      "Valor(y):2.277389497873372e-6 . Raiz(x): 2.7049964\n",
      "Valor(y):1.2112580597412048e-6 . Raiz(x): 2.7049965\n",
      "Valor(y):1.4512649515463494e-7 . Raiz(x): 2.7049966\n",
      "Valor(y):-9.210052007713188e-7 . Raiz(x): 2.7049967\n",
      "Valor(y):-1.987137017267493e-6 . Raiz(x): 2.7049968\n",
      "Valor(y):-3.0532689595519358e-6 . Raiz(x): 2.7049969\n",
      "Valor(y):-4.119401031843495e-6 . Raiz(x): 2.704997\n",
      "Valor(y):-5.185533225260386e-6 . Raiz(x): 2.7049971\n",
      "Valor(y):-6.251665550238705e-6 . Raiz(x): 2.7049972\n",
      "Valor(y):-7.317797995454178e-6 . Raiz(x): 2.7049973\n",
      "Valor(y):-8.383930566346898e-6 . Raiz(x): 2.7049974\n",
      "Valor(y):-9.450063268801046e-6 . Raiz(x): 2.7049975\n",
      "Valor(y):-1.051619609215848e-5 . Raiz(x): 2.7049976\n",
      "Valor(y):-1.1582329040304984e-5 . Raiz(x): 2.7049977\n",
      "Valor(y):-1.2648462119901893e-5 . Raiz(x): 2.7049978\n",
      "Valor(y):-1.3714595320069023e-5 . Raiz(x): 2.7049979\n",
      "Valor(y):-1.4780728646357488e-5 . Raiz(x): 2.704998\n",
      "Valor(y):-1.5846862102986137e-5 . Raiz(x): 2.7049981\n",
      "Valor(y):-1.691299568085114e-5 . Raiz(x): 2.7049982\n",
      "Valor(y):-1.797912939016655e-5 . Raiz(x): 2.7049983\n",
      "Valor(y):-1.9045263220274222e-5 . Raiz(x): 2.7049984\n",
      "Valor(y):-2.011139717494892e-5 . Raiz(x): 2.7049985\n",
      "Valor(y):-2.1177531261296068e-5 . Raiz(x): 2.7049986\n",
      "Valor(y):-2.224366546788037e-5 . Raiz(x): 2.7049987\n",
      "Valor(y):-2.3309799801585207e-5 . Raiz(x): 2.7049988\n",
      "Valor(y):-2.4375934264964094e-5 . Raiz(x): 2.7049989\n",
      "Valor(y):-2.544206884924627e-5 . Raiz(x): 2.704999\n",
      "Valor(y):-2.6508203564423738e-5 . Raiz(x): 2.7049991\n",
      "Valor(y):-2.7574338400948584e-5 . Raiz(x): 2.7049992\n",
      "Valor(y):-2.864047336237352e-5 . Raiz(x): 2.7049993\n",
      "Valor(y):-2.970660845558193e-5 . Raiz(x): 2.7049994\n",
      "Valor(y):-3.077274366880545e-5 . Raiz(x): 2.7049995\n",
      "Valor(y):-3.18388790091495e-5 . Raiz(x): 2.7049996\n",
      "Valor(y):-3.290501447905658e-5 . Raiz(x): 2.7049997\n",
      "Valor(y):-3.3971150069644906e-5 . Raiz(x): 2.7049998\n",
      "Valor(y):-3.5037285787242745e-5 . Raiz(x): 2.7049999\n",
      "Valor(y):-3.6103421634625654e-5 . Raiz(x): 2.705\n",
      "Valor(y):-3.716955760380003e-5 . Raiz(x): 2.7050001\n",
      "Valor(y):-3.82356937028705e-5 . Raiz(x): 2.7050002\n",
      "Valor(y):-3.930182992339937e-5 . Raiz(x): 2.7050003\n",
      "Valor(y):-4.036796626916139e-5 . Raiz(x): 2.7050004\n",
      "Valor(y):-4.1434102745929735e-5 . Raiz(x): 2.7050005\n",
      "Valor(y):-4.250023934349034e-5 . Raiz(x): 2.7050006\n",
      "Valor(y):-4.356637606783842e-5 . Raiz(x): 2.7050007\n",
      "Valor(y):-4.463251292252668e-5 . Raiz(x): 2.7050008\n",
      "Valor(y):-4.569864989734107e-5 . Raiz(x): 2.7050009\n",
      "Valor(y):-4.6764787002939734e-5 . Raiz(x): 2.705001\n",
      "Valor(y):-4.7830924230996e-5 . Raiz(x): 2.7050011\n",
      "Valor(y):-4.8897061584174395e-5 . Raiz(x): 2.7050012\n",
      "Valor(y):-4.996319906636071e-5 . Raiz(x): 2.7050013\n",
      "Valor(y):-5.1029336672558934e-5 . Raiz(x): 2.7050014\n",
      "Valor(y):-5.209547440232498e-5 . Raiz(x): 2.7050015\n",
      "Valor(y):-5.3161612263985525e-5 . Raiz(x): 2.7050016\n",
      "Valor(y):-5.422775024543913e-5 . Raiz(x): 2.7050017\n",
      "Valor(y):-5.529388835290305e-5 . Raiz(x): 2.7050018\n",
      "Valor(y):-5.6360026591040224e-5 . Raiz(x): 2.7050019\n",
      "Valor(y):-5.7426164951190906e-5 . Raiz(x): 2.705002\n",
      "Valor(y):-5.849230344157075e-5 . Raiz(x): 2.7050021\n",
      "Valor(y):-5.9558442051854676e-5 . Raiz(x): 2.7050022\n",
      "Valor(y):-6.06245807890371e-5 . Raiz(x): 2.7050023\n",
      "Valor(y):-6.169071965689277e-5 . Raiz(x): 2.7050024\n",
      "Valor(y):-6.275685864576275e-5 . Raiz(x): 2.7050025\n",
      "Valor(y):-6.382299775986588e-5 . Raiz(x): 2.7050026\n",
      "Valor(y):-6.488913700641863e-5 . Raiz(x): 2.7050027\n",
      "Valor(y):-6.595527637098808e-5 . Raiz(x): 2.7050028\n",
      "Valor(y):-6.702141586745203e-5 . Raiz(x): 2.7050029\n",
      "Valor(y):-6.80875554864846e-5 . Raiz(x): 2.705003\n",
      "Valor(y):-6.915369523030623e-5 . Raiz(x): 2.7050031\n",
      "Valor(y):-7.021983510424601e-5 . Raiz(x): 2.7050032\n",
      "Valor(y):-7.128597509953316e-5 . Raiz(x): 2.7050033\n",
      "Valor(y):-7.235211522060858e-5 . Raiz(x): 2.7050034\n",
      "Valor(y):-7.341825547291236e-5 . Raiz(x): 2.7050035\n",
      "Valor(y):-7.448439584534228e-5 . Raiz(x): 2.7050036\n",
      "Valor(y):-7.555053634433762e-5 . Raiz(x): 2.7050037\n",
      "Valor(y):-7.661667697334007e-5 . Raiz(x): 2.7050038\n",
      "Valor(y):-7.768281772413399e-5 . Raiz(x): 2.7050039\n",
      "Valor(y):-7.874895860460196e-5 . Raiz(x): 2.705004\n",
      "Valor(y):-7.981509960663935e-5 . Raiz(x): 2.7050041\n",
      "Valor(y):-8.088124073402092e-5 . Raiz(x): 2.7050042\n",
      "Valor(y):-8.194738199229779e-5 . Raiz(x): 2.7050043\n",
      "Valor(y):-8.301352337169998e-5 . Raiz(x): 2.7050044\n",
      "Valor(y):-8.407966487755658e-5 . Raiz(x): 2.7050045\n",
      "Valor(y):-8.514580651375336e-5 . Raiz(x): 2.7050046\n",
      "Valor(y):-8.621194827107548e-5 . Raiz(x): 2.7050047\n",
      "Valor(y):-8.727809015818266e-5 . Raiz(x): 2.7050048\n",
      "Valor(y):-8.834423216608212e-5 . Raiz(x): 2.7050049\n",
      "Valor(y):-8.941037430099108e-5 . Raiz(x): 2.705005\n",
      "Valor(y):-9.047651656524103e-5 . Raiz(x): 2.7050051\n",
      "Valor(y):-9.154265895172653e-5 . Raiz(x): 2.7050052\n",
      "Valor(y):-9.260880146366723e-5 . Raiz(x): 2.7050053\n",
      "Valor(y):-9.36749441068363e-5 . Raiz(x): 2.7050054\n",
      "Valor(y):-9.474108686990945e-5 . Raiz(x): 2.7050055\n",
      "Valor(y):-9.580722976021416e-5 . Raiz(x): 2.7050056\n",
      "Valor(y):-9.687337277974883e-5 . Raiz(x): 2.7050057\n",
      "Valor(y):-9.793951592051986e-5 . Raiz(x): 2.7050058\n",
      "Valor(y):-9.900565919207516e-5 . Raiz(x): 2.7050059\n",
      "elapsed time: 35.016621822 seconds\n"
     ]
    }
   ],
   "source": [
    "# Método bruto de encontrar raízes de uma função\n",
    "\n",
    "tic()\n",
    "\n",
    "x = 1:0.0000001:5;\n",
    "\n",
    "for k = 1:length(x)\n",
    "    \n",
    "    if abs(sin(x[k]).*x[k].^2 + cos(x[k]).*x[k].^2 + x[k] + cos(sin(x[k])).^2) < 0.0001\n",
    "        \n",
    "        println(\"Valor(y):\",sin(x[k]).*x[k].^2+cos(x[k]).*x[k].^2+x[k]+cos(sin(x[k])).^2,\" . Raiz(x): \",x[k])\n",
    "        \n",
    "    end\n",
    "end\n",
    "\n",
    "toc();"
   ]
  },
  {
   "cell_type": "markdown",
   "metadata": {},
   "source": [
    "Foi encontrda 3 raízes: 2.70499, 5.35325 e 8.726468"
   ]
  },
  {
   "cell_type": "markdown",
   "metadata": {},
   "source": [
    "* **Método de Gauss**"
   ]
  },
  {
   "cell_type": "code",
   "execution_count": 52,
   "metadata": {
    "collapsed": false,
    "scrolled": false
   },
   "outputs": [
    {
     "name": "stdout",
     "output_type": "stream",
     "text": [
      "[-0.5552084480553038,-0.5786297325460229,0.022316776658561962]\n"
     ]
    }
   ],
   "source": [
    "#********** PROGRAMA ELIMINAÇÃO PELO MÉTODO DE GAUSS ************* \n",
    "\n",
    "A = [4.1 -5.4 6.8;7.8 -8 -9;-17 4 1] # use numeros decimais mesmo que sejam inteiros\n",
    "b = [1.0,2.0,3.0]                    # use numeros decimais mesmo que sejam inteiros\n",
    "\n",
    "x = zeros(3) # pré alocação da matrix x\n",
    "m = 0\n",
    "al,ac = size(A)\n",
    "\n",
    "#********** ESCALONAMENTO ************* \n",
    "\n",
    "# Aqui é escolhido o pivo e a matriz é escalonada\n",
    "\n",
    "for k= 1:(al-1)\n",
    "    \n",
    "    for i = (k+1):al\n",
    "       \n",
    "        m = A[i,k]/(A[k,k])\n",
    "        A[i,k] = 0\n",
    "        for j=(k+1):al\n",
    "            \n",
    "            A[i,j] = A[i,j] - m*A[k,j]\n",
    "            b[i]= b[i] - m*b[k]\n",
    "        end\n",
    "    end\n",
    "end\n",
    "\n",
    "# aqui os valores do vetor solução X são calculados\n",
    "\n",
    "x[al] = b[al]/(A[al,al])\n",
    "\n",
    "for k = (al-1):-1:1\n",
    "    begin\n",
    "        s = 0\n",
    "        for j = (k+1):al\n",
    "            s = s+A[k,j]*x[j]\n",
    "        end\n",
    "        x[k]=(b[k]-s)/A[k,k]\n",
    "    end\n",
    "end\n",
    "\n",
    "println(x)"
   ]
  },
  {
   "cell_type": "markdown",
   "metadata": {},
   "source": []
  },
  {
   "cell_type": "markdown",
   "metadata": {},
   "source": [
    "<strong>Repetição \"ENQUANTO\" (WHILE) </strong>"
   ]
  },
  {
   "cell_type": "markdown",
   "metadata": {},
   "source": [
    "<p style=\"text-align: justify;\"><strong>Repetição \"WHILE\"<br>\n",
    "</strong></p>\n",
    "<p style=\"text-align: justify;\"><strong></strong></p>\n",
    "<table\n",
    "style=\"text-align: left; width: 284px; height: 146px; margin-left: 0px; margin-right: 0px;\"\n",
    "border=\"1\" cellpadding=\"2\" cellspacing=\"1\">\n",
    "<tbody>\n",
    "<tr>\n",
    "<td colspan=\"1\" rowspan=\"1\"\n",
    "style=\"vertical-align: top; text-align: left;\">&nbsp;<span\n",
    "style=\"font-weight: bold;\">while</span> condicao<br>\n",
    "&nbsp;&nbsp;&nbsp;&nbsp; instruções;<br>\n",
    "&nbsp;<span style=\"font-weight: bold;\">end</span><span\n",
    "style=\"font-weight: bold;\"></span><span style=\"font-weight: bold;\"><br>\n",
    "</span></td>\n",
    "<td style=\"vertical-align: top;\"><span style=\"font-weight: bold;\">while</span>\n",
    "condicao<br>\n",
    "&nbsp;&nbsp;&nbsp;&nbsp; instruções;<br>\n",
    "&nbsp;&nbsp;&nbsp;&nbsp; <span style=\"font-weight: bold;\">if</span>\n",
    "condição<br>\n",
    "&nbsp;&nbsp;&nbsp;&nbsp;&nbsp;&nbsp;&nbsp; <span\n",
    "style=\"font-weight: bold;\">continue ou break;</span><br>\n",
    "&nbsp;&nbsp;&nbsp;&nbsp; <span style=\"font-weight: bold;\">end<br>\n",
    "end</span><span style=\"font-weight: bold;\"></span><span\n",
    "style=\"font-weight: bold;\"><br>\n",
    "</span></td>\n",
    "</tr>\n",
    "</tbody>\n",
    "</table>"
   ]
  },
  {
   "cell_type": "code",
   "execution_count": 180,
   "metadata": {
    "collapsed": true
   },
   "outputs": [],
   "source": [
    "workspace()"
   ]
  },
  {
   "cell_type": "code",
   "execution_count": 181,
   "metadata": {
    "collapsed": false,
    "scrolled": false
   },
   "outputs": [
    {
     "name": "stdout",
     "output_type": "stream",
     "text": [
      "0\n",
      "1\n",
      "2\n",
      "3\n",
      "4\n",
      "5\n"
     ]
    }
   ],
   "source": [
    "i = 0\n",
    "while true\n",
    "    println(i)\n",
    "    i = i + 1\n",
    "    if i % 6 == 0\n",
    "        break\n",
    "    end\n",
    "end"
   ]
  },
  {
   "cell_type": "markdown",
   "metadata": {},
   "source": [
    "** Aplicações **"
   ]
  },
  {
   "cell_type": "markdown",
   "metadata": {},
   "source": [
    "* Método da Bisseção"
   ]
  },
  {
   "cell_type": "code",
   "execution_count": 182,
   "metadata": {
    "collapsed": false
   },
   "outputs": [
    {
     "name": "stdout",
     "output_type": "stream",
     "text": [
      "Interações: 29\n",
      "Valor da raiz: 2.4318534061312675\n",
      "Valor de f(x)= -1.0e-8 com erro menor que 1.0e-8\n",
      "elapsed time: 0.037001988 seconds\n"
     ]
    }
   ],
   "source": [
    "tic()\n",
    "# Metodo da Bisseccao\n",
    "# Calcula uma aproximação para uma raiz da função de f(x)\n",
    "# Entre os intervalo [ao,bo] e a tolerencia de erro daddo por tol.\n",
    "# y = sin(x)*x^2 + cos(x)*x^2 + cos(sin(x))^2\n",
    "\n",
    "    x = 1\n",
    "    ao = 1\n",
    "    bo = 5\n",
    "    tol = 0.00000001\n",
    "    interacao = 0\n",
    "            \n",
    "    if ((sin(ao)*ao^2+cos(ao)*ao^2 + cos(sin(ao))^2) * (sin(bo)*bo^2+cos(bo)*bo^2 + cos(sin(bo))^2)) < 0\n",
    "        \n",
    "        while (abs(bo-ao) > tol)  &&  (interacao<10000000)\n",
    "            x=(ao+bo)/2\n",
    "            interacao = interacao+1\n",
    "        \n",
    "            if (sin(x)*x^2 + cos(x)*x^2 + cos(sin(x))^2)*(sin(ao)*ao^2 + cos(ao)*ao^2+ cos(sin(ao))^2) > 0\n",
    "                ao=x\n",
    "            else\n",
    "                bo=x\n",
    "            end\n",
    "        \n",
    "        end\n",
    "        println(\"Interações: \",interacao)\n",
    "        println(\"Valor da raiz: \",x)\n",
    "        println(\"Valor de f(x)= \",round(sin(x)*x^2 + cos(x)*x^2 + cos(sin(x))^2,8),\" com erro menor que \",tol)\n",
    "    else\n",
    "        println(\"Não há raízes no intervalo\")\n",
    "    end    \n",
    "toc();"
   ]
  },
  {
   "cell_type": "markdown",
   "metadata": {},
   "source": []
  },
  {
   "cell_type": "markdown",
   "metadata": {},
   "source": [
    "#### REPETIÇÃO \"FAÇA ATÉ QUE\" (DO...UNTIL)####"
   ]
  },
  {
   "cell_type": "markdown",
   "metadata": {},
   "source": [
    "<strong>Repetição \"DO... UNTIL\"<br>\n",
    "</strong></p>\n",
    "<p style=\"text-align: justify;\"><strong></strong></p>\n",
    "<table\n",
    "style=\"text-align: left; width: 329px; height: 130px; margin-left: 0px; margin-right: 0px;\"\n",
    "border=\"1\" cellpadding=\"2\" cellspacing=\"1\">\n",
    "<tbody>\n",
    "<tr>\n",
    "<td colspan=\"1\" rowspan=\"1\"\n",
    "style=\"vertical-align: top; text-align: left;\">&nbsp;<span\n",
    "style=\"font-weight: bold;\"></span><span style=\"font-weight: bold;\">do<br>\n",
    "&nbsp;&nbsp;&nbsp;&nbsp;&nbsp; </span>instruções<span\n",
    "style=\"font-weight: bold;\">;<br>\n",
    "&nbsp;until (</span>condicao<span style=\"font-weight: bold;\">)<br>\n",
    "</span></td>\n",
    "<td style=\"vertical-align: top;\"><span style=\"font-weight: bold;\">do<br>\n",
    "&nbsp;&nbsp;&nbsp;&nbsp;&nbsp; </span>instruções<span\n",
    "style=\"font-weight: bold;\">;<br>\n",
    "&nbsp;&nbsp;&nbsp;&nbsp;&nbsp; if </span>condição<br>\n",
    "&nbsp;&nbsp;&nbsp;&nbsp;&nbsp;&nbsp;&nbsp;&nbsp; <span\n",
    "style=\"font-weight: bold;\">continue ou break;</span><br>\n",
    "<span style=\"font-weight: bold;\">&nbsp; &nbsp; &nbsp; end <br>\n",
    "until (</span>condicao<span style=\"font-weight: bold;\">)</span></td>\n",
    "</tr>\n",
    "</tbody>\n",
    "</table>"
   ]
  },
  {
   "cell_type": "code",
   "execution_count": 183,
   "metadata": {
    "collapsed": true
   },
   "outputs": [],
   "source": [
    "workspace()"
   ]
  },
  {
   "cell_type": "code",
   "execution_count": 42,
   "metadata": {
    "collapsed": false
   },
   "outputs": [
    {
     "data": {
      "text/plain": [
       "1-element Array{Int64,1}:\n",
       " 115"
      ]
     },
     "execution_count": 42,
     "metadata": {},
     "output_type": "execute_result"
    }
   ],
   "source": [
    "numeros = 1:0.1:20\n",
    "\n",
    "find(numeros) do valor\n",
    "    valor == 12.4\n",
    "end"
   ]
  },
  {
   "cell_type": "markdown",
   "metadata": {},
   "source": [
    "###FUNÇÕES ( function( ) )###"
   ]
  },
  {
   "cell_type": "markdown",
   "metadata": {},
   "source": [
    "#### FUNÇÕES####"
   ]
  },
  {
   "cell_type": "markdown",
   "metadata": {},
   "source": [
    "* **Função dimensão de uma Matriz **"
   ]
  },
  {
   "cell_type": "code",
   "execution_count": 103,
   "metadata": {
    "collapsed": false,
    "scrolled": false
   },
   "outputs": [
    {
     "data": {
      "text/plain": [
       "fmatrixD (generic function with 1 method)"
      ]
     },
     "execution_count": 103,
     "metadata": {},
     "output_type": "execute_result"
    }
   ],
   "source": [
    "function fmatrixD(M)\n",
    "    println(\"------------ inicio funcao -----------\")\n",
    "    \n",
    "    display(M)    \n",
    "        \n",
    "    println(\"a dimensão da matriz é :\",size(M))\n",
    "    \n",
    "    println(\"--------------- fim -----------------\")\n",
    "    \n",
    "end"
   ]
  },
  {
   "cell_type": "code",
   "execution_count": 104,
   "metadata": {
    "collapsed": false,
    "scrolled": true
   },
   "outputs": [
    {
     "name": "stdout",
     "output_type": "stream",
     "text": [
      "------------ inicio funcao -----------\n"
     ]
    },
    {
     "data": {
      "text/plain": [
       "2x3 Array{Int64,2}:\n",
       " 1  1  2\n",
       " 4  8  9"
      ]
     },
     "metadata": {},
     "output_type": "display_data"
    },
    {
     "name": "stdout",
     "output_type": "stream",
     "text": [
      "a dimensão da matriz é :(2,3)\n",
      "--------------- fim -----------------\n"
     ]
    }
   ],
   "source": [
    "fmatrixD([1 1 2 ; 4 8 9])"
   ]
  },
  {
   "cell_type": "markdown",
   "metadata": {},
   "source": [
    "* ** Função Calculo da área de um circulo **"
   ]
  },
  {
   "cell_type": "code",
   "execution_count": 88,
   "metadata": {
    "collapsed": false
   },
   "outputs": [
    {
     "data": {
      "text/plain": [
       "area (generic function with 1 method)"
      ]
     },
     "execution_count": 88,
     "metadata": {},
     "output_type": "execute_result"
    }
   ],
   "source": [
    "function area(raio)\n",
    "  areaCirc = pi * raio^2\n",
    "    println(\"A área vale: \", round(areaCirc,5),\"m²\" )\n",
    "end"
   ]
  },
  {
   "cell_type": "code",
   "execution_count": 89,
   "metadata": {
    "collapsed": false
   },
   "outputs": [
    {
     "name": "stdout",
     "output_type": "stream",
     "text": [
      "A área vale: 12.56637m²\n"
     ]
    }
   ],
   "source": [
    "area(2)"
   ]
  },
  {
   "cell_type": "markdown",
   "metadata": {},
   "source": [
    "* ** Função Calculo das raízes de uma função do segundo grau **"
   ]
  },
  {
   "cell_type": "code",
   "execution_count": 43,
   "metadata": {
    "collapsed": false
   },
   "outputs": [
    {
     "data": {
      "text/plain": [
       "fraiz (generic function with 1 method)"
      ]
     },
     "execution_count": 43,
     "metadata": {},
     "output_type": "execute_result"
    }
   ],
   "source": [
    "function fraiz(a,b,c)\n",
    "    \n",
    "    d = (b^2) - (4*a*c)\n",
    "    \n",
    "    if d < 0\n",
    "        print(\"Delta negativo, raiz real impossivel de ser extraida.\")\n",
    "        \n",
    "    else\n",
    "        println(\"Delta: \",d)\n",
    "        \n",
    "        x1 = (-b + sqrt(d)) / (2*a)\n",
    "        x2 = (-b - sqrt(d)) / (2*a)\n",
    "        \n",
    "        println(\"Raiz X1 = \", x1)\n",
    "        println(\"Raiz X2 = \", x2)\n",
    "    end\n",
    "end"
   ]
  },
  {
   "cell_type": "code",
   "execution_count": 45,
   "metadata": {
    "collapsed": false,
    "scrolled": true
   },
   "outputs": [
    {
     "name": "stdout",
     "output_type": "stream",
     "text": [
      "Delta: 25\n",
      "Raiz X1 = 1.0\n",
      "Raiz X2 = -1.5\n"
     ]
    }
   ],
   "source": [
    "# entre com os coeficientes da função do segundo grau\n",
    "\n",
    "fraiz(2,1,-3)"
   ]
  },
  {
   "cell_type": "markdown",
   "metadata": {},
   "source": [
    "* ** Função mais complexa **\n",
    "\n",
    "Função Método da Bisseção"
   ]
  },
  {
   "cell_type": "code",
   "execution_count": 69,
   "metadata": {
    "collapsed": false
   },
   "outputs": [
    {
     "data": {
      "text/plain": [
       "fbissec (generic function with 1 method)"
      ]
     },
     "execution_count": 69,
     "metadata": {},
     "output_type": "execute_result"
    }
   ],
   "source": [
    "function fbissec(a,b,toll)\n",
    "\n",
    "    x = 1\n",
    "    ao = a\n",
    "    bo = b\n",
    "    tol = toll\n",
    "    interacao = 0\n",
    "        \n",
    "    if ((sin(ao)*ao^2+cos(ao)*ao^2 + cos(sin(ao))^2) * (sin(bo)*bo^2+cos(bo)*bo^2 + cos(sin(bo))^2)) < 0\n",
    "        \n",
    "        while (abs(bo-ao) > tol)  &&  (interacao<10000000)\n",
    "            x=(ao+bo)/2\n",
    "            interacao = interacao+1\n",
    "            \n",
    "            if (sin(x)*x^2 + cos(x)*x^2 + cos(sin(x))^2)*(sin(ao)*ao^2 + cos(ao)*ao^2+ cos(sin(ao))^2) > 0\n",
    "                ao=x\n",
    "            else\n",
    "                bo=x\n",
    "            end\n",
    "        end\n",
    "        \n",
    "        println(\"Interações: \",interacao)\n",
    "        println(\"Valor da raiz: \",x)\n",
    "        println(\"Valor de f(x)= \",round(sin(x)*x^2 + cos(x)*x^2 + cos(sin(x))^2,8),\" com erro menor que \",tol)\n",
    "        \n",
    "    else\n",
    "        println(\"Não há raízes no intervalo\")\n",
    "    end    \n",
    "end"
   ]
  },
  {
   "cell_type": "code",
   "execution_count": 186,
   "metadata": {
    "collapsed": false
   },
   "outputs": [
    {
     "name": "stdout",
     "output_type": "stream",
     "text": [
      "Interações: 29\n",
      "Valor da raiz: 2.4318534061312675\n",
      "Valor de f(x)= -1.0e-8 com erro menor que 1.0e-8\n"
     ]
    }
   ],
   "source": [
    "fbissec(1,5,0.00000001)"
   ]
  },
  {
   "cell_type": "markdown",
   "metadata": {},
   "source": [
    "* **Função série de Fibonacci ** "
   ]
  },
  {
   "cell_type": "code",
   "execution_count": 10,
   "metadata": {
    "collapsed": false
   },
   "outputs": [
    {
     "data": {
      "text/plain": [
       "fiboR (generic function with 1 method)"
      ]
     },
     "execution_count": 10,
     "metadata": {},
     "output_type": "execute_result"
    }
   ],
   "source": [
    "function fiboR(n) \n",
    "    if n < 2 \n",
    "        return n\n",
    "    else\n",
    "        fiboR(n-1) + fiboR(n-2)\n",
    "    end\n",
    "end"
   ]
  },
  {
   "cell_type": "code",
   "execution_count": 11,
   "metadata": {
    "collapsed": false,
    "scrolled": true
   },
   "outputs": [
    {
     "name": "stdout",
     "output_type": "stream",
     "text": [
      "  "
     ]
    },
    {
     "data": {
      "text/plain": [
       "9227465"
      ]
     },
     "execution_count": 11,
     "metadata": {},
     "output_type": "execute_result"
    },
    {
     "name": "stdout",
     "output_type": "stream",
     "text": [
      "0.098883 seconds (841 allocations: 47.526 KB)\n"
     ]
    }
   ],
   "source": [
    "@time fiboR(35)"
   ]
  },
  {
   "cell_type": "markdown",
   "metadata": {},
   "source": [
    "####IMPORTANDO FUNÇÕES \".jl ####"
   ]
  },
  {
   "cell_type": "code",
   "execution_count": 189,
   "metadata": {
    "collapsed": false
   },
   "outputs": [
    {
     "data": {
      "text/plain": [
       "ffiboR_JL (generic function with 1 method)"
      ]
     },
     "execution_count": 189,
     "metadata": {},
     "output_type": "execute_result"
    }
   ],
   "source": [
    "include(\"ffiboR_JL.jl\")"
   ]
  },
  {
   "cell_type": "code",
   "execution_count": 190,
   "metadata": {
    "collapsed": false,
    "scrolled": true
   },
   "outputs": [
    {
     "name": "stdout",
     "output_type": "stream",
     "text": [
      "  1.024784 seconds (697 allocations: 37.759 KB)\n"
     ]
    },
    {
     "data": {
      "text/plain": [
       "102334155"
      ]
     },
     "execution_count": 190,
     "metadata": {},
     "output_type": "execute_result"
    }
   ],
   "source": [
    "@time ffiboR_JL(40)"
   ]
  },
  {
   "cell_type": "markdown",
   "metadata": {},
   "source": [
    "% FIM PROGRAMAÇÃO BÁSICA %"
   ]
  },
  {
   "cell_type": "code",
   "execution_count": null,
   "metadata": {
    "collapsed": true
   },
   "outputs": [],
   "source": []
  }
 ],
 "metadata": {
  "kernelspec": {
   "display_name": "Julia 0.4.5",
   "language": "julia",
   "name": "julia-0.4"
  },
  "language_info": {
   "file_extension": ".jl",
   "mimetype": "application/julia",
   "name": "julia",
   "version": "0.4.5"
  }
 },
 "nbformat": 4,
 "nbformat_minor": 0
}
