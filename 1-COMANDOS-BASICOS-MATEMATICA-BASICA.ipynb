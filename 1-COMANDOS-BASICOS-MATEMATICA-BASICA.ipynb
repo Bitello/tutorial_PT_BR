{
 "cells": [
  {
   "cell_type": "markdown",
   "metadata": {
    "collapsed": false,
    "raw_mimetype": "text/latex"
   },
   "source": [
    "# COMANDOS BÁSICOS E MATEMÁTICA BÁSICA #\n"
   ]
  },
  {
   "cell_type": "markdown",
   "metadata": {},
   "source": [
    "### COMO USAR O OS COMANDOS DA LINGUAGEM JULIA###\n",
    "\n",
    "Os comandos da linguagem Julia são muito parecidos com os comandos do MatLab, porém, não há a necessidade de terminar um comando com o \" ; \". Vejamos alguns pontos interessanes:\n",
    "- Ponto e virgula ao final do comando oculta o resultado;\n",
    "- Não há a necessidade de vetorizar uma variável do tipo vetor ou matriz\n",
    "- Comentários são na forma de #;\n",
    "- O ponto antes de um operador matemático indica operação elemento-elemento em um vetor (ex: ./, .^);\n",
    "- O tipo é muito importante. 1.0 (float) e 1 (inteiro) são diferetes;\n",
    "- Uma informação do tipo: variable::Bool significa que a variável é do tipo booleano;\n",
    "- A notação reversa polonesa (RPN) pode ser aplicada aos operadores matemáticos (Ex: +(3,4));\n",
    "- Todos os pacotes são escritos usando a primeira letra maiúscula entre aspas duplas;\n",
    "- Julia é \"Case-Sensitive\" F e f são diferentes;\n",
    "- Funções e comandos de controle de fluxo (if, for, while...) necessita de \"end\" para terminar o comando;\n",
    "- Macros são iniciados por \"@\"."
   ]
  },
  {
   "cell_type": "markdown",
   "metadata": {},
   "source": [
    "### COMANDOS PRELIMINARES###"
   ]
  },
  {
   "cell_type": "code",
   "execution_count": 3,
   "metadata": {
    "collapsed": false,
    "scrolled": true
   },
   "outputs": [
    {
     "name": "stdout",
     "output_type": "stream",
     "text": [
      "Julia Version 0.4.5\n",
      "Commit 2ac304d (2016-03-18 00:58 UTC)\n",
      "Platform Info:\n",
      "  System: Linux (x86_64-linux-gnu)\n",
      "  CPU: Intel(R) Core(TM) i5-4200M CPU @ 2.50GHz\n",
      "  WORD_SIZE: 64\n",
      "  BLAS: libopenblas (NO_LAPACK NO_LAPACKE DYNAMIC_ARCH NO_AFFINITY Haswell)\n",
      "  LAPACK: liblapack.so.3\n",
      "  LIBM: libopenlibm\n",
      "  LLVM: libLLVM-3.3\n"
     ]
    }
   ],
   "source": [
    "versioninfo() # informações sobre o computador"
   ]
  },
  {
   "cell_type": "code",
   "execution_count": 4,
   "metadata": {
    "collapsed": false,
    "scrolled": false
   },
   "outputs": [
    {
     "name": "stdout",
     "output_type": "stream",
     "text": [
      "search: versioninfo\n",
      "\n"
     ]
    },
    {
     "data": {
      "text/latex": [
       "\\begin{verbatim}\n",
       "versioninfo([verbose::Bool])\n",
       "\\end{verbatim}\n",
       "Print information about the version of Julia in use. If the \\texttt{verbose} argument is \\texttt{true}, detailed system information is shown as well.\n"
      ],
      "text/markdown": [
       "```\n",
       "versioninfo([verbose::Bool])\n",
       "```\n",
       "\n",
       "Print information about the version of Julia in use. If the `verbose` argument is `true`, detailed system information is shown as well.\n"
      ],
      "text/plain": [
       "```\n",
       "versioninfo([verbose::Bool])\n",
       "```\n",
       "\n",
       "Print information about the version of Julia in use. If the `verbose` argument is `true`, detailed system information is shown as well.\n"
      ]
     },
     "execution_count": 4,
     "metadata": {},
     "output_type": "execute_result"
    }
   ],
   "source": [
    "?versioninfo #Ajuda"
   ]
  },
  {
   "cell_type": "code",
   "execution_count": 5,
   "metadata": {
    "collapsed": false
   },
   "outputs": [
    {
     "data": {
      "text/plain": [
       "4"
      ]
     },
     "execution_count": 5,
     "metadata": {},
     "output_type": "execute_result"
    }
   ],
   "source": [
    "CPU_CORES # Número de cores do processador "
   ]
  },
  {
   "cell_type": "code",
   "execution_count": 6,
   "metadata": {
    "collapsed": false
   },
   "outputs": [
    {
     "ename": "LoadError",
     "evalue": "LoadError: UndefVarError: cpu_cores not defined\nwhile loading In[6], in expression starting on line 1",
     "output_type": "error",
     "traceback": [
      "LoadError: UndefVarError: cpu_cores not defined\nwhile loading In[6], in expression starting on line 1",
      ""
     ]
    }
   ],
   "source": [
    "cpu_cores"
   ]
  },
  {
   "cell_type": "markdown",
   "metadata": {},
   "source": [
    "### MATEMÁTICA BÁSICA###"
   ]
  },
  {
   "cell_type": "code",
   "execution_count": 7,
   "metadata": {
    "collapsed": false,
    "scrolled": true
   },
   "outputs": [
    {
     "data": {
      "text/plain": [
       "7"
      ]
     },
     "execution_count": 7,
     "metadata": {},
     "output_type": "execute_result"
    }
   ],
   "source": [
    "2 + 5"
   ]
  },
  {
   "cell_type": "code",
   "execution_count": 8,
   "metadata": {
    "collapsed": false
   },
   "outputs": [
    {
     "data": {
      "text/plain": [
       "0.1"
      ]
     },
     "execution_count": 8,
     "metadata": {},
     "output_type": "execute_result"
    }
   ],
   "source": [
    "10e-2"
   ]
  },
  {
   "cell_type": "code",
   "execution_count": 9,
   "metadata": {
    "collapsed": false
   },
   "outputs": [
    {
     "data": {
      "text/plain": [
       "20.085536923187668"
      ]
     },
     "execution_count": 9,
     "metadata": {},
     "output_type": "execute_result"
    }
   ],
   "source": [
    "# e^3\n",
    "\n",
    "exp(3)"
   ]
  },
  {
   "cell_type": "code",
   "execution_count": 10,
   "metadata": {
    "collapsed": false
   },
   "outputs": [
    {
     "data": {
      "text/plain": [
       "64"
      ]
     },
     "execution_count": 10,
     "metadata": {},
     "output_type": "execute_result"
    }
   ],
   "source": [
    "2^6"
   ]
  },
  {
   "cell_type": "code",
   "execution_count": 11,
   "metadata": {
    "collapsed": false
   },
   "outputs": [
    {
     "data": {
      "text/plain": [
       "0.765625"
      ]
     },
     "execution_count": 11,
     "metadata": {},
     "output_type": "execute_result"
    }
   ],
   "source": [
    "(2 + 5)^2/(3 + 1)^3"
   ]
  },
  {
   "cell_type": "code",
   "execution_count": 12,
   "metadata": {
    "collapsed": false,
    "scrolled": true
   },
   "outputs": [
    {
     "data": {
      "text/plain": [
       "1.0"
      ]
     },
     "execution_count": 12,
     "metadata": {},
     "output_type": "execute_result"
    }
   ],
   "source": [
    "sin(pi/2)"
   ]
  },
  {
   "cell_type": "code",
   "execution_count": 13,
   "metadata": {
    "collapsed": false,
    "scrolled": true
   },
   "outputs": [
    {
     "data": {
      "text/plain": [
       "0.9929081365727341"
      ]
     },
     "execution_count": 13,
     "metadata": {},
     "output_type": "execute_result"
    }
   ],
   "source": [
    "# número aleatório entre 0 e 1\n",
    "\n",
    "rand()"
   ]
  },
  {
   "cell_type": "code",
   "execution_count": 14,
   "metadata": {
    "collapsed": false
   },
   "outputs": [
    {
     "data": {
      "text/plain": [
       "6-element Array{Int64,1}:\n",
       " 4\n",
       " 9\n",
       " 1\n",
       " 8\n",
       " 0\n",
       " 2"
      ]
     },
     "execution_count": 14,
     "metadata": {},
     "output_type": "execute_result"
    }
   ],
   "source": [
    "# 6 numeros aleatorios de 0 a 10\n",
    "\n",
    "rand(0:10, 6)"
   ]
  },
  {
   "cell_type": "code",
   "execution_count": 15,
   "metadata": {
    "collapsed": false
   },
   "outputs": [
    {
     "data": {
      "text/plain": [
       "([27,24,29,44,19,22],[6,20,19,31,12,55],[41,33,25,57,12,60])"
      ]
     },
     "execution_count": 15,
     "metadata": {},
     "output_type": "execute_result"
    }
   ],
   "source": [
    "# jogos da mega sena. Claro que não é lá essas coisas né\n",
    "\n",
    "rand(1:60,6), rand(1:60,6),rand(1:60,6)"
   ]
  },
  {
   "cell_type": "code",
   "execution_count": 16,
   "metadata": {
    "collapsed": false
   },
   "outputs": [
    {
     "data": {
      "text/plain": [
       "7"
      ]
     },
     "execution_count": 16,
     "metadata": {},
     "output_type": "execute_result"
    }
   ],
   "source": [
    "# MDC\n",
    "\n",
    "gcd(7,14)"
   ]
  },
  {
   "cell_type": "code",
   "execution_count": 17,
   "metadata": {
    "collapsed": false
   },
   "outputs": [
    {
     "data": {
      "text/plain": [
       "14"
      ]
     },
     "execution_count": 17,
     "metadata": {},
     "output_type": "execute_result"
    }
   ],
   "source": [
    "# MMC\n",
    "\n",
    "lcm(7,14)"
   ]
  },
  {
   "cell_type": "markdown",
   "metadata": {},
   "source": [
    "<strong>Multiplos calculos</strong>\n",
    "\n",
    "O uso a vírgula \" , \" permite efetuar mais de uma expressão"
   ]
  },
  {
   "cell_type": "code",
   "execution_count": 18,
   "metadata": {
    "collapsed": false
   },
   "outputs": [
    {
     "data": {
      "text/plain": [
       "(1.4142135623730951,0.2222222222222222)"
      ]
     },
     "execution_count": 18,
     "metadata": {},
     "output_type": "execute_result"
    }
   ],
   "source": [
    "sqrt(2) , 2.0*3.0^-2"
   ]
  },
  {
   "cell_type": "code",
   "execution_count": 19,
   "metadata": {
    "collapsed": false
   },
   "outputs": [
    {
     "data": {
      "text/plain": [
       "0.2222222222222222"
      ]
     },
     "execution_count": 19,
     "metadata": {},
     "output_type": "execute_result"
    }
   ],
   "source": [
    "# se usado o ponto e virgula, só será impresso a ultimo cálculo\n",
    "\n",
    "sqrt(2) ; 2.0*3.0^-2"
   ]
  },
  {
   "cell_type": "markdown",
   "metadata": {},
   "source": [
    "<strong> Cálculo trigonometrico/Hiperbólico </strong>\n",
    "\n",
    "sin(x)    cos(x)    tan(x)    cot(x)    sec(x)    csc(x)  sinh(x)   cosh(x)   tanh(x)   coth(x)   sech(x)   csch(x)\n",
    "\n",
    "\n",
    "asin(x)   acos(x)   atan(x)   acot(x)   asec(x)   acsc(x)  acoth(x)  asech(x)  acsch(x)  sinc(x)   cosc(x)   atan2(x)"
   ]
  },
  {
   "cell_type": "code",
   "execution_count": 20,
   "metadata": {
    "collapsed": false,
    "scrolled": true
   },
   "outputs": [
    {
     "data": {
      "text/plain": [
       "(0.7071067811865475,-1.0,0.9999999999999999)"
      ]
     },
     "execution_count": 20,
     "metadata": {},
     "output_type": "execute_result"
    }
   ],
   "source": [
    "# radiandos\n",
    "\n",
    "sin(pi/4) , cos(pi) , tan(pi/4)"
   ]
  },
  {
   "cell_type": "code",
   "execution_count": 21,
   "metadata": {
    "collapsed": false
   },
   "outputs": [
    {
     "data": {
      "text/plain": [
       "(1.5248686188220641,1.4142135623730951,1.414213562373095)"
      ]
     },
     "execution_count": 21,
     "metadata": {},
     "output_type": "execute_result"
    }
   ],
   "source": [
    "coth(pi/4), csc(pi/4) , sec(pi/4)"
   ]
  },
  {
   "cell_type": "code",
   "execution_count": 22,
   "metadata": {
    "collapsed": false,
    "scrolled": true
   },
   "outputs": [
    {
     "data": {
      "text/plain": [
       "(1.0,0.0)"
      ]
     },
     "execution_count": 22,
     "metadata": {},
     "output_type": "execute_result"
    }
   ],
   "source": [
    "# Para o angulo em grau (º), acrescenta-se o \"d\"\n",
    "\n",
    "sind(90), cosd(90)"
   ]
  },
  {
   "cell_type": "markdown",
   "metadata": {},
   "source": [
    "<strong> Cálculo Angular </strong>"
   ]
  },
  {
   "cell_type": "code",
   "execution_count": 23,
   "metadata": {
    "collapsed": false
   },
   "outputs": [
    {
     "data": {
      "text/plain": [
       "1.0471975511965976"
      ]
     },
     "execution_count": 23,
     "metadata": {},
     "output_type": "execute_result"
    }
   ],
   "source": [
    "# Converte x de graus to radianos\n",
    "\n",
    "deg2rad(60)"
   ]
  },
  {
   "cell_type": "code",
   "execution_count": 24,
   "metadata": {
    "collapsed": false
   },
   "outputs": [
    {
     "data": {
      "text/plain": [
       "59.99999999999999"
      ]
     },
     "execution_count": 24,
     "metadata": {},
     "output_type": "execute_result"
    }
   ],
   "source": [
    "# Converte x de radianos para graus\n",
    "\n",
    "rad2deg(1.0471975511965976)"
   ]
  },
  {
   "cell_type": "markdown",
   "metadata": {},
   "source": [
    "** Cálculo Exponenial/Logaritmo**"
   ]
  },
  {
   "cell_type": "code",
   "execution_count": 25,
   "metadata": {
    "collapsed": false
   },
   "outputs": [
    {
     "data": {
      "text/plain": [
       "7.38905609893065"
      ]
     },
     "execution_count": 25,
     "metadata": {},
     "output_type": "execute_result"
    }
   ],
   "source": [
    "# Função exponencial natural em x\n",
    "\n",
    "exp(2)"
   ]
  },
  {
   "cell_type": "code",
   "execution_count": 26,
   "metadata": {
    "collapsed": false
   },
   "outputs": [
    {
     "data": {
      "text/plain": [
       "147.4131591025766"
      ]
     },
     "execution_count": 26,
     "metadata": {},
     "output_type": "execute_result"
    }
   ],
   "source": [
    "#accurate exp (x) -1 para x próximo de zero\n",
    "\n",
    "expm1(5)"
   ]
  },
  {
   "cell_type": "code",
   "execution_count": 27,
   "metadata": {
    "collapsed": false
   },
   "outputs": [
    {
     "data": {
      "text/plain": [
       "4.605170185988092"
      ]
     },
     "execution_count": 27,
     "metadata": {},
     "output_type": "execute_result"
    }
   ],
   "source": [
    "#logaritmo natural de x\n",
    "\n",
    "log(100)"
   ]
  },
  {
   "cell_type": "code",
   "execution_count": 28,
   "metadata": {
    "collapsed": false
   },
   "outputs": [
    {
     "data": {
      "text/plain": [
       "2.0"
      ]
     },
     "execution_count": 28,
     "metadata": {},
     "output_type": "execute_result"
    }
   ],
   "source": [
    "#base b logaritmo de x\n",
    "\n",
    "log(10,100)"
   ]
  },
  {
   "cell_type": "code",
   "execution_count": 29,
   "metadata": {
    "collapsed": false
   },
   "outputs": [
    {
     "data": {
      "text/plain": [
       "6.643856189774724"
      ]
     },
     "execution_count": 29,
     "metadata": {},
     "output_type": "execute_result"
    }
   ],
   "source": [
    "#logaritmo de base 2 x\n",
    "\n",
    "log2(100)"
   ]
  },
  {
   "cell_type": "code",
   "execution_count": 30,
   "metadata": {
    "collapsed": false
   },
   "outputs": [
    {
     "data": {
      "text/plain": [
       "3.0"
      ]
     },
     "execution_count": 30,
     "metadata": {},
     "output_type": "execute_result"
    }
   ],
   "source": [
    "#logaritmo de base 10 x\n",
    "\n",
    "log10(1000)"
   ]
  },
  {
   "cell_type": "code",
   "execution_count": 31,
   "metadata": {
    "collapsed": false
   },
   "outputs": [
    {
     "data": {
      "text/plain": [
       "4.61512051684126"
      ]
     },
     "execution_count": 31,
     "metadata": {},
     "output_type": "execute_result"
    }
   ],
   "source": [
    "#log preciso (1 + x) para x próximo de zero\n",
    "\n",
    "log1p(100)"
   ]
  },
  {
   "cell_type": "markdown",
   "metadata": {},
   "source": [
    "<strong> Binario/Octal/Hexadecimal </strong>"
   ]
  },
  {
   "cell_type": "code",
   "execution_count": 32,
   "metadata": {
    "collapsed": false
   },
   "outputs": [
    {
     "data": {
      "text/plain": [
       "(\"10000000\",\"200\",\"80\")"
      ]
     },
     "execution_count": 32,
     "metadata": {},
     "output_type": "execute_result"
    }
   ],
   "source": [
    "bin(128) ,  oct(128) , hex(128)"
   ]
  },
  {
   "cell_type": "markdown",
   "metadata": {},
   "source": [
    "** Resumo Principais Comandos de matemática**"
   ]
  },
  {
   "cell_type": "markdown",
   "metadata": {},
   "source": [
    "|                                                                                                           |\n",
    "|-----------------------------------------------------------------------------------------------------------|\n",
    "| round (x) - arredonda para o número inteiro mais próximo.                                                 |\n",
    "| iround (x) - arredonda para o número inteiro mais próximo, dando um resultado inteiro.                    |\n",
    "| floor (x) - arredonda direção -Inf.                                                                       |\n",
    "| ifloor (x) - arredonda direção -Inf, dando um resultado inteiro.                                          |\n",
    "| ceil (x) - arredonda direção + Inf.                                                                       |\n",
    "| iceil (x) - arredonda direção + Inf, dando um resultado inteiro.                                          |\n",
    "| trunc (x) - arredonda para zero.                                                                          |\n",
    "| itrunc (x) - arredonda para zero, dando um resultado inteiro.                                             |\n",
    "| div (x, y) - truncado divisão; quociente truncado.                                                        |\n",
    "| fld (x, y) - divisão de base; quociente arredondado em direção -Inf.                                      |\n",
    "| rem (x, y) - resto; satisfaz x == div (x, y) \\* + y rem (x, y), o que implica que corresponde sinal x.    |\n",
    "| mod (x, y) - módulo; satisfaz x == fld (x, y) \\* + y mod (x, y), o que implica que o sinal corresponde y. |\n",
    "| gcd (x, y …) - máximo divisor comum de x, y … com correspondência sinal x.                                |\n",
    "| lcm (x, y …) - mínimo múltiplo comum de x, y … com correspondência sinal x.                               |\n",
    "| ABS (X) - um valor positivo com a magnitude de x.                                                         |\n",
    "| Abs2 (X) - a magnitude quadrada de x.                                                                     |\n",
    "| sinal (X) - indica o sinal de x, retornando -1, 0, ou 1.                                                  |\n",
    "| signbit (x) - indica se o bit de sinal está ligado (1) ou desligado (0).                                  |\n",
    "\n",
    "<table markdown=\"1\" style=\"float: left;height: 378px;\" border=\"1\" width=\"490\" cellspacing=\"0\">\n",
    "<colgroup markdown=\"1\" width=\"619\">\n",
    "</colgroup>\n",
    "<tbody markdown=\"1\">\n",
    "<tr markdown=\"1\">\n",
    "<td markdown=\"1\" align=\"left\" height=\"17\">\n",
    "copysign (x, y) - um valor com a magnitude de x e o sinal do y.\n",
    "</td>\n",
    "</tr>\n",
    "<tr markdown=\"1\">\n",
    "<td markdown=\"1\" align=\"left\" height=\"17\">\n",
    "flipsign (x, y) - um valor com a magnitude de X e o sinal de x \\* y.\n",
    "</td>\n",
    "</tr>\n",
    "<tr markdown=\"1\">\n",
    "<td markdown=\"1\" align=\"left\" height=\"17\">\n",
    "sqrt (X) - a raiz quadrada de x.\n",
    "</td>\n",
    "</tr>\n",
    "<tr markdown=\"1\">\n",
    "<td markdown=\"1\" align=\"left\" height=\"17\">\n",
    "cbrt (x) - a raiz cúbica de x.\n",
    "</td>\n",
    "</tr>\n",
    "<tr markdown=\"1\">\n",
    "<td markdown=\"1\" align=\"left\" height=\"17\">\n",
    "hypot (x, y) - sqrt (x + y \\^ 2 \\^ 2) para todos os valores de x e y.\n",
    "</td>\n",
    "</tr>\n",
    "<tr markdown=\"1\">\n",
    "<td markdown=\"1\" align=\"left\" height=\"17\">\n",
    "exp (x) - a função exponencial natural em x.\n",
    "</td>\n",
    "</tr>\n",
    "<tr markdown=\"1\">\n",
    "<td markdown=\"1\" a>"
   ]
  },
  {
   "cell_type": "markdown",
   "metadata": {},
   "source": [
    "### MEMÓRIAS DE CÉLULAS"
   ]
  },
  {
   "cell_type": "code",
   "execution_count": 33,
   "metadata": {
    "collapsed": false,
    "scrolled": true
   },
   "outputs": [
    {
     "data": {
      "text/plain": [
       "6.159287546660801"
      ]
     },
     "execution_count": 33,
     "metadata": {},
     "output_type": "execute_result"
    }
   ],
   "source": [
    "4 + log(125)/sqrt(5)"
   ]
  },
  {
   "cell_type": "code",
   "execution_count": 34,
   "metadata": {
    "collapsed": false
   },
   "outputs": [
    {
     "data": {
      "text/plain": [
       "6.159287546660801"
      ]
     },
     "execution_count": 34,
     "metadata": {},
     "output_type": "execute_result"
    }
   ],
   "source": [
    "# calculo anterior\n",
    "\n",
    "ans"
   ]
  },
  {
   "cell_type": "code",
   "execution_count": 35,
   "metadata": {
    "collapsed": false,
    "scrolled": true
   },
   "outputs": [
    {
     "ename": "LoadError",
     "evalue": "LoadError: KeyError: 3 not found\nwhile loading In[35], in expression starting on line 3",
     "output_type": "error",
     "traceback": [
      "LoadError: KeyError: 3 not found\nwhile loading In[35], in expression starting on line 3",
      "",
      " in getindex at dict.jl:724"
     ]
    }
   ],
   "source": [
    "# Out[numero da celula que deseja recuperar a saída]\n",
    "\n",
    "Out[3] "
   ]
  },
  {
   "cell_type": "code",
   "execution_count": 36,
   "metadata": {
    "collapsed": false
   },
   "outputs": [
    {
     "data": {
      "text/plain": [
       "\"CPU_CORES # Número de cores do processador \""
      ]
     },
     "execution_count": 36,
     "metadata": {},
     "output_type": "execute_result"
    }
   ],
   "source": [
    "# In[numero da celula que deseja recuperar a saída]\n",
    "\n",
    "In[2]"
   ]
  },
  {
   "cell_type": "markdown",
   "metadata": {},
   "source": [
    "<strong>Historico dos Comandos</strong>"
   ]
  },
  {
   "cell_type": "code",
   "execution_count": 37,
   "metadata": {
    "collapsed": false,
    "scrolled": false
   },
   "outputs": [
    {
     "data": {
      "text/plain": [
       "Dict{Int64,UTF8String} with 37 entries:\n",
       "  18 => \"sqrt(2) , 2.0*3.0^-2\"\n",
       "  30 => \"#logaritmo de base 10 x\\n\\nlog10(1000)\"\n",
       "  33 => \"4 + log(125)/sqrt(5)\"\n",
       "  32 => \"bin(128) ,  oct(128) , hex(128)\"\n",
       "  2  => \"CPU_CORES # Número de cores do processador \"\n",
       "  16 => \"# MDC\\n\\ngcd(7,14)\"\n",
       "  11 => \"(2 + 5)^2/(3 + 1)^3\"\n",
       "  21 => \"coth(pi/4), csc(pi/4) , sec(pi/4)\"\n",
       "  7  => \"2 + 5\"\n",
       "  9  => \"# e^3\\n\\nexp(3)\"\n",
       "  25 => \"# Função exponencial natural em x\\n\\nexp(2)\"\n",
       "  10 => \"2^6\"\n",
       "  26 => \"#accurate exp (x) -1 para x próximo de zero\\n\\nexpm1(5)\"\n",
       "  29 => \"#logaritmo de base 2 x\\n\\nlog2(100)\"\n",
       "  34 => \"# calculo anterior\\n\\nans\"\n",
       "  35 => \"# Out[numero da celula que deseja recuperar a saída]\\n\\nOut[3] \"\n",
       "  19 => \"# se usado o ponto e virgula, só será impresso a ultimo cálculo\\n\\nsqr…\n",
       "  17 => \"# MMC\\n\\nlcm(7,14)\"\n",
       "  8  => \"10e-2\"\n",
       "  22 => \"# Para o angulo em grau (º), acrescenta-se o \\\"d\\\"\\n\\nsind(90), cosd(9…\n",
       "  6  => \"cpu_cores\"\n",
       "  24 => \"# Converte x de radianos para graus\\n\\nrad2deg(1.0471975511965976)\"\n",
       "  4  => \"?versioninfo #Ajuda\"\n",
       "  37 => \"# mostra todos os comandos de entrada\\n\\nIn\"\n",
       "  3  => \"versioninfo() # informações sobre o computador\"\n",
       "  ⋮  => ⋮"
      ]
     },
     "execution_count": 37,
     "metadata": {},
     "output_type": "execute_result"
    }
   ],
   "source": [
    "# mostra todos os comandos de entrada\n",
    "\n",
    "In"
   ]
  },
  {
   "cell_type": "code",
   "execution_count": 38,
   "metadata": {
    "collapsed": false
   },
   "outputs": [
    {
     "data": {
      "text/plain": [
       "Dict{Int64,Any} with 33 entries:\n",
       "  30 => 3.0\n",
       "  33 => 6.159287546660801\n",
       "  32 => (\"10000000\",\"200\",\"80\")\n",
       "  2  => 4\n",
       "  16 => 7\n",
       "  11 => 0.765625\n",
       "  21 => (1.5248686188220641,1.4142135623730951,1.414213562373095)\n",
       "  7  => 7\n",
       "  9  => 20.085536923187668\n",
       "  25 => 7.38905609893065\n",
       "  10 => 64\n",
       "  26 => 147.4131591025766\n",
       "  29 => 6.643856189774724\n",
       "  34 => 6.159287546660801\n",
       "  19 => 0.2222222222222222\n",
       "  17 => 14\n",
       "  8  => 0.1\n",
       "  22 => (1.0,0.0)\n",
       "  24 => 59.99999999999999\n",
       "  4  => Base.Markdown.MD(Any[Base.Markdown.MD(Any[Base.Markdown.Code(\"\",\"versio…\n",
       "  37 => Dict(18=>\"sqrt(2) , 2.0*3.0^-2\",30=>\"#logaritmo de base 10 x\\n\\nlog10(1…\n",
       "  28 => 2.0\n",
       "  5  => 4\n",
       "  20 => (0.7071067811865475,-1.0,0.9999999999999999)\n",
       "  23 => 1.0471975511965976\n",
       "  ⋮  => ⋮"
      ]
     },
     "execution_count": 38,
     "metadata": {},
     "output_type": "execute_result"
    }
   ],
   "source": [
    "# mostra todos os comandos de saída\n",
    "\n",
    "Out"
   ]
  },
  {
   "cell_type": "markdown",
   "metadata": {},
   "source": [
    "### CALCULAR O TEMPO DE PROCESSAMENTO"
   ]
  },
  {
   "cell_type": "markdown",
   "metadata": {},
   "source": [
    "** @time**\n",
    "\n",
    "Uma macro para executar uma expressão, imprimindo o tempo que levou para executar, o número de alocações, e o número total de bytes de sua execução."
   ]
  },
  {
   "cell_type": "code",
   "execution_count": 39,
   "metadata": {
    "collapsed": false,
    "scrolled": true
   },
   "outputs": [
    {
     "name": "stdout",
     "output_type": "stream",
     "text": [
      "  0.012290 seconds (5.71 k allocations: 231.510 KB)\n"
     ]
    },
    {
     "data": {
      "text/plain": [
       "4.543647706547242"
      ]
     },
     "execution_count": 39,
     "metadata": {},
     "output_type": "execute_result"
    }
   ],
   "source": [
    "@time sqrt((2*pi + sqrt(log(2569854.5415263))/(sin(52)*cos(log(25948.1452))))^100)*exp(sin(0.8985424))"
   ]
  },
  {
   "cell_type": "markdown",
   "metadata": {},
   "source": [
    "** @timev **\n",
    "\n",
    "Semelhante ao @time só que mais completa"
   ]
  },
  {
   "cell_type": "code",
   "execution_count": 40,
   "metadata": {
    "collapsed": false
   },
   "outputs": [
    {
     "name": "stdout",
     "output_type": "stream",
     "text": [
      "  0.000018 seconds (18 allocations: 384 bytes)\n",
      "elapsed time (ns): 18196\n",
      "bytes allocated:   384\n",
      "pool allocs:       18\n"
     ]
    },
    {
     "data": {
      "text/plain": [
       "4.543647706547242"
      ]
     },
     "execution_count": 40,
     "metadata": {},
     "output_type": "execute_result"
    }
   ],
   "source": [
    "@timev sqrt((2*pi + sqrt(log(2569854.5415263))/(sin(52)*cos(log(25948.1452))))^100)*exp(sin(0.8985424))"
   ]
  },
  {
   "cell_type": "markdown",
   "metadata": {},
   "source": [
    "**@elapsed **\n",
    "\n",
    "A macro para avaliar o tempo de execuçã em segundos, descartando o valor resultante."
   ]
  },
  {
   "cell_type": "code",
   "execution_count": 41,
   "metadata": {
    "collapsed": false
   },
   "outputs": [
    {
     "data": {
      "text/plain": [
       "5.8549e-5"
      ]
     },
     "execution_count": 41,
     "metadata": {},
     "output_type": "execute_result"
    }
   ],
   "source": [
    "@elapsed sqrt((2*pi + sqrt(log(2569854.5415263))/(sin(52)*cos(log(25948.1452))))^100)*exp(sin(0.8985424))"
   ]
  },
  {
   "cell_type": "markdown",
   "metadata": {},
   "source": [
    "### PRECISÃO DE NUMEROS SIGNIFICATIVOS###"
   ]
  },
  {
   "cell_type": "code",
   "execution_count": 42,
   "metadata": {
    "collapsed": false,
    "scrolled": true
   },
   "outputs": [
    {
     "data": {
      "text/plain": [
       "3.14159265"
      ]
     },
     "execution_count": 42,
     "metadata": {},
     "output_type": "execute_result"
    }
   ],
   "source": [
    "# numero PI com oito numeros significativos\n",
    "\n",
    "round(pi,8)"
   ]
  },
  {
   "cell_type": "code",
   "execution_count": 43,
   "metadata": {
    "collapsed": false
   },
   "outputs": [
    {
     "data": {
      "text/plain": [
       "3.0"
      ]
     },
     "execution_count": 43,
     "metadata": {},
     "output_type": "execute_result"
    }
   ],
   "source": [
    "floor(3.14159265)"
   ]
  },
  {
   "cell_type": "code",
   "execution_count": 44,
   "metadata": {
    "collapsed": false
   },
   "outputs": [
    {
     "data": {
      "text/plain": [
       "4.0"
      ]
     },
     "execution_count": 44,
     "metadata": {},
     "output_type": "execute_result"
    }
   ],
   "source": [
    "ceil(3.14159265)"
   ]
  },
  {
   "cell_type": "code",
   "execution_count": 45,
   "metadata": {
    "collapsed": false
   },
   "outputs": [
    {
     "data": {
      "text/plain": [
       "3.0"
      ]
     },
     "execution_count": 45,
     "metadata": {},
     "output_type": "execute_result"
    }
   ],
   "source": [
    "trunc(3.14159265)"
   ]
  },
  {
   "cell_type": "markdown",
   "metadata": {
    "collapsed": false
   },
   "source": [
    "### COMANDOS DE IMPRESSÃO"
   ]
  },
  {
   "cell_type": "markdown",
   "metadata": {},
   "source": [
    "**Comando print()**\n",
    "\n",
    "Escreve (para o fluxo de saída padrão) uma representação textual ou um valor se houver. A representação usada pelo comando inclui formatação mínima."
   ]
  },
  {
   "cell_type": "code",
   "execution_count": 46,
   "metadata": {
    "collapsed": false
   },
   "outputs": [
    {
     "name": "stdout",
     "output_type": "stream",
     "text": [
      "olá mundo"
     ]
    }
   ],
   "source": [
    "print(\"olá mundo\")"
   ]
  },
  {
   "cell_type": "markdown",
   "metadata": {},
   "source": [
    "**Comando display**\n",
    "\n",
    "Usa o nível superior de exibição aplicável na pilha de exibição, geralmente usando a mais rica produção multimedia com suporte para x"
   ]
  },
  {
   "cell_type": "code",
   "execution_count": 47,
   "metadata": {
    "collapsed": false
   },
   "outputs": [
    {
     "data": {
      "text/plain": [
       "\"olá mundo\""
      ]
     },
     "metadata": {},
     "output_type": "display_data"
    }
   ],
   "source": [
    "display(\"olá mundo\")"
   ]
  },
  {
   "cell_type": "markdown",
   "metadata": {},
   "source": [
    "**Comando show()**\n",
    "\n",
    "Semenhante ao display"
   ]
  },
  {
   "cell_type": "code",
   "execution_count": 48,
   "metadata": {
    "collapsed": false,
    "scrolled": true
   },
   "outputs": [
    {
     "name": "stdout",
     "output_type": "stream",
     "text": [
      "\"olá mundo\""
     ]
    }
   ],
   "source": [
    "show(\"olá mundo\")"
   ]
  }
 ],
 "metadata": {
  "kernelspec": {
   "display_name": "Julia 0.4.5",
   "language": "julia",
   "name": "julia-0.4"
  },
  "language_info": {
   "file_extension": ".jl",
   "mimetype": "application/julia",
   "name": "julia",
   "version": "0.4.5"
  }
 },
 "nbformat": 4,
 "nbformat_minor": 0
}
