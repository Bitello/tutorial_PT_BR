{
 "cells": [
  {
   "cell_type": "code",
   "execution_count": 3,
   "metadata": {
    "collapsed": false
   },
   "outputs": [
    {
     "ename": "LoadError",
     "evalue": "LoadError: UndefVarError: fib not defined\nwhile loading In[3], in expression starting on line 1",
     "output_type": "error",
     "traceback": [
      "LoadError: UndefVarError: fib not defined\nwhile loading In[3], in expression starting on line 1",
      ""
     ]
    }
   ],
   "source": [
    "fib(5)"
   ]
  },
  {
   "cell_type": "code",
   "execution_count": 5,
   "metadata": {
    "collapsed": false
   },
   "outputs": [
    {
     "ename": "NameError",
     "evalue": "name 'Pkg' is not defined",
     "output_type": "error",
     "traceback": [
      "\u001b[1;31m---------------------------------------------------------------------------\u001b[0m",
      "\u001b[1;31mNameError\u001b[0m                                 Traceback (most recent call last)",
      "\u001b[1;32m<ipython-input-5-c64bb2f6e82e>\u001b[0m in \u001b[0;36m<module>\u001b[1;34m()\u001b[0m\n\u001b[1;32m----> 1\u001b[1;33m \u001b[0mPkg\u001b[0m\u001b[1;33m.\u001b[0m\u001b[0mclone\u001b[0m\u001b[1;33m(\u001b[0m\u001b[1;34m\"https://github.com/johnmyleswhite/Benchmarks.jl.git\"\u001b[0m\u001b[1;33m)\u001b[0m\u001b[1;33m\u001b[0m\u001b[0m\n\u001b[0m",
      "\u001b[1;31mNameError\u001b[0m: name 'Pkg' is not defined"
     ]
    }
   ],
   "source": [
    "Pkg.clone(\"https://github.com/johnmyleswhite/Benchmarks.jl.git\")"
   ]
  },
  {
   "cell_type": "code",
   "execution_count": 4,
   "metadata": {
    "collapsed": false
   },
   "outputs": [
    {
     "name": "stderr",
     "output_type": "stream",
     "text": [
      "INFO: Cloning Benchmarks from https://github.com/johnmyleswhite/Benchmarks.jl.git\n",
      "INFO: Computing changes...\n",
      "INFO: No packages to install, update or remove\n"
     ]
    }
   ],
   "source": [
    "Pkg.clone(\"https://github.com/johnmyleswhite/Benchmarks.jl.git\")"
   ]
  },
  {
   "cell_type": "code",
   "execution_count": 5,
   "metadata": {
    "collapsed": true
   },
   "outputs": [],
   "source": [
    "using Benchmarks"
   ]
  },
  {
   "cell_type": "code",
   "execution_count": 19,
   "metadata": {
    "collapsed": false
   },
   "outputs": [
    {
     "data": {
      "text/plain": [
       "pow_array (generic function with 1 method)"
      ]
     },
     "execution_count": 19,
     "metadata": {},
     "output_type": "execute_result"
    }
   ],
   "source": [
    "p = 2\n",
    "function pow_array(x::Vector{Float64})\n",
    "  s = 0.0\n",
    "    for y in x\n",
    "      s = s + y^p\n",
    "    end\n",
    "    return s\n",
    "end"
   ]
  },
  {
   "cell_type": "code",
   "execution_count": 20,
   "metadata": {
    "collapsed": true
   },
   "outputs": [],
   "source": [
    "t=rand(100000);\n"
   ]
  },
  {
   "cell_type": "code",
   "execution_count": 25,
   "metadata": {
    "collapsed": false
   },
   "outputs": [
    {
     "data": {
      "text/plain": [
       "================ Benchmark Results ========================\n",
       "     Time per evaluation: 5.61 ms [5.11 ms, 6.12 ms]\n",
       "Proportion of time in GC: 5.10% [0.00%, 11.26%]\n",
       "        Memory allocated: 4.58 mb\n",
       "   Number of allocations: 300000 allocations\n",
       "       Number of samples: 100\n",
       "   Number of evaluations: 100\n",
       " Time spent benchmarking: 0.68 s\n"
      ]
     },
     "execution_count": 25,
     "metadata": {},
     "output_type": "execute_result"
    }
   ],
   "source": [
    "@benchmark pow_array(t)"
   ]
  },
  {
   "cell_type": "code",
   "execution_count": 24,
   "metadata": {
    "collapsed": false
   },
   "outputs": [
    {
     "ename": "LoadError",
     "evalue": "LoadError: MethodError: `call` has no method matching call(::Benchmarks.Results, ::Int64)\nClosest candidates are:\n  BoundsError()\n  BoundsError(!Matched::Any...)\n  DivideError()\n  ...\nwhile loading In[24], in expression starting on line 1",
     "output_type": "error",
     "traceback": [
      "LoadError: MethodError: `call` has no method matching call(::Benchmarks.Results, ::Int64)\nClosest candidates are:\n  BoundsError()\n  BoundsError(!Matched::Any...)\n  DivideError()\n  ...\nwhile loading In[24], in expression starting on line 1",
      ""
     ]
    }
   ],
   "source": [
    "d(1)"
   ]
  },
  {
   "cell_type": "code",
   "execution_count": null,
   "metadata": {
    "collapsed": true
   },
   "outputs": [],
   "source": []
  }
 ],
 "metadata": {
  "kernelspec": {
   "display_name": "Julia 0.4.5",
   "language": "julia",
   "name": "julia-0.4"
  },
  "language_info": {
   "file_extension": ".jl",
   "mimetype": "application/julia",
   "name": "julia",
   "version": "0.4.5"
  }
 },
 "nbformat": 4,
 "nbformat_minor": 0
}
