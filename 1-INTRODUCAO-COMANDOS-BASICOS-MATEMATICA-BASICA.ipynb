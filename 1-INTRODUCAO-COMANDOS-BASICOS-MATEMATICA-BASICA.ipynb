{
 "cells": [
  {
   "cell_type": "markdown",
   "metadata": {},
   "source": [
    "\n",
    "<big style=\"font-weight: bold;\"><big>INTRODUÇÃO AO JULIA</big></big><br>\n",
    "<ul>\n",
    "<li>&nbsp;<big style=\"font-weight: bold;\">Histórico</big><br>\n",
    "Julia é uma linguagem de programação dinâmica de alto nível projetado para atender os requisitos da computação de alto desempenho numérico e científica , sendo também eficaz para a programação de propósito geral.\n",
    "\n",
    "Julia é escrito em C , C++, e Scheme, usando a estrutura do compilador LLVM , enquanto a maior parte da biblioteca padrão de Julia é implementado na própria Julia.\n",
    "\n",
    "O desenvolvimento de Julia começou em 2009 e uma versão de código aberto foi divulgado em fevereiro de 2012. Alguns aspectos incomuns do projeto Julia incluem ter um sistema sofisticado, com tipos paramétricos dependentes de uma linguagem de programação totalmente dinâmico e adotando expedição múltipla como seu paradigma de programação do núcleo. Cada um desses recursos tem aparecido em dialetos Lisp , como Common Lisp e Dylan, mas a combinação dos dois em um único idioma é único ( ver recursos de linguagem ) . O aspecto mais notável da implementação da Julia é o seu desempenho, que muitas vezes é o dobro do código C , totalmente otimizado, colocando-o no reino de linguagens compiladas de alto desempenho.\n",
    "\n",
    "Julia se inspira significativamente em Matlab e vários dialetos de Lisp , incluindo Scheme e Common Lisp , e compartilha muitas características com Dylan - uma outra linguagem dinâmica múltipla orientada a expedição com a sintaxe - e Fortress (linguagem de programação), outra linguagem de programação numérica com expedição múltipla e um sofisticado sistema de tipo paramétrico . Enquanto CLOS acrescenta expedição múltipla para Common Lisp , a adição é opt-in : funções só definidos pelo usuário explicitamente declarados genérico pode ser estendida. Em Julia , Dylan e Fortress, por outro lado, essa extensibilidade é o padrão e funções internas do sistema são todos genéricos e extensíveis.<br>\n",
    "<br>\n",
    "</li>\n",
    "<li><big><span style=\"font-weight: bold;\">Características da\n",
    "Linguagem de Programação</span></big></li>\n",
    "\n",
    "\n",
    "<ul>\n",
    "<li>Julia é extensível a partir da utilização de módulos\n",
    "carregáveis.</li>\n",
    "</ul>\n",
    "<ul>\n",
    "<li>O interpretador do Julia trabalha em conjunto com os softwares\n",
    "gnuplot e Grace para plotar gráficos, grafos e para salva-los.<br>\n",
    "<br>\n",
    "</li>\n",
    "</ul>\n",
    "<li><big style=\"font-weight: bold;\">Aplicações</big><br>\n",
    "Julia é projetado para resolver problemas matemáticos numericamente,\n",
    "que consiste em calcular os valores na memória do computador. Isso\n",
    "significa que nem sempre ele não poderá dar uma solução analítica para\n",
    "um problema, e não deve ser confundido com programas como o Mathematica\n",
    "ou Maple, que trablham com soluções simbólicas, fazendo a manipulação\n",
    "algébrica. Isso não significa que seja melhor ou pior - ele é utilizado\n",
    "para diferentes tarefas. A maioria dos problemas matemáticos reais\n",
    "(particularmente em engenharia) não têm soluções simbólicas puras.\n",
    "</li>\n",
    "</ul>\n",
    "\n"
   ]
  },
  {
   "cell_type": "markdown",
   "metadata": {},
   "source": [
    "%%% Fim Introdução %%%"
   ]
  },
  {
   "cell_type": "markdown",
   "metadata": {},
   "source": [
    "<big style=\"font-weight: bold;\"><big>O QUE JULIA É CAPAZ DE FAZER</big></big>"
   ]
  },
  {
   "cell_type": "code",
   "execution_count": null,
   "metadata": {
    "collapsed": true
   },
   "outputs": [],
   "source": []
  },
  {
   "cell_type": "markdown",
   "metadata": {},
   "source": [
    "<big style=\"font-weight: bold;\"><big>COMPARAÇÃO COM OUTROS SOFTWARES DE COMPUTAÇÃO CIENTÍFICA</big></big>"
   ]
  },
  {
   "cell_type": "markdown",
   "metadata": {},
   "source": [
    "<strong>JULIA X MATLAB</strong>"
   ]
  },
  {
   "cell_type": "markdown",
   "metadata": {},
   "source": []
  },
  {
   "cell_type": "markdown",
   "metadata": {},
   "source": [
    "<strong>JULIA X PYTHON</strong>"
   ]
  },
  {
   "cell_type": "markdown",
   "metadata": {},
   "source": []
  },
  {
   "cell_type": "markdown",
   "metadata": {},
   "source": [
    "<strong>JULIA X R</strong>"
   ]
  },
  {
   "cell_type": "markdown",
   "metadata": {},
   "source": []
  },
  {
   "cell_type": "markdown",
   "metadata": {},
   "source": [
    "<strong>JULIA X FORTRAN</strong>"
   ]
  },
  {
   "cell_type": "markdown",
   "metadata": {},
   "source": []
  },
  {
   "cell_type": "markdown",
   "metadata": {},
   "source": [
    "<strong>JULIA X C</strong>"
   ]
  },
  {
   "cell_type": "markdown",
   "metadata": {},
   "source": []
  },
  {
   "cell_type": "markdown",
   "metadata": {
    "collapsed": false,
    "raw_mimetype": "text/latex"
   },
   "source": [
    "<big style=\"font-weight: bold;\"><big>COMANDOS BÁSICOS E MATEMÁTICA BÁSICA</big></big>"
   ]
  },
  {
   "cell_type": "code",
   "execution_count": 1,
   "metadata": {
    "collapsed": false
   },
   "outputs": [
    {
     "name": "stdout",
     "output_type": "stream",
     "text": [
      "Julia Version 0.4.5\n"
     ]
    }
   ],
   "source": [
    "versioninfo()"
   ]
  },
  {
   "cell_type": "code",
   "execution_count": 2,
   "metadata": {
    "collapsed": false,
    "scrolled": true
   },
   "outputs": [
    {
     "data": {
      "text/plain": [
       "7"
      ]
     },
     "execution_count": 2,
     "metadata": {},
     "output_type": "execute_result"
    }
   ],
   "source": [
    "2+5"
   ]
  },
  {
   "cell_type": "code",
   "execution_count": 3,
   "metadata": {
    "collapsed": false
   },
   "outputs": [
    {
     "name": "stdout",
     "output_type": "stream",
     "text": [
      "Commit 2ac304d (2016-03-18 00:58 UTC)\n",
      "Platform Info:\n",
      "  System: Linux (x86_64-unknown-linux-gnu)\n",
      "  CPU: Intel(R) Xeon(R) CPU E5-2670 v2 @ 2.50GHz\n",
      "  WORD_SIZE: 64\n",
      "  BLAS: libopenblas (USE64BITINT DYNAMIC_ARCH NO_AFFINITY Sandybridge)\n",
      "  LAPACK: libopenblas64_\n",
      "  LIBM: libopenlibm\n",
      "  LLVM: libLLVM-3.3\n"
     ]
    },
    {
     "data": {
      "text/plain": [
       "0.1"
      ]
     },
     "execution_count": 3,
     "metadata": {},
     "output_type": "execute_result"
    }
   ],
   "source": [
    "10e-2"
   ]
  },
  {
   "cell_type": "code",
   "execution_count": 4,
   "metadata": {
    "collapsed": false
   },
   "outputs": [
    {
     "data": {
      "text/plain": [
       "20.085536923187668"
      ]
     },
     "execution_count": 4,
     "metadata": {},
     "output_type": "execute_result"
    }
   ],
   "source": [
    "# e^3\n",
    "\n",
    "exp(3)"
   ]
  },
  {
   "cell_type": "code",
   "execution_count": 5,
   "metadata": {
    "collapsed": false
   },
   "outputs": [
    {
     "data": {
      "text/plain": [
       "64"
      ]
     },
     "execution_count": 5,
     "metadata": {},
     "output_type": "execute_result"
    }
   ],
   "source": [
    "2^6"
   ]
  },
  {
   "cell_type": "code",
   "execution_count": 6,
   "metadata": {
    "collapsed": false
   },
   "outputs": [
    {
     "data": {
      "text/plain": [
       "0.765625"
      ]
     },
     "execution_count": 6,
     "metadata": {},
     "output_type": "execute_result"
    }
   ],
   "source": [
    "(2+5)^2/(3+1)^3"
   ]
  },
  {
   "cell_type": "code",
   "execution_count": 7,
   "metadata": {
    "collapsed": false,
    "scrolled": true
   },
   "outputs": [
    {
     "data": {
      "text/plain": [
       "1.0"
      ]
     },
     "execution_count": 7,
     "metadata": {},
     "output_type": "execute_result"
    }
   ],
   "source": [
    "sin(pi/2)"
   ]
  },
  {
   "cell_type": "code",
   "execution_count": 8,
   "metadata": {
    "collapsed": false,
    "scrolled": true
   },
   "outputs": [
    {
     "data": {
      "text/plain": [
       "0.27153653617250795"
      ]
     },
     "execution_count": 8,
     "metadata": {},
     "output_type": "execute_result"
    }
   ],
   "source": [
    "# número aleatório entre 0 e 1\n",
    "\n",
    "rand()"
   ]
  },
  {
   "cell_type": "code",
   "execution_count": 9,
   "metadata": {
    "collapsed": false
   },
   "outputs": [
    {
     "data": {
      "text/plain": [
       "6-element Array{Int64,1}:\n",
       "  5\n",
       " 10\n",
       "  0\n",
       "  8\n",
       "  4\n",
       "  9"
      ]
     },
     "execution_count": 9,
     "metadata": {},
     "output_type": "execute_result"
    }
   ],
   "source": [
    "# 6 numeros aleatorios de 0 a 10\n",
    "\n",
    "rand(0:10, 6)"
   ]
  },
  {
   "cell_type": "code",
   "execution_count": 10,
   "metadata": {
    "collapsed": false
   },
   "outputs": [
    {
     "data": {
      "text/plain": [
       "([46,33,43,25,17,43],[31,35,35,4,54,38],[12,56,43,14,15,40])"
      ]
     },
     "execution_count": 10,
     "metadata": {},
     "output_type": "execute_result"
    }
   ],
   "source": [
    "# jogos da mega sena. Claro que não é lá essas coisas né\n",
    "\n",
    "rand(1:60,6), rand(1:60,6),rand(1:60,6)"
   ]
  },
  {
   "cell_type": "code",
   "execution_count": 19,
   "metadata": {
    "collapsed": false
   },
   "outputs": [
    {
     "data": {
      "text/plain": [
       "7"
      ]
     },
     "execution_count": 19,
     "metadata": {},
     "output_type": "execute_result"
    }
   ],
   "source": [
    "# MDC\n",
    "\n",
    "gcd(7,14)"
   ]
  },
  {
   "cell_type": "code",
   "execution_count": 10,
   "metadata": {
    "collapsed": false
   },
   "outputs": [
    {
     "data": {
      "text/plain": [
       "14"
      ]
     },
     "execution_count": 10,
     "metadata": {},
     "output_type": "execute_result"
    }
   ],
   "source": [
    "# MMC\n",
    "\n",
    "lcm(7,14)"
   ]
  },
  {
   "cell_type": "markdown",
   "metadata": {},
   "source": [
    "<strong>Multiplos calculos</strong>\n",
    "\n",
    "O uso a vírgula \" , \" permite efetuar mais de uma expressão"
   ]
  },
  {
   "cell_type": "code",
   "execution_count": 20,
   "metadata": {
    "collapsed": false
   },
   "outputs": [
    {
     "data": {
      "text/plain": [
       "0.2222222222222222"
      ]
     },
     "execution_count": 20,
     "metadata": {},
     "output_type": "execute_result"
    }
   ],
   "source": [
    "sqrt(2) , 2.0*3.0^-2"
   ]
  },
  {
   "cell_type": "code",
   "execution_count": 21,
   "metadata": {
    "collapsed": false
   },
   "outputs": [
    {
     "data": {
      "text/plain": [
       "0.2222222222222222"
      ]
     },
     "execution_count": 21,
     "metadata": {},
     "output_type": "execute_result"
    }
   ],
   "source": [
    "# se usado o ponto e virgula, só será impresso a ultimo cálculo\n",
    "\n",
    "sqrt(2) ; 2.0*3.0^-2"
   ]
  },
  {
   "cell_type": "markdown",
   "metadata": {},
   "source": [
    "<strong> Cálculo trigonometrico/Hiperbólico </strong>\n",
    "\n",
    "sin(x)    cos(x)    tan(x)    cot(x)    sec(x)    csc(x)  sinh(x)   cosh(x)   tanh(x)   coth(x)   sech(x)   csch(x)\n",
    "\n",
    "\n",
    "asin(x)   acos(x)   atan(x)   acot(x)   asec(x)   acsc(x)  acoth(x)  asech(x)  acsch(x)  sinc(x)   cosc(x)   atan2(x)"
   ]
  },
  {
   "cell_type": "code",
   "execution_count": 14,
   "metadata": {
    "collapsed": false,
    "scrolled": true
   },
   "outputs": [
    {
     "data": {
      "text/plain": [
       "(0.7071067811865475,-1.0,0.9999999999999999)"
      ]
     },
     "execution_count": 14,
     "metadata": {},
     "output_type": "execute_result"
    }
   ],
   "source": [
    "# radiandos\n",
    "\n",
    "sin(pi/4) , cos(pi) , tan(pi/4)"
   ]
  },
  {
   "cell_type": "code",
   "execution_count": 33,
   "metadata": {
    "collapsed": false
   },
   "outputs": [
    {
     "data": {
      "text/plain": [
       "(1.5248686188220641,1.4142135623730951,1.414213562373095)"
      ]
     },
     "execution_count": 33,
     "metadata": {},
     "output_type": "execute_result"
    }
   ],
   "source": [
    "coth(pi/4), csc(pi/4) , sec(pi/4)"
   ]
  },
  {
   "cell_type": "code",
   "execution_count": 15,
   "metadata": {
    "collapsed": false,
    "scrolled": true
   },
   "outputs": [
    {
     "data": {
      "text/plain": [
       "(1.0,0.0)"
      ]
     },
     "execution_count": 15,
     "metadata": {},
     "output_type": "execute_result"
    }
   ],
   "source": [
    "# Para o angulo em grau (º), acrescenta-se o \"d\"\n",
    "\n",
    "sind(90), cosd(90)"
   ]
  },
  {
   "cell_type": "markdown",
   "metadata": {},
   "source": [
    "<strong> Cálculo Angular </strong>"
   ]
  },
  {
   "cell_type": "code",
   "execution_count": null,
   "metadata": {
    "collapsed": true
   },
   "outputs": [],
   "source": []
  },
  {
   "cell_type": "markdown",
   "metadata": {},
   "source": [
    "<strong> Cálculo Exponenial/Logaritimo </strong>"
   ]
  },
  {
   "cell_type": "code",
   "execution_count": null,
   "metadata": {
    "collapsed": false
   },
   "outputs": [],
   "source": []
  },
  {
   "cell_type": "markdown",
   "metadata": {},
   "source": [
    "<strong> Binario/Octal/Hexadecimal </strong>"
   ]
  },
  {
   "cell_type": "code",
   "execution_count": 37,
   "metadata": {
    "collapsed": false
   },
   "outputs": [
    {
     "data": {
      "text/plain": [
       "(\"10000000\",\"200\",\"80\")"
      ]
     },
     "execution_count": 37,
     "metadata": {},
     "output_type": "execute_result"
    }
   ],
   "source": [
    "bin(128) ,  oct(128) , hex(128)"
   ]
  },
  {
   "cell_type": "markdown",
   "metadata": {},
   "source": [
    "<strong> Cálculo Financeiro </strong>"
   ]
  },
  {
   "cell_type": "code",
   "execution_count": null,
   "metadata": {
    "collapsed": true
   },
   "outputs": [],
   "source": []
  },
  {
   "cell_type": "markdown",
   "metadata": {},
   "source": [
    "<strong> Cálculo Horário </strong>"
   ]
  },
  {
   "cell_type": "code",
   "execution_count": null,
   "metadata": {
    "collapsed": true
   },
   "outputs": [],
   "source": []
  },
  {
   "cell_type": "markdown",
   "metadata": {},
   "source": [
    "<strong> Resumo Principais Comandos </strong>"
   ]
  },
  {
   "cell_type": "markdown",
   "metadata": {},
   "source": [
    "<table style=\"width: 740px; height: 680px;\" cellspacing=\"0\" border=\"0\">\n",
    "      <colgroup width=\"561\"></colgroup> <colgroup width=\"435\"></colgroup>\n",
    "      <tbody>\n",
    "        <tr>\n",
    "          <td style=\"border-top: 1px solid #000000; border-bottom: 1px solid #000000; border-left: 1px solid #000000; border-right: 1px solid #000000\"\n",
    "            height=\"17\" align=\"left\"><font face=\"Liberation Serif\">round (x) -\n",
    "              arredonda para o número inteiro mais próximo.</font></td>\n",
    "          <td style=\"border-top: 1px solid #000000; border-bottom: 1px solid #000000; border-left: 1px solid #000000; border-right: 1px solid #000000\"\n",
    "            align=\"left\"><font face=\"Liberation Serif\">copysign (x, y) - um\n",
    "              valor com a magnitude de x e o sinal do y.</font></td>\n",
    "        </tr>\n",
    "        <tr>\n",
    "          <td style=\"border-top: 1px solid #000000; border-bottom: 1px solid #000000; border-left: 1px solid #000000; border-right: 1px solid #000000\"\n",
    "            height=\"17\" align=\"left\"><font face=\"Liberation Serif\">iround (x) -\n",
    "              arredonda para o número inteiro mais próximo, dando um resultado\n",
    "              digitado-inteiro.</font></td>\n",
    "          <td style=\"border-top: 1px solid #000000; border-bottom: 1px solid #000000; border-left: 1px solid #000000; border-right: 1px solid #000000\"\n",
    "            align=\"left\"><font face=\"Liberation Serif\">flipsign (x, y) - um\n",
    "              valor com a magnitude de X e o sinal de x * y.</font></td>\n",
    "        </tr>\n",
    "        <tr>\n",
    "          <td style=\"border-top: 1px solid #000000; border-bottom: 1px solid #000000; border-left: 1px solid #000000; border-right: 1px solid #000000\"\n",
    "            height=\"17\" align=\"left\"><font face=\"Liberation Serif\">floor (x) -\n",
    "              arredonda direção -Inf.</font></td>\n",
    "          <td style=\"border-top: 1px solid #000000; border-bottom: 1px solid #000000; border-left: 1px solid #000000; border-right: 1px solid #000000\"\n",
    "            align=\"left\"><font face=\"Liberation Serif\">sqrt (X) - a raiz\n",
    "              quadrada de x.</font></td>\n",
    "        </tr>\n",
    "        <tr>\n",
    "          <td style=\"border-top: 1px solid #000000; border-bottom: 1px solid #000000; border-left: 1px solid #000000; border-right: 1px solid #000000\"\n",
    "            height=\"17\" align=\"left\"><font face=\"Liberation Serif\">ifloor (x) -\n",
    "              arredonda direção -Inf, dando um resultado digitado-inteiro.</font></td>\n",
    "          <td style=\"border-top: 1px solid #000000; border-bottom: 1px solid #000000; border-left: 1px solid #000000; border-right: 1px solid #000000\"\n",
    "            align=\"left\"><font face=\"Liberation Serif\">cbrt (x) - a raiz cúbica\n",
    "              de x.</font></td>\n",
    "        </tr>\n",
    "        <tr>\n",
    "          <td style=\"border-top: 1px solid #000000; border-bottom: 1px solid #000000; border-left: 1px solid #000000; border-right: 1px solid #000000\"\n",
    "            height=\"17\" align=\"left\"><font face=\"Liberation Serif\">ceil (x) -\n",
    "              arredonda direção + Inf.</font></td>\n",
    "          <td style=\"border-top: 1px solid #000000; border-bottom: 1px solid #000000; border-left: 1px solid #000000; border-right: 1px solid #000000\"\n",
    "            align=\"left\"><font face=\"Liberation Serif\">hypot (x, y) - sqrt\n",
    "              precisas (x + y ^ 2 ^ 2) para todos os valores de x e y.</font></td>\n",
    "        </tr>\n",
    "        <tr>\n",
    "          <td style=\"border-top: 1px solid #000000; border-bottom: 1px solid #000000; border-left: 1px solid #000000; border-right: 1px solid #000000\"\n",
    "            height=\"17\" align=\"left\"><font face=\"Liberation Serif\">iceil (x) -\n",
    "              arredonda direção + Inf, dando um resultado\n",
    "              digitado-inteiro.</font></td>\n",
    "          <td style=\"border-top: 1px solid #000000; border-bottom: 1px solid #000000; border-left: 1px solid #000000; border-right: 1px solid #000000\"\n",
    "            align=\"left\"><font face=\"Liberation Serif\">exp (x) - a função\n",
    "              exponencial natural em x.</font></td>\n",
    "        </tr>\n",
    "        <tr>\n",
    "          <td style=\"border-top: 1px solid #000000; border-bottom: 1px solid #000000; border-left: 1px solid #000000; border-right: 1px solid #000000\"\n",
    "            height=\"17\" align=\"left\"><font face=\"Liberation Serif\">trunc (x) -\n",
    "              arredonda para zero.</font></td>\n",
    "          <td style=\"border-top: 1px solid #000000; border-bottom: 1px solid #000000; border-left: 1px solid #000000; border-right: 1px solid #000000\"\n",
    "            align=\"left\"><font face=\"Liberation Serif\">expm1 (X) - exp precisas\n",
    "              (x) -1 x para perto de zero.</font></td>\n",
    "        </tr>\n",
    "        <tr>\n",
    "          <td style=\"border-top: 1px solid #000000; border-bottom: 1px solid #000000; border-left: 1px solid #000000; border-right: 1px solid #000000\"\n",
    "            height=\"17\" align=\"left\"><font face=\"Liberation Serif\">itrunc (x) -\n",
    "              arredonda para zero, dando um resultado digitado-inteiro.</font></td>\n",
    "          <td style=\"border-top: 1px solid #000000; border-bottom: 1px solid #000000; border-left: 1px solid #000000; border-right: 1px solid #000000\"\n",
    "            align=\"left\"><font face=\"Liberation Serif\">ldexp (x, n) - x * 2 ^ n\n",
    "              calculado de forma eficiente para valores inteiros de n.</font></td>\n",
    "        </tr>\n",
    "        <tr>\n",
    "          <td style=\"border-top: 1px solid #000000; border-bottom: 1px solid #000000; border-left: 1px solid #000000; border-right: 1px solid #000000\"\n",
    "            height=\"17\" align=\"left\"><font face=\"Liberation Serif\">div (x, y) -\n",
    "              truncado divisão; quociente truncado.</font></td>\n",
    "          <td style=\"border-top: 1px solid #000000; border-bottom: 1px solid #000000; border-left: 1px solid #000000; border-right: 1px solid #000000\"\n",
    "            align=\"left\"><font face=\"Liberation Serif\">log (x) - o logaritmo\n",
    "              natural de x.</font></td>\n",
    "        </tr>\n",
    "        <tr>\n",
    "          <td style=\"border-top: 1px solid #000000; border-bottom: 1px solid #000000; border-left: 1px solid #000000; border-right: 1px solid #000000\"\n",
    "            height=\"17\" align=\"left\"><font face=\"Liberation Serif\">fld (x, y) -\n",
    "              divisão de piso; quociente arredondado em direção -Inf.</font></td>\n",
    "          <td style=\"border-top: 1px solid #000000; border-bottom: 1px solid #000000; border-left: 1px solid #000000; border-right: 1px solid #000000\"\n",
    "            align=\"left\"><font face=\"Liberation Serif\">log (b, x) - a base b\n",
    "              logaritmo de x.</font></td>\n",
    "        </tr>\n",
    "        <tr>\n",
    "          <td style=\"border-top: 1px solid #000000; border-bottom: 1px solid #000000; border-left: 1px solid #000000; border-right: 1px solid #000000\"\n",
    "            height=\"17\" align=\"left\"><font face=\"Liberation Serif\">rem (x, y) -\n",
    "              restante; satisfaz x == div (x, y) * + y rem (x, y), o que implica\n",
    "              que corresponde sinal x.</font></td>\n",
    "          <td style=\"border-top: 1px solid #000000; border-bottom: 1px solid #000000; border-left: 1px solid #000000; border-right: 1px solid #000000\"\n",
    "            align=\"left\"><font face=\"Liberation Serif\">log2 (x) - o logaritmo de\n",
    "              base 2 x.</font></td>\n",
    "        </tr>\n",
    "        <tr>\n",
    "          <td style=\"border-top: 1px solid #000000; border-bottom: 1px solid #000000; border-left: 1px solid #000000; border-right: 1px solid #000000\"\n",
    "            height=\"17\" align=\"left\"><font face=\"Liberation Serif\">mod (x, y) -\n",
    "              módulo; satisfaz x == fld (x, y) * + y mod (x, y), o que implica\n",
    "              que o sinal corresponde y.</font></td>\n",
    "          <td style=\"border-top: 1px solid #000000; border-bottom: 1px solid #000000; border-left: 1px solid #000000; border-right: 1px solid #000000\"\n",
    "            align=\"left\"><font face=\"Liberation Serif\">log10 (x) - o logaritmo\n",
    "              de base 10 de x.</font></td>\n",
    "        </tr>\n",
    "        <tr>\n",
    "          <td style=\"border-top: 1px solid #000000; border-bottom: 1px solid #000000; border-left: 1px solid #000000; border-right: 1px solid #000000\"\n",
    "            height=\"17\" align=\"left\"><font face=\"Liberation Serif\">gcd (x, y\n",
    "              ...) - máximo divisor comum de x, y ... com correspondência sinal\n",
    "              x.</font></td>\n",
    "          <td style=\"border-top: 1px solid #000000; border-bottom: 1px solid #000000; border-left: 1px solid #000000; border-right: 1px solid #000000\"\n",
    "            align=\"left\"><font face=\"Liberation Serif\">log1p (X) - registo\n",
    "              preciso (1 + x) x para perto de zero.</font></td>\n",
    "        </tr>\n",
    "        <tr>\n",
    "          <td style=\"border-top: 1px solid #000000; border-bottom: 1px solid #000000; border-left: 1px solid #000000; border-right: 1px solid #000000\"\n",
    "            height=\"17\" align=\"left\"><font face=\"Liberation Serif\">lcm (x, y\n",
    "              ...) - menos múltiplo comum de x, y ... com correspondência sinal\n",
    "              x.</font></td>\n",
    "          <td style=\"border-top: 1px solid #000000; border-bottom: 1px solid #000000; border-left: 1px solid #000000; border-right: 1px solid #000000\"\n",
    "            align=\"left\"><font face=\"Liberation Serif\">logb (x) - retorna o\n",
    "              expoente binário de x.</font></td>\n",
    "        </tr>\n",
    "        <tr>\n",
    "          <td style=\"border-top: 1px solid #000000; border-bottom: 1px solid #000000; border-left: 1px solid #000000; border-right: 1px solid #000000\"\n",
    "            height=\"17\" align=\"left\"><font face=\"Liberation Serif\">ABS (X) - um\n",
    "              valor positivo com a magnitude de x.</font></td>\n",
    "          <td style=\"border-top: 1px solid #000000; border-bottom: 1px solid #000000; border-left: 1px solid #000000; border-right: 1px solid #000000\"\n",
    "            align=\"left\"><font face=\"Liberation Serif\">erf (x) - a função de\n",
    "              erro em x.</font></td>\n",
    "        </tr>\n",
    "        <tr>\n",
    "          <td style=\"border-top: 1px solid #000000; border-bottom: 1px solid #000000; border-left: 1px solid #000000; border-right: 1px solid #000000\"\n",
    "            height=\"17\" align=\"left\"><font face=\"Liberation Serif\">Abs2 (X) - a\n",
    "              magnitude quadrada de x.</font></td>\n",
    "          <td style=\"border-top: 1px solid #000000; border-bottom: 1px solid #000000; border-left: 1px solid #000000; border-right: 1px solid #000000\"\n",
    "            align=\"left\"><font face=\"Liberation Serif\">ERFC (x) - precisas 1-erf\n",
    "              (x) para a grande x.</font></td>\n",
    "        </tr>\n",
    "        <tr>\n",
    "          <td style=\"border-top: 1px solid #000000; border-bottom: 1px solid #000000; border-left: 1px solid #000000; border-right: 1px solid #000000\"\n",
    "            height=\"17\" align=\"left\"><font face=\"Liberation Serif\">sinal (X) -\n",
    "              indica o sinal de x, retornando -1, 0, ou 1.</font></td>\n",
    "          <td style=\"border-top: 1px solid #000000; border-bottom: 1px solid #000000; border-left: 1px solid #000000; border-right: 1px solid #000000\"\n",
    "            align=\"left\"><font face=\"Liberation Serif\">gama (X) - a função gama\n",
    "              em x.</font></td>\n",
    "        </tr>\n",
    "        <tr>\n",
    "          <td style=\"border-top: 1px solid #000000; border-bottom: 1px solid #000000; border-left: 1px solid #000000; border-right: 1px solid #000000\"\n",
    "            height=\"17\" align=\"left\"><font face=\"Liberation Serif\">signbit (x) -\n",
    "              indica se o bit de sinal está ligado (1) ou desligado (0).</font></td>\n",
    "          <td style=\"border-top: 1px solid #000000; border-bottom: 1px solid #000000; border-left: 1px solid #000000; border-right: 1px solid #000000\"\n",
    "            align=\"left\"><font face=\"Liberation Serif\">lgamma (X) - precisas de\n",
    "              log (gama (x)), de maior x.</font></td>\n",
    "        </tr>\n",
    "      </tbody>\n",
    "    </table>"
   ]
  },
  {
   "cell_type": "markdown",
   "metadata": {},
   "source": [
    "<strong>MEMÓRIAS DE CÉLULAS</strong>"
   ]
  },
  {
   "cell_type": "code",
   "execution_count": 2,
   "metadata": {
    "collapsed": false,
    "scrolled": true
   },
   "outputs": [
    {
     "data": {
      "text/plain": [
       "6.159287546660801"
      ]
     },
     "execution_count": 2,
     "metadata": {},
     "output_type": "execute_result"
    }
   ],
   "source": [
    "4+log(125)/sqrt(5)"
   ]
  },
  {
   "cell_type": "code",
   "execution_count": 3,
   "metadata": {
    "collapsed": false
   },
   "outputs": [
    {
     "data": {
      "text/plain": [
       "6.159287546660801"
      ]
     },
     "execution_count": 3,
     "metadata": {},
     "output_type": "execute_result"
    }
   ],
   "source": [
    "# calculo anterior\n",
    "\n",
    "ans"
   ]
  },
  {
   "cell_type": "code",
   "execution_count": 5,
   "metadata": {
    "collapsed": false,
    "scrolled": true
   },
   "outputs": [
    {
     "data": {
      "text/plain": [
       "6.159287546660801"
      ]
     },
     "execution_count": 5,
     "metadata": {},
     "output_type": "execute_result"
    }
   ],
   "source": [
    "# Out[numero da celula que deseja recuperar a saída]\n",
    "\n",
    "Out[3] "
   ]
  },
  {
   "cell_type": "code",
   "execution_count": 8,
   "metadata": {
    "collapsed": false
   },
   "outputs": [
    {
     "data": {
      "text/plain": [
       "\"4+log(125)/sqrt(5)\""
      ]
     },
     "execution_count": 8,
     "metadata": {},
     "output_type": "execute_result"
    }
   ],
   "source": [
    "# In[numero da celula que deseja recuperar a saída]\n",
    "\n",
    "In[2]"
   ]
  },
  {
   "cell_type": "markdown",
   "metadata": {},
   "source": [
    "<strong>Historico dos Comandos</strong>"
   ]
  },
  {
   "cell_type": "code",
   "execution_count": 14,
   "metadata": {
    "collapsed": false,
    "scrolled": true
   },
   "outputs": [
    {
     "data": {
      "text/plain": [
       "Dict{Int64,UTF8String} with 14 entries:\n",
       "  2  => \"2+5\"\n",
       "  11 => \"4+log(125)/sqrt(5)\"\n",
       "  7  => \"sin(pi/2)\"\n",
       "  9  => \"# 6 numeros aleatorios de 0 a 10\\n\\nrand(0:10, 6)\"\n",
       "  10 => \"# jogos da mega sena. Claro que não é lá essas coisas né\\n\\nrand(1:60,…\n",
       "  8  => \"# número aleatório entre 0 e 1\\n\\nrand()\"\n",
       "  6  => \"(2+5)^2/(3+1)^3\"\n",
       "  4  => \"# e^3\\n\\nexp(3)\"\n",
       "  3  => \"10e-2\"\n",
       "  5  => \"2^6\"\n",
       "  13 => \"# In[numero da celula que deseja recuperar a saída]\\n\\nIn[7]\"\n",
       "  14 => \"# mostra todos os comandos de entrada\\n\\nIn\"\n",
       "  12 => \"# Out[numero da celula que deseja recuperar a saída]\\n\\nOut[7] \"\n",
       "  1  => \"versioninfo()\""
      ]
     },
     "execution_count": 14,
     "metadata": {},
     "output_type": "execute_result"
    }
   ],
   "source": [
    "# mostra todos os comandos de entrada\n",
    "\n",
    "In"
   ]
  },
  {
   "cell_type": "code",
   "execution_count": 15,
   "metadata": {
    "collapsed": false
   },
   "outputs": [
    {
     "data": {
      "text/plain": [
       "Dict{Int64,Any} with 13 entries:\n",
       "  2  => 7\n",
       "  11 => 6.159287546660801\n",
       "  7  => 1.0\n",
       "  9  => [5,10,0,8,4,9]\n",
       "  10 => ([46,33,43,25,17,43],[31,35,35,4,54,38],[12,56,43,14,15,40])\n",
       "  8  => 0.27153653617250795\n",
       "  6  => 0.765625\n",
       "  4  => 20.085536923187668\n",
       "  3  => 0.1\n",
       "  5  => 64\n",
       "  13 => \"sin(pi/2)\"\n",
       "  14 => Dict(2=>\"2+5\",11=>\"4+log(125)/sqrt(5)\",7=>\"sin(pi/2)\",9=>\"# 6 numeros a…\n",
       "  12 => 1.0"
      ]
     },
     "execution_count": 15,
     "metadata": {},
     "output_type": "execute_result"
    }
   ],
   "source": [
    "# mostra todos os comandos de saída\n",
    "\n",
    "Out"
   ]
  },
  {
   "cell_type": "markdown",
   "metadata": {},
   "source": [
    "<strong>CALCULAR O TEMPO E PROCESSAMENTO</strong>"
   ]
  },
  {
   "cell_type": "code",
   "execution_count": 26,
   "metadata": {
    "collapsed": false
   },
   "outputs": [
    {
     "name": "stdout",
     "output_type": "stream",
     "text": [
      "  "
     ]
    },
    {
     "data": {
      "text/plain": [
       "4.543647706547242"
      ]
     },
     "execution_count": 26,
     "metadata": {},
     "output_type": "execute_result"
    },
    {
     "name": "stdout",
     "output_type": "stream",
     "text": [
      "0.000015 seconds (18 allocations: 384 bytes)\n"
     ]
    }
   ],
   "source": [
    "@time sqrt((2*pi + sqrt(log(2569854.5415263))/(sin(52)*cos(log(25948.1452))))^100)*exp(sin(0.8985424))"
   ]
  },
  {
   "cell_type": "markdown",
   "metadata": {},
   "source": [
    "<strong>PRECISÃO DE NUMEROS SIGNIFICATIVOS</strong>"
   ]
  },
  {
   "cell_type": "code",
   "execution_count": 22,
   "metadata": {
    "collapsed": false,
    "scrolled": true
   },
   "outputs": [
    {
     "data": {
      "text/plain": [
       "3.1415926536"
      ]
     },
     "execution_count": 22,
     "metadata": {},
     "output_type": "execute_result"
    }
   ],
   "source": [
    "round(pi,10)"
   ]
  },
  {
   "cell_type": "markdown",
   "metadata": {
    "collapsed": false
   },
   "source": [
    "<strong>COMANDOS DE IMPRESSÃO<br></strong>"
   ]
  },
  {
   "cell_type": "markdown",
   "metadata": {},
   "source": [
    "<strong>Comando print()</strong>\n",
    "\n",
    "Escrever (para o fluxo de saída padrão) uma representação de texto ou de um valor se houver. A representação usada pelo comando inclui formatação mínima."
   ]
  },
  {
   "cell_type": "code",
   "execution_count": 27,
   "metadata": {
    "collapsed": false
   },
   "outputs": [
    {
     "name": "stdout",
     "output_type": "stream",
     "text": [
      "olá mundo"
     ]
    }
   ],
   "source": [
    "print(\"olá mundo\")"
   ]
  },
  {
   "cell_type": "markdown",
   "metadata": {},
   "source": [
    "<strong>Comando display</strong>\n",
    "\n",
    "Usa o nível superior de exibição aplicável na pilha de exibição, geralmente usando a mais rica produção multimedia com suporte para x"
   ]
  },
  {
   "cell_type": "code",
   "execution_count": 29,
   "metadata": {
    "collapsed": false
   },
   "outputs": [
    {
     "data": {
      "text/plain": [
       "\"olá mundo\""
      ]
     },
     "metadata": {},
     "output_type": "display_data"
    }
   ],
   "source": [
    "display(\"olá mundo\")"
   ]
  },
  {
   "cell_type": "markdown",
   "metadata": {},
   "source": [
    "<strong>Comando show()</strong>\n",
    "\n",
    "Semenhante ao display"
   ]
  },
  {
   "cell_type": "code",
   "execution_count": 28,
   "metadata": {
    "collapsed": false
   },
   "outputs": [
    {
     "name": "stdout",
     "output_type": "stream",
     "text": [
      "\"olá mundo\""
     ]
    }
   ],
   "source": [
    "show(\"olá mundo\")"
   ]
  },
  {
   "cell_type": "code",
   "execution_count": null,
   "metadata": {
    "collapsed": true
   },
   "outputs": [],
   "source": []
  }
 ],
 "metadata": {
  "kernelspec": {
   "display_name": "Julia 0.4.5",
   "language": "julia",
   "name": "julia-0.4"
  },
  "language_info": {
   "file_extension": ".jl",
   "mimetype": "application/julia",
   "name": "julia",
   "version": "0.4.5"
  }
 },
 "nbformat": 4,
 "nbformat_minor": 0
}
