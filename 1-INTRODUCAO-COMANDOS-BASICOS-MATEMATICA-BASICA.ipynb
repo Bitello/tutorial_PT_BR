{
 "cells": [
  {
   "cell_type": "markdown",
   "metadata": {},
   "source": [
    "#** INTRODUÇÃO JULIA ** #\n",
    "\n",
    "**Histórico**\n",
    "\n",
    "*   Julia é uma linguagem de programação dinâmica de alto nível projetado para atender os requisitos da computação de alto desempenho numérico e científica , sendo também eficaz para a programação de propósito geral. Julia é escrito em C , C++, e Scheme, usando a estrutura do compilador LLVM , enquanto a maior parte da biblioteca padrão de Julia é implementado na própria Julia. O desenvolvimento de Julia começou em 2009 e uma versão de código aberto foi divulgado em fevereiro de 2012\\. Alguns aspectos incomuns do projeto Julia incluem ter um sistema sofisticado, com tipos paramétricos dependentes de uma linguagem de programação totalmente dinâmico e adotando expedição múltipla como seu paradigma de programação do núcleo. Cada um desses recursos tem aparecido em dialetos Lisp , como Common Lisp e Dylan, mas a combinação dos dois em um único idioma é único ( ver recursos de linguagem ) . O aspecto mais notável da implementação da Julia é o seu desempenho, que muitas vezes é o dobro do código C , totalmente otimizado, colocando-o no reino de linguagens compiladas de alto desempenho. Julia se inspira significativamente em Matlab e vários dialetos de Lisp , incluindo Scheme e Common Lisp , e compartilha muitas características com Dylan - uma outra linguagem dinâmica múltipla orientada a expedição com a sintaxe - e Fortress (linguagem de programação), outra linguagem de programação numérica com expedição múltipla e um sofisticado sistema de tipo paramétrico . Enquanto CLOS acrescenta expedição múltipla para Common Lisp , a adição é opt-in : funções só definidos pelo usuário explicitamente declarados genérico pode ser estendida. Em Julia , Dylan e Fortress, por outro lado, essa extensibilidade é o padrão e funções internas do sistema são todos genéricos e extensíveis.\n",
    "\n",
    "**Características da Linguagem de Programação**\n",
    "\n",
    "*   Julia é extensível a partir da utilização de módulos carregáveis.\n",
    "*   O interpretador do Julia trabalha em conjunto com os softwares gnuplot e Grace para plotar gráficos, grafos e para salva-los.\n",
    "\n",
    "**Aplicações**\n",
    "\n",
    "*   Julia é projetado para resolver problemas matemáticos numericamente, que consiste em calcular os valores na memória do computador. Isso significa que nem sempre ele não poderá dar uma solução analítica para um problema, e não deve ser confundido com programas como o Mathematica ou Maple, que trablham com soluções simbólicas, fazendo a manipulação algébrica. Isso não significa que seja melhor ou pior - ele é utilizado para diferentes tarefas. A maioria dos problemas matemáticos reais (particularmente em engenharia) não têm soluções simbólicas puras."
   ]
  },
  {
   "cell_type": "markdown",
   "metadata": {},
   "source": [
    "%%% Fim Introdução %%%"
   ]
  },
  {
   "cell_type": "markdown",
   "metadata": {},
   "source": [
    "##O QUE JULIA É CAPAZ DE FAZER##"
   ]
  },
  {
   "cell_type": "markdown",
   "metadata": {
    "collapsed": true
   },
   "source": [
    "|               | Fortran   | Julia | Python | R      | Matlab | Octave  | Mathe-matica | JavaScript    | Go    | LuaJIT          | Java     |\n",
    "| ------------- | --------- | ----- | ------ | ------ | ------ | ------- | ------------ | ------------- | ----- | --------------- | -------- |\n",
    "|               | gcc 5.1.1 | 0.4.0 | 3.4.3  | 3.2.2  | R2015b | 4.0.0   | 10.2.0       | V8 3.28.71.19 | go1.5 | gsl-shell 2.3.1 | 1.8.0_45 |\n",
    "| fib           | 0.70      | 2.11  | 77.76  | 533.52 | 26.89  | 9324.35 | 118.53       | 3.36          | 1.86  | 1.71            | 1.21     |\n",
    "| parse_int     | 5.05      | 1.45  | 17.02  | 45.73  | 802.52 | 9581.44 | 15.02        | 6.06          | 1.20  | 5.77            | 3.35     |\n",
    "| quicksort     | 1.31      | 1.15  | 32.89  | 264.54 | 4.92   | 1866.01 | 43.23        | 2.70          | 1.29  | 2.03            | 2.60     |\n",
    "| mandel        | 0.81      | 0.79  | 15.32  | 53.16  | 7.58   | 451.81  | 5.13         | 0.66          | 1.11  | 0.67            | 1.35     |\n",
    "| pi_sum        | 1.00      | 1.00  | 21.99  | 9.56   | 1.00   | 299.31  | 1.69         | 1.01          | 1.00  | 1.00            | 1.00     |\n",
    "| rand_mat_stat | 1.45      | 1.66  | 17.93  | 14.56  | 14.52  | 30.93   | 5.95         | 2.30          | 2.96  | 3.27            | 3.92     |\n",
    "| rand_mat_mul  | 3.48      | 1.02  | 1.14   | 1.57   | 1.12   | 1.12    | 1.30         | 15.07         | 1.42  | 1.16            | 2.36     |\n",
    "\n",
    "**Tabela:** benchmark tempo em segundos de processamento relative to C (smaller is better, C performance = 1.0)."
   ]
  },
  {
   "cell_type": "markdown",
   "metadata": {},
   "source": [
    "##COMPARAÇÃO COM OUTROS SOFTWARES DE COMPUTAÇÃO CIENTÍFICA</big></big>"
   ]
  },
  {
   "cell_type": "markdown",
   "metadata": {},
   "source": [
    "<strong>JULIA X MATLAB</strong>"
   ]
  },
  {
   "cell_type": "markdown",
   "metadata": {},
   "source": [
    "* Sintaxe\n",
    "\n",
    "* Modelo de execução\n",
    "\n",
    "* Paradigma principal\n",
    "\n",
    "* Modelo de tipo de dados"
   ]
  },
  {
   "cell_type": "markdown",
   "metadata": {},
   "source": [
    "**JULIA X PYTHON**\n",
    "\n",
    "* Sintaxe\n",
    "\n",
    "* Modelo de execução\n",
    "\n",
    "* Paradigma principal\n",
    "\n",
    "* Modelo de tipo de dados"
   ]
  },
  {
   "cell_type": "markdown",
   "metadata": {},
   "source": [
    "** JULIA X R**\n",
    "\n",
    "* Sintaxe\n",
    "\n",
    "* Modelo de execução\n",
    "\n",
    "* Paradigma principal\n",
    "\n",
    "* Modelo de tipo de dados"
   ]
  },
  {
   "cell_type": "markdown",
   "metadata": {},
   "source": [
    "**JULIA X FORTRAN**\n",
    "\n",
    "* Sintaxe\n",
    "\n",
    "* Modelo de execução\n",
    "\n",
    "* Paradigma principal\n",
    "\n",
    "* Modelo de tipo de dados"
   ]
  },
  {
   "cell_type": "markdown",
   "metadata": {},
   "source": [
    "**JULIA X C**\n",
    "\n",
    "* Sintaxe\n",
    "\n",
    "* Modelo de execução\n",
    "\n",
    "* Paradigma principal\n",
    "\n",
    "* Modelo de tipo de dados"
   ]
  },
  {
   "cell_type": "markdown",
   "metadata": {},
   "source": [
    "http://blog.tiagopassos.com/wp-content/uploads/2011/06/as_diferencas_entre_as_linguagens_de_programacao_.jpg"
   ]
  },
  {
   "cell_type": "markdown",
   "metadata": {
    "collapsed": false,
    "raw_mimetype": "text/latex"
   },
   "source": [
    "<big style=\"font-weight: bold;\"><big>COMANDOS BÁSICOS E MATEMÁTICA BÁSICA</big></big>"
   ]
  },
  {
   "cell_type": "code",
   "execution_count": 2,
   "metadata": {
    "collapsed": false
   },
   "outputs": [
    {
     "name": "stdout",
     "output_type": "stream",
     "text": [
      "Julia Version 0.4.5\n",
      "Commit 2ac304d (2016-03-18 00:58 UTC)\n",
      "Platform Info:\n",
      "  System: Linux (x86_64-unknown-linux-gnu)\n",
      "  CPU: Intel(R) Xeon(R) CPU E5-2670 v2 @ 2.50GHz\n",
      "  WORD_SIZE: 64\n",
      "  BLAS: libopenblas (USE64BITINT DYNAMIC_ARCH NO_AFFINITY Sandybridge)\n",
      "  LAPACK: libopenblas64_\n",
      "  LIBM: libopenlibm\n",
      "  LLVM: libLLVM-3.3\n"
     ]
    }
   ],
   "source": [
    "versioninfo()"
   ]
  },
  {
   "cell_type": "code",
   "execution_count": 3,
   "metadata": {
    "collapsed": false,
    "scrolled": true
   },
   "outputs": [
    {
     "data": {
      "text/plain": [
       "7"
      ]
     },
     "execution_count": 3,
     "metadata": {},
     "output_type": "execute_result"
    }
   ],
   "source": [
    "2+5"
   ]
  },
  {
   "cell_type": "code",
   "execution_count": 4,
   "metadata": {
    "collapsed": false
   },
   "outputs": [
    {
     "data": {
      "text/plain": [
       "0.1"
      ]
     },
     "execution_count": 4,
     "metadata": {},
     "output_type": "execute_result"
    }
   ],
   "source": [
    "10e-2"
   ]
  },
  {
   "cell_type": "code",
   "execution_count": 5,
   "metadata": {
    "collapsed": false
   },
   "outputs": [
    {
     "data": {
      "text/plain": [
       "20.085536923187668"
      ]
     },
     "execution_count": 5,
     "metadata": {},
     "output_type": "execute_result"
    }
   ],
   "source": [
    "# e^3\n",
    "\n",
    "exp(3)"
   ]
  },
  {
   "cell_type": "code",
   "execution_count": 6,
   "metadata": {
    "collapsed": false
   },
   "outputs": [
    {
     "data": {
      "text/plain": [
       "64"
      ]
     },
     "execution_count": 6,
     "metadata": {},
     "output_type": "execute_result"
    }
   ],
   "source": [
    "2^6"
   ]
  },
  {
   "cell_type": "code",
   "execution_count": 7,
   "metadata": {
    "collapsed": false
   },
   "outputs": [
    {
     "data": {
      "text/plain": [
       "0.765625"
      ]
     },
     "execution_count": 7,
     "metadata": {},
     "output_type": "execute_result"
    }
   ],
   "source": [
    "(2+5)^2/(3+1)^3"
   ]
  },
  {
   "cell_type": "code",
   "execution_count": 8,
   "metadata": {
    "collapsed": false,
    "scrolled": true
   },
   "outputs": [
    {
     "data": {
      "text/plain": [
       "1.0"
      ]
     },
     "execution_count": 8,
     "metadata": {},
     "output_type": "execute_result"
    }
   ],
   "source": [
    "sin(pi/2)"
   ]
  },
  {
   "cell_type": "code",
   "execution_count": 9,
   "metadata": {
    "collapsed": false,
    "scrolled": true
   },
   "outputs": [
    {
     "data": {
      "text/plain": [
       "0.2632755453481439"
      ]
     },
     "execution_count": 9,
     "metadata": {},
     "output_type": "execute_result"
    }
   ],
   "source": [
    "# número aleatório entre 0 e 1\n",
    "\n",
    "rand()"
   ]
  },
  {
   "cell_type": "code",
   "execution_count": 10,
   "metadata": {
    "collapsed": false
   },
   "outputs": [
    {
     "data": {
      "text/plain": [
       "6-element Array{Int64,1}:\n",
       " 2\n",
       " 3\n",
       " 6\n",
       " 3\n",
       " 9\n",
       " 9"
      ]
     },
     "execution_count": 10,
     "metadata": {},
     "output_type": "execute_result"
    }
   ],
   "source": [
    "# 6 numeros aleatorios de 0 a 10\n",
    "\n",
    "rand(0:10, 6)"
   ]
  },
  {
   "cell_type": "code",
   "execution_count": 11,
   "metadata": {
    "collapsed": false
   },
   "outputs": [
    {
     "data": {
      "text/plain": [
       "([41,46,45,45,57,21],[1,1,8,1,48,5],[31,17,31,5,7,15])"
      ]
     },
     "execution_count": 11,
     "metadata": {},
     "output_type": "execute_result"
    }
   ],
   "source": [
    "# jogos da mega sena. Claro que não é lá essas coisas né\n",
    "\n",
    "rand(1:60,6), rand(1:60,6),rand(1:60,6)"
   ]
  },
  {
   "cell_type": "code",
   "execution_count": 12,
   "metadata": {
    "collapsed": false
   },
   "outputs": [
    {
     "data": {
      "text/plain": [
       "7"
      ]
     },
     "execution_count": 12,
     "metadata": {},
     "output_type": "execute_result"
    }
   ],
   "source": [
    "# MDC\n",
    "\n",
    "gcd(7,14)"
   ]
  },
  {
   "cell_type": "code",
   "execution_count": 13,
   "metadata": {
    "collapsed": false
   },
   "outputs": [
    {
     "data": {
      "text/plain": [
       "14"
      ]
     },
     "execution_count": 13,
     "metadata": {},
     "output_type": "execute_result"
    }
   ],
   "source": [
    "# MMC\n",
    "\n",
    "lcm(7,14)"
   ]
  },
  {
   "cell_type": "markdown",
   "metadata": {},
   "source": [
    "<strong>Multiplos calculos</strong>\n",
    "\n",
    "O uso a vírgula \" , \" permite efetuar mais de uma expressão"
   ]
  },
  {
   "cell_type": "code",
   "execution_count": 14,
   "metadata": {
    "collapsed": false
   },
   "outputs": [
    {
     "data": {
      "text/plain": [
       "(1.4142135623730951,0.2222222222222222)"
      ]
     },
     "execution_count": 14,
     "metadata": {},
     "output_type": "execute_result"
    }
   ],
   "source": [
    "sqrt(2) , 2.0*3.0^-2"
   ]
  },
  {
   "cell_type": "code",
   "execution_count": 15,
   "metadata": {
    "collapsed": false
   },
   "outputs": [
    {
     "data": {
      "text/plain": [
       "0.2222222222222222"
      ]
     },
     "execution_count": 15,
     "metadata": {},
     "output_type": "execute_result"
    }
   ],
   "source": [
    "# se usado o ponto e virgula, só será impresso a ultimo cálculo\n",
    "\n",
    "sqrt(2) ; 2.0*3.0^-2"
   ]
  },
  {
   "cell_type": "markdown",
   "metadata": {},
   "source": [
    "<strong> Cálculo trigonometrico/Hiperbólico </strong>\n",
    "\n",
    "sin(x)    cos(x)    tan(x)    cot(x)    sec(x)    csc(x)  sinh(x)   cosh(x)   tanh(x)   coth(x)   sech(x)   csch(x)\n",
    "\n",
    "\n",
    "asin(x)   acos(x)   atan(x)   acot(x)   asec(x)   acsc(x)  acoth(x)  asech(x)  acsch(x)  sinc(x)   cosc(x)   atan2(x)"
   ]
  },
  {
   "cell_type": "code",
   "execution_count": 16,
   "metadata": {
    "collapsed": false,
    "scrolled": true
   },
   "outputs": [
    {
     "data": {
      "text/plain": [
       "(0.7071067811865475,-1.0,0.9999999999999999)"
      ]
     },
     "execution_count": 16,
     "metadata": {},
     "output_type": "execute_result"
    }
   ],
   "source": [
    "# radiandos\n",
    "\n",
    "sin(pi/4) , cos(pi) , tan(pi/4)"
   ]
  },
  {
   "cell_type": "code",
   "execution_count": 17,
   "metadata": {
    "collapsed": false
   },
   "outputs": [
    {
     "data": {
      "text/plain": [
       "(1.5248686188220641,1.4142135623730951,1.414213562373095)"
      ]
     },
     "execution_count": 17,
     "metadata": {},
     "output_type": "execute_result"
    }
   ],
   "source": [
    "coth(pi/4), csc(pi/4) , sec(pi/4)"
   ]
  },
  {
   "cell_type": "code",
   "execution_count": 18,
   "metadata": {
    "collapsed": false,
    "scrolled": true
   },
   "outputs": [
    {
     "data": {
      "text/plain": [
       "(1.0,0.0)"
      ]
     },
     "execution_count": 18,
     "metadata": {},
     "output_type": "execute_result"
    }
   ],
   "source": [
    "# Para o angulo em grau (º), acrescenta-se o \"d\"\n",
    "\n",
    "sind(90), cosd(90)"
   ]
  },
  {
   "cell_type": "markdown",
   "metadata": {},
   "source": [
    "<strong> Cálculo Angular </strong>"
   ]
  },
  {
   "cell_type": "code",
   "execution_count": null,
   "metadata": {
    "collapsed": true
   },
   "outputs": [],
   "source": []
  },
  {
   "cell_type": "markdown",
   "metadata": {},
   "source": [
    "<strong> Cálculo Exponenial/Logaritimo </strong>"
   ]
  },
  {
   "cell_type": "code",
   "execution_count": null,
   "metadata": {
    "collapsed": false
   },
   "outputs": [],
   "source": []
  },
  {
   "cell_type": "markdown",
   "metadata": {},
   "source": [
    "<strong> Binario/Octal/Hexadecimal </strong>"
   ]
  },
  {
   "cell_type": "code",
   "execution_count": 19,
   "metadata": {
    "collapsed": false
   },
   "outputs": [
    {
     "data": {
      "text/plain": [
       "(\"10000000\",\"200\",\"80\")"
      ]
     },
     "execution_count": 19,
     "metadata": {},
     "output_type": "execute_result"
    }
   ],
   "source": [
    "bin(128) ,  oct(128) , hex(128)"
   ]
  },
  {
   "cell_type": "markdown",
   "metadata": {},
   "source": [
    "<strong> Cálculo Financeiro </strong>"
   ]
  },
  {
   "cell_type": "code",
   "execution_count": null,
   "metadata": {
    "collapsed": true
   },
   "outputs": [],
   "source": []
  },
  {
   "cell_type": "markdown",
   "metadata": {},
   "source": [
    "<strong> Cálculo Horário </strong>"
   ]
  },
  {
   "cell_type": "code",
   "execution_count": null,
   "metadata": {
    "collapsed": true
   },
   "outputs": [],
   "source": []
  },
  {
   "cell_type": "markdown",
   "metadata": {},
   "source": [
    "<strong> Resumo Principais Comandos </strong>"
   ]
  },
  {
   "cell_type": "markdown",
   "metadata": {},
   "source": [
    "<table style=\"height: 378px; border-color: 0;\" border=\"1\" width=\"491\" cellspacing=\"0\"><colgroup width=\"619\"></colgroup>\n",
    "<tbody>\n",
    "<tr>\n",
    "<td align=\"left\" height=\"17\">round (x) - arredonda para o n&uacute;mero inteiro mais pr&oacute;ximo.</td>\n",
    "</tr>\n",
    "<tr>\n",
    "<td align=\"left\" height=\"17\">iround (x) - arredonda para o n&uacute;mero inteiro mais pr&oacute;ximo, dando um resultado digitado-inteiro.</td>\n",
    "</tr>\n",
    "<tr>\n",
    "<td align=\"left\" height=\"17\">floor (x) - arredonda dire&ccedil;&atilde;o -Inf.</td>\n",
    "</tr>\n",
    "<tr>\n",
    "<td align=\"left\" height=\"17\">ifloor (x) - arredonda dire&ccedil;&atilde;o -Inf, dando um resultado digitado-inteiro.</td>\n",
    "</tr>\n",
    "<tr>\n",
    "<td align=\"left\" height=\"17\">ceil (x) - arredonda dire&ccedil;&atilde;o + Inf.</td>\n",
    "</tr>\n",
    "<tr>\n",
    "<td align=\"left\" height=\"17\">iceil (x) - arredonda dire&ccedil;&atilde;o + Inf, dando um resultado digitado-inteiro.</td>\n",
    "</tr>\n",
    "<tr>\n",
    "<td align=\"left\" height=\"17\">trunc (x) - arredonda para zero.</td>\n",
    "</tr>\n",
    "<tr>\n",
    "<td align=\"left\" height=\"17\">itrunc (x) - arredonda para zero, dando um resultado digitado-inteiro.</td>\n",
    "</tr>\n",
    "<tr>\n",
    "<td align=\"left\" height=\"17\">div (x, y) - truncado divis&atilde;o; quociente truncado.</td>\n",
    "</tr>\n",
    "<tr>\n",
    "<td align=\"left\" height=\"17\">fld (x, y) - divis&atilde;o de base; quociente arredondado em dire&ccedil;&atilde;o -Inf.</td>\n",
    "</tr>\n",
    "<tr>\n",
    "<td align=\"left\" height=\"17\">rem (x, y) - restante; satisfaz x == div (x, y) * + y rem (x, y), o que implica que corresponde sinal x.</td>\n",
    "</tr>\n",
    "<tr>\n",
    "<td align=\"left\" height=\"17\">mod (x, y) - m&oacute;dulo; satisfaz x == fld (x, y) * + y mod (x, y), o que implica que o sinal corresponde y.</td>\n",
    "</tr>\n",
    "<tr>\n",
    "<td align=\"left\" height=\"17\">gcd (x, y ...) - m&aacute;ximo divisor comum de x, y ... com correspond&ecirc;ncia sinal x.</td>\n",
    "</tr>\n",
    "<tr>\n",
    "<td align=\"left\" height=\"17\">lcm (x, y ...) - menos m&uacute;ltiplo comum de x, y ... com correspond&ecirc;ncia sinal x.</td>\n",
    "</tr>\n",
    "<tr>\n",
    "<td align=\"left\" height=\"17\">ABS (X) - um valor positivo com a magnitude de x.</td>\n",
    "</tr>\n",
    "<tr>\n",
    "<td align=\"left\" height=\"17\">Abs2 (X) - a magnitude quadrada de x.</td>\n",
    "</tr>\n",
    "<tr>\n",
    "<td align=\"left\" height=\"17\">sinal (X) - indica o sinal de x, retornando -1, 0, ou 1.</td>\n",
    "</tr>\n",
    "<tr>\n",
    "<td align=\"left\" height=\"17\">signbit (x) - indica se o bit de sinal est&aacute; ligado (1) ou desligado (0).</td>\n",
    "</tr>\n",
    "</tbody>\n",
    "</table>\n",
    "<p>Mais ainda</p>\n",
    "<table style=\"height: 378px;\" border=\"1\" width=\"490\" cellspacing=\"0\"><colgroup width=\"619\"></colgroup>\n",
    "<tbody>\n",
    "<tr>\n",
    "<td align=\"left\" height=\"17\">copysign (x, y) - um valor com a magnitude de x e o sinal do y.</td>\n",
    "</tr>\n",
    "<tr>\n",
    "<td align=\"left\" height=\"17\">flipsign (x, y) - um valor com a magnitude de X e o sinal de x * y.</td>\n",
    "</tr>\n",
    "<tr>\n",
    "<td align=\"left\" height=\"17\">sqrt (X) - a raiz quadrada de x.</td>\n",
    "</tr>\n",
    "<tr>\n",
    "<td align=\"left\" height=\"17\">cbrt (x) - a raiz c&uacute;bica de x.</td>\n",
    "</tr>\n",
    "<tr>\n",
    "<td align=\"left\" height=\"17\">hypot (x, y) - sqrt precisas (x + y ^ 2 ^ 2) para todos os valores de x e y.</td>\n",
    "</tr>\n",
    "<tr>\n",
    "<td align=\"left\" height=\"17\">exp (x) - a fun&ccedil;&atilde;o exponencial natural em x.</td>\n",
    "</tr>\n",
    "<tr>\n",
    "<td align=\"left\" height=\"17\">expm1 (X) - exp precisas (x) -1 x para perto de zero.</td>\n",
    "</tr>\n",
    "<tr>\n",
    "<td align=\"left\" height=\"17\">ldexp (x, n) - x * 2 ^ n calculado de forma eficiente para valores inteiros de n.</td>\n",
    "</tr>\n",
    "<tr>\n",
    "<td align=\"left\" height=\"17\">log (x) - o logaritmo natural de x.</td>\n",
    "</tr>\n",
    "<tr>\n",
    "<td align=\"left\" height=\"17\">log (b, x) - a base b logaritmo de x.</td>\n",
    "</tr>\n",
    "<tr>\n",
    "<td align=\"left\" height=\"17\">log2 (x) - o logaritmo de base 2 x.</td>\n",
    "</tr>\n",
    "<tr>\n",
    "<td align=\"left\" height=\"17\">log10 (x) - o logaritmo de base 10 de x.</td>\n",
    "</tr>\n",
    "<tr>\n",
    "<td align=\"left\" height=\"17\">log1p (X) - registo preciso (1 + x) x para perto de zero.</td>\n",
    "</tr>\n",
    "<tr>\n",
    "<td align=\"left\" height=\"17\">logb (x) - retorna o expoente bin&aacute;rio de x.</td>\n",
    "</tr>\n",
    "<tr>\n",
    "<td align=\"left\" height=\"17\">erf (x) - a fun&ccedil;&atilde;o de erro em x.</td>\n",
    "</tr>\n",
    "<tr>\n",
    "<td align=\"left\" height=\"17\">ERFC (x) - precisas 1-erf (x) para a grande x.</td>\n",
    "</tr>\n",
    "<tr>\n",
    "<td align=\"left\" height=\"17\">gama (X) - a fun&ccedil;&atilde;o gama em x.</td>\n",
    "</tr>\n",
    "<tr>\n",
    "<td align=\"left\" height=\"17\">lgamma (X) - precisas de log (gama (x)), de maior x.</td>\n",
    "</tr>\n",
    "</tbody>\n",
    "</table>"
   ]
  },
  {
   "cell_type": "markdown",
   "metadata": {},
   "source": [
    "<strong>MEMÓRIAS DE CÉLULAS</strong>"
   ]
  },
  {
   "cell_type": "code",
   "execution_count": 20,
   "metadata": {
    "collapsed": false,
    "scrolled": true
   },
   "outputs": [
    {
     "data": {
      "text/plain": [
       "6.159287546660801"
      ]
     },
     "execution_count": 20,
     "metadata": {},
     "output_type": "execute_result"
    }
   ],
   "source": [
    "4+log(125)/sqrt(5)"
   ]
  },
  {
   "cell_type": "code",
   "execution_count": 21,
   "metadata": {
    "collapsed": false
   },
   "outputs": [
    {
     "data": {
      "text/plain": [
       "6.159287546660801"
      ]
     },
     "execution_count": 21,
     "metadata": {},
     "output_type": "execute_result"
    }
   ],
   "source": [
    "# calculo anterior\n",
    "\n",
    "ans"
   ]
  },
  {
   "cell_type": "code",
   "execution_count": 22,
   "metadata": {
    "collapsed": false,
    "scrolled": true
   },
   "outputs": [
    {
     "data": {
      "text/plain": [
       "7"
      ]
     },
     "execution_count": 22,
     "metadata": {},
     "output_type": "execute_result"
    }
   ],
   "source": [
    "# Out[numero da celula que deseja recuperar a saída]\n",
    "\n",
    "Out[3] "
   ]
  },
  {
   "cell_type": "code",
   "execution_count": 23,
   "metadata": {
    "collapsed": false
   },
   "outputs": [
    {
     "data": {
      "text/plain": [
       "\"versioninfo()\""
      ]
     },
     "execution_count": 23,
     "metadata": {},
     "output_type": "execute_result"
    }
   ],
   "source": [
    "# In[numero da celula que deseja recuperar a saída]\n",
    "\n",
    "In[2]"
   ]
  },
  {
   "cell_type": "markdown",
   "metadata": {},
   "source": [
    "<strong>Historico dos Comandos</strong>"
   ]
  },
  {
   "cell_type": "code",
   "execution_count": 24,
   "metadata": {
    "collapsed": false,
    "scrolled": true
   },
   "outputs": [
    {
     "data": {
      "text/plain": [
       "Dict{Int64,UTF8String} with 24 entries:\n",
       "  18 => \"# Para o angulo em grau (º), acrescenta-se o \\\"d\\\"\\n\\nsind(90), cosd(9…\n",
       "  2  => \"versioninfo()\"\n",
       "  16 => \"# radiandos\\n\\nsin(pi/4) , cos(pi) , tan(pi/4)\"\n",
       "  11 => \"# jogos da mega sena. Claro que não é lá essas coisas né\\n\\nrand(1:60,…\n",
       "  21 => \"# calculo anterior\\n\\nans\"\n",
       "  7  => \"(2+5)^2/(3+1)^3\"\n",
       "  9  => \"# número aleatório entre 0 e 1\\n\\nrand()\"\n",
       "  10 => \"# 6 numeros aleatorios de 0 a 10\\n\\nrand(0:10, 6)\"\n",
       "  19 => \"bin(128) ,  oct(128) , hex(128)\"\n",
       "  17 => \"coth(pi/4), csc(pi/4) , sec(pi/4)\"\n",
       "  8  => \"sin(pi/2)\"\n",
       "  22 => \"# Out[numero da celula que deseja recuperar a saída]\\n\\nOut[3] \"\n",
       "  6  => \"2^6\"\n",
       "  24 => \"# mostra todos os comandos de entrada\\n\\nIn\"\n",
       "  4  => \"10e-2\"\n",
       "  3  => \"2+5\"\n",
       "  5  => \"# e^3\\n\\nexp(3)\"\n",
       "  20 => \"4+log(125)/sqrt(5)\"\n",
       "  23 => \"# In[numero da celula que deseja recuperar a saída]\\n\\nIn[2]\"\n",
       "  13 => \"# MMC\\n\\nlcm(7,14)\"\n",
       "  14 => \"sqrt(2) , 2.0*3.0^-2\"\n",
       "  15 => \"# se usado o ponto e virgula, só será impresso a ultimo cálculo\\n\\nsqr…\n",
       "  12 => \"# MDC\\n\\ngcd(7,14)\"\n",
       "  1  => \"10e-2\""
      ]
     },
     "execution_count": 24,
     "metadata": {},
     "output_type": "execute_result"
    }
   ],
   "source": [
    "# mostra todos os comandos de entrada\n",
    "\n",
    "In"
   ]
  },
  {
   "cell_type": "code",
   "execution_count": 25,
   "metadata": {
    "collapsed": false
   },
   "outputs": [
    {
     "data": {
      "text/plain": [
       "Dict{Int64,Any} with 23 entries:\n",
       "  18 => (1.0,0.0)\n",
       "  16 => (0.7071067811865475,-1.0,0.9999999999999999)\n",
       "  11 => ([41,46,45,45,57,21],[1,1,8,1,48,5],[31,17,31,5,7,15])\n",
       "  21 => 6.159287546660801\n",
       "  7  => 0.765625\n",
       "  9  => 0.2632755453481439\n",
       "  10 => [2,3,6,3,9,9]\n",
       "  19 => (\"10000000\",\"200\",\"80\")\n",
       "  17 => (1.5248686188220641,1.4142135623730951,1.414213562373095)\n",
       "  8  => 1.0\n",
       "  22 => 7\n",
       "  6  => 64\n",
       "  24 => Dict(18=>\"# Para o angulo em grau (º), acrescenta-se o \\\"d\\\"\\n\\nsind(90…\n",
       "  4  => 0.1\n",
       "  3  => 7\n",
       "  5  => 20.085536923187668\n",
       "  20 => 6.159287546660801\n",
       "  23 => \"versioninfo()\"\n",
       "  13 => 14\n",
       "  14 => (1.4142135623730951,0.2222222222222222)\n",
       "  15 => 0.2222222222222222\n",
       "  12 => 7\n",
       "  1  => 0.1"
      ]
     },
     "execution_count": 25,
     "metadata": {},
     "output_type": "execute_result"
    }
   ],
   "source": [
    "# mostra todos os comandos de saída\n",
    "\n",
    "Out"
   ]
  },
  {
   "cell_type": "markdown",
   "metadata": {},
   "source": [
    "<strong>CALCULAR O TEMPO E PROCESSAMENTO</strong>"
   ]
  },
  {
   "cell_type": "code",
   "execution_count": 26,
   "metadata": {
    "collapsed": false
   },
   "outputs": [
    {
     "name": "stdout",
     "output_type": "stream",
     "text": [
      "  "
     ]
    },
    {
     "data": {
      "text/plain": [
       "4.543647706547242"
      ]
     },
     "execution_count": 26,
     "metadata": {},
     "output_type": "execute_result"
    }
   ],
   "source": [
    "@time sqrt((2*pi + sqrt(log(2569854.5415263))/(sin(52)*cos(log(25948.1452))))^100)*exp(sin(0.8985424))"
   ]
  },
  {
   "cell_type": "markdown",
   "metadata": {},
   "source": [
    "<strong>PRECISÃO DE NUMEROS SIGNIFICATIVOS</strong>"
   ]
  },
  {
   "cell_type": "code",
   "execution_count": 27,
   "metadata": {
    "collapsed": false,
    "scrolled": true
   },
   "outputs": [
    {
     "data": {
      "text/plain": [
       "3.1415926536"
      ]
     },
     "execution_count": 27,
     "metadata": {},
     "output_type": "execute_result"
    }
   ],
   "source": [
    "round(pi,10)"
   ]
  },
  {
   "cell_type": "markdown",
   "metadata": {
    "collapsed": false
   },
   "source": [
    "<strong>COMANDOS DE IMPRESSÃO<br></strong>"
   ]
  },
  {
   "cell_type": "markdown",
   "metadata": {},
   "source": [
    "<strong>Comando print()</strong>\n",
    "\n",
    "Escrever (para o fluxo de saída padrão) uma representação de texto ou de um valor se houver. A representação usada pelo comando inclui formatação mínima."
   ]
  },
  {
   "cell_type": "code",
   "execution_count": 28,
   "metadata": {
    "collapsed": false
   },
   "outputs": [
    {
     "name": "stdout",
     "output_type": "stream",
     "text": [
      "0.007777 seconds (5.71 k allocations: 230.447 KB)\n",
      "olá mundo"
     ]
    }
   ],
   "source": [
    "print(\"olá mundo\")"
   ]
  },
  {
   "cell_type": "markdown",
   "metadata": {},
   "source": [
    "<strong>Comando display</strong>\n",
    "\n",
    "Usa o nível superior de exibição aplicável na pilha de exibição, geralmente usando a mais rica produção multimedia com suporte para x"
   ]
  },
  {
   "cell_type": "code",
   "execution_count": 29,
   "metadata": {
    "collapsed": false
   },
   "outputs": [
    {
     "data": {
      "text/plain": [
       "\"olá mundo\""
      ]
     },
     "metadata": {},
     "output_type": "display_data"
    }
   ],
   "source": [
    "display(\"olá mundo\")"
   ]
  },
  {
   "cell_type": "markdown",
   "metadata": {},
   "source": [
    "<strong>Comando show()</strong>\n",
    "\n",
    "Semenhante ao display"
   ]
  },
  {
   "cell_type": "code",
   "execution_count": 30,
   "metadata": {
    "collapsed": false,
    "scrolled": true
   },
   "outputs": [
    {
     "name": "stdout",
     "output_type": "stream",
     "text": [
      "\"olá mundo\""
     ]
    }
   ],
   "source": [
    "show(\"olá mundo\")"
   ]
  },
  {
   "cell_type": "code",
   "execution_count": null,
   "metadata": {
    "collapsed": true
   },
   "outputs": [],
   "source": []
  }
 ],
 "metadata": {
  "kernelspec": {
   "display_name": "Julia 0.4.5",
   "language": "julia",
   "name": "julia-0.4"
  },
  "language_info": {
   "file_extension": ".jl",
   "mimetype": "application/julia",
   "name": "julia",
   "version": "0.4.5"
  }
 },
 "nbformat": 4,
 "nbformat_minor": 0
}
