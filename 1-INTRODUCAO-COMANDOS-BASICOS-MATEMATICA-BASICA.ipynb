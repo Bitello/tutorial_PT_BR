{
 "cells": [
  {
   "cell_type": "markdown",
   "metadata": {},
   "source": [
    "#** INTRODUÇÃO JULIA ** #\n",
    "\n",
    "**Histórico**\n",
    "\n",
    "*   Julia é uma linguagem de programação dinâmica de alto nível projetado para atender os requisitos da computação de alto desempenho numérico e científica , sendo também eficaz para a programação de propósito geral. Julia é escrito em C , C++, e Scheme, usando a estrutura do compilador LLVM , enquanto a maior parte da biblioteca padrão de Julia é implementado na própria Julia. O desenvolvimento de Julia começou em 2009 e uma versão de código aberto foi divulgado em fevereiro de 2012\\. Alguns aspectos incomuns do projeto Julia incluem ter um sistema sofisticado, com tipos paramétricos dependentes de uma linguagem de programação totalmente dinâmico e adotando expedição múltipla como seu paradigma de programação do núcleo. Cada um desses recursos tem aparecido em dialetos Lisp , como Common Lisp e Dylan, mas a combinação dos dois em um único idioma é único ( ver recursos de linguagem ) . O aspecto mais notável da implementação da Julia é o seu desempenho, que muitas vezes é o dobro do código C , totalmente otimizado, colocando-o no reino de linguagens compiladas de alto desempenho. Julia se inspira significativamente em Matlab e vários dialetos de Lisp , incluindo Scheme e Common Lisp , e compartilha muitas características com Dylan - uma outra linguagem dinâmica múltipla orientada a expedição com a sintaxe - e Fortress (linguagem de programação), outra linguagem de programação numérica com expedição múltipla e um sofisticado sistema de tipo paramétrico . Enquanto CLOS acrescenta expedição múltipla para Common Lisp , a adição é opt-in : funções só definidos pelo usuário explicitamente declarados genérico pode ser estendida. Em Julia , Dylan e Fortress, por outro lado, essa extensibilidade é o padrão e funções internas do sistema são todos genéricos e extensíveis.\n",
    "\n",
    "**Características da Linguagem de Programação**\n",
    "\n",
    "*   Julia é extensível a partir da utilização de módulos carregáveis.\n",
    "*   O interpretador do Julia trabalha em conjunto com os softwares gnuplot e Grace para plotar gráficos, grafos e para salva-los.\n",
    "\n",
    "**Aplicações**\n",
    "\n",
    "*   Julia é projetado para resolver problemas matemáticos numericamente, que consiste em calcular os valores na memória do computador. Isso significa que nem sempre ele não poderá dar uma solução analítica para um problema, e não deve ser confundido com programas como o Mathematica ou Maple, que trablham com soluções simbólicas, fazendo a manipulação algébrica. Isso não significa que seja melhor ou pior - ele é utilizado para diferentes tarefas. A maioria dos problemas matemáticos reais (particularmente em engenharia) não têm soluções simbólicas puras."
   ]
  },
  {
   "cell_type": "markdown",
   "metadata": {},
   "source": [
    "%%% Fim Introdução %%%"
   ]
  },
  {
   "cell_type": "markdown",
   "metadata": {},
   "source": [
    "##O QUE JULIA É CAPAZ DE FAZER##"
   ]
  },
  {
   "cell_type": "markdown",
   "metadata": {
    "collapsed": true
   },
   "source": [
    "<table class=\"benchmarks\">\n",
    "      <colgroup>\n",
    "        <col class=\"name\">\n",
    "        <col class=\"relative\" span=\"11\">\n",
    "      </colgroup>\n",
    "      <thead>\n",
    "        <tr>\n",
    "          <td><br>\n",
    "          </td>\n",
    "          <th class=\"system\">Fortran</th>\n",
    "          <th class=\"system\">Julia</th>\n",
    "          <th class=\"system\">Python</th>\n",
    "          <th class=\"system\">R</th>\n",
    "          <th class=\"system\">Matlab</th>\n",
    "          <th class=\"system\">Octave</th>\n",
    "          <th class=\"system\">Mathe-matica</th>\n",
    "          <th class=\"system\">JavaScript</th>\n",
    "          <th class=\"system\">Go</th>\n",
    "          <th class=\"system\">LuaJIT</th>\n",
    "          <th class=\"system\">Java</th>\n",
    "        </tr>\n",
    "        <tr>\n",
    "          <td><br>\n",
    "          </td>\n",
    "          <td class=\"version\">gcc 5.1.1\n",
    "          </td>\n",
    "          <td class=\"version\">0.4.0\n",
    "          </td>\n",
    "          <td class=\"version\">3.4.3\n",
    "          </td>\n",
    "          <td class=\"version\">3.2.2\n",
    "          </td>\n",
    "          <td class=\"version\">R2015b\n",
    "          </td>\n",
    "          <td class=\"version\">4.0.0\n",
    "          </td>\n",
    "          <td class=\"version\">10.2.0\n",
    "          </td>\n",
    "          <td class=\"version\">V8 3.28.71.19\n",
    "          </td>\n",
    "          <td class=\"version\">go1.5\n",
    "          </td>\n",
    "          <td class=\"version\">gsl-shell 2.3.1\n",
    "          </td>\n",
    "          <td class=\"version\">1.8.0_45\n",
    "          </td>\n",
    "        </tr>\n",
    "      </thead>\n",
    "      <tbody>\n",
    "        <tr>\n",
    "          <th>fib</th>\n",
    "          <td class=\"data\">0.70</td>\n",
    "          <td class=\"data\">2.11</td>\n",
    "          <td class=\"data\">77.76</td>\n",
    "          <td class=\"data\">533.52</td>\n",
    "          <td class=\"data\">26.89</td>\n",
    "          <td class=\"data\">9324.35</td>\n",
    "          <td class=\"data\">118.53</td>\n",
    "          <td class=\"data\">3.36</td>\n",
    "          <td class=\"data\">1.86</td>\n",
    "          <td class=\"data\">1.71</td>\n",
    "          <td class=\"data\">1.21</td>\n",
    "        </tr>\n",
    "        <tr>\n",
    "          <th>parse_int</th>\n",
    "          <td class=\"data\">5.05</td>\n",
    "          <td class=\"data\">1.45</td>\n",
    "          <td class=\"data\">17.02</td>\n",
    "          <td class=\"data\">45.73</td>\n",
    "          <td class=\"data\">802.52</td>\n",
    "          <td class=\"data\">9581.44</td>\n",
    "          <td class=\"data\">15.02</td>\n",
    "          <td class=\"data\">6.06</td>\n",
    "          <td class=\"data\">1.20</td>\n",
    "          <td class=\"data\">5.77</td>\n",
    "          <td class=\"data\">3.35</td>\n",
    "        </tr>\n",
    "        <tr>\n",
    "          <th>quicksort</th>\n",
    "          <td class=\"data\">1.31</td>\n",
    "          <td class=\"data\">1.15</td>\n",
    "          <td class=\"data\">32.89</td>\n",
    "          <td class=\"data\">264.54</td>\n",
    "          <td class=\"data\">4.92</td>\n",
    "          <td class=\"data\">1866.01</td>\n",
    "          <td class=\"data\">43.23</td>\n",
    "          <td class=\"data\">2.70</td>\n",
    "          <td class=\"data\">1.29</td>\n",
    "          <td class=\"data\">2.03</td>\n",
    "          <td class=\"data\">2.60</td>\n",
    "        </tr>\n",
    "        <tr>\n",
    "          <th>mandel</th>\n",
    "          <td class=\"data\">0.81</td>\n",
    "          <td class=\"data\">0.79</td>\n",
    "          <td class=\"data\">15.32</td>\n",
    "          <td class=\"data\">53.16</td>\n",
    "          <td class=\"data\">7.58</td>\n",
    "          <td class=\"data\">451.81</td>\n",
    "          <td class=\"data\">5.13</td>\n",
    "          <td class=\"data\">0.66</td>\n",
    "          <td class=\"data\">1.11</td>\n",
    "          <td class=\"data\">0.67</td>\n",
    "          <td class=\"data\">1.35</td>\n",
    "        </tr>\n",
    "        <tr>\n",
    "          <th>pi_sum</th>\n",
    "          <td class=\"data\">1.00</td>\n",
    "          <td class=\"data\">1.00</td>\n",
    "          <td class=\"data\">21.99</td>\n",
    "          <td class=\"data\">9.56</td>\n",
    "          <td class=\"data\">1.00</td>\n",
    "          <td class=\"data\">299.31</td>\n",
    "          <td class=\"data\">1.69</td>\n",
    "          <td class=\"data\">1.01</td>\n",
    "          <td class=\"data\">1.00</td>\n",
    "          <td class=\"data\">1.00</td>\n",
    "          <td class=\"data\">1.00</td>\n",
    "        </tr>\n",
    "        <tr>\n",
    "          <th>rand_mat_stat</th>\n",
    "          <td class=\"data\">1.45</td>\n",
    "          <td class=\"data\">1.66</td>\n",
    "          <td class=\"data\">17.93</td>\n",
    "          <td class=\"data\">14.56</td>\n",
    "          <td class=\"data\">14.52</td>\n",
    "          <td class=\"data\">30.93</td>\n",
    "          <td class=\"data\">5.95</td>\n",
    "          <td class=\"data\">2.30</td>\n",
    "          <td class=\"data\">2.96</td>\n",
    "          <td class=\"data\">3.27</td>\n",
    "          <td class=\"data\">3.92</td>\n",
    "        </tr>\n",
    "        <tr>\n",
    "          <th>rand_mat_mul</th>\n",
    "          <td class=\"data\">3.48</td>\n",
    "          <td class=\"data\">1.02</td>\n",
    "          <td class=\"data\">1.14</td>\n",
    "          <td class=\"data\">1.57</td>\n",
    "          <td class=\"data\">1.12</td>\n",
    "          <td class=\"data\">1.12</td>\n",
    "          <td class=\"data\">1.30</td>\n",
    "          <td class=\"data\">15.07</td>\n",
    "          <td class=\"data\">1.42</td>\n",
    "          <td class=\"data\">1.16</td>\n",
    "          <td class=\"data\">2.36</td>\n",
    "        </tr>\n",
    "      </tbody>\n",
    "    </table>"
   ]
  },
  {
   "cell_type": "markdown",
   "metadata": {},
   "source": [
    "##COMPARAÇÃO COM OUTROS SOFTWARES DE COMPUTAÇÃO CIENTÍFICA</big></big>"
   ]
  },
  {
   "cell_type": "markdown",
   "metadata": {},
   "source": [
    "<strong>JULIA X MATLAB</strong>"
   ]
  },
  {
   "cell_type": "markdown",
   "metadata": {},
   "source": []
  },
  {
   "cell_type": "markdown",
   "metadata": {},
   "source": [
    "<strong>JULIA X PYTHON</strong>"
   ]
  },
  {
   "cell_type": "markdown",
   "metadata": {},
   "source": []
  },
  {
   "cell_type": "markdown",
   "metadata": {},
   "source": [
    "<strong>JULIA X R</strong>"
   ]
  },
  {
   "cell_type": "markdown",
   "metadata": {},
   "source": []
  },
  {
   "cell_type": "markdown",
   "metadata": {},
   "source": [
    "<strong>JULIA X FORTRAN</strong>"
   ]
  },
  {
   "cell_type": "markdown",
   "metadata": {},
   "source": []
  },
  {
   "cell_type": "markdown",
   "metadata": {},
   "source": [
    "<strong>JULIA X C</strong>"
   ]
  },
  {
   "cell_type": "markdown",
   "metadata": {},
   "source": []
  },
  {
   "cell_type": "markdown",
   "metadata": {
    "collapsed": false,
    "raw_mimetype": "text/latex"
   },
   "source": [
    "<big style=\"font-weight: bold;\"><big>COMANDOS BÁSICOS E MATEMÁTICA BÁSICA</big></big>"
   ]
  },
  {
   "cell_type": "code",
   "execution_count": 1,
   "metadata": {
    "collapsed": false
   },
   "outputs": [
    {
     "name": "stdout",
     "output_type": "stream",
     "text": [
      "Julia Version 0.4.5\n"
     ]
    }
   ],
   "source": [
    "versioninfo()"
   ]
  },
  {
   "cell_type": "code",
   "execution_count": 2,
   "metadata": {
    "collapsed": false,
    "scrolled": true
   },
   "outputs": [
    {
     "data": {
      "text/plain": [
       "7"
      ]
     },
     "execution_count": 2,
     "metadata": {},
     "output_type": "execute_result"
    }
   ],
   "source": [
    "2+5"
   ]
  },
  {
   "cell_type": "code",
   "execution_count": 3,
   "metadata": {
    "collapsed": false
   },
   "outputs": [
    {
     "name": "stdout",
     "output_type": "stream",
     "text": [
      "Commit 2ac304d (2016-03-18 00:58 UTC)\n",
      "Platform Info:\n",
      "  System: Linux (x86_64-unknown-linux-gnu)\n",
      "  CPU: Intel(R) Xeon(R) CPU E5-2670 v2 @ 2.50GHz\n",
      "  WORD_SIZE: 64\n",
      "  BLAS: libopenblas (USE64BITINT DYNAMIC_ARCH NO_AFFINITY Sandybridge)\n",
      "  LAPACK: libopenblas64_\n",
      "  LIBM: libopenlibm\n",
      "  LLVM: libLLVM-3.3\n"
     ]
    },
    {
     "data": {
      "text/plain": [
       "0.1"
      ]
     },
     "execution_count": 3,
     "metadata": {},
     "output_type": "execute_result"
    }
   ],
   "source": [
    "10e-2"
   ]
  },
  {
   "cell_type": "code",
   "execution_count": 4,
   "metadata": {
    "collapsed": false
   },
   "outputs": [
    {
     "data": {
      "text/plain": [
       "20.085536923187668"
      ]
     },
     "execution_count": 4,
     "metadata": {},
     "output_type": "execute_result"
    }
   ],
   "source": [
    "# e^3\n",
    "\n",
    "exp(3)"
   ]
  },
  {
   "cell_type": "code",
   "execution_count": 5,
   "metadata": {
    "collapsed": false
   },
   "outputs": [
    {
     "data": {
      "text/plain": [
       "64"
      ]
     },
     "execution_count": 5,
     "metadata": {},
     "output_type": "execute_result"
    }
   ],
   "source": [
    "2^6"
   ]
  },
  {
   "cell_type": "code",
   "execution_count": 6,
   "metadata": {
    "collapsed": false
   },
   "outputs": [
    {
     "data": {
      "text/plain": [
       "0.765625"
      ]
     },
     "execution_count": 6,
     "metadata": {},
     "output_type": "execute_result"
    }
   ],
   "source": [
    "(2+5)^2/(3+1)^3"
   ]
  },
  {
   "cell_type": "code",
   "execution_count": 7,
   "metadata": {
    "collapsed": false,
    "scrolled": true
   },
   "outputs": [
    {
     "data": {
      "text/plain": [
       "1.0"
      ]
     },
     "execution_count": 7,
     "metadata": {},
     "output_type": "execute_result"
    }
   ],
   "source": [
    "sin(pi/2)"
   ]
  },
  {
   "cell_type": "code",
   "execution_count": 8,
   "metadata": {
    "collapsed": false,
    "scrolled": true
   },
   "outputs": [
    {
     "data": {
      "text/plain": [
       "0.27153653617250795"
      ]
     },
     "execution_count": 8,
     "metadata": {},
     "output_type": "execute_result"
    }
   ],
   "source": [
    "# número aleatório entre 0 e 1\n",
    "\n",
    "rand()"
   ]
  },
  {
   "cell_type": "code",
   "execution_count": 9,
   "metadata": {
    "collapsed": false
   },
   "outputs": [
    {
     "data": {
      "text/plain": [
       "6-element Array{Int64,1}:\n",
       "  5\n",
       " 10\n",
       "  0\n",
       "  8\n",
       "  4\n",
       "  9"
      ]
     },
     "execution_count": 9,
     "metadata": {},
     "output_type": "execute_result"
    }
   ],
   "source": [
    "# 6 numeros aleatorios de 0 a 10\n",
    "\n",
    "rand(0:10, 6)"
   ]
  },
  {
   "cell_type": "code",
   "execution_count": 10,
   "metadata": {
    "collapsed": false
   },
   "outputs": [
    {
     "data": {
      "text/plain": [
       "([46,33,43,25,17,43],[31,35,35,4,54,38],[12,56,43,14,15,40])"
      ]
     },
     "execution_count": 10,
     "metadata": {},
     "output_type": "execute_result"
    }
   ],
   "source": [
    "# jogos da mega sena. Claro que não é lá essas coisas né\n",
    "\n",
    "rand(1:60,6), rand(1:60,6),rand(1:60,6)"
   ]
  },
  {
   "cell_type": "code",
   "execution_count": 19,
   "metadata": {
    "collapsed": false
   },
   "outputs": [
    {
     "data": {
      "text/plain": [
       "7"
      ]
     },
     "execution_count": 19,
     "metadata": {},
     "output_type": "execute_result"
    }
   ],
   "source": [
    "# MDC\n",
    "\n",
    "gcd(7,14)"
   ]
  },
  {
   "cell_type": "code",
   "execution_count": 10,
   "metadata": {
    "collapsed": false
   },
   "outputs": [
    {
     "data": {
      "text/plain": [
       "14"
      ]
     },
     "execution_count": 10,
     "metadata": {},
     "output_type": "execute_result"
    }
   ],
   "source": [
    "# MMC\n",
    "\n",
    "lcm(7,14)"
   ]
  },
  {
   "cell_type": "markdown",
   "metadata": {},
   "source": [
    "<strong>Multiplos calculos</strong>\n",
    "\n",
    "O uso a vírgula \" , \" permite efetuar mais de uma expressão"
   ]
  },
  {
   "cell_type": "code",
   "execution_count": 20,
   "metadata": {
    "collapsed": false
   },
   "outputs": [
    {
     "data": {
      "text/plain": [
       "0.2222222222222222"
      ]
     },
     "execution_count": 20,
     "metadata": {},
     "output_type": "execute_result"
    }
   ],
   "source": [
    "sqrt(2) , 2.0*3.0^-2"
   ]
  },
  {
   "cell_type": "code",
   "execution_count": 21,
   "metadata": {
    "collapsed": false
   },
   "outputs": [
    {
     "data": {
      "text/plain": [
       "0.2222222222222222"
      ]
     },
     "execution_count": 21,
     "metadata": {},
     "output_type": "execute_result"
    }
   ],
   "source": [
    "# se usado o ponto e virgula, só será impresso a ultimo cálculo\n",
    "\n",
    "sqrt(2) ; 2.0*3.0^-2"
   ]
  },
  {
   "cell_type": "markdown",
   "metadata": {},
   "source": [
    "<strong> Cálculo trigonometrico/Hiperbólico </strong>\n",
    "\n",
    "sin(x)    cos(x)    tan(x)    cot(x)    sec(x)    csc(x)  sinh(x)   cosh(x)   tanh(x)   coth(x)   sech(x)   csch(x)\n",
    "\n",
    "\n",
    "asin(x)   acos(x)   atan(x)   acot(x)   asec(x)   acsc(x)  acoth(x)  asech(x)  acsch(x)  sinc(x)   cosc(x)   atan2(x)"
   ]
  },
  {
   "cell_type": "code",
   "execution_count": 14,
   "metadata": {
    "collapsed": false,
    "scrolled": true
   },
   "outputs": [
    {
     "data": {
      "text/plain": [
       "(0.7071067811865475,-1.0,0.9999999999999999)"
      ]
     },
     "execution_count": 14,
     "metadata": {},
     "output_type": "execute_result"
    }
   ],
   "source": [
    "# radiandos\n",
    "\n",
    "sin(pi/4) , cos(pi) , tan(pi/4)"
   ]
  },
  {
   "cell_type": "code",
   "execution_count": 33,
   "metadata": {
    "collapsed": false
   },
   "outputs": [
    {
     "data": {
      "text/plain": [
       "(1.5248686188220641,1.4142135623730951,1.414213562373095)"
      ]
     },
     "execution_count": 33,
     "metadata": {},
     "output_type": "execute_result"
    }
   ],
   "source": [
    "coth(pi/4), csc(pi/4) , sec(pi/4)"
   ]
  },
  {
   "cell_type": "code",
   "execution_count": 15,
   "metadata": {
    "collapsed": false,
    "scrolled": true
   },
   "outputs": [
    {
     "data": {
      "text/plain": [
       "(1.0,0.0)"
      ]
     },
     "execution_count": 15,
     "metadata": {},
     "output_type": "execute_result"
    }
   ],
   "source": [
    "# Para o angulo em grau (º), acrescenta-se o \"d\"\n",
    "\n",
    "sind(90), cosd(90)"
   ]
  },
  {
   "cell_type": "markdown",
   "metadata": {},
   "source": [
    "<strong> Cálculo Angular </strong>"
   ]
  },
  {
   "cell_type": "code",
   "execution_count": null,
   "metadata": {
    "collapsed": true
   },
   "outputs": [],
   "source": []
  },
  {
   "cell_type": "markdown",
   "metadata": {},
   "source": [
    "<strong> Cálculo Exponenial/Logaritimo </strong>"
   ]
  },
  {
   "cell_type": "code",
   "execution_count": null,
   "metadata": {
    "collapsed": false
   },
   "outputs": [],
   "source": []
  },
  {
   "cell_type": "markdown",
   "metadata": {},
   "source": [
    "<strong> Binario/Octal/Hexadecimal </strong>"
   ]
  },
  {
   "cell_type": "code",
   "execution_count": 37,
   "metadata": {
    "collapsed": false
   },
   "outputs": [
    {
     "data": {
      "text/plain": [
       "(\"10000000\",\"200\",\"80\")"
      ]
     },
     "execution_count": 37,
     "metadata": {},
     "output_type": "execute_result"
    }
   ],
   "source": [
    "bin(128) ,  oct(128) , hex(128)"
   ]
  },
  {
   "cell_type": "markdown",
   "metadata": {},
   "source": [
    "<strong> Cálculo Financeiro </strong>"
   ]
  },
  {
   "cell_type": "code",
   "execution_count": null,
   "metadata": {
    "collapsed": true
   },
   "outputs": [],
   "source": []
  },
  {
   "cell_type": "markdown",
   "metadata": {},
   "source": [
    "<strong> Cálculo Horário </strong>"
   ]
  },
  {
   "cell_type": "code",
   "execution_count": null,
   "metadata": {
    "collapsed": true
   },
   "outputs": [],
   "source": []
  },
  {
   "cell_type": "markdown",
   "metadata": {},
   "source": [
    "<strong> Resumo Principais Comandos </strong>"
   ]
  },
  {
   "cell_type": "markdown",
   "metadata": {},
   "source": [
    "<table style=\"height: 378px; border-color: 0;\" border=\"1\" width=\"491\" cellspacing=\"0\"><colgroup width=\"619\"></colgroup>\n",
    "<tbody>\n",
    "<tr>\n",
    "<td align=\"left\" height=\"17\">round (x) - arredonda para o n&uacute;mero inteiro mais pr&oacute;ximo.</td>\n",
    "</tr>\n",
    "<tr>\n",
    "<td align=\"left\" height=\"17\">iround (x) - arredonda para o n&uacute;mero inteiro mais pr&oacute;ximo, dando um resultado digitado-inteiro.</td>\n",
    "</tr>\n",
    "<tr>\n",
    "<td align=\"left\" height=\"17\">floor (x) - arredonda dire&ccedil;&atilde;o -Inf.</td>\n",
    "</tr>\n",
    "<tr>\n",
    "<td align=\"left\" height=\"17\">ifloor (x) - arredonda dire&ccedil;&atilde;o -Inf, dando um resultado digitado-inteiro.</td>\n",
    "</tr>\n",
    "<tr>\n",
    "<td align=\"left\" height=\"17\">ceil (x) - arredonda dire&ccedil;&atilde;o + Inf.</td>\n",
    "</tr>\n",
    "<tr>\n",
    "<td align=\"left\" height=\"17\">iceil (x) - arredonda dire&ccedil;&atilde;o + Inf, dando um resultado digitado-inteiro.</td>\n",
    "</tr>\n",
    "<tr>\n",
    "<td align=\"left\" height=\"17\">trunc (x) - arredonda para zero.</td>\n",
    "</tr>\n",
    "<tr>\n",
    "<td align=\"left\" height=\"17\">itrunc (x) - arredonda para zero, dando um resultado digitado-inteiro.</td>\n",
    "</tr>\n",
    "<tr>\n",
    "<td align=\"left\" height=\"17\">div (x, y) - truncado divis&atilde;o; quociente truncado.</td>\n",
    "</tr>\n",
    "<tr>\n",
    "<td align=\"left\" height=\"17\">fld (x, y) - divis&atilde;o de piso; quociente arredondado em dire&ccedil;&atilde;o -Inf.</td>\n",
    "</tr>\n",
    "<tr>\n",
    "<td align=\"left\" height=\"17\">rem (x, y) - restante; satisfaz x == div (x, y) * + y rem (x, y), o que implica que corresponde sinal x.</td>\n",
    "</tr>\n",
    "<tr>\n",
    "<td align=\"left\" height=\"17\">mod (x, y) - m&oacute;dulo; satisfaz x == fld (x, y) * + y mod (x, y), o que implica que o sinal corresponde y.</td>\n",
    "</tr>\n",
    "<tr>\n",
    "<td align=\"left\" height=\"17\">gcd (x, y ...) - m&aacute;ximo divisor comum de x, y ... com correspond&ecirc;ncia sinal x.</td>\n",
    "</tr>\n",
    "<tr>\n",
    "<td align=\"left\" height=\"17\">lcm (x, y ...) - menos m&uacute;ltiplo comum de x, y ... com correspond&ecirc;ncia sinal x.</td>\n",
    "</tr>\n",
    "<tr>\n",
    "<td align=\"left\" height=\"17\">ABS (X) - um valor positivo com a magnitude de x.</td>\n",
    "</tr>\n",
    "<tr>\n",
    "<td align=\"left\" height=\"17\">Abs2 (X) - a magnitude quadrada de x.</td>\n",
    "</tr>\n",
    "<tr>\n",
    "<td align=\"left\" height=\"17\">sinal (X) - indica o sinal de x, retornando -1, 0, ou 1.</td>\n",
    "</tr>\n",
    "<tr>\n",
    "<td align=\"left\" height=\"17\">signbit (x) - indica se o bit de sinal est&aacute; ligado (1) ou desligado (0).</td>\n",
    "</tr>\n",
    "</tbody>\n",
    "</table>\n",
    "<p>Mais ainda</p>\n",
    "<table style=\"height: 378px;\" border=\"1\" width=\"490\" cellspacing=\"0\"><colgroup width=\"619\"></colgroup>\n",
    "<tbody>\n",
    "<tr>\n",
    "<td align=\"left\" height=\"17\">copysign (x, y) - um valor com a magnitude de x e o sinal do y.</td>\n",
    "</tr>\n",
    "<tr>\n",
    "<td align=\"left\" height=\"17\">flipsign (x, y) - um valor com a magnitude de X e o sinal de x * y.</td>\n",
    "</tr>\n",
    "<tr>\n",
    "<td align=\"left\" height=\"17\">sqrt (X) - a raiz quadrada de x.</td>\n",
    "</tr>\n",
    "<tr>\n",
    "<td align=\"left\" height=\"17\">cbrt (x) - a raiz c&uacute;bica de x.</td>\n",
    "</tr>\n",
    "<tr>\n",
    "<td align=\"left\" height=\"17\">hypot (x, y) - sqrt precisas (x + y ^ 2 ^ 2) para todos os valores de x e y.</td>\n",
    "</tr>\n",
    "<tr>\n",
    "<td align=\"left\" height=\"17\">exp (x) - a fun&ccedil;&atilde;o exponencial natural em x.</td>\n",
    "</tr>\n",
    "<tr>\n",
    "<td align=\"left\" height=\"17\">expm1 (X) - exp precisas (x) -1 x para perto de zero.</td>\n",
    "</tr>\n",
    "<tr>\n",
    "<td align=\"left\" height=\"17\">ldexp (x, n) - x * 2 ^ n calculado de forma eficiente para valores inteiros de n.</td>\n",
    "</tr>\n",
    "<tr>\n",
    "<td align=\"left\" height=\"17\">log (x) - o logaritmo natural de x.</td>\n",
    "</tr>\n",
    "<tr>\n",
    "<td align=\"left\" height=\"17\">log (b, x) - a base b logaritmo de x.</td>\n",
    "</tr>\n",
    "<tr>\n",
    "<td align=\"left\" height=\"17\">log2 (x) - o logaritmo de base 2 x.</td>\n",
    "</tr>\n",
    "<tr>\n",
    "<td align=\"left\" height=\"17\">log10 (x) - o logaritmo de base 10 de x.</td>\n",
    "</tr>\n",
    "<tr>\n",
    "<td align=\"left\" height=\"17\">log1p (X) - registo preciso (1 + x) x para perto de zero.</td>\n",
    "</tr>\n",
    "<tr>\n",
    "<td align=\"left\" height=\"17\">logb (x) - retorna o expoente bin&aacute;rio de x.</td>\n",
    "</tr>\n",
    "<tr>\n",
    "<td align=\"left\" height=\"17\">erf (x) - a fun&ccedil;&atilde;o de erro em x.</td>\n",
    "</tr>\n",
    "<tr>\n",
    "<td align=\"left\" height=\"17\">ERFC (x) - precisas 1-erf (x) para a grande x.</td>\n",
    "</tr>\n",
    "<tr>\n",
    "<td align=\"left\" height=\"17\">gama (X) - a fun&ccedil;&atilde;o gama em x.</td>\n",
    "</tr>\n",
    "<tr>\n",
    "<td align=\"left\" height=\"17\">lgamma (X) - precisas de log (gama (x)), de maior x.</td>\n",
    "</tr>\n",
    "</tbody>\n",
    "</table>"
   ]
  },
  {
   "cell_type": "markdown",
   "metadata": {},
   "source": [
    "<strong>MEMÓRIAS DE CÉLULAS</strong>"
   ]
  },
  {
   "cell_type": "code",
   "execution_count": 2,
   "metadata": {
    "collapsed": false,
    "scrolled": true
   },
   "outputs": [
    {
     "data": {
      "text/plain": [
       "6.159287546660801"
      ]
     },
     "execution_count": 2,
     "metadata": {},
     "output_type": "execute_result"
    }
   ],
   "source": [
    "4+log(125)/sqrt(5)"
   ]
  },
  {
   "cell_type": "code",
   "execution_count": 3,
   "metadata": {
    "collapsed": false
   },
   "outputs": [
    {
     "data": {
      "text/plain": [
       "6.159287546660801"
      ]
     },
     "execution_count": 3,
     "metadata": {},
     "output_type": "execute_result"
    }
   ],
   "source": [
    "# calculo anterior\n",
    "\n",
    "ans"
   ]
  },
  {
   "cell_type": "code",
   "execution_count": 5,
   "metadata": {
    "collapsed": false,
    "scrolled": true
   },
   "outputs": [
    {
     "data": {
      "text/plain": [
       "6.159287546660801"
      ]
     },
     "execution_count": 5,
     "metadata": {},
     "output_type": "execute_result"
    }
   ],
   "source": [
    "# Out[numero da celula que deseja recuperar a saída]\n",
    "\n",
    "Out[3] "
   ]
  },
  {
   "cell_type": "code",
   "execution_count": 8,
   "metadata": {
    "collapsed": false
   },
   "outputs": [
    {
     "data": {
      "text/plain": [
       "\"4+log(125)/sqrt(5)\""
      ]
     },
     "execution_count": 8,
     "metadata": {},
     "output_type": "execute_result"
    }
   ],
   "source": [
    "# In[numero da celula que deseja recuperar a saída]\n",
    "\n",
    "In[2]"
   ]
  },
  {
   "cell_type": "markdown",
   "metadata": {},
   "source": [
    "<strong>Historico dos Comandos</strong>"
   ]
  },
  {
   "cell_type": "code",
   "execution_count": 14,
   "metadata": {
    "collapsed": false,
    "scrolled": true
   },
   "outputs": [
    {
     "data": {
      "text/plain": [
       "Dict{Int64,UTF8String} with 14 entries:\n",
       "  2  => \"2+5\"\n",
       "  11 => \"4+log(125)/sqrt(5)\"\n",
       "  7  => \"sin(pi/2)\"\n",
       "  9  => \"# 6 numeros aleatorios de 0 a 10\\n\\nrand(0:10, 6)\"\n",
       "  10 => \"# jogos da mega sena. Claro que não é lá essas coisas né\\n\\nrand(1:60,…\n",
       "  8  => \"# número aleatório entre 0 e 1\\n\\nrand()\"\n",
       "  6  => \"(2+5)^2/(3+1)^3\"\n",
       "  4  => \"# e^3\\n\\nexp(3)\"\n",
       "  3  => \"10e-2\"\n",
       "  5  => \"2^6\"\n",
       "  13 => \"# In[numero da celula que deseja recuperar a saída]\\n\\nIn[7]\"\n",
       "  14 => \"# mostra todos os comandos de entrada\\n\\nIn\"\n",
       "  12 => \"# Out[numero da celula que deseja recuperar a saída]\\n\\nOut[7] \"\n",
       "  1  => \"versioninfo()\""
      ]
     },
     "execution_count": 14,
     "metadata": {},
     "output_type": "execute_result"
    }
   ],
   "source": [
    "# mostra todos os comandos de entrada\n",
    "\n",
    "In"
   ]
  },
  {
   "cell_type": "code",
   "execution_count": 15,
   "metadata": {
    "collapsed": false
   },
   "outputs": [
    {
     "data": {
      "text/plain": [
       "Dict{Int64,Any} with 13 entries:\n",
       "  2  => 7\n",
       "  11 => 6.159287546660801\n",
       "  7  => 1.0\n",
       "  9  => [5,10,0,8,4,9]\n",
       "  10 => ([46,33,43,25,17,43],[31,35,35,4,54,38],[12,56,43,14,15,40])\n",
       "  8  => 0.27153653617250795\n",
       "  6  => 0.765625\n",
       "  4  => 20.085536923187668\n",
       "  3  => 0.1\n",
       "  5  => 64\n",
       "  13 => \"sin(pi/2)\"\n",
       "  14 => Dict(2=>\"2+5\",11=>\"4+log(125)/sqrt(5)\",7=>\"sin(pi/2)\",9=>\"# 6 numeros a…\n",
       "  12 => 1.0"
      ]
     },
     "execution_count": 15,
     "metadata": {},
     "output_type": "execute_result"
    }
   ],
   "source": [
    "# mostra todos os comandos de saída\n",
    "\n",
    "Out"
   ]
  },
  {
   "cell_type": "markdown",
   "metadata": {},
   "source": [
    "<strong>CALCULAR O TEMPO E PROCESSAMENTO</strong>"
   ]
  },
  {
   "cell_type": "code",
   "execution_count": 26,
   "metadata": {
    "collapsed": false
   },
   "outputs": [
    {
     "name": "stdout",
     "output_type": "stream",
     "text": [
      "  "
     ]
    },
    {
     "data": {
      "text/plain": [
       "4.543647706547242"
      ]
     },
     "execution_count": 26,
     "metadata": {},
     "output_type": "execute_result"
    },
    {
     "name": "stdout",
     "output_type": "stream",
     "text": [
      "0.000015 seconds (18 allocations: 384 bytes)\n"
     ]
    }
   ],
   "source": [
    "@time sqrt((2*pi + sqrt(log(2569854.5415263))/(sin(52)*cos(log(25948.1452))))^100)*exp(sin(0.8985424))"
   ]
  },
  {
   "cell_type": "markdown",
   "metadata": {},
   "source": [
    "<strong>PRECISÃO DE NUMEROS SIGNIFICATIVOS</strong>"
   ]
  },
  {
   "cell_type": "code",
   "execution_count": 22,
   "metadata": {
    "collapsed": false,
    "scrolled": true
   },
   "outputs": [
    {
     "data": {
      "text/plain": [
       "3.1415926536"
      ]
     },
     "execution_count": 22,
     "metadata": {},
     "output_type": "execute_result"
    }
   ],
   "source": [
    "round(pi,10)"
   ]
  },
  {
   "cell_type": "markdown",
   "metadata": {
    "collapsed": false
   },
   "source": [
    "<strong>COMANDOS DE IMPRESSÃO<br></strong>"
   ]
  },
  {
   "cell_type": "markdown",
   "metadata": {},
   "source": [
    "<strong>Comando print()</strong>\n",
    "\n",
    "Escrever (para o fluxo de saída padrão) uma representação de texto ou de um valor se houver. A representação usada pelo comando inclui formatação mínima."
   ]
  },
  {
   "cell_type": "code",
   "execution_count": 27,
   "metadata": {
    "collapsed": false
   },
   "outputs": [
    {
     "name": "stdout",
     "output_type": "stream",
     "text": [
      "olá mundo"
     ]
    }
   ],
   "source": [
    "print(\"olá mundo\")"
   ]
  },
  {
   "cell_type": "markdown",
   "metadata": {},
   "source": [
    "<strong>Comando display</strong>\n",
    "\n",
    "Usa o nível superior de exibição aplicável na pilha de exibição, geralmente usando a mais rica produção multimedia com suporte para x"
   ]
  },
  {
   "cell_type": "code",
   "execution_count": 29,
   "metadata": {
    "collapsed": false
   },
   "outputs": [
    {
     "data": {
      "text/plain": [
       "\"olá mundo\""
      ]
     },
     "metadata": {},
     "output_type": "display_data"
    }
   ],
   "source": [
    "display(\"olá mundo\")"
   ]
  },
  {
   "cell_type": "markdown",
   "metadata": {},
   "source": [
    "<strong>Comando show()</strong>\n",
    "\n",
    "Semenhante ao display"
   ]
  },
  {
   "cell_type": "code",
   "execution_count": 28,
   "metadata": {
    "collapsed": false
   },
   "outputs": [
    {
     "name": "stdout",
     "output_type": "stream",
     "text": [
      "\"olá mundo\""
     ]
    }
   ],
   "source": [
    "show(\"olá mundo\")"
   ]
  },
  {
   "cell_type": "code",
   "execution_count": null,
   "metadata": {
    "collapsed": true
   },
   "outputs": [],
   "source": []
  }
 ],
 "metadata": {
  "kernelspec": {
   "display_name": "Julia 0.4.5",
   "language": "julia",
   "name": "julia-0.4"
  },
  "language_info": {
   "file_extension": ".jl",
   "mimetype": "application/julia",
   "name": "julia",
   "version": "0.4.5"
  }
 },
 "nbformat": 4,
 "nbformat_minor": 0
}
